{
 "cells": [
  {
   "cell_type": "markdown",
   "metadata": {},
   "source": [
    "# Learning to \"do\" machine learning\n",
    "\n",
    "This project is composed of a series of short, hands-on tutorials designed to provide some insight into the multi-faceted nature of machine learning tasks. These days, it is very easy for almost anyone to fire up a standard library, pass some vector data to a pre-trained model, and have that pre-fab system carry out some predictions or quantization. In many cases, however, the existing models and algorithms may not suit the data/task at hand, at which point it becomes necessary to *make your own tools*. This requires a more intimate understanding of what is going on \"behind the scenes\" when standard libraries are being run.\n",
    "\n",
    "This series of tutorials is designed to impart the key underlying ideas, design principles, and technical procedures involved in developing a \"learning machine.\" We prioritize hands-on examples, with inline blocks of Python code available throughout, for users to read, modify, and execute themselves. We have also endeavoured to make lucid the correspondence between concepts illustrated using mathematical formulae, and the concrete objects that appear in the code.\n",
    "\n",
    "#### Getting your hardware/software set up\n",
    "- <a href=\"SetupYours.ipynb\">Working on your own machine</a>\n",
    "- <a href=\"https://feedbackward.github.io/learnml/azure_use.html\">Cloud services: Using Azure</a>\n",
    "\n",
    "#### Getting data ready\n",
    "- <a href=\"DataSources.ipynb\">Description of data sources</a>\n",
    "- <a href=\"DataMNIST.ipynb\">Preparation of raw (binary) data</a>\n",
    "- <a href=\"Datavim-2.ipynb\">Preparation of raw data for encoding task</a>\n",
    "\n",
    "#### Preparing a model\n",
    "- <a href=\"FilterBank.ipynb\">Building features using a Gabor filter bank</a>\n",
    "\n",
    "#### Designing a learning algorithm\n",
    "- <a href=\"AlgoIntro.ipynb\">Basic format for learning algorithm design</a>\n",
    "- <a href=\"AlgoSparseReg.ipynb\">Algorithms for training sparse regression models</a>\n",
    "\n",
    "#### Doing some machine learning\n",
    "- <a href=\"FinishEncoder.ipynb\">Finishing the encoder</a>\n",
    "\n",
    "\n",
    "All the main contents of this tutorial make use of data; some of it is simulated, and some of it is real. The real-world data must be acquired from the original sources. These are described and linked to in the <a href=\"DataSources.ipynb\">description of data sources</a> part of the tutorial, so please read this before starting.\n",
    "\n",
    "\n",
    "___\n",
    "\n",
    "__Author and maintainer:__<br>\n",
    "<a href=\"http://feedbackward.com/\">Matthew J. Holland</a> (Osaka University, Institute for Datability Science)\n"
   ]
  },
  {
   "cell_type": "code",
   "execution_count": null,
   "metadata": {
    "collapsed": true
   },
   "outputs": [],
   "source": []
  }
 ],
 "metadata": {
  "kernelspec": {
   "display_name": "Python 3",
   "language": "python",
   "name": "python3"
  },
  "language_info": {
   "codemirror_mode": {
    "name": "ipython",
    "version": 3
   },
   "file_extension": ".py",
   "mimetype": "text/x-python",
   "name": "python",
   "nbconvert_exporter": "python",
   "pygments_lexer": "ipython3",
   "version": "3.6.3"
  }
 },
 "nbformat": 4,
 "nbformat_minor": 2
}
