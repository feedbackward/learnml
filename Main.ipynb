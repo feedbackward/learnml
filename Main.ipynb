{
 "cells": [
  {
   "cell_type": "markdown",
   "metadata": {},
   "source": [
    "# Learning to \"do\" machine learning\n",
    "\n",
    "This project is composed of a series of short, hands-on tutorials designed to provide some insight into the multi-faceted nature of machine learning tasks. These days, it is very easy for almost anyone to fire up a standard library, pass some vector data to a pre-trained model, and have that pre-fab system carry out some predictions or quantization. In many cases, however, the existing models and algorithms may not suit the data/task at hand, at which point it becomes necessary to *make your own tools*. This requires a more intimate understanding of what is going on \"behind the scenes\" when standard libraries are being run.\n",
    "\n",
    "This series of tutorials is designed to impart the key underlying ideas, design principles, and technical procedures involved in developing a \"learning machine.\" We prioritize hands-on examples, with inline blocks of Python code available throughout, for users to read, modify, and execute themselves. We have also endeavoured to make lucid the correspondence between concepts illustrated using mathematical formulae, and the concrete objects that appear in the code.\n",
    "\n",
    "__Author and maintainer:__<br>\n",
    "<a href=\"http://feedbackward.com/\">Matthew J. Holland</a> (Osaka University, Institute for Datability Science)\n",
    "\n",
    "\n"
   ]
  },
  {
   "cell_type": "markdown",
   "metadata": {},
   "source": [
    "## Viewing the tutorial\n",
    "\n",
    "\n",
    "#### Getting your hardware/software set up\n",
    "- <a href=\"SetupYours.ipynb\">Working on your own machine</a>\n",
    "- <a href=\"https://feedbackward.github.io/learnml/azure_use.html\">Cloud services: Using Azure</a>\n",
    "\n",
    "\n",
    "#### Getting data ready\n",
    "- <a href=\"DataSources.ipynb\">Description of data sources</a> (<a href=\"DataSourcesJPN.ipynb\">JPN</a>)\n",
    "- <a href=\"Data_MNIST.ipynb\">MNIST handwritten digits</a> (old <a href=\"Data_MNIST_JPN.ipynb\">JPN</a>)\n",
    "- <a href=\"Data_CIFAR10.ipynb\">CIFAR-10 tiny images</a>\n",
    "- <a href=\"Data_Misc.ipynb\">Miscellaneous benchmark data sets</a>\n",
    "- <a href=\"Data_vim-2.ipynb\">vim-2: visual stimulus and BOLD response</a> (<a href=\"Data_vim-2_JPN.ipynb\">JPN</a>)\n",
    "\n",
    "#### Fundamentals of implementing learning algorithms\n",
    "- <a href=\"FrameworkIntro.ipynb\">Framework for prototyping</a>\n",
    "- <a href=\"Classifiers.ipynb\">Classifier models</a>\n",
    "- <a href=\"Algo_FirstOrder.ipynb\">Practice with first-order algorithms</a>\n",
    "- <a href=\"Algo_SparseReg.ipynb\">Learning algorithms for sparse regression</a> (old <a href=\"Algo_SparseReg_JPN.ipynb\">JPN</a>)\n",
    "\n",
    "#### Applied topics\n",
    "- Encoder learning\n",
    " - <a href=\"FilterBank.ipynb\">Building features using a Gabor filter bank</a> (<a href=\"FilterBankJPN.ipynb\">JPN</a>)\n",
    " - <a href=\"FinishEncoder.ipynb\">Finishing the encoder</a> (old <a href=\"FinishEncoderJPN.ipynb\">JPN</a>)\n",
    "- Re-constructing the experiments of Johnson and Zhang\n",
    " - <a href=\"ChainerWorkshop.ipynb\">Using deep learning API to expedite implementation</a>\n",
    " - <a href=\"Learn_JZ.ipynb\">SVRG and numerical tests</a>\n",
    "\n",
    "\n",
    "All the main contents of this tutorial make use of data; some of it is simulated, and some of it is real. The real-world data must be acquired from the original sources. These are described and linked to in the <a href=\"DataSources.ipynb\">description of data sources</a> part of the tutorial, so please read this before starting.\n",
    "\n"
   ]
  },
  {
   "cell_type": "markdown",
   "metadata": {},
   "source": [
    "## Downloading tutorial materials\n",
    "\n",
    "If you have `git`, then the recommended procedure is to run:\n",
    "\n",
    "```\n",
    "git clone https://github.com/feedbackward/learnml.git\n",
    "```\n",
    "\n",
    "For those with some aversion towards git (for whatever reason), there are compressed archives available for direct download from this GitHub page as well."
   ]
  },
  {
   "cell_type": "markdown",
   "metadata": {},
   "source": [
    "___"
   ]
  }
 ],
 "metadata": {
  "kernelspec": {
   "display_name": "Python 3",
   "language": "python",
   "name": "python3"
  },
  "language_info": {
   "codemirror_mode": {
    "name": "ipython",
    "version": 3
   },
   "file_extension": ".py",
   "mimetype": "text/x-python",
   "name": "python",
   "nbconvert_exporter": "python",
   "pygments_lexer": "ipython3",
   "version": "3.6.5"
  }
 },
 "nbformat": 4,
 "nbformat_minor": 2
}
