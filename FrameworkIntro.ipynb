{
 "cells": [
  {
   "cell_type": "markdown",
   "metadata": {},
   "source": [
    "# Framework for prototyping\n",
    "\n",
    "There are innumerable strategies for implementing machine learning systems, and there is by no means a single correct approach. For our purposes, we seek an approach that is easy for *prototyping* new techniques. This means that we would like to minimize the time it takes for an idea to go from the drawing board to working software. Debugging should thus be as easy as possible, even at the cost of time/memory requirements when deployed (Python typically allows us to realize a good balance). That said, testing prototypes often requires a lot of systematic modification of parameters, and thus whenever possible, running independent tests in parallel can save a tremendous amount of time.\n",
    "\n",
    "Our approach centers on three objects: __data__, __models__, and __algorithms__. Their characteristics are as follows:"
   ]
  },
  {
   "cell_type": "markdown",
   "metadata": {},
   "source": [
    "- __Data object:__ This is a class object which is used to store the data used for training, validation, and testing as necessary.\n",
    "- __Model object:__ This is a class object which implements functions which take both data objects and algorithm states as arguments. These functions are used for both training and evaluation.\n",
    "- __Algorithm object:__ This is an iterator (class) object which maintains a \"state\" characterized by, e.g., a parameter vector, a cumulative tally of the resources used thus far, and so forth. At each iterative update, the algorithm calls methods which take both data and model objects as arguments."
   ]
  },
  {
   "cell_type": "markdown",
   "metadata": {},
   "source": [
    "__Contents:__\n",
    "\n",
    "- <a href=\"#getstarted\">Getting started with data and model objects</a>\n",
    "\n",
    "- <a href=\"#trivial\">Implementing a trivial algorithm</a>\n",
    "\n",
    "- <a href=\"#link3\">Linking up the data-model-algorithm trio</a>\n",
    "\n",
    "- <a href=\"#learning\">Optimization and learning</a>\n",
    "\n",
    "___"
   ]
  },
  {
   "cell_type": "markdown",
   "metadata": {},
   "source": [
    "<a id=\"getstarted\"></a>\n",
    "## Getting started with data and model objects"
   ]
  },
  {
   "cell_type": "markdown",
   "metadata": {},
   "source": [
    "Let's begin with an extremely simple example to motivate our work moving forward. Consider the linear model\n",
    "\n",
    "\\begin{align*}\n",
    "y = \\langle w^{\\ast}, x \\rangle + \\varepsilon, \\quad \\mathbf{E}\\varepsilon = 0, \\mathbf{E}\\varepsilon^2 < \\infty, x \\in \\mathbb{R}^d\n",
    "\\end{align*}\n",
    "\n",
    "Given examples $(x_1, y_1),\\ldots,(x_n, y_n)$, we would like to infer a $\\widehat{w}$ such that $\\langle \\widehat{w}, x \\rangle \\approx y$ is a good approximation for an as-yet unobserved pair $(x,y)$. Obviously, the first thing we will need to do is store these observations. Let's prepare a `DataSet` object as a simple base class."
   ]
  },
  {
   "cell_type": "code",
   "execution_count": 1,
   "metadata": {},
   "outputs": [],
   "source": [
    "import numpy as np"
   ]
  },
  {
   "cell_type": "code",
   "execution_count": 2,
   "metadata": {},
   "outputs": [],
   "source": [
    "class DataSet:\n",
    "    '''\n",
    "    Base class for data objects.\n",
    "    '''\n",
    "    \n",
    "    def __init__(self, paras=None):\n",
    "        self.X_tr = None\n",
    "        self.X_te = None\n",
    "        self.y_tr = None\n",
    "        self.y_te = None\n",
    "        self.paras = paras\n",
    "    \n",
    "    def init_tr(self, X, y):\n",
    "        self.X_tr = X\n",
    "        self.y_tr = y\n",
    "        self.n_tr = X.shape[0]\n",
    "        \n",
    "    def init_te(self, X, y):\n",
    "        self.X_te = X\n",
    "        self.y_te = y\n",
    "        self.n_te = X.shape[0]"
   ]
  },
  {
   "cell_type": "markdown",
   "metadata": {},
   "source": [
    "The learning task at hand is one of *regression*, in particular using a linear model. Starting at the highest conceptual level, let's make the following simple requirements on our `Model` base case:\n",
    "\n",
    "- `Model` objects should implement *loss* functions for training and/or evaluation, and when relevant, gradient information for those losses.\n",
    "\n",
    "With this simple requirement, we can establish the base class for model objects."
   ]
  },
  {
   "cell_type": "code",
   "execution_count": 3,
   "metadata": {},
   "outputs": [],
   "source": [
    "class Model:\n",
    "    '''\n",
    "    Base class for model objects.\n",
    "    '''\n",
    "\n",
    "    def __init__(self, name=None):\n",
    "        self.name = name\n",
    "\n",
    "    def l_imp(self, w=None, X=None, y=None, lamreg=None):\n",
    "        raise NotImplementedError\n",
    "    \n",
    "    def l_tr(self, w, data, n_idx=None, lamreg=None):\n",
    "        if n_idx is None:\n",
    "            return self.l_imp(w=w, X=data.X_tr,\n",
    "                              y=data.y_tr,\n",
    "                              lamreg=lamreg)\n",
    "        else:\n",
    "            return self.l_imp(w=w, X=data.X_tr[n_idx,:],\n",
    "                              y=data.y_tr[n_idx,:],\n",
    "                              lamreg=lamreg)\n",
    "    \n",
    "    def l_te(self, w, data, n_idx=None, lamreg=None):\n",
    "        if n_idx is None:\n",
    "            return self.l_imp(w=w, X=data.X_te,\n",
    "                              y=data.y_te,\n",
    "                              lamreg=lamreg)\n",
    "        else:\n",
    "            return self.l_imp(w=w, X=data.X_te[n_idx,:],\n",
    "                              y=data.y_te[n_idx,:],\n",
    "                              lamreg=lamreg)\n",
    "\n",
    "    def g_imp(self, w=None, X=None, y=None, lamreg=None):\n",
    "        raise NotImplementedError\n",
    "    \n",
    "    def g_tr(self, w, data, n_idx=None, lamreg=None):\n",
    "        if n_idx is None:\n",
    "            return self.g_imp(w=w, X=data.X_tr,\n",
    "                              y=data.y_tr,\n",
    "                              lamreg=lamreg)\n",
    "        else:\n",
    "            return self.g_imp(w=w, X=data.X_tr[n_idx,:],\n",
    "                              y=data.y_tr[n_idx,:],\n",
    "                              lamreg=lamreg)\n",
    "    \n",
    "    def g_te(self, w, data, n_idx=None, lamreg=None):\n",
    "        if n_idx is None:\n",
    "            return self.g_imp(w=w, X=data.X_te,\n",
    "                              y=data.y_te,\n",
    "                              lamreg=lamreg)\n",
    "        else:\n",
    "            return self.g_imp(w=w, X=data.X_te[n_idx,:],\n",
    "                              y=data.y_te[n_idx,:],\n",
    "                              lamreg=lamreg)"
   ]
  },
  {
   "cell_type": "markdown",
   "metadata": {},
   "source": [
    "Note that the loss-related methods of `Model` objects have argument `data` which is naturally assumed to be of `DataSet` form. The argument `w` is left general: in most cases this will be a Numpy array, but it could easily be a function or some other object. Note the `n_idx` argument, which is optional, lets us specify subsets.\n",
    "\n",
    "To actually implement a regression model requires us to fill in the details of the loss and gradient (if applicable). Which loss we use is up to us. As a simple and concrete example, let's assume that our learning algorithm will be \"least squares linear regression\". This means `w` corresponds to a vector $w \\in \\mathbb{R}^d$ determining a linear map. The \"least\" part means that we will (eventually) be minimizing a sum of squared errors, namely\n",
    "\n",
    "\\begin{align*}\n",
    "\\min_{w \\in \\mathbb{R}^d} \\frac{1}{n} \\sum_{i=1}^{n} (\\langle w, x_i \\rangle - y_i)^2 \\to \\hat{w}.\n",
    "\\end{align*}\n",
    "\n",
    "For this optimization, of course we must compute the error and/or its gradient with respect to $w$. In our model object, we will require:\n",
    "\n",
    "- `l_imp`: computes $(y - \\langle w, x \\rangle)^2 / 2$ for each pair $(x,y)$.\n",
    "- `g_imp`: computes $(y - \\langle w, x \\rangle)(-1)x \\in \\mathbb{R}^d$ for each pair $(x,y)$.\n",
    "\n",
    "It is difficult to imagine a simpler model to implement; it takes the form of `LinearL2`, a sub-class of `LinReg`, both given below."
   ]
  },
  {
   "cell_type": "code",
   "execution_count": 4,
   "metadata": {},
   "outputs": [],
   "source": [
    "class LinReg(Model):\n",
    "    '''\n",
    "    General-purpose linear regression model.\n",
    "    No losses are implemented, just a predict()\n",
    "    method.\n",
    "    '''\n",
    "    \n",
    "    def __init__(self, data=None, name=None):\n",
    "        super(LinReg, self).__init__(name=name)\n",
    "        pass\n",
    "\n",
    "    def predict(self, w, X):\n",
    "        '''\n",
    "        Predict real-valued response.\n",
    "        w is a (d x 1) array of weights.\n",
    "        X is a (k x d) matrix of k observations.\n",
    "        Returns array of shape (k x 1) of predicted values.\n",
    "        '''\n",
    "        return X.dot(w)\n",
    "\n",
    "\n",
    "class LinearL2(LinReg):\n",
    "    '''\n",
    "    An orthodox linear regression model\n",
    "    using the l2 error; typically this\n",
    "    will be used for the classical least\n",
    "    squares regression.\n",
    "    '''\n",
    "    \n",
    "    def __init__(self, data=None):\n",
    "        super(LinearL2, self).__init__(data=data)\n",
    "\n",
    "        \n",
    "    def l_imp(self, w, X, y, lamreg=None):\n",
    "        '''\n",
    "        Implementation of l2-loss under linear model\n",
    "        for regression.\n",
    "\n",
    "        Input:\n",
    "        w is a (d x 1) matrix of weights.\n",
    "        X is a (k x numfeat) matrix of k observations.\n",
    "        y is a (k x 1) matrix of labels in {-1,1}.\n",
    "        lamreg is a regularization parameter (l2 penalty).\n",
    "\n",
    "        Output:\n",
    "        A vector of length k with losses evaluated at k points.\n",
    "        '''\n",
    "        if lamreg is None:\n",
    "            return (y-self.predict(w=w,X=X))**2/2\n",
    "        else:\n",
    "            penalty = lamreg * np.linalg.norm(w)**2\n",
    "            return (y-self.predict(w=w,X=X))**2/2 + penalty\n",
    "    \n",
    "    \n",
    "    def g_imp(self, w, X, y, lamreg=None):\n",
    "        '''\n",
    "        Implementation of the gradient of the l2-loss\n",
    "        under a linear regression model.\n",
    "\n",
    "        Input:\n",
    "        w is a (d x 1) matrix of weights.\n",
    "        X is a (k x numfeat) matrix of k observations.\n",
    "        y is a (k x 1) matrix of labels in {-1,1}.\n",
    "\n",
    "        Output:\n",
    "        A (k x numfeat) matrix of gradients evaluated\n",
    "        at k points.\n",
    "        '''\n",
    "        if lamreg is None:\n",
    "            return (y-self.predict(w=w,X=X))*(-1)*X\n",
    "        else:\n",
    "            penalty = lamreg*2*w.T\n",
    "            return (y-self.predict(w=w,X=X))*(-1)*X + penalty"
   ]
  },
  {
   "cell_type": "markdown",
   "metadata": {},
   "source": [
    "With these three objects, we have organized everything that needs to be passed to learning algorithms. Without a good learning algorithm, there is not much that we can do. Just as an illustration, we do some computations below."
   ]
  },
  {
   "cell_type": "code",
   "execution_count": 5,
   "metadata": {},
   "outputs": [
    {
     "name": "stdout",
     "output_type": "stream",
     "text": [
      "===============\n",
      "l_tr: 43.210858600395134 l_te: 34.72571810061989\n",
      "g_tr:\n",
      " [-1.0842935  -5.69836324 -6.56033462 -4.21325835 -2.03863264]\n",
      "g_te:\n",
      " [ 0.81162686 -4.54165655 -4.35494854 -3.80724044 -3.13335283]\n",
      "===============\n",
      "l_tr: 24.62376824373061 l_te: 19.66021401085465\n",
      "g_tr:\n",
      " [-0.81138917 -4.27660892 -4.93786732 -3.15201289 -1.51993492]\n",
      "g_te:\n",
      " [ 0.60915185 -3.43434172 -3.17889841 -2.89195522 -2.39161763]\n",
      "===============\n",
      "l_tr: 11.33036757090696 l_te: 8.929317872500317\n",
      "g_tr:\n",
      " [-0.53848483 -2.8548546  -3.31540002 -2.09076743 -1.00123721]\n",
      "g_te:\n",
      " [ 0.40667685 -2.3270269  -2.00284828 -1.97667    -1.64988243]\n",
      "===============\n",
      "l_tr: 3.3306565819241754 l_te: 2.5330296855568974\n",
      "g_tr:\n",
      " [-0.2655805  -1.43310028 -1.69293271 -1.02952197 -0.48253949]\n",
      "g_te:\n",
      " [ 0.20420185 -1.21971207 -0.82679816 -1.06138477 -0.90814722]\n",
      "===============\n",
      "l_tr: 0.624635276782252 l_te: 0.47134945002438833\n",
      "g_tr:\n",
      " [ 0.00732384 -0.01134595 -0.07046541  0.03172349  0.03615823]\n",
      "g_te:\n",
      " [ 0.00172684 -0.11239725  0.34925197 -0.14609955 -0.16641202]\n",
      "===============\n"
     ]
    }
   ],
   "source": [
    "# Prepare simulated data.\n",
    "d = 5\n",
    "n_tr = 100\n",
    "n_te = 100\n",
    "w_star = np.arange(d).reshape((d,1)) + 1.0\n",
    "\n",
    "X_tr = np.random.normal(size=(n_tr,d))\n",
    "noise_tr = np.random.normal(size=(n_tr,1))\n",
    "y_tr = X_tr.dot(w_star) + noise_tr\n",
    "\n",
    "X_te = np.random.normal(size=(n_te,d))\n",
    "noise_te = np.random.normal(size=(n_te,1))\n",
    "y_te = X_te.dot(w_star) + noise_te\n",
    "\n",
    "# Prepare data object.\n",
    "data = DataSet()\n",
    "data.init_tr(X=X_tr, y=y_tr)\n",
    "data.init_te(X=X_te, y=y_te)\n",
    "\n",
    "# Prepare model object.\n",
    "mod = LinearL2()\n",
    "\n",
    "# Prepare random initial value, and take closer to solution.\n",
    "w_init = np.random.uniform(low=-5.0, high=5.0, size=(d,1))\n",
    "weight_balance = np.linspace(0.0, 1.0, 5)\n",
    "print(\"===============\")\n",
    "for wt in weight_balance:\n",
    "    w_est = wt * w_star + (1-wt) * w_init\n",
    "    print(\"l_tr:\", np.mean(mod.l_tr(w_est, data=data)),\n",
    "          \"l_te:\", np.mean(mod.l_te(w_est, data=data)))\n",
    "    print(\"g_tr:\\n\", np.mean(mod.g_tr(w_est, data=data), axis=0))\n",
    "    print(\"g_te:\\n\", np.mean(mod.g_te(w_est, data=data), axis=0))\n",
    "    print(\"===============\")"
   ]
  },
  {
   "cell_type": "markdown",
   "metadata": {},
   "source": [
    "One can clearly see that getting closer to $w^{\\ast}$ results in smaller loss values, and a flatter gradient. Before we dig into any more interesting models, let's cover the basics of implementing learning algorithms."
   ]
  },
  {
   "cell_type": "markdown",
   "metadata": {},
   "source": [
    "<a id=\"trivial\"></a>\n",
    "## Implementing a trivial algorithm\n",
    "\n",
    "As a very simple initial example, let's consider an algorithm that does nothing special at all, but manages its own state and the number of iterations."
   ]
  },
  {
   "cell_type": "code",
   "execution_count": 6,
   "metadata": {},
   "outputs": [],
   "source": [
    "class Algo_trivial:\n",
    "    '''\n",
    "    An iterator which does nothing special at all, but makes\n",
    "    a trivial update to the initial parameters given, and\n",
    "    keeps record of the number of iterations made.\n",
    "    '''\n",
    "\n",
    "    def __init__(self, w_init, t_max):\n",
    "        \n",
    "        self.w = np.copy(w_init)\n",
    "        self.t_max = t_max\n",
    "\n",
    "\n",
    "    def __iter__(self):\n",
    "\n",
    "        self.t = 0\n",
    "        print(\"(__iter__): t =\", self.t)\n",
    "\n",
    "        return self\n",
    "    \n",
    "\n",
    "    def __next__(self):\n",
    "        \n",
    "        # Condition for stopping.\n",
    "        if self.t >= self.t_max:\n",
    "            print(\"--- Condition reached! ---\")\n",
    "            raise StopIteration\n",
    "\n",
    "        print(\"(__next__): t =\", self.t)\n",
    "        self.w += 5\n",
    "        self.t += 1\n",
    "        # Note: __next__ does not need to return anything.\n",
    "        \n",
    "\n",
    "    def __str__(self):\n",
    "\n",
    "        out = \"State of w:\" + \"\\n\" + \"  \" + str(self.w)\n",
    "        return out\n"
   ]
  },
  {
   "cell_type": "markdown",
   "metadata": {},
   "source": [
    "Let's observe how it behaves."
   ]
  },
  {
   "cell_type": "code",
   "execution_count": 7,
   "metadata": {
    "scrolled": true
   },
   "outputs": [
    {
     "name": "stdout",
     "output_type": "stream",
     "text": [
      "Printing docstring:\n",
      "\n",
      "    An iterator which does nothing special at all, but makes\n",
      "    a trivial update to the initial parameters given, and\n",
      "    keeps record of the number of iterations made.\n",
      "    \n",
      "(__iter__): t = 0\n",
      "(__next__): t = 0\n",
      "(__next__): t = 1\n",
      "(__next__): t = 2\n",
      "(__next__): t = 3\n",
      "(__next__): t = 4\n",
      "(__next__): t = 5\n",
      "(__next__): t = 6\n",
      "(__next__): t = 7\n",
      "(__next__): t = 8\n",
      "(__next__): t = 9\n",
      "--- Condition reached! ---\n"
     ]
    }
   ],
   "source": [
    "\n",
    "import numpy as np\n",
    "\n",
    "al = Algo_trivial(w_init=np.array([1,2,3,4,5]), t_max=10)\n",
    "\n",
    "print(\"Printing docstring:\")\n",
    "print(al.__doc__) # check the docstring\n",
    "\n",
    "for onestep in al:\n",
    "    pass # do nothing special\n"
   ]
  },
  {
   "cell_type": "markdown",
   "metadata": {},
   "source": [
    "Key points:\n",
    "\n",
    " - After the `StopIteration` exception is raised, immediately exit the for loop.\n",
    " - At the \"zeroth\" step, both `iter` and `next` are called.\n",
    "\n",
    "Note above that the `for` loop is just doing the following operations for us."
   ]
  },
  {
   "cell_type": "code",
   "execution_count": 8,
   "metadata": {
    "scrolled": false
   },
   "outputs": [
    {
     "name": "stdout",
     "output_type": "stream",
     "text": [
      "(__iter__): t = 0\n",
      "(__next__): t = 0\n",
      "(__next__): t = 1\n",
      "(__next__): t = 2\n",
      "(__next__): t = 3\n"
     ]
    }
   ],
   "source": [
    "iter(al)\n",
    "next(al)\n",
    "next(al)\n",
    "next(al)\n",
    "next(al) # and so on..."
   ]
  },
  {
   "cell_type": "code",
   "execution_count": 9,
   "metadata": {
    "scrolled": false
   },
   "outputs": [
    {
     "name": "stdout",
     "output_type": "stream",
     "text": [
      "(__iter__): t = 0\n",
      "(__next__): t = 0\n",
      "State of w:\n",
      "  [ 6  7  8  9 10]\n",
      "(__next__): t = 1\n",
      "State of w:\n",
      "  [11 12 13 14 15]\n",
      "(__next__): t = 2\n",
      "State of w:\n",
      "  [16 17 18 19 20]\n",
      "(__next__): t = 3\n",
      "State of w:\n",
      "  [21 22 23 24 25]\n",
      "(__next__): t = 4\n",
      "State of w:\n",
      "  [26 27 28 29 30]\n",
      "(__next__): t = 5\n",
      "State of w:\n",
      "  [31 32 33 34 35]\n",
      "(__next__): t = 6\n",
      "State of w:\n",
      "  [36 37 38 39 40]\n",
      "(__next__): t = 7\n",
      "State of w:\n",
      "  [41 42 43 44 45]\n",
      "(__next__): t = 8\n",
      "State of w:\n",
      "  [46 47 48 49 50]\n",
      "(__next__): t = 9\n",
      "State of w:\n",
      "  [51 52 53 54 55]\n",
      "--- Condition reached! ---\n",
      "One last check after exiting:\n",
      "State of w:\n",
      "  [51 52 53 54 55]\n"
     ]
    }
   ],
   "source": [
    "al = Algo_trivial(w_init=np.array([1,2,3,4,5]), t_max=10)\n",
    "\n",
    "for onestep in al:\n",
    "    print(al) # useful for monitoring state.\n",
    "\n",
    "print(\"One last check after exiting:\")\n",
    "print(al) # ensure that no additional changes were made."
   ]
  },
  {
   "cell_type": "markdown",
   "metadata": {},
   "source": [
    "__Exercises:__\n",
    "\n",
    "0. How is `w` modified by `Algo_trivial` every iteration? We call this \"trivial\" since the algorithm in no way depends on any data inputs, it is simply a hard-coded rule.\n",
    "\n",
    "0. Modify `Algo_trivial` such that the elements of `w` are doubled at each iteration.\n",
    "\n",
    "0. Furthermore, modify the parameters passed to `al` such that we start at $w=(0,1,2,3,4)$ and end when $w=(0, 16, 32, 48, 64) = (0 \\times 2^4, 1 \\times 2^4, 2 \\times 2^4, 3 \\times 2^4, 4 \\times 2^4)$.\n",
    "\n",
    "0. What happens to the state of `w` if you run the `for` loop multiple times without re-initializing `al` each time?\n"
   ]
  },
  {
   "cell_type": "markdown",
   "metadata": {},
   "source": [
    "<a id=\"link3\"></a>\n",
    "## Linking up the data-model-algorithm trio\n",
    "\n",
    "Let us return to our linear regression example; a non-trivial algorithm which actually \"learns\" must inevitably depend on data. Let us use a *steepest descent* implementation of the *empirical risk minimization* (ERM) learning strategy. Important facts are summarized below:"
   ]
  },
  {
   "cell_type": "markdown",
   "metadata": {},
   "source": [
    "- Data: Inputs and responses, $x \\in \\mathbb{R}^{d}$, $y \\in \\mathbb{R}$. Data set is $\\{(x_{1},y_{1}),\\ldots,(x_{n},y_{n})\\}$.\n",
    "\n",
    "- Model: Linear regression, with squared error. Assume $y = \\langle w^{\\ast}, x\\rangle + \\varepsilon$ as underlying model. Loss is $L(w;x,y) = (y - \\langle w, x\\rangle)^{2}/2$, with gradient $\\nabla L(w;x,y) = -(y-\\langle w, x\\rangle)x$.\n",
    "\n",
    "- Algorithm: steepest descent routine with step size $\\alpha > 0$. Writing $z_{i}=(x_{i},y_{i})$, this is\n",
    "\n",
    "\\begin{align*}\n",
    "w_{(t+1)} \\gets w_{(t)} - \\alpha \\frac{1}{n} \\sum_{i=1}^{n}\\nabla L(w_{(t)}; z_{i}).\n",
    "\\end{align*}"
   ]
  },
  {
   "cell_type": "markdown",
   "metadata": {},
   "source": [
    "Very simple. We've already covered the data and model parts, and we have the machinery to implement the algorithm. This is done below in `Algo_SimpleGD`."
   ]
  },
  {
   "cell_type": "code",
   "execution_count": 10,
   "metadata": {},
   "outputs": [],
   "source": [
    "import math\n",
    "import numpy as np\n",
    "import matplotlib\n",
    "import matplotlib.pyplot as plt"
   ]
  },
  {
   "cell_type": "code",
   "execution_count": 11,
   "metadata": {},
   "outputs": [],
   "source": [
    "\n",
    "class Algo_SimpleGD:\n",
    "    '''\n",
    "    Iterator which implements a line-search steepest descent method,\n",
    "    using the sample mean estimate of the gradient.\n",
    "    '''\n",
    "    \n",
    "    def __init__(self, w_init, t_max, step, store):\n",
    "        self.w = w_init\n",
    "        self.t = None\n",
    "        self.t_max = t_max\n",
    "        self.step = step\n",
    "        self.store = store\n",
    "        \n",
    "        # Keep record of all updates (optional).\n",
    "        if self.store:\n",
    "            self.wstore = np.zeros((self.w.size,t_max+1), dtype=np.float32)\n",
    "            self.wstore[:,0] = self.w.flatten()\n",
    "        else:\n",
    "            self.wstore = None\n",
    "        \n",
    "    def __iter__(self):\n",
    "        self.t = 0\n",
    "        return self\n",
    "        \n",
    "    def __next__(self):\n",
    "        if self.t >= self.t_max:\n",
    "            raise StopIteration\n",
    "        \n",
    "    def newdir(self, model, data):\n",
    "        return (-1) * np.mean(model.g_tr(w=self.w, data=data), axis=0, keepdims=True)\n",
    "\n",
    "    def update(self, model, data):\n",
    "        \n",
    "        # Parameter update.\n",
    "        stepsize = self.step(self.t)\n",
    "        newdir = self.newdir(model=model, data=data)\n",
    "        self.w = self.w + stepsize * np.transpose(newdir)\n",
    "        \n",
    "        # Monitor update.\n",
    "        self.t += 1\n",
    "        \n",
    "        # Keep record of all updates (optional).\n",
    "        if self.store:\n",
    "            self.wstore[:,self.t] = self.w.flatten()\n"
   ]
  },
  {
   "cell_type": "markdown",
   "metadata": {},
   "source": [
    "Some key points to keep in mind:\n",
    "\n",
    "- `w_init` corresponds to $w_{(0)}$, the initial value. Must be provided at initialization.\n",
    "- `newdir` returns the update direction.\n",
    "- `step` is a callback function for controlling the step size as a function of step number `t`, which determines how far to move in the prescribed direction.\n",
    "- `update` actually carries out the parameter update, as well as the \"monitor\" update of time elapsed.\n"
   ]
  },
  {
   "cell_type": "markdown",
   "metadata": {},
   "source": [
    "Let us now generate some random data, and put these new classes to work."
   ]
  },
  {
   "cell_type": "code",
   "execution_count": 12,
   "metadata": {},
   "outputs": [
    {
     "name": "stdout",
     "output_type": "stream",
     "text": [
      "X_tr: (100, 2) ... sumcheck = -9.94677583241537\n",
      "y_tr: (100, 1) ... sumcheck = -40.20352170786684\n",
      "X_te: (100, 2) ... sumcheck = -1.089890767972685\n",
      "y_te: (100, 1) ... sumcheck = 16.95676631804479\n"
     ]
    }
   ],
   "source": [
    "# Generate data.\n",
    "data = DataSet()\n",
    "n = 100\n",
    "d = 2\n",
    "w_star = math.pi * np.ones((d,1), dtype=np.float32)\n",
    "X = np.random.standard_normal(size=(n*2,d))\n",
    "epsilon = np.random.standard_t(df=3, size=(n*2,1))\n",
    "y = X.dot(w_star) + epsilon\n",
    "data.init_tr(X=X[0:n,:], y=y[0:n,:]) # former half for training\n",
    "data.init_te(X=X[n:,:], y=y[n:,:]) # latter half for testing\n",
    "\n",
    "print(\"X_tr:\", data.X_tr.shape, \"... sumcheck =\", np.sum(data.X_tr))\n",
    "print(\"y_tr:\", data.y_tr.shape, \"... sumcheck =\", np.sum(data.y_tr))\n",
    "print(\"X_te:\", data.X_te.shape, \"... sumcheck =\", np.sum(data.X_te))\n",
    "print(\"y_te:\", data.y_te.shape, \"... sumcheck =\", np.sum(data.y_te))"
   ]
  },
  {
   "cell_type": "code",
   "execution_count": 13,
   "metadata": {},
   "outputs": [],
   "source": [
    "# Initialize model.\n",
    "mod = LinearL2()"
   ]
  },
  {
   "cell_type": "code",
   "execution_count": 14,
   "metadata": {},
   "outputs": [],
   "source": [
    "# Initialize learning algorithm.\n",
    "\n",
    "w_init = np.random.uniform(size=(d,1))\n",
    "\n",
    "def alpha_fixed(t, val):\n",
    "    return val\n",
    "\n",
    "def make_step(u):\n",
    "    def mystep(t):\n",
    "        return alpha_fixed(t=t, val=u)\n",
    "    return mystep\n",
    "\n",
    "al = Algo_SimpleGD(w_init=w_init,\n",
    "                   t_max=15,\n",
    "                   step=make_step(0.15),\n",
    "                   store=True)"
   ]
  },
  {
   "cell_type": "code",
   "execution_count": 15,
   "metadata": {},
   "outputs": [
    {
     "name": "stdout",
     "output_type": "stream",
     "text": [
      "State of algorithm after completion:\n",
      "t = 15\n",
      "w = [[2.97596384]\n",
      " [2.74678402]]\n"
     ]
    }
   ],
   "source": [
    "# Iterate the learning algorithm.\n",
    "for onestep in al:\n",
    "    al.update(model=mod, data=data)\n",
    "\n",
    "print(\"State of algorithm after completion:\")\n",
    "print(\"t =\", al.t)\n",
    "print(\"w =\", al.w)"
   ]
  },
  {
   "cell_type": "markdown",
   "metadata": {},
   "source": [
    "Now, as a reference, we recall the familiar fact that the sum of squared errors under a linear model has a closed-form solution, i.e., it can be computed exactly, given the data, instead of relying on an iterative approximation. Let's compute the OLS solution, written `w_OLS`, and look at how our algorithm's output compares."
   ]
  },
  {
   "cell_type": "code",
   "execution_count": 16,
   "metadata": {},
   "outputs": [],
   "source": [
    "w_OLS = np.linalg.lstsq(a=data.X_tr, b=data.y_tr, rcond=None)[0]"
   ]
  },
  {
   "cell_type": "code",
   "execution_count": 17,
   "metadata": {},
   "outputs": [
    {
     "data": {
      "image/png": "[encoded data removed]",
      "text/plain": [
       "<Figure size 504x504 with 1 Axes>"
      ]
     },
     "metadata": {},
     "output_type": "display_data"
    }
   ],
   "source": [
    "# Visualize the output (in 2D case).\n",
    "mypath = al.wstore\n",
    "\n",
    "if (d == 2):\n",
    "\n",
    "    init_diff = np.linalg.norm(w_star-w_init) * 1.0\n",
    "    \n",
    "    myfig = plt.figure(figsize=(7,7))\n",
    "    ax = myfig.add_subplot(1,1,1)\n",
    "    \n",
    "    ax.quiver(mypath[0,:-1], mypath[1,:-1],\n",
    "              mypath[0,1:]-mypath[0,:-1],\n",
    "              mypath[1,1:]-mypath[1,:-1],\n",
    "              scale_units='xy', angles='xy', scale=1, color='k')\n",
    "    \n",
    "    ax.plot(*w_star, 'r*', markersize=12, label=\"w_star\") # print true value.\n",
    "    ax.plot(*w_OLS, 'gv', markersize=8, label=\"w_OLS\") # print OLS estimate.\n",
    "    ax.plot(*mypath[:,-1], 'bo', markersize=8, label=\"w\") # print our final estimate.\n",
    "    ax.legend(loc=1,ncol=1)\n",
    "    plt.title('Trajectory of a simple GD routine')\n",
    "    plt.xlim((w_star[0]-init_diff, w_star[0]+init_diff))\n",
    "    plt.ylim((w_star[1]-init_diff, w_star[1]+init_diff))\n",
    "    plt.show()"
   ]
  },
  {
   "cell_type": "markdown",
   "metadata": {},
   "source": [
    "__Exercises:__\n",
    "\n",
    "0. Fixing the algorithm settings, try modifying the sample size, noise distribution. Describe how this impacts the search trajectory.\n",
    "\n",
    "0. Fixing the data distribution settings, try modifying the algorithm settings such as the step size, number of iterations, and initial value. Describe how this impacts the search trajectory."
   ]
  },
  {
   "cell_type": "markdown",
   "metadata": {},
   "source": [
    "<a id=\"learning\"></a>\n",
    "## Optimization and learning\n",
    "\n",
    "For readers unfamiliar with machine learning, a natural question may arise: *what is the difference between optimization and learning?*\n",
    "\n",
    "In doing optimization, we are trying to find values, often under some constraints, that minimize particular functions of interest. From an engineering perspective, it usually only makes sense to consider functions that we can actually *observe*. That is, if we want to minimize $f(\\cdot)$, and we have some candidate $\\widehat{x}$, we would like to be able to compute $f(\\widehat{x})$ in order to verify that indeed $f(\\widehat{x}) \\leq f(x)$ for all $x$. Assuming $f$ has partial derivatives, first-order methods (like gradient descent) often do not use $f$ itself, but rather just look at its gradient $\\nabla f$. In any case, traditional optimization is based upon access to some true information about $f$.\n",
    "\n",
    "On the other hand, \"learning\" is characterized by the need for *inductive inference*. Precisely what needs to be inferred will depend greatly on the domain of interest, but in virtually all cases, we use probabilistic models to reflect the uncertainty that is due to incomplete prior information, and cast (machine) learning as a form of statistical inference. A common learning model dating back to Decision Theory in classical statistics is that of \"risk minimization\":\n",
    "\n",
    "\\begin{align*}\n",
    "\\min_{w \\in \\mathbb{R}^{d}} R(w), \\quad R(w) = \\mathbf{E}_{Z} L(w;z).\n",
    "\\end{align*}\n",
    "\n",
    "In a strict sense, learning in this setting *is* an optimization task, but the objective function $R(\\cdot)$ is unknown, and can never be observed, because the underlying probability distribution is unknown. In practice, all the learner has available is knowledge of $L$, and a set of data points $z_{1},\\ldots,z_{n}$ sampled from the true underlying distribution.\n",
    "\n",
    "As such, in practice it is useful to distinguish between optimization and learning. We carry out optimization as a *sub-routine* of learning algorithms. Indeed, in the linear regression example considered above, we saw that the OLS solution (which *solves* the optimization sub-routine) was not the same as $w^{\\ast}$. This is *statistical error*. On the other hand, the distance from our iterates $w_{(t)}$ to the OLS solution is *computational error*. Both of these errors must be kept small in order for learning to be successful."
   ]
  },
  {
   "cell_type": "markdown",
   "metadata": {},
   "source": [
    "__Example: quadratic risk function__\n",
    "\n",
    "To further develop our understanding, let's consider a simple simulation-based exercise which highlights how the *underlying data distribution impacts learning efficiency and stability*.\n",
    "\n",
    "The example below starts with $R$ taking the simple form of a quadratic function, here denoted by\n",
    "\n",
    "\\begin{align*}\n",
    "R(w) = (w - w^{\\ast})^{T}A(w - w^{\\ast}) + b^2.\n",
    "\\end{align*}\n",
    "\n",
    "In order for the condition $\\mathbf{E}_{Z} L(w;z) = R(w)$ to hold for all $w \\in \\mathbb{R}^{d}$, one sufficient form of the loss is the squared error under a linear regression model with additive noise, independent of the inputs."
   ]
  },
  {
   "cell_type": "markdown",
   "metadata": {},
   "source": [
    "That is, $z = (x,y)$ with\n",
    "\n",
    "\\begin{align*}\n",
    "y = \\langle w^{\\ast}, x \\rangle + \\varepsilon\n",
    "\\end{align*}\n",
    "\n",
    "and $\\mathbf{E}\\varepsilon^2 = b^2$, assumed to be independent of each element of random vector $x \\in \\mathbb{R}^{d}$, such that $\\mathbf{E}\\varepsilon x = 0$. This is precisely the linear regression model considered earlier."
   ]
  },
  {
   "cell_type": "markdown",
   "metadata": {},
   "source": [
    "Expanding the squared term and integrating, it follows that the desired equality holds, with\n",
    "\n",
    "\\begin{align*}\n",
    "A = \\mathbf{E}xx^{T}.\n",
    "\\end{align*}\n",
    "\n",
    "In the special case that $\\mathbf{E}_{X}x = 0$, we naturally have $A =\\text{cov}\\,x$. In special cases where both $L$ and $R$ are *known*, then that provides an ideal opportunity to show how random idiosyncracies in the sample can lead to inefficient learning. On the other side of that coin, it also gives us a chance to test when modifications to the learning algorithm can overcome these issues."
   ]
  },
  {
   "cell_type": "markdown",
   "metadata": {},
   "source": [
    "Let's start by writing a function for computing $R$, following the above setup."
   ]
  },
  {
   "cell_type": "code",
   "execution_count": 18,
   "metadata": {},
   "outputs": [],
   "source": [
    "import math\n",
    "import numpy as np\n",
    "import matplotlib\n",
    "import matplotlib.pyplot as plt"
   ]
  },
  {
   "cell_type": "code",
   "execution_count": 19,
   "metadata": {},
   "outputs": [],
   "source": [
    "# Data distribution and sample parameters.\n",
    "\n",
    "n = 500\n",
    "d = 2\n",
    "X_sd = 1.0\n",
    "cov_X = X_sd * np.eye(d) # covariance matrix of the inputs.\n",
    "w_star = math.pi * np.ones((d,1), dtype=np.float32) # true vec.\n",
    "noise_dict = {}\n",
    "risk_dict = {}\n",
    "\n",
    "\n",
    "def vlnorm(meanlog, sdlog):\n",
    "    '''\n",
    "    Variance of the log-Normal distribution.\n",
    "    '''\n",
    "    return (math.exp(sdlog**2) - 1) * math.exp((2*meanlog + sdlog**2))\n",
    "\n",
    "def mlnorm(meanlog, sdlog):\n",
    "    '''\n",
    "    Mean of log-Normal distribution.\n",
    "    '''\n",
    "    return math.exp((meanlog + sdlog**2/2))\n",
    "\n",
    "\n",
    "def vnorm(shift, scale):\n",
    "    '''\n",
    "    Variance of the Normal distribution.\n",
    "    '''\n",
    "    return scale**2\n",
    "\n",
    "def mnorm(shift, scale):\n",
    "    '''\n",
    "    Mean of Normal distribution.\n",
    "    '''\n",
    "    return shift\n",
    "\n",
    "\n",
    "def riskMaker(w, A, b, w_star):\n",
    "    diff = w - w_star\n",
    "    quad = diff.T.dot(A.dot(diff).reshape(diff.shape))\n",
    "    return np.float32(quad) + b**2\n",
    "\n",
    "\n",
    "# Normal prep.\n",
    "def risk_norm(w):\n",
    "    return riskMaker(w=w,\n",
    "                     A=cov_X,\n",
    "                     b=math.sqrt(vnorm(shift=0, scale=20.0)),\n",
    "                     w_star=w_star)\n",
    "noise_dict[\"norm\"] = np.random.normal(loc=0.0, scale=20.0, size=(n,1))-mnorm(shift=0, scale=20.0)\n",
    "\n",
    "# log-Normal prep.\n",
    "def risk_lnorm(w):\n",
    "    return riskMaker(w=w,\n",
    "                     A=cov_X,\n",
    "                     b=math.sqrt(vlnorm(meanlog=0, sdlog=1.75)),\n",
    "                     w_star=w_star)\n",
    "noise_dict[\"lnorm\"] = np.random.lognormal(mean=0.0, sigma=1.75, size=(n,1))-mlnorm(meanlog=0, sdlog=1.75)"
   ]
  },
  {
   "cell_type": "code",
   "execution_count": 20,
   "metadata": {},
   "outputs": [],
   "source": [
    "# Generate the training data.\n",
    "data_norm = DataSet()\n",
    "data_lnorm = DataSet()\n",
    "X = np.random.normal(loc=0.0, scale=X_sd, size=(n,d))\n",
    "#epsilon = np.random.normal(loc=0.0, scale=epsilon_sd, size=(n,1))\n",
    "#y = np.dot(X, w_star) + epsilon\n",
    "data_norm.init_tr(X=X,\n",
    "                  y=(X.dot(w_star)+noise_dict[\"norm\"]))\n",
    "data_lnorm.init_tr(X=X,\n",
    "                   y=(X.dot(w_star)+noise_dict[\"lnorm\"]))"
   ]
  },
  {
   "cell_type": "code",
   "execution_count": 21,
   "metadata": {},
   "outputs": [],
   "source": [
    "# Initialize model.\n",
    "mod = LinearL2()\n",
    "\n",
    "# Initialize learning algorithm.\n",
    "w_init = np.random.uniform(size=(d,1))\n",
    "tostore = True\n",
    "t_max = 15\n",
    "alphaval = 0.1\n",
    "\n",
    "def alpha_fixed(t, val):\n",
    "    return val\n",
    "\n",
    "def make_step(u):\n",
    "    def mystep(t):\n",
    "        return alpha_fixed(t=t, val=u)\n",
    "    return mystep\n",
    "\n",
    "al = Algo_SimpleGD(w_init=w_init,\n",
    "                   t_max=t_max,\n",
    "                   step=make_step(alphaval),\n",
    "                   store=tostore)"
   ]
  },
  {
   "cell_type": "code",
   "execution_count": 22,
   "metadata": {},
   "outputs": [],
   "source": [
    "# First, run it for the Normal case.\n",
    "for onestep in al:\n",
    "    al.update(model=mod, data=data_norm)\n",
    "    \n",
    "mypath_norm = al.wstore"
   ]
  },
  {
   "cell_type": "code",
   "execution_count": 23,
   "metadata": {},
   "outputs": [],
   "source": [
    "# Then, re-initialize the algorithm and do it for log-Normal.\n",
    "al = Algo_SimpleGD(w_init=w_init,\n",
    "                   t_max=t_max,\n",
    "                   step=make_step(alphaval),\n",
    "                   store=tostore)\n",
    "for onestep in al:\n",
    "    al.update(model=mod, data=data_lnorm)\n",
    "\n",
    "mypath_lnorm = al.wstore"
   ]
  },
  {
   "cell_type": "code",
   "execution_count": 24,
   "metadata": {},
   "outputs": [],
   "source": [
    "# Get the OLS solutions.\n",
    "w_OLS_norm = np.linalg.lstsq(a=data_norm.X_tr,\n",
    "                             b=data_norm.y_tr, rcond=None)[0]\n",
    "w_OLS_lnorm = np.linalg.lstsq(a=data_lnorm.X_tr,\n",
    "                              b=data_lnorm.y_tr, rcond=None)[0]"
   ]
  },
  {
   "cell_type": "code",
   "execution_count": 25,
   "metadata": {},
   "outputs": [
    {
     "name": "stdout",
     "output_type": "stream",
     "text": [
      "[[400.]]\n",
      "[[435.76376]]\n"
     ]
    }
   ],
   "source": [
    "print(risk_norm(w_star))\n",
    "print(risk_lnorm(w_star))"
   ]
  },
  {
   "cell_type": "code",
   "execution_count": 26,
   "metadata": {
    "scrolled": false
   },
   "outputs": [
    {
     "name": "stdout",
     "output_type": "stream",
     "text": [
      "Distance: 1.3772832\n",
      "Distance: 2.4935608\n"
     ]
    },
    {
     "data": {
      "image/png": "[encoded data removed]",
      "text/plain": [
       "<Figure size 504x1008 with 2 Axes>"
      ]
     },
     "metadata": {},
     "output_type": "display_data"
    }
   ],
   "source": [
    "import matplotlib\n",
    "import matplotlib.pyplot as plt\n",
    "\n",
    "# Visualize the output (in 2D case).\n",
    "mypath = al.wstore\n",
    "\n",
    "if (d == 2):\n",
    "    \n",
    "    myfig = plt.figure(figsize=(7,14))\n",
    "    \n",
    "    # Prep for contour lines.\n",
    "    tmpdel = np.linalg.norm(w_star-w_init) * 1\n",
    "    xvals = np.arange(w_star[0]-tmpdel,w_star[0]+tmpdel, 0.1)\n",
    "    yvals = np.arange(w_star[1]-tmpdel,w_star[1]+tmpdel, 0.1)\n",
    "    X, Y = np.meshgrid(xvals, yvals)\n",
    "    \n",
    "    # Trajectory for the normal case.\n",
    "    def risk2D_helper(w1, w2):\n",
    "        w2D = np.array([w1,w2]).reshape((2,1))\n",
    "        return risk_norm(w=w2D)\n",
    "    \n",
    "    risk2D = np.vectorize(risk2D_helper)\n",
    "    Z = risk2D(w1=X, w2=Y)\n",
    "    ax_norm = myfig.add_subplot(2,1,1)\n",
    "    CS = ax_norm.contour(X, Y, Z)\n",
    "    ax_norm.quiver(mypath_norm[0,:-1], mypath_norm[1,:-1],\n",
    "              mypath_norm[0,1:]-mypath_norm[0,:-1],\n",
    "              mypath_norm[1,1:]-mypath_norm[1,:-1],\n",
    "              scale_units='xy', angles='xy', scale=1, color='k')\n",
    "    CS.clabel(inline=1, fontsize=10)\n",
    "    ax_norm.plot(*w_star, 'r*', markersize=12, label=\"w_star\") # print true value.\n",
    "    ax_norm.plot(*w_OLS_norm, 'gv', markersize=8, label=\"w_OLS\") # print OLS estimate.\n",
    "    ax_norm.plot(*mypath_norm[:,-1], 'bo', markersize=8, label=\"w\") # print our final estimate.\n",
    "    ax_norm.legend(loc=1,ncol=1)\n",
    "    plt.title('Trajectory of GD routine (Normal noise)')\n",
    "    \n",
    "    print(\"Distance:\", np.linalg.norm(mypath_norm[:,-1]-w_star))\n",
    "    \n",
    "    # Then log-Normal case.\n",
    "    def risk2D_helper(w1, w2):\n",
    "        w2D = np.array([w1,w2]).reshape((2,1))\n",
    "        return risk_lnorm(w=w2D)\n",
    "    \n",
    "    risk2D = np.vectorize(risk2D_helper)\n",
    "    Z = risk2D(w1=X, w2=Y)\n",
    "\n",
    "    ax_lnorm = myfig.add_subplot(2,1,2)\n",
    "    CS = ax_lnorm.contour(X, Y, Z)\n",
    "    ax_lnorm.quiver(mypath_lnorm[0,:-1], mypath_lnorm[1,:-1],\n",
    "              mypath_lnorm[0,1:]-mypath_lnorm[0,:-1],\n",
    "              mypath_lnorm[1,1:]-mypath_lnorm[1,:-1],\n",
    "              scale_units='xy', angles='xy', scale=1, color='k')\n",
    "    CS.clabel(inline=1, fontsize=10)\n",
    "    ax_lnorm.plot(*w_star, 'r*', markersize=12, label=\"w_star\") # print true value.\n",
    "    ax_lnorm.plot(*w_OLS_lnorm, 'gv', markersize=8, label=\"w_OLS\") # print OLS estimate.\n",
    "    ax_lnorm.plot(*mypath_lnorm[:,-1], 'bo', markersize=8, label=\"w\") # print our final estimate.\n",
    "    ax_lnorm.legend(loc=1,ncol=1)\n",
    "    plt.title('Trajectory of GD routine (log-Normal noise)')\n",
    "    \n",
    "    print(\"Distance:\", np.linalg.norm(mypath_lnorm[:,-1]-w_star))\n",
    "    \n",
    "    plt.show()\n",
    "    \n",
    "    "
   ]
  },
  {
   "cell_type": "markdown",
   "metadata": {},
   "source": [
    "In this way, we see how there is some unseen \"true\" objective function (here $R$, computed by `risk`) underlying the learning algorithm, which carries out optimization of a quantity that approximates this true risk. In the case of gradient descent, ideally we would like to use the gradient of the risk $\\nabla R(w_{(t)})$ at each step, but since this is unobservable, we settle for the empirical mean of $\\nabla L(w;z)$."
   ]
  },
  {
   "cell_type": "markdown",
   "metadata": {},
   "source": [
    "__Exercises:__\n",
    "\n",
    "0. With contours of the \"true\" objective, namely the risk now available, once again try modifying the parameters controlling the underlying distribution and the algorithm.\n",
    "\n",
    "0. Using concepts such as \"generalization\" and \"overfitting\", describe the phenomena that are observed."
   ]
  },
  {
   "cell_type": "markdown",
   "metadata": {},
   "source": [
    "___"
   ]
  }
 ],
 "metadata": {
  "kernelspec": {
   "display_name": "Python 3",
   "language": "python",
   "name": "python3"
  },
  "language_info": {
   "codemirror_mode": {
    "name": "ipython",
    "version": 3
   },
   "file_extension": ".py",
   "mimetype": "text/x-python",
   "name": "python",
   "nbconvert_exporter": "python",
   "pygments_lexer": "ipython3",
   "version": "3.6.5"
  }
 },
 "nbformat": 4,
 "nbformat_minor": 2
}
