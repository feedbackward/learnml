{
 "cells": [
  {
   "cell_type": "markdown",
   "metadata": {},
   "source": [
    "# Learning algorithms for sparse regression\n",
    "\n",
    "In many (machine) learning tasks, we have access to a great number of input features, whose impact on the learner's output is in turn controlled by one or more parameters that the learning algorithm must tune. In reality, however, a *sparse* solution, in which the effects of most features are null, is often more useful."
   ]
  },
  {
   "cell_type": "markdown",
   "metadata": {},
   "source": [
    "__Contents:__\n",
    "\n",
    "- <a href=\"#background\">Basic background</a>\n",
    "- <a href=\"#coorddesc\">Under the squared loss: coordinate descent</a>"
   ]
  },
  {
   "cell_type": "markdown",
   "metadata": {},
   "source": [
    "Having set up the basic machinery for iterative algorithms in previous lessons, in this lesson we implement procedures which are designed to enforce a certain (controllable) degree of sparseness on the algorithm output."
   ]
  },
  {
   "cell_type": "markdown",
   "metadata": {},
   "source": [
    "<a id=\"background\"></a>\n",
    "## Basic background\n",
    "\n",
    "In the now-classic words of R. Tibshirani (1996), there are two important reasons for seeking out sparse solutions when we have many parameters (often more than the number of samples). One is *prediction accuracy*:"
   ]
  },
  {
   "cell_type": "markdown",
   "metadata": {},
   "source": [
    "> _\"[Naive estimates] often have low bias but large variance; prediction accuracy can sometimes be improved by shrinking or setting to 0 some coefficients.\"_"
   ]
  },
  {
   "cell_type": "markdown",
   "metadata": {},
   "source": [
    "Another reason is is *interpretation*:\n",
    "\n",
    "> _\"With a large number of predictors, we often would like to determine a smaller subset that exhibits the strongest effects.\"_"
   ]
  },
  {
   "cell_type": "markdown",
   "metadata": {},
   "source": [
    "Indeed, consider the plethora of stimulus that the human brain encounters in daily activities. Despite the richness of this input, measurement of brain activity reflects a certain degree of \"selectivity\" towards certain stimulus (image via Haxby et al., 2001):"
   ]
  },
  {
   "cell_type": "markdown",
   "metadata": {},
   "source": [
    "<img src=\"img/fmri_response.jpg\" alt=\"Image source: Haxby et al. (2001)\" width=\"480\"/>"
   ]
  },
  {
   "cell_type": "markdown",
   "metadata": {},
   "source": [
    "When statistical learning procedures are carried out by machines, and they have access to a large number of input features, we must take measures to ensure that the solutions they arrive at are sufficiently sparse."
   ]
  },
  {
   "cell_type": "markdown",
   "metadata": {},
   "source": [
    "<img src=\"img/sparse_matrix.png\" alt=\"Image: Sparse matrix image\" width=\"240\"/>"
   ]
  },
  {
   "cell_type": "markdown",
   "metadata": {},
   "source": [
    "While the notion of sparsity is inherently model-dependent, most are formulated such that parameters with a value of $0$ correspond to a certain feature having null impact. Thus, if our parameter vector $w \\in \\mathbb{R}^{d}$ contains a large number of zeros while performing as desired, then it is a good sparse solution. Most directly, the $\\ell_{0}$ norm measures this as"
   ]
  },
  {
   "cell_type": "markdown",
   "metadata": {},
   "source": [
    "\\begin{align*}\n",
    "\\|w\\|_{0} = \\left|\\{j \\in [d]: w_{j} \\neq 0\\}\\right|.\n",
    "\\end{align*}"
   ]
  },
  {
   "cell_type": "markdown",
   "metadata": {},
   "source": [
    "In the risk minimization setting then, where $R(w) = \\mathbf{E}_{Z} l(w;z)$, the ideal objective would be something like\n",
    "\n",
    "\\begin{align*}\n",
    "\\min_{w \\in \\mathbb{R}^{d}} R(w), \\quad \\text{s.t. } \\|w\\|_{0} \\leq \\gamma_{0}.\n",
    "\\end{align*}"
   ]
  },
  {
   "cell_type": "markdown",
   "metadata": {},
   "source": [
    "This is computationally very challenging, but a rich literature from both the statistics and signal processing communities has demonstrated that one can achieve a small $\\ell_{0}$ norm by pursuing a small enough $\\ell_{1}$ norm. Changing this condition we get\n",
    "\n",
    "\\begin{align*}\n",
    "\\min_{w \\in \\mathbb{R}^{d}} R(w), \\quad \\text{s.t. } \\|w\\|_{1} \\leq \\gamma_{1}\n",
    "\\end{align*}"
   ]
  },
  {
   "cell_type": "markdown",
   "metadata": {},
   "source": [
    "as an ideal routine, and in practice a natural approach is to attempt to minimize\n",
    "\n",
    "\\begin{align*}\n",
    "L_{\\lambda}(w) = \\frac{1}{n}\\sum_{i=1}^{n} l(w;z_{i}) + \\lambda \\sum_{j=1}^{d}|w_{j}|.\n",
    "\\end{align*}"
   ]
  },
  {
   "cell_type": "markdown",
   "metadata": {},
   "source": [
    "It is from this point in our formulation that we begin to dig into specific algorithms."
   ]
  },
  {
   "cell_type": "markdown",
   "metadata": {},
   "source": [
    "<a id=\"coorddesc\"></a>\n",
    "## Coordinate descent"
   ]
  },
  {
   "cell_type": "markdown",
   "metadata": {},
   "source": [
    "Perhaps the canonical scenario of interest is the \"least-squares linear regression\" model, namely the setting where\n",
    "\n",
    "\\begin{align*}\n",
    "l(w;z) = (y-w^{T}x)^{2}, \\quad z=(x,y) \\in \\mathbb{R}^{d+1}.\n",
    "\\end{align*}"
   ]
  },
  {
   "cell_type": "markdown",
   "metadata": {},
   "source": [
    "The objective function then takes the form\n",
    "\n",
    "\\begin{align*}\n",
    "L_{\\lambda}(w) = \\frac{1}{n} \\sum_{i=1}^{n} (y_{i}-w^{T}x_{i})^{2} + \\lambda\\|w\\|_{1}.\n",
    "\\end{align*}"
   ]
  },
  {
   "cell_type": "markdown",
   "metadata": {},
   "source": [
    "An intuitively appealing and computationally straightforward approach to solving this problem is the so-called *coordinate descent* strategy. The underlying idea is extremely simple: __update one parameter at a time__. That's all there is to it."
   ]
  },
  {
   "cell_type": "markdown",
   "metadata": {},
   "source": [
    "To derive an explicit update, note that there are (obviously) only two possibilities: with all else fixed, a local minimum is either achieved at $w_j = 0$ or when $w_j \\neq 0$. In the former case, it is readily shown that if $w_{j}=0$, the vector $w$ is a local minimum of the convex function $L_{\\lambda}(w)$ only when"
   ]
  },
  {
   "cell_type": "markdown",
   "metadata": {},
   "source": [
    "\\begin{align*}\n",
    "\\left| \\left.\\frac{\\partial L_{0}(w)}{\\partial w_j}\\right|_{w_j = 0} \\right| \\leq \\lambda,\n",
    "\\end{align*}"
   ]
  },
  {
   "cell_type": "markdown",
   "metadata": {},
   "source": [
    "being sure to note that $L_{0}(\\cdot)$ is the *unpenalized* loss function, i.e., $L_{\\lambda}(\\cdot)$ with $\\lambda = 0$. In the latter case, we can take partial derivatives with respect to $w_j$ at $w_j \\neq 0$, and we come across the condition"
   ]
  },
  {
   "cell_type": "markdown",
   "metadata": {},
   "source": [
    "\\begin{align*}\n",
    "\\left.\\frac{\\partial L_{\\lambda}(w)}{\\partial w_j}\\right|_{w_j \\neq 0} = 0 \\iff \\frac{w_{j}}{n}\\sum_{i=1}^{n}x_{i,j}^{2} + \\lambda \\, \\text{sign}(w_j) = \\frac{1}{n}\\sum_{i=1}^{n}\\left(y_{i}-\\sum_{l \\neq j} w_{l}x_{i,l}\\right)x_{i,j}.\n",
    "\\end{align*}"
   ]
  },
  {
   "cell_type": "markdown",
   "metadata": {},
   "source": [
    "Writing\n",
    "\n",
    "\\begin{align*}\n",
    "V_{j} = \\frac{1}{n}\\sum_{i=1}^{n}x_{i,j}^{2}\n",
    "\\end{align*}"
   ]
  },
  {
   "cell_type": "markdown",
   "metadata": {},
   "source": [
    "we have that\n",
    "\n",
    "\\begin{align*}\n",
    "w_{j} = \\frac{1}{n \\, V_{j}}\\sum_{i=1}^{n}\\left(y_{i}-\\sum_{l \\neq j} w_{l}x_{i,l}\\right)x_{i,j} - \\frac{\\lambda \\, \\text{sign}(w_j)}{V_{j}}\n",
    "\\end{align*}\n",
    "\n",
    "is sufficient for $w_{j} \\neq 0$ to solve the one-dimensional optimization."
   ]
  },
  {
   "cell_type": "markdown",
   "metadata": {},
   "source": [
    "Taking these two cases (and two conditions) together, it is readily confirmed that regardless of which scenario happens to be true, by setting\n",
    "\n",
    "\\begin{align*}\n",
    "w_{j} = \\frac{1}{V_{j}} S(\\widetilde{g}_{j};\\lambda)\n",
    "\\end{align*}\n",
    "\n",
    "we guarantee that the desired conditions will be satisfied."
   ]
  },
  {
   "cell_type": "markdown",
   "metadata": {},
   "source": [
    "Here,\n",
    "\n",
    "\\begin{align*}\n",
    "S(u;\\gamma) = \\text{sign}\\,(u)\\max\\,(|u|-\\gamma, 0)\n",
    "\\end{align*}"
   ]
  },
  {
   "cell_type": "markdown",
   "metadata": {},
   "source": [
    "and\n",
    "\n",
    "\\begin{align*}\n",
    "\\widetilde{g}_{j} = \\frac{1}{n} \\sum_{i=1}^{n}\\left(y_{i}-\\sum_{l \\neq j} w_{l}x_{i,l}\\right)x_{i,j} = -\\left.\\frac{\\partial L_{0}(w)}{\\partial w_j}\\right|_{w_j = 0}.\n",
    "\\end{align*}"
   ]
  },
  {
   "cell_type": "markdown",
   "metadata": {},
   "source": [
    "As a final computational detail, if the sample data is standardized to have zero mean and unit standard deviation, then as the relationship between $V_{j}$ and the sample variance is\n",
    "\n",
    "\\begin{align*}\n",
    "V_{j} = \\frac{n-1}{n} \\text{var}\\,\\left\\{x_{1,j},\\ldots,x_{n,j}\\right\\},\n",
    "\\end{align*}\n",
    "\n",
    "it follows that with unit standard deviation, we set $V_{j}=(n-1)/n$ for each $j = 1,\\ldots,d$."
   ]
  },
  {
   "cell_type": "markdown",
   "metadata": {},
   "source": [
    "In light of our algorithm class definitions in previous lessons, a small modification to the established format allows us to easily implement coordinate descent for least squares, as follows. First, implement the soft threshold function."
   ]
  },
  {
   "cell_type": "code",
   "execution_count": 1,
   "metadata": {},
   "outputs": [],
   "source": [
    "import math\n",
    "import numpy as np\n",
    "import matplotlib\n",
    "import matplotlib.pyplot as plt\n",
    "\n",
    "import models\n",
    "import dataclass"
   ]
  },
  {
   "cell_type": "code",
   "execution_count": 2,
   "metadata": {},
   "outputs": [],
   "source": [
    "def soft_thres(u,mar):\n",
    "    '''\n",
    "    The so-called \"soft threshold\" function, as made\n",
    "    popular by the LASSO model and all related\n",
    "    learning procedures.\n",
    "\n",
    "    Input \"u\" will be an array, and \"mar\" will be the\n",
    "    margin of the soft-threshold, a non-negative real\n",
    "    value.\n",
    "    '''\n",
    "    return np.sign(u) * np.clip(a=(np.abs(u)-mar), a_min=0, a_max=None)"
   ]
  },
  {
   "cell_type": "code",
   "execution_count": 3,
   "metadata": {
    "scrolled": false
   },
   "outputs": [
    {
     "data": {
      "image/png": "[encoded data removed]",
      "text/plain": [
       "<matplotlib.figure.Figure at 0x7f9aa1627b38>"
      ]
     },
     "metadata": {},
     "output_type": "display_data"
    }
   ],
   "source": [
    "# Quick visualization.\n",
    "\n",
    "xvals = np.linspace(-1, 1, 500)\n",
    "marval = 0.25\n",
    "yvals = soft_thres(u=xvals, mar=marval)\n",
    "\n",
    "myfig = plt.figure(figsize=(7,7))\n",
    "ax = myfig.add_subplot(1,1,1)\n",
    "plt.axvline(x=0.0, color=\"black\")\n",
    "plt.axvline(x=marval, color=\"green\")\n",
    "plt.axvline(x=(-marval), color=\"green\")\n",
    "plt.axhline(y=0.0, color=\"black\")\n",
    "ax.plot(xvals, yvals, color=\"blue\")\n",
    "plt.title((\"Graph of soft threshold, margin = \"+str(marval)))\n",
    "plt.show()"
   ]
  },
  {
   "cell_type": "markdown",
   "metadata": {},
   "source": [
    "This `soft_thres` corresponds to $S$ above, with `soft_thres(u,mar)` returning the value corresponding to $S(u;\\gamma)$."
   ]
  },
  {
   "cell_type": "markdown",
   "metadata": {},
   "source": [
    "Next, we prepare a slightly modified linear least-squares model, which incorporates an $\\ell_{1}$ regularization term (with weight $\\lambda$ appearing as `lamreg`)."
   ]
  },
  {
   "cell_type": "code",
   "execution_count": 4,
   "metadata": {},
   "outputs": [],
   "source": [
    "# Model class with per-coordinate gradient computations.\n",
    "\n",
    "class LinearL1(models.LinReg):\n",
    "    '''\n",
    "    Orthodox linear regression model, using squared\n",
    "    error and regularization via the l1 norm. Good for\n",
    "    realizing sparsity without giving up convexity.\n",
    "    '''\n",
    "    \n",
    "    def __init__(self, data=None):\n",
    "        super(LinearL1,self).__init__(data=data)\n",
    "\n",
    "        \n",
    "    def l_imp(self, w, X, y, lamreg=None):\n",
    "        '''\n",
    "        Input:\n",
    "        w is a (d x 1) matrix of weights.\n",
    "        X is a (k x numfeat) matrix of k observations.\n",
    "        y is a (k x 1) matrix of labels in {-1,1}.\n",
    "        lamreg is a regularization parameter (l2 penalty).\n",
    "\n",
    "        Output:\n",
    "        A vector of length k with losses evaluated at k points.\n",
    "        '''\n",
    "        if lamreg is None:\n",
    "            return (y-self.predict(w=w,X=X))**2/2\n",
    "        else:\n",
    "            penalty = lamreg * np.abs(w).sum()\n",
    "            return (y-self.predict(w=w,X=X))**2/2 + penalty\n",
    "\n",
    "        \n",
    "    def g_j_imp(self, j, w, X, y, lamreg=None):\n",
    "\n",
    "        if lamreg is None:\n",
    "            return (y-self.predict(w=w,X=X))*(-1)*np.take(a=X,\n",
    "                                                          indices=[j],\n",
    "                                                          axis=1)\n",
    "        else:\n",
    "            penalty = lamreg * np.sign(w[j,0])\n",
    "            return (y-self.predict(w=w,X=X))*(-1)*np.take(a=X,\n",
    "                                                          indices=[j],\n",
    "                                                          axis=1) + penalty\n",
    "        \n",
    "    def g_j_tr(self, j, w, data, n_idx=None, lamreg=None):\n",
    "        if n_idx is None:\n",
    "            return self.g_j_imp(j=j, w=w, X=data.X_tr,\n",
    "                                y=data.y_tr,\n",
    "                                lamreg=lamreg)\n",
    "        else:\n",
    "            return self.g_j_imp(j=j, w=w, X=data.X_tr[n_idx,:],\n",
    "                                y=data.y_tr[n_idx,:],\n",
    "                                lamreg=lamreg)\n",
    "    \n",
    "    def g_j_te(self, j, w, data, n_idx=None, lamreg=None):\n",
    "        if n_idx is None:\n",
    "            return self.g_j_imp(j=j, w=w, X=data.X_te,\n",
    "                                y=data.y_te,\n",
    "                                lamreg=lamreg)\n",
    "        else:\n",
    "            return self.g_j_imp(j=j, w=w, X=data.X_te[n_idx,:],\n",
    "                                y=data.y_te[n_idx,:],\n",
    "                                lamreg=lamreg)\n"
   ]
  },
  {
   "cell_type": "markdown",
   "metadata": {},
   "source": [
    "All that remains, then, is to implement the coordinate descent routine described above."
   ]
  },
  {
   "cell_type": "code",
   "execution_count": 5,
   "metadata": {},
   "outputs": [],
   "source": [
    "class Algo_CDL1:\n",
    "    '''\n",
    "    Coordinate descent (CD) implementation for minimization\n",
    "    of the \"LASSO\" objective, namely the sum of squared errors\n",
    "    regularized by an l1 penalty.\n",
    "    '''\n",
    "    \n",
    "    def __init__(self, w_init, t_max, lamreg):\n",
    "        self.w = w_init\n",
    "        self.t = None\n",
    "        self.t_max = t_max\n",
    "        self.lamreg = lamreg\n",
    "        \n",
    "    def __iter__(self):\n",
    "        self.t = 0\n",
    "        # Shuffle up the indices before starting.\n",
    "        self.idx = np.random.choice(self.w.size, size=self.w.size, replace=False)\n",
    "        self.idxj = self.idx[0]\n",
    "        return self\n",
    "        \n",
    "    def __next__(self):\n",
    "        if self.t >= self.t_max:\n",
    "            raise StopIteration\n",
    "\n",
    "    def update(self, model, data):\n",
    "        \n",
    "        # Computations related to the update.\n",
    "        n = data.X_tr.shape[0]\n",
    "        modidx = (self.t-1) % self.w.size\n",
    "        self.idxj = self.idx[modidx] # circuits around shuffled coords.\n",
    "        self.w[self.idxj,0] = 0 # current para, but with jth coord set to zero.\n",
    "        g_j = -np.mean(model.g_j_tr(j=self.idxj, w=self.w, data=data, lamreg=0))\n",
    "        g_j = g_j * n / (n-1) # rescale\n",
    "        \n",
    "        # Compute the solution to the one-dimensional optimization,\n",
    "        # using it to update the parameters.\n",
    "        self.w[self.idxj,0] = soft_thres(u=g_j, mar=self.lamreg)\n",
    "        \n",
    "        # Monitor update.\n",
    "        self.t += 1\n"
   ]
  },
  {
   "cell_type": "markdown",
   "metadata": {},
   "source": [
    "The basic structure is very similar to `Algo_GD` and others seen previously. Let's put together a simple table of correspondences to keep things clear:"
   ]
  },
  {
   "cell_type": "markdown",
   "metadata": {},
   "source": [
    "| `code` | Formal representation |\n",
    "| ------ | :----------------: |\n",
    "| `lamreg` | $\\lambda$ |\n",
    "| `idx` | $\\{1,2,\\ldots,d\\}$, shuffled |\n",
    "| `idxj` | $j \\in \\{1,\\ldots,d\\}$ to update |\n",
    "| `g_j` | $\\widetilde{g}_{j}$ |"
   ]
  },
  {
   "cell_type": "markdown",
   "metadata": {},
   "source": [
    "Note that `t_max` may be *larger* than the number of parameters we have. In this case, we simply start back at the beginning of the shuffled index. This is achieved by `modidx`, which gives the time index modulo $d$. That is, the index cycles over"
   ]
  },
  {
   "cell_type": "markdown",
   "metadata": {},
   "source": [
    "\\begin{align*}\n",
    "0,1,\\ldots,d-1, 0, 1, \\ldots, d-1, 0, 1, \\ldots\n",
    "\\end{align*}"
   ]
  },
  {
   "cell_type": "markdown",
   "metadata": {},
   "source": [
    "until `t` reaches `t_max`."
   ]
  },
  {
   "cell_type": "markdown",
   "metadata": {},
   "source": [
    "We reiterate that the `model` here is still abstract at this point. All we need is that some appropriate model be passed to the iterator at runtime, which has a method to compute the partial derivatives of a loss for each coordinate.\n",
    "\n",
    "Mirroring the previous lesson, we start by initializing a model object."
   ]
  },
  {
   "cell_type": "code",
   "execution_count": 6,
   "metadata": {},
   "outputs": [],
   "source": [
    "# Initialize model.\n",
    "mod = LinearL1()"
   ]
  },
  {
   "cell_type": "markdown",
   "metadata": {},
   "source": [
    "Next we prepare some simulated data, with the following characteristics."
   ]
  },
  {
   "cell_type": "markdown",
   "metadata": {},
   "source": [
    "- Source is the Elements of Statistical Learning (ESL2) text, in Figure 3.6 on page 59 (with n=300), and again (with n=100) on page 78 in Figure 3.16.\n",
    "\n",
    "- A small simulated data set based on a linear regression model with additive noise and a sparse underlying model vector.\n",
    "\n",
    "- Since most methods we are interested in will center and standardize the data anyways, we shall modify the data at time of generation to have empirical mean of zero and empirical variance of one."
   ]
  },
  {
   "cell_type": "code",
   "execution_count": 7,
   "metadata": {},
   "outputs": [],
   "source": [
    "# Data prep, following ESL-II example.\n",
    "n = 100 # training set size\n",
    "d = 31 # number of inputs\n",
    "d0 = 10 # number of *active* inputs\n",
    "sigma_X = 1.0 # unit variance\n",
    "corr = 0.85 # pairwise correlation coefficient\n",
    "sigma_noise = math.sqrt(6.25) # stdev of additive noise\n",
    "sigma_weights = math.sqrt(0.4) # stdev of randomly generated weights\n",
    "cov_X = np.zeros(d*d).reshape((d,d)) + corr # prepare cov mtx\n",
    "np.fill_diagonal(cov_X, sigma_X)\n",
    "\n",
    "# Set up for a loop over trials.\n",
    "num_trials = 100\n",
    "lamval = 1.5\n",
    "num_loops = 15\n",
    "t_max = num_loops * d\n",
    "\n",
    "# Storage for performance metrics.\n",
    "loss_tr = np.zeros((num_trials,t_max+1), dtype=np.float32)\n",
    "l0norm = np.zeros((num_trials,t_max+1), dtype=np.uint32)\n",
    "truedist = np.zeros((num_trials,t_max+1), dtype=np.float32)"
   ]
  },
  {
   "cell_type": "code",
   "execution_count": 8,
   "metadata": {},
   "outputs": [],
   "source": [
    "for tri in range(num_trials):\n",
    "    \n",
    "    #print(\"Running trial number\", tri)\n",
    "    \n",
    "    # Initialize learning algorithm.\n",
    "    w_init = 1*np.random.uniform(size=(d,1))\n",
    "    \n",
    "    al = Algo_CDL1(w_init=w_init,\n",
    "                   t_max=t_max,\n",
    "                   lamreg=lamval)\n",
    "    \n",
    "    # Generate the actual data, including \"true\" weights.\n",
    "    wstar = np.zeros(d).reshape((d,1))\n",
    "    idx_on = np.random.choice(d, size=d0, replace=False)\n",
    "    wstar[idx_on,:] = np.random.normal(loc=0.0,\n",
    "                                       scale=sigma_weights,\n",
    "                                       size=d0).reshape((d0,1))\n",
    "    X = np.random.multivariate_normal(mean=np.zeros(d), cov=cov_X, size=n)\n",
    "    noise = np.random.normal(loc=0.0, scale=sigma_noise, size=(n,1))\n",
    "    y = np.dot(X,wstar) + noise\n",
    "\n",
    "    # Standardize the inputs to have unit (empirical) variance.\n",
    "    X = (X-np.mean(X,axis=0)) / np.sqrt(np.var(X,axis=0))\n",
    "    \n",
    "    # Prepare the data object.\n",
    "    data = dataclass.DataSet()\n",
    "    data.init_tr(X=X, y=y)\n",
    "    X = None\n",
    "    y = None\n",
    "    \n",
    "    # Iterate the learning algorithm.\n",
    "    idx = 1\n",
    "    loss_tr[tri,0] = np.mean(mod.l_tr(w=w_init, data=data, lamreg=lamval))\n",
    "    l0norm[tri,0] = np.nonzero(w_init)[0].size\n",
    "    truedist[tri,0] = np.linalg.norm((w_init-wstar))\n",
    "    for mystep in al:\n",
    "        al.update(model=mod, data=data)\n",
    "        # Record performance\n",
    "        loss_tr[tri,idx] = np.mean(mod.l_tr(w=al.w, data=data, lamreg=lamval))\n",
    "        l0norm[tri,idx] = np.nonzero(al.w)[0].size\n",
    "        truedist[tri,idx] = np.linalg.norm((al.w-wstar))\n",
    "        idx += 1"
   ]
  },
  {
   "cell_type": "markdown",
   "metadata": {},
   "source": [
    "To start things off, we fix a $\\lambda$ value, and observe the trajectories of performance metrics of interest."
   ]
  },
  {
   "cell_type": "code",
   "execution_count": 9,
   "metadata": {},
   "outputs": [
    {
     "data": {
      "image/png": "[encoded data removed]",
      "text/plain": [
       "<matplotlib.figure.Figure at 0x7f9aa088f5f8>"
      ]
     },
     "metadata": {},
     "output_type": "display_data"
    }
   ],
   "source": [
    "# Visualize the performance trajectories.\n",
    "\n",
    "tvals = np.arange((t_max+1))\n",
    "\n",
    "# Average over trials.\n",
    "myfig = plt.figure(figsize=(14,7))\n",
    "\n",
    "ax_tr = myfig.add_subplot(1, 3, 1)\n",
    "loss_ave = np.mean(loss_tr, axis=0)\n",
    "loss_sd = np.std(loss_tr, axis=0)\n",
    "plt.fill_between(tvals, loss_ave-loss_sd,\n",
    "                 loss_ave+loss_sd, color=\"pink\")\n",
    "ax_tr.plot(tvals, loss_ave, \"-\", color=\"red\")\n",
    "plt.ylabel(\"Squared error\")\n",
    "plt.xlabel(\"Iteration number\")\n",
    "plt.title(\"Training set performance\")\n",
    "\n",
    "ax_dist = myfig.add_subplot(1, 3, 2)\n",
    "dist_ave = np.mean(truedist, axis=0)\n",
    "dist_sd = np.std(truedist, axis=0)\n",
    "plt.fill_between(tvals, dist_ave-dist_sd,\n",
    "                 dist_ave+dist_sd, color=\"gray\")\n",
    "ax_dist.plot(tvals, dist_ave, \"-\", color=\"black\")\n",
    "plt.ylabel(\"l2 distance\")\n",
    "plt.xlabel(\"Iteration number\")\n",
    "plt.title(\"Distance from true model\")\n",
    "\n",
    "ax_spar = myfig.add_subplot(1, 3, 3)\n",
    "spar_ave = np.mean(l0norm, axis=0)\n",
    "spar_sd = np.std(l0norm, axis=0)\n",
    "plt.fill_between(tvals, spar_ave-dist_sd,\n",
    "                 spar_ave+dist_sd, color=\"turquoise\")\n",
    "ax_spar.plot(tvals, spar_ave, \"-\", color=\"blue\")\n",
    "plt.axhline(y=0, color=\"gray\")\n",
    "plt.ylabel(\"l0 norm\")\n",
    "plt.xlabel(\"Iteration number\")\n",
    "plt.title(\"Sparsity\")\n",
    "\n",
    "plt.show()\n"
   ]
  },
  {
   "cell_type": "markdown",
   "metadata": {},
   "source": [
    "There are clearly a few important variables to focus on here:"
   ]
  },
  {
   "cell_type": "markdown",
   "metadata": {},
   "source": [
    "- `n`: the sample size\n",
    "\n",
    "- `d`: the number of parameters\n",
    "\n",
    "- `d0`: the number of active parameters\n",
    "\n",
    "- `t_max`: the number of iterations\n",
    "\n",
    "- `lamreg`: the weight $\\lambda$ controlling the $\\ell_{1}$-regularization term\n",
    "\n",
    "- `sigma_noise`: intensity additive noise"
   ]
  },
  {
   "cell_type": "markdown",
   "metadata": {},
   "source": [
    "__Exercises:__\n",
    "\n",
    "0. Try modifying the $\\lambda$ parameter for the above experiment, by adjusting the `lamreg` argument passed to `Algo_CDL1`. Start with a small value like $\\lambda=0.01$, and work up to large values like $\\lambda=5$. How does the final output change?\n",
    "\n",
    "0. What sort of relationship exists between the $\\lambda$ parameter value and the $\\ell_{1}$ constraint placed on the estimate $w$?\n",
    "\n",
    "___"
   ]
  },
  {
   "cell_type": "markdown",
   "metadata": {},
   "source": [
    "It is difficult to know what sort of value $\\lambda$ should take in advance, and it is typical to try running the algorithm on the same data, over a \"grid\" of candidate $\\lambda$. In this setting, it is typical to make use of \"warm starts\", where estimates based on previous $\\lambda$ choices are re-used as initial values for subsequent $\\lambda$ choices. The terminology is natural: while for the first run the initial value will likely be rather arbitrary, after running `t_max` iterations, the current estimate should be a lot closer to the optimal solution, under the implicitly imposed $\\ell_{1}$ norm constraints.\n"
   ]
  },
  {
   "cell_type": "markdown",
   "metadata": {},
   "source": [
    "Implementing this in practice is simple. In the following example, we prepare a grid of candidates (`todo_lambda`), and after each run update the initial weights `w_init` to the most recent estimate `w_est`."
   ]
  },
  {
   "cell_type": "code",
   "execution_count": 10,
   "metadata": {},
   "outputs": [],
   "source": [
    "\n",
    "# Data prep, following ESL-II example.\n",
    "n = 100 # training set size\n",
    "d = 31 # number of inputs\n",
    "d0 = 10 # number of *active* inputs\n",
    "sigma_X = 1.0 # unit variance\n",
    "corr = 0.85 # pairwise correlation coefficient\n",
    "sigma_noise = math.sqrt(6.25) # stdev of additive noise\n",
    "sigma_weights = math.sqrt(0.4) # stdev of randomly generated weights\n",
    "cov_X = np.zeros(d*d).reshape((d,d)) + corr # prepare cov mtx\n",
    "np.fill_diagonal(cov_X, sigma_X)\n",
    "\n",
    "# Set up for a loop over trials and lambda values.\n",
    "num_trials = 100\n",
    "todo_lambda = np.logspace(start=math.log10(1/100), stop=math.log10(2.5), num=150)\n",
    "num_loops = 15\n",
    "t_max = num_loops * d\n",
    "\n",
    "# Storage for performance metrics.\n",
    "loss_tr = np.zeros((num_trials,todo_lambda.size), dtype=np.float32)\n",
    "l0norm = np.zeros((num_trials,todo_lambda.size), dtype=np.uint32)\n",
    "truedist = np.zeros((num_trials,todo_lambda.size), dtype=np.float32)\n"
   ]
  },
  {
   "cell_type": "code",
   "execution_count": 11,
   "metadata": {},
   "outputs": [],
   "source": [
    "for tri in range(num_trials):\n",
    "    \n",
    "    # Initialize learning algorithm.\n",
    "    w_init = 1*np.random.uniform(size=(d,1))\n",
    "    \n",
    "    for l in range(todo_lambda.size):\n",
    "        \n",
    "        lamval = todo_lambda[l]\n",
    "        \n",
    "        # Use warm starts when available.\n",
    "        if l > 0:\n",
    "            w_init = al.w\n",
    "\n",
    "        al = Algo_CDL1(w_init=w_init,\n",
    "                       t_max=t_max,\n",
    "                       lamreg=lamval)\n",
    "    \n",
    "        # Generate the actual data, including \"true\" weights.\n",
    "        wstar = np.zeros(d).reshape((d,1))\n",
    "        idx_on = np.random.choice(d, size=d0, replace=False)\n",
    "        wstar[idx_on,:] = np.random.normal(loc=0.0,\n",
    "                                           scale=sigma_weights,\n",
    "                                           size=d0).reshape((d0,1))\n",
    "        X = np.random.multivariate_normal(mean=np.zeros(d), cov=cov_X, size=n)\n",
    "        noise = np.random.normal(loc=0.0, scale=sigma_noise, size=(n,1))\n",
    "        y = np.dot(X,wstar) + noise\n",
    "\n",
    "        # Standardize the inputs to have unit (empirical) variance.\n",
    "        X = (X-np.mean(X,axis=0)) / np.sqrt(np.var(X,axis=0))\n",
    "\n",
    "        # Prepare the data object.\n",
    "        data = dataclass.DataSet()\n",
    "        data.init_tr(X=X, y=y)\n",
    "        X = None\n",
    "        y = None\n",
    "    \n",
    "        # Iterate the learning algorithm.\n",
    "        for mystep in al:\n",
    "            al.update(model=mod, data=data)\n",
    "        \n",
    "        # Record performance based on final output.\n",
    "        loss_tr[tri,l] = np.mean(mod.l_tr(w=al.w, data=data, lamreg=lamval))\n",
    "        l0norm[tri,l] = np.nonzero(al.w)[0].size\n",
    "        truedist[tri,l] = np.linalg.norm((al.w-wstar))\n",
    "        "
   ]
  },
  {
   "cell_type": "code",
   "execution_count": 12,
   "metadata": {},
   "outputs": [
    {
     "data": {
      "image/png": "[encoded data removed]",
      "text/plain": [
       "<matplotlib.figure.Figure at 0x7f9aa0328780>"
      ]
     },
     "metadata": {},
     "output_type": "display_data"
    }
   ],
   "source": [
    "# Visualize the performance over lambda grid.\n",
    "\n",
    "# Average over trials.\n",
    "myfig = plt.figure(figsize=(14,7))\n",
    "\n",
    "ax_tr = myfig.add_subplot(1, 3, 1)\n",
    "ax_tr.set_xscale('log')\n",
    "loss_ave = np.mean(loss_tr, axis=0)\n",
    "loss_sd = np.std(loss_tr, axis=0)\n",
    "logerr = loss_sd / (math.log(10)*loss_ave) # for error bars when using log scale\n",
    "plt.fill_between(todo_lambda, np.log10(loss_ave)-logerr,\n",
    "                 np.log10(loss_ave)+logerr, color=\"pink\")\n",
    "ax_tr.plot(todo_lambda, np.log10(loss_ave), \"-\", color=\"red\")\n",
    "plt.xlabel(\"Lambda value\")\n",
    "plt.title(\"Squared error on training set (log10)\")\n",
    "\n",
    "ax_dist = myfig.add_subplot(1, 3, 2)\n",
    "ax_dist.set_xscale('log')\n",
    "dist_ave = np.mean(truedist, axis=0)\n",
    "dist_sd = np.std(truedist, axis=0)\n",
    "logerr = loss_sd / (math.log(10)*loss_ave) # for error bars when using log scale\n",
    "plt.fill_between(todo_lambda, np.log10(dist_ave)-logerr,\n",
    "                 np.log10(dist_ave)+logerr, color=\"gray\")\n",
    "ax_dist.plot(todo_lambda, np.log10(dist_ave), \"-\", color=\"black\")\n",
    "plt.xlabel(\"Lambda value\")\n",
    "plt.title(\"l2 distance from true model (log10)\")\n",
    "\n",
    "ax_spar = myfig.add_subplot(1, 3, 3)\n",
    "ax_spar.set_xscale('log')\n",
    "spar_ave = np.mean(l0norm, axis=0)\n",
    "spar_sd = np.std(l0norm, axis=0)\n",
    "plt.fill_between(todo_lambda, spar_ave-dist_sd,\n",
    "                 spar_ave+dist_sd, color=\"turquoise\")\n",
    "ax_spar.plot(todo_lambda, spar_ave, \"-\", color=\"blue\")\n",
    "plt.axhline(y=0, color=\"gray\")\n",
    "plt.xlabel(\"Lambda value\")\n",
    "plt.title(\"Sparsity via l0-norm\")\n",
    "\n",
    "plt.show()\n"
   ]
  },
  {
   "cell_type": "markdown",
   "metadata": {},
   "source": [
    "Note the following points here:"
   ]
  },
  {
   "cell_type": "markdown",
   "metadata": {},
   "source": [
    "- Taking a larger $\\lambda$ value indeed leads to sparser solutions; a larger value implicitly specifies tigher $\\ell_{1}$ (and $\\ell_{0}$) norm constraints.\n",
    "\n",
    "- There is a clear tradeoff between __bias__ and __variance__ of the learning algorithm here. Too tight a constraint means that the correct solution may not be in the feasible region, a bias. Too loose a constraint leaves too many parameters to specify given relatively few observations, large variance over the random draw of the sample.\n",
    "\n",
    "- Note that the best distance is achieved, on average, at the \"correct\" sparsity level (i.e., the level matching the underlying $w^{\\ast}$, which is precisely the behaviour that we should expect."
   ]
  },
  {
   "cell_type": "markdown",
   "metadata": {},
   "source": [
    "__Exercises:__\n",
    "\n",
    "0. In the above example, we start with *small* $\\lambda$ values and work up to larger values, utilizing warm starts along the way. Try reversing the order (starting large). Does the best lambda value tend to change depending on the direction?\n",
    "\n",
    "0. Try running the algorithm \"fresh\" for each new $\\lambda$ candidate, without using warm starts (i.e., use the same pre-fixed `w_init` every time). Does performance degrade? Does the optimal $\\lambda$ value change?\n",
    "\n",
    "0. One common strategy for constructing the grid is to set the sequence $(\\lambda_{0},\\ldots,\\lambda_{k})$ such that the values are evenly spaced on a log scale, i.e., $\\log\\lambda_{i} - \\log\\lambda_{i-1} = c > 0$, a constant for all $i$. Extend the above code such that the minimum and maximum parameter values take the following standard values (Bühlmann, and Van De Geer, 2011): writing $x_{(j)}$ for the $j$th column of the design matrix, $x_{(j)} = (x_{1,j},\\ldots,x_{n,j})$, and $y=(y_{1},\\ldots,y_{n})$,\n",
    "<br><br>\n",
    "\\begin{align*}\n",
    "\\lambda_{0} = 1/n, \\quad \\lambda_{k} = \\max \\left\\{|\\langle y, x_{(j)}\\rangle|/n:j=1,\\ldots,d \\right\\}.\n",
    "\\end{align*}\n",
    "<br>\n",
    "0. How does performance change when more/less loops are carried out?\n",
    "\n",
    "0. As before, try with and without warm starts, evaluate the change in average performance, variance over trials, and the average sparsity of the best estimate.\n",
    "\n",
    "0. Record the best-performing $\\lambda$ values each time, and examine the average and variance of these values over trials. Does there tend to be much sample-sensitive variation in the ideal $\\lambda$ setting?\n",
    "\n",
    "0. Add `w_old`, `thres` and `diff` attributes to `Algo_CDL1`. Every time we carry out `w.size` (that is, $d$) iterations, set `diff` to the norm of the difference between `w` and `w_old`, and then update `w_old` to the current `w`. If `diff` is less than `thres` (a parameter we must set), then terminate.\n",
    "\n",
    "0. Following the above `thres`-based termination conditions, how many iterations does it typically take to converge? Does this depend on the value of $\\lambda$?\n",
    "\n",
    "0. If we perform many loops, for most of the time many $w_{j}$ values will likely be zero. A different strategy for looping over the indices is to *ignore* all coordinates once they have taken on a zero value. Implement this strategy (re-define `idx` on the fly). How does performance compare with the original circulating approach? What about computation time?"
   ]
  },
  {
   "cell_type": "markdown",
   "metadata": {},
   "source": [
    "## References:\n",
    "\n",
    "- Bühlmann, Peter, and Sara Van De Geer. Statistics for high-dimensional data: methods, theory and applications. Springer Science & Business Media, 2011.\n",
    "- Haxby, James V., et al. \"Distributed and overlapping representations of faces and objects in ventral temporal cortex.\" Science 293.5539 (2001): 2425-2430."
   ]
  },
  {
   "cell_type": "markdown",
   "metadata": {},
   "source": [
    "___"
   ]
  }
 ],
 "metadata": {
  "kernelspec": {
   "display_name": "Python 3",
   "language": "python",
   "name": "python3"
  },
  "language_info": {
   "codemirror_mode": {
    "name": "ipython",
    "version": 3
   },
   "file_extension": ".py",
   "mimetype": "text/x-python",
   "name": "python",
   "nbconvert_exporter": "python",
   "pygments_lexer": "ipython3",
   "version": "3.6.4"
  }
 },
 "nbformat": 4,
 "nbformat_minor": 2
}
