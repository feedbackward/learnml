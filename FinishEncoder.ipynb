{
 "cells": [
  {
   "cell_type": "markdown",
   "metadata": {},
   "source": [
    "# Finishing the encoder\n",
    "\n",
    "__Contents:__\n",
    "\n",
    "- <a href=\"#raw2feat\">Create features from raw stimulus</a>\n",
    "- <a href=\"#algorun\">Initialize model and execute algorithm</a>\n",
    "- <a href=\"#eval\">Evaluate performance</a>\n",
    "- <a href=\"#tasks\">List of major tasks</a>\n",
    "\n",
    "___\n",
    "\n",
    "To the end of putting all the pieces together to get a fully-functional learning machine, let's load up the functions we prepared in other lessons."
   ]
  },
  {
   "cell_type": "code",
   "execution_count": 1,
   "metadata": {
    "collapsed": true
   },
   "outputs": [],
   "source": [
    "\n",
    "import scripts.FilterBank as fb\n",
    "import scripts.AlgoIntro as ai\n",
    "import scripts.AlgoSparseReg as asr\n"
   ]
  },
  {
   "cell_type": "markdown",
   "metadata": {},
   "source": [
    "The basic workflow of the final procedure is as follows:\n",
    "\n",
    "``\n",
    " Load raw stimulus --> Generate and save visual features --> Fit sparse linear model.\n",
    "``\n",
    "\n",
    "We shall take this one piece at a time. After going through a simple and fast prototypical implementation of this encoder, we will put forward a series of exercises that constitute the bulk of the work to be done here."
   ]
  },
  {
   "cell_type": "markdown",
   "metadata": {},
   "source": [
    "<a id=\"raw2feat\"></a>\n",
    "## Create features from raw stimulus\n",
    "\n",
    "- Load up raw stimulus, convert to luminance, compute features (over parameter grid? must give them an example), and save these features to memory as *X* and *y*.\n",
    "\n",
    "- Based on these features, initialize the appropriate model ($\\ell_{1}$-regularized least squares etc...), and run the algorithm on it.\n",
    "\n",
    "- Visualize the performance of \"our\" algorithm and \"their\" algorithm (have students choose these on their own), as well as *region-specific performance* (just a few, say V4LH/RH, V1LH/RH, etc.)"
   ]
  },
  {
   "cell_type": "code",
   "execution_count": 2,
   "metadata": {},
   "outputs": [
    {
     "name": "stdout",
     "output_type": "stream",
     "text": [
      "Reading... OK.\n",
      "Reading... OK.\n"
     ]
    }
   ],
   "source": [
    "import numpy as np\n",
    "import math\n",
    "\n",
    "# Import the vim-2 data from the Python binary format we saved earlier.\n",
    "# Assumptions: that the data is saved in the vim-2 directory,\n",
    "# already of 96x96 size, with dtype of np.float32.\n",
    "\n",
    "PIX_W = 96\n",
    "PIX_H = 96\n",
    "dtype=np.float32\n",
    "\n",
    "# Read the raw training data.\n",
    "shape=(PIX_W,PIX_H,3,108000) # (downsized px, downsized px, rgd channels, time steps)\n",
    "# Index for temporal down-sampling. Alternatives: do after the feature-building and aggregate.\n",
    "idx_ds = np.arange(15//2, 108000+1, 15) # need length 7200.\n",
    "fname = \"data/vim-2/X_tr.dat\"\n",
    "with open(fname, mode=\"br\") as fbin:\n",
    "    print(\"Reading...\", end=\" \")\n",
    "    raw_tr = np.fromfile(file=fbin,dtype=dtype).reshape(shape)[:,:,:,idx_ds] # temporally down-sampled.\n",
    "    print(\"OK.\")\n",
    "\n",
    "# Check a few frames.\n",
    "#num_frames = raw_tr.shape[3]\n",
    "#frames_to_play = 5\n",
    "#for t in range(frames_to_play):\n",
    "#    plt.imshow(raw_tr[:,:,:,t])\n",
    "#    plt.show()\n",
    "\n",
    "\n",
    "# Read the raw testing data.\n",
    "shape=(PIX_W,PIX_H,3,8100) # (downsized px, downsized px, rgd channels, time steps)\n",
    "# Index for temporal down-sampling. Alternatives: do after the feature-building and aggregate.\n",
    "idx_ds = np.arange(15//2, 8100+1, 15) # need length 540.\n",
    "fname = \"data/vim-2/X_te.dat\"\n",
    "with open(fname, mode=\"br\") as fbin:\n",
    "    print(\"Reading...\", end=\" \")\n",
    "    raw_te = np.fromfile(file=fbin, dtype=dtype).reshape(shape)[:,:,:,idx_ds] # temporally down-sampled.\n",
    "    print(\"OK.\")\n",
    "\n",
    "# Check a few frames.\n",
    "#num_frames = raw_tr.shape[3]\n",
    "#frames_to_play = 5\n",
    "#for t in range(frames_to_play):\n",
    "#    plt.imshow(raw_tr[:,:,:,t])\n",
    "#    plt.show()\n"
   ]
  },
  {
   "cell_type": "code",
   "execution_count": 3,
   "metadata": {
    "scrolled": true
   },
   "outputs": [
    {
     "name": "stdout",
     "output_type": "stream",
     "text": [
      "Getting features (tr)... OK.\n",
      "Getting features (te)... OK.\n"
     ]
    }
   ],
   "source": [
    "\n",
    "# Set up the parameters that specify the first filter bank.\n",
    "myparas = {\"freqs\": 32/max(PIX_W,PIX_H),\n",
    "           \"dir\": math.pi/2,\n",
    "           \"amp\": 0.1,\n",
    "           \"sdev\": max(PIX_W,PIX_H)/20,\n",
    "           \"phase\": 0}\n",
    "mygrid_h = 3\n",
    "mygrid_w = 3\n",
    "\n",
    "print(\"Getting features (tr)...\", end=\" \")\n",
    "X_tr = fb.G2_getfeatures(ims=raw_tr,\n",
    "                         fil_paras=myparas,\n",
    "                         gridshape=(mygrid_h,mygrid_w),\n",
    "                         mode=\"reflect\", cval=0)\n",
    "print(\"OK.\")\n",
    "\n",
    "print(\"Getting features (te)...\", end=\" \")\n",
    "X_te = fb.G2_getfeatures(ims=raw_te,\n",
    "                         fil_paras=myparas,\n",
    "                         gridshape=(mygrid_h,mygrid_w),\n",
    "                         mode=\"reflect\", cval=0)\n",
    "print(\"OK.\")\n"
   ]
  },
  {
   "cell_type": "code",
   "execution_count": 4,
   "metadata": {},
   "outputs": [
    {
     "name": "stdout",
     "output_type": "stream",
     "text": [
      "Shape of the produced features:\n",
      "tr: (7200, 9)\n",
      "te: (540, 9)\n"
     ]
    }
   ],
   "source": [
    "print(\"Shape of the produced features:\")\n",
    "print(\"tr:\", X_tr.shape)\n",
    "print(\"te:\", X_te.shape)"
   ]
  },
  {
   "cell_type": "markdown",
   "metadata": {},
   "source": [
    "The above parameters only give us a very limited number of features. As a simple example, let's prepare another set of features determined by a qualitatively distinct collection of filters, and concatenate these."
   ]
  },
  {
   "cell_type": "code",
   "execution_count": 5,
   "metadata": {},
   "outputs": [
    {
     "name": "stdout",
     "output_type": "stream",
     "text": [
      "Getting features (tr)... OK.\n",
      "Getting features (te)... OK.\n",
      "Shape of the produced features:\n",
      "tr: (7200, 90)\n",
      "te: (540, 90)\n"
     ]
    }
   ],
   "source": [
    "# Set up the parameters that specify the second filter bank.\n",
    "myparas = {\"freqs\": 32/max(PIX_W,PIX_H),\n",
    "           \"dir\": 0,\n",
    "           \"amp\": 0.1,\n",
    "           \"sdev\": max(PIX_W,PIX_H)/20,\n",
    "           \"phase\": 0}\n",
    "mygrid_h = 9\n",
    "mygrid_w = 9\n",
    "\n",
    "print(\"Getting features (tr)...\", end=\" \")\n",
    "tmp_X = fb.G2_getfeatures(ims=raw_tr,\n",
    "                         fil_paras=myparas,\n",
    "                         gridshape=(mygrid_h,mygrid_w),\n",
    "                         mode=\"reflect\", cval=0)\n",
    "print(\"OK.\")\n",
    "X_tr = np.concatenate((X_tr, tmp_X), axis=1) # concatenate!\n",
    "\n",
    "print(\"Getting features (te)...\", end=\" \")\n",
    "tmp_X = fb.G2_getfeatures(ims=raw_te,\n",
    "                         fil_paras=myparas,\n",
    "                         gridshape=(mygrid_h,mygrid_w),\n",
    "                         mode=\"reflect\", cval=0)\n",
    "print(\"OK.\")\n",
    "X_te = np.concatenate((X_te, tmp_X), axis=1) # concatenate!\n",
    "\n",
    "print(\"Shape of the produced features:\")\n",
    "print(\"tr:\", X_tr.shape)\n",
    "print(\"te:\", X_te.shape)"
   ]
  },
  {
   "cell_type": "markdown",
   "metadata": {},
   "source": [
    "Note that the concatenation just adds columns of feature vectors; the number of samples (and thus rows in the array) is constant.\n",
    "\n",
    "Again following Nishimoto et al. (2011), let us compute the so-called Z-score of the feature values, in order to center the mean and standardize the scale. In addition, a hard truncation of outliers is carried out. This is done separately for training and testing data, to ensure the learner does not gain unfair oracle information."
   ]
  },
  {
   "cell_type": "code",
   "execution_count": 7,
   "metadata": {},
   "outputs": [
    {
     "name": "stdout",
     "output_type": "stream",
     "text": [
      "Mean = [ -1.89724901e-07  -1.91148786e-07   1.85685025e-07  -2.34428384e-07\n",
      "   2.91483275e-07   4.19716031e-08   4.69502481e-07   1.41478253e-07\n",
      "  -1.68176157e-07  -1.14705827e-07   2.94711846e-08  -2.04650888e-07\n",
      "   3.43388990e-07  -6.71537407e-07   9.37034699e-08   3.71519064e-07\n",
      "  -2.01513373e-07  -2.53700534e-07   5.71873443e-07   1.19209290e-07\n",
      "  -1.32934915e-07  -3.02303164e-07   3.64432736e-07   4.31322377e-07\n",
      "  -1.68672869e-07  -8.22784159e-07  -5.95351082e-07   1.75759197e-07\n",
      "  -1.16833384e-07   1.78375174e-07  -2.13492243e-07   2.98023217e-10\n",
      "   2.32896866e-07   2.91210085e-07  -5.16904741e-08  -1.83574031e-07\n",
      "  -1.39681831e-07   2.74297264e-07  -6.55071588e-08   2.37044361e-07\n",
      "  -3.14389666e-07   3.99168982e-07   3.77164930e-08   3.43670450e-07\n",
      "  -7.97791628e-08  -4.08192477e-07   5.24024166e-08   2.55074752e-07\n",
      "   1.33133597e-07  -6.51843024e-08   2.54511832e-07  -1.61627923e-07\n",
      "   1.36097276e-08   4.08151095e-07  -1.67191033e-07  -1.34615433e-07\n",
      "   3.69962720e-07   3.36286092e-07   3.76999367e-07  -8.42875920e-07\n",
      "   2.13566750e-07  -3.10275290e-08   3.15118172e-07   2.87050170e-07\n",
      "   1.05599561e-07   4.21454516e-08  -2.77832157e-07   5.90168781e-07\n",
      "   2.48634166e-07   3.60939225e-08   1.67662904e-07  -7.91748391e-08\n",
      "  -1.24619234e-07   1.18861593e-07  -2.18989115e-07  -1.11555885e-07\n",
      "  -1.95983390e-07  -6.13555287e-08   8.74118697e-08  -2.48683818e-07\n",
      "   1.73176332e-07   9.56364765e-09  -4.29126544e-07   8.19439663e-08\n",
      "  -2.52483630e-07   9.75239587e-08   5.61748948e-07   2.90591259e-07\n",
      "   3.51754323e-07  -2.14572580e-07] StdDev = [ 1.00000811  1.00001287  0.99999958  0.99999118  0.99999988  1.0000025\n",
      "  0.99999487  1.00000525  0.99999195  1.00000107  0.99999678  0.99999779\n",
      "  0.99999708  1.00000882  0.99999958  0.99999672  0.99999237  1.0000025\n",
      "  1.00000215  0.99999338  1.00000179  0.99999857  1.00000179  0.99999899\n",
      "  0.9999938   1.00000167  0.99999857  0.99999774  0.99999756  0.99999756\n",
      "  1.0000006   1.00000012  1.00000513  1.00000489  0.99999309  1.00000358\n",
      "  0.99999809  0.99999815  1.00000715  0.99999845  1.00000775  0.99999624\n",
      "  0.99999726  1.00000381  0.99999619  0.99999946  0.99999952  1.00000167\n",
      "  1.00000238  0.99999487  1.00000632  0.99999732  0.9999966   1.00000405\n",
      "  0.99999845  0.99999601  0.9999975   1.00000191  1.00000572  0.9999972\n",
      "  1.00000334  1.00000179  1.0000025   1.0000006   1.00000107  0.99999666\n",
      "  1.00000691  0.99999905  1.0000025   0.99999177  1.00000155  0.99999887\n",
      "  0.99999315  1.00000262  0.99999326  0.99999702  0.99999267  0.99999756\n",
      "  0.99999774  1.00000429  0.99999666  1.00000596  0.99999112  1.00000012\n",
      "  1.00000274  1.00000131  0.99999291  0.9999994   1.00000024  0.99999785]\n",
      "Mean = [  3.09061114e-08   5.76178216e-08   3.04645980e-08   1.01990167e-07\n",
      "  -7.88105865e-08  -5.34234239e-08  -7.22982252e-09  -3.75288511e-09\n",
      "  -9.32702271e-09  -3.95156725e-08  -1.26052782e-07   3.39967237e-08\n",
      "  -5.47479715e-08   2.04201100e-09   2.25449046e-08  -7.35123962e-08\n",
      "  -7.61614913e-08  -6.79934473e-08  -6.37990425e-08   8.14596817e-08\n",
      "   8.74201476e-08  -6.47924594e-08   1.07509116e-07  -7.74860354e-08\n",
      "   2.41950715e-07  -2.48352677e-07  -1.16339436e-07  -1.21416868e-08\n",
      "   2.40626150e-08   1.32454767e-08  -8.81996964e-09  -3.46589957e-08\n",
      "   1.46141758e-07  -8.83031759e-10   1.29916046e-07   1.98902910e-07\n",
      "  -5.65140326e-08  -4.17232506e-08  -1.38194466e-07   5.03879996e-08\n",
      "   8.95173429e-08   1.45479490e-07   8.45502939e-08   3.91845347e-08\n",
      "   2.42833735e-08  -2.58286796e-08   1.86430086e-07  -1.74398771e-08\n",
      "  -6.95387499e-08   3.18995212e-08   1.18271068e-07  -1.09551131e-07\n",
      "   1.25859628e-07  -4.64143568e-08  -5.60725191e-08  -1.13579965e-07\n",
      "   9.20560623e-08   2.60715126e-07   1.06405331e-07   9.49259160e-09\n",
      "   6.19226057e-08  -1.50998432e-07  -1.40733192e-07  -2.38197828e-07\n",
      "   8.43295354e-08   5.01120532e-08  -7.32916376e-08   1.83229094e-08\n",
      "   5.65140326e-08   5.40305081e-08  -5.87216142e-08   1.73515744e-07\n",
      "  -1.04418504e-07   2.13859259e-08  -5.33682325e-08  -2.09720046e-08\n",
      "  -2.50173940e-07   1.61153295e-07  -1.33255014e-07  -4.41515891e-09\n",
      "   1.10378970e-07   8.22323329e-08  -1.26935817e-07  -3.45375810e-07\n",
      "   1.04639263e-07  -3.29812366e-07  -1.25832031e-07   2.94711867e-07\n",
      "  -2.12810662e-07  -1.51881466e-07] StdDev = [ 1.00000036  0.9999994   1.00000107  1.00000083  0.9999997   1.00000024\n",
      "  1.00000024  0.99999976  1.00000036  1.00000024  0.99999982  1.00000012\n",
      "  0.99999982  1.0000006   1.00000024  1.00000036  1.0000006   0.99999958\n",
      "  1.00000024  0.99999958  1.          1.00000024  0.99999952  1.00000012\n",
      "  0.9999997   1.          0.99999934  0.99999994  0.99999982  0.99999952\n",
      "  1.00000048  0.99999976  0.99999994  0.99999976  0.99999952  0.99999988\n",
      "  0.9999997   0.99999994  1.00000048  0.99999982  1.          0.99999893\n",
      "  1.          1.00000012  0.99999988  0.99999982  1.00000024  0.99999934\n",
      "  1.00000048  1.          0.99999982  0.99999994  1.          1.00000012\n",
      "  0.99999946  0.9999997   0.99999952  1.          1.00000012  0.99999994\n",
      "  0.99999928  1.          1.00000012  0.99999976  1.0000006   0.99999946\n",
      "  1.00000012  0.99999964  0.99999994  1.00000072  1.00000048  0.99999976\n",
      "  0.99999928  1.00000048  0.99999863  0.99999982  1.00000036  0.99999928\n",
      "  0.99999946  1.          0.99999976  1.00000012  0.99999964  1.\n",
      "  0.99999982  0.99999952  1.00000036  1.00000036  0.99999988  0.99999976]\n"
     ]
    }
   ],
   "source": [
    "\n",
    "X_tr = X_tr - np.mean(X_tr, axis=0)\n",
    "X_tr = X_tr / np.std(X_tr, axis=0)\n",
    "print(\"Mean =\", np.mean(X_tr, axis=0), \"StdDev =\", np.std(X_tr, axis=0))\n",
    "\n",
    "X_te = X_te - np.mean(X_te, axis=0)\n",
    "X_te = X_te / np.std(X_te, axis=0)\n",
    "print(\"Mean =\", np.mean(X_te, axis=0), \"StdDev =\", np.std(X_te, axis=0))\n",
    "\n",
    "for j in range(X_tr.shape[1]):\n",
    "    stdval = np.std(X_tr[:,j])\n",
    "    X_tr[:,j] = np.clip(X_tr[:,j], a_min=(-stdval), a_max=stdval)\n",
    "    stdval = np.std(X_te[:,j])\n",
    "    X_te[:,j] = np.clip(X_te[:,j], a_min=(-stdval), a_max=stdval)\n"
   ]
  },
  {
   "cell_type": "markdown",
   "metadata": {},
   "source": [
    "Assuming everything worked up to this point, write the features to disk, and at the same time create a corresponding \"data info\" object, also written to disk."
   ]
  },
  {
   "cell_type": "code",
   "execution_count": 8,
   "metadata": {},
   "outputs": [
    {
     "name": "stdout",
     "output_type": "stream",
     "text": [
      "Saved to file.\n",
      "Saved to file.\n"
     ]
    }
   ],
   "source": [
    "import support.classes as classes\n",
    "\n",
    "# Make a data_info file for this data, and save as data/encoder/info.dat.\n",
    "dinfo = classes.DataInfo()\n",
    "dinfo.mname = \"Encoder\"\n",
    "\n",
    "fname = \"data/encoder/X_tr.dat\"\n",
    "dtype = raw_tr.dtype\n",
    "shape = raw_tr.shape\n",
    "with open(fname, mode=\"bw\") as fbin:\n",
    "    X_tr.tofile(fbin)\n",
    "    print(\"Saved to file.\")\n",
    "dinfo.X_tr[\"shape\"] = X_tr.shape\n",
    "dinfo.X_tr[\"path\"] = \"data/encoder/X_tr.dat\"\n",
    "dinfo.X_tr[\"dtype\"] = X_tr.dtype\n",
    "    \n",
    "fname = \"data/encoder/X_te.dat\"\n",
    "dtype = raw_te.dtype\n",
    "shape = raw_te.shape\n",
    "with open(fname, mode=\"bw\") as fbin:\n",
    "    X_te.tofile(fbin)\n",
    "    print(\"Saved to file.\")\n",
    "dinfo.X_te[\"shape\"] = X_te.shape\n",
    "dinfo.X_te[\"path\"] = \"data/encoder/X_te.dat\"\n",
    "dinfo.X_te[\"dtype\"] = X_te.dtype"
   ]
  },
  {
   "cell_type": "code",
   "execution_count": 9,
   "metadata": {},
   "outputs": [
    {
     "name": "stdout",
     "output_type": "stream",
     "text": [
      "Saved to file.\n",
      "Saved to file.\n"
     ]
    }
   ],
   "source": [
    "import support.classes as classes\n",
    "\n",
    "# Make a data_info file for this data, and save as data/encoder/info.dat.\n",
    "dinfo = classes.DataInfo()\n",
    "dinfo.mname = \"Encoder\"\n",
    "\n",
    "fname = \"data/encoder/X_tr.dat\"\n",
    "dtype = raw_tr.dtype\n",
    "shape = raw_tr.shape\n",
    "with open(fname, mode=\"bw\") as fbin:\n",
    "    X_tr.tofile(fbin)\n",
    "    print(\"Saved to file.\")\n",
    "dinfo.X_tr[\"shape\"] = X_tr.shape\n",
    "dinfo.X_tr[\"path\"] = \"data/encoder/X_tr.dat\"\n",
    "dinfo.X_tr[\"dtype\"] = X_tr.dtype\n",
    "    \n",
    "fname = \"data/encoder/X_te.dat\"\n",
    "dtype = raw_te.dtype\n",
    "shape = raw_te.shape\n",
    "with open(fname, mode=\"bw\") as fbin:\n",
    "    X_te.tofile(fbin)\n",
    "    print(\"Saved to file.\")\n",
    "dinfo.X_te[\"shape\"] = X_te.shape\n",
    "dinfo.X_te[\"path\"] = \"data/encoder/X_te.dat\"\n",
    "dinfo.X_te[\"dtype\"] = X_te.dtype\n",
    "\n",
    "# Clear the raw data from memory.\n",
    "del [raw_te, raw_tr]\n"
   ]
  },
  {
   "cell_type": "markdown",
   "metadata": {},
   "source": [
    "As for the responses (and the index of voxels free of missing values), just move or copy them over to our `encoder` directory,\n",
    "\n",
    "```\n",
    "$ mv data/vim-2/y_tr.dat data/vim-2/y_te.dat ./data/encoder/\n",
    "$ mv data/vim-2/cleanidx_tr.dat data/vim-2/cleanidx_te.dat ./data/encoder/\n",
    "\n",
    "```\n",
    "\n",
    "and then similarly populate the remaining attributes of `dinfo` and write to disk, as follows."
   ]
  },
  {
   "cell_type": "code",
   "execution_count": 10,
   "metadata": {},
   "outputs": [
    {
     "name": "stdout",
     "output_type": "stream",
     "text": [
      "Saved to file.\n"
     ]
    }
   ],
   "source": [
    "\n",
    "import pickle\n",
    "\n",
    "fname = \"data/encoder/y_tr.dat\"\n",
    "dinfo.y_tr[\"shape\"] = (73728, 7200)\n",
    "dinfo.y_tr[\"path\"] = \"data/encoder/y_tr.dat\"\n",
    "dinfo.y_tr[\"dtype\"] = np.float32\n",
    "\n",
    "fname = \"data/encoder/y_te.dat\"\n",
    "dinfo.y_te[\"shape\"] = (73728, 540)\n",
    "dinfo.y_te[\"path\"] = \"data/encoder/y_te.dat\"\n",
    "dinfo.y_te[\"dtype\"] = np.float32\n",
    "\n",
    "dinfo.misc = {\"voxidx\": None} # to be filled in later.\n",
    "\n",
    "with open(\"data/encoder/info.dat\", mode=\"bw\") as fbin:\n",
    "    pickle.dump(dinfo, fbin)\n",
    "    print(\"Saved to file.\")\n"
   ]
  },
  {
   "cell_type": "markdown",
   "metadata": {},
   "source": [
    "<a id=\"algorun\"></a>\n",
    "## Initialize model and execute algorithm\n",
    "\n",
    "Assuming the above has all been run once, then we can feel free to restart the kernel and run from here.\n",
    "\n",
    "We shall run the `Algo_LASSO_CD` routine implemented in a previous lesson here, over a grid of $\\lambda$ parameters controlling the impact of the $\\ell_{1}$ norm constraint. As for performance metrics, citing the Nishimoto et al. (2011) work, from which this data set was born:\n",
    "\n",
    "> *\"Prediction accuracy was defined as the correlation between predicted and observed BOLD signals. The averaged accuracy across subjects and voxels in early visual areas (V1, V2, V3, V3A, and V3B) was 0.24, 0.39, and 0.40 for the static, nondirectional, and directional encoding models, respectively.\"*\n",
    "\n",
    "Every element of our implementation is less sophisticated than theirs, from the filter bank used to create inputs, to the learning procedure used to set parameter values, and thus this performance should be considered an upper bound for the performance we can achieve in our pedagogical exercise here. In particular, since we are only using two-dimensional Gabor filters, our encoding model corresponds to a simplified version of their \"static\" encoding model (which achieved average accuracy of 0.24).\n",
    "\n",
    "After running our algorithm, as an output we get an estimate $\\widehat{w}$ called `w_est`. Given a new collection of features $X$ (this will be `X_te`) and a response $y$ (this will be `y_te`), the goal is to estimate as $\\widehat{y} \\approx y$ with $\\widehat{y} = X\\widehat{w}$. Evaluation of performance then can be done with the correlation\n",
    "\n",
    "\\begin{align}\n",
    "\\text{corr}\\,(\\widehat{y},y) = \\frac{\\text{cov}\\,(\\widehat{y},y)}{\\sqrt{\\text{var}\\,(\\widehat{y})\\text{var}\\,(y)}},\n",
    "\\end{align}\n",
    "\n",
    "implemented in `scipy.stats.pearsonr`, and the *root mean squared error* (RMSE), defined\n",
    "\n",
    "\\begin{align}\n",
    "\\text{RMSE}\\,(\\widehat{y},y) = \\left( \\frac{1}{m} \\sum_{i=1}^{m} (\\widehat{y}_{i}-y_{i})^2 \\right)^{1/2},\n",
    "\\end{align}\n",
    "\n",
    "implemented in `mod.eval` as a method of the model object, where $m$ represents the number of samples in the test data (here $m=540$).\n"
   ]
  },
  {
   "cell_type": "code",
   "execution_count": 1,
   "metadata": {},
   "outputs": [
    {
     "name": "stdout",
     "output_type": "stream",
     "text": [
      "length: 59928\n",
      "length: 63050\n",
      "[ 4355  4356  4357 ..., 73567 73568 73569]\n",
      "[  300   301   302 ..., 73725 73726 73727]\n",
      "cleanidx length: 59928\n",
      "X_tr: {'shape': (7200, 90), 'path': 'data/encoder/X_tr.dat', 'dtype': dtype('float32')}\n",
      "X_te: {'shape': (540, 90), 'path': 'data/encoder/X_te.dat', 'dtype': dtype('float32')}\n",
      "y_tr: {'shape': (73728, 7200), 'path': 'data/encoder/y_tr.dat', 'dtype': <class 'numpy.float32'>}\n",
      "y_te: {'shape': (73728, 540), 'path': 'data/encoder/y_te.dat', 'dtype': <class 'numpy.float32'>}\n",
      "mname: Encoder\n",
      "misc: {'voxidx': None}\n"
     ]
    }
   ],
   "source": [
    "\n",
    "import numpy as np\n",
    "import math\n",
    "import pickle\n",
    "import support.parse_model as mp\n",
    "import scripts.AlgoSparseReg as asr\n",
    "\n",
    "# Load the general data info object.\n",
    "with open(\"data/encoder/info.dat\", mode=\"br\") as fbin:\n",
    "    dinfo = pickle.load(fbin)\n",
    "\n",
    "# Load the clean index, extracting indices from binary indicators.\n",
    "with open(\"data/encoder/cleanidx_tr.dat\", mode=\"br\") as fbin:\n",
    "    #cleanidx_tr_RAW = np.fromfile(file=fbin, dtype=np.uint32)\n",
    "    cleanidx_tr = np.flatnonzero(np.fromfile(file=fbin, dtype=np.uint32))\n",
    "    print(\"length:\", cleanidx_tr.size)\n",
    "with open(\"data/encoder/cleanidx_te.dat\", mode=\"br\") as fbin:\n",
    "    #cleanidx_te_RAW = np.fromfile(file=fbin, dtype=np.uint32)\n",
    "    cleanidx_te = np.flatnonzero(np.fromfile(file=fbin, dtype=np.uint32))\n",
    "    print(\"length:\", cleanidx_te.size)\n",
    "    \n",
    "# Take the intersection of the clean voxel indices and sort.\n",
    "cleanidx = np.intersect1d(cleanidx_tr,cleanidx_te)\n",
    "print(cleanidx_tr)\n",
    "print(cleanidx_te)\n",
    "print(\"cleanidx length:\", cleanidx.size)\n",
    "\n",
    "# Load the data info object. We shall modify its voxel index on the fly.\n",
    "with open(\"data/encoder/info.dat\", mode=\"br\") as fbin:\n",
    "    dinfo = pickle.load(fbin)\n",
    "    print(dinfo)\n",
    "\n",
    "# Initialize model and weights for an individual voxel.\n",
    "dinfo.misc[\"voxidx\"] = cleanidx[0]\n",
    "mod = mp.model(dinfo)\n",
    "w_init = mod.w_initialize()\n",
    "\n",
    "\n",
    "lam_min = 1 / mod.n\n",
    "\n",
    "# TODO: set the START and STOP guys with proper computations using mod.X_tr and mod.y_tr.\n",
    "todo_lambda = np.flipud(np.logspace(start=math.log10(lam_min),\n",
    "                                    stop=math.log10(1),\n",
    "                                    num=150))\n",
    "\n",
    "# Store performance metric statistics for each lambda setting.\n",
    "err_overlam = np.zeros(todo_lambda.size, dtype=np.float32)\n",
    "corr_overlam = np.zeros(todo_lambda.size, dtype=np.float32)\n",
    "spar_overlam = np.zeros(todo_lambda.size, dtype=np.float32)\n",
    "\n"
   ]
  },
  {
   "cell_type": "code",
   "execution_count": 2,
   "metadata": {
    "scrolled": true
   },
   "outputs": [
    {
     "name": "stdout",
     "output_type": "stream",
     "text": [
      "Working...\n",
      "Done.\n"
     ]
    }
   ],
   "source": [
    "# Iterate over the lambda values once, for a single candidate.\n",
    "print(\"Working...\")\n",
    "for i in range(todo_lambda.size):\n",
    "    \n",
    "    # Initialize and execute the algorithm.\n",
    "    al = asr.Algo_LASSO_CD(w_init=w_init,\\\n",
    "                           t_max=20*w_init.size,\\\n",
    "                           lam_l1=todo_lambda[i],\\\n",
    "                           verbose=False)\n",
    "    \n",
    "    for mystep in al:\n",
    "        al.update(model=mod)\n",
    "    \n",
    "    # Record performance.\n",
    "    w_est = al.w\n",
    "    err_overlam[i] = mod.eval(w_est)[0]\n",
    "    if np.std(np.dot(mod.X_te, w_est)) > 0:\n",
    "        corrval = mod.corr_te(w_est)\n",
    "    else:\n",
    "        corrval = 0  # watch out for zero-variance case.\n",
    "    corr_overlam[i] = corrval\n",
    "    spar_overlam[i] = np.count_nonzero(w_est)\n",
    "    \n",
    "    # Update the initializer to the most current observation.\n",
    "    w_init = w_est\n",
    "\n",
    "print(\"Done.\")"
   ]
  },
  {
   "cell_type": "markdown",
   "metadata": {},
   "source": [
    "Having run the routines, it is typically best to store the raw results for later processing and use. This is done in the `raw/encoder` directory."
   ]
  },
  {
   "cell_type": "code",
   "execution_count": 3,
   "metadata": {},
   "outputs": [
    {
     "name": "stdout",
     "output_type": "stream",
     "text": [
      "Saved to file.\n",
      "Saved to file.\n",
      "Saved to file.\n",
      "Saved to file.\n"
     ]
    }
   ],
   "source": [
    "with open(\"raw/encoder/lasso01_lam.raw\", mode=\"bw\") as fbin:\n",
    "    pickle.dump(todo_lambda, fbin)\n",
    "    print(\"Saved to file.\")\n",
    "\n",
    "with open(\"raw/encoder/lasso01_err.raw\", mode=\"bw\") as fbin:\n",
    "    pickle.dump(err_overlam, fbin)\n",
    "    print(\"Saved to file.\")\n",
    "    \n",
    "with open(\"raw/encoder/lasso01_corr.raw\", mode=\"bw\") as fbin:\n",
    "    pickle.dump(corr_overlam, fbin)\n",
    "    print(\"Saved to file.\")\n",
    "    \n",
    "with open(\"raw/encoder/lasso01_spar.raw\", mode=\"bw\") as fbin:\n",
    "    pickle.dump(spar_overlam, fbin)\n",
    "    print(\"Saved to file.\")"
   ]
  },
  {
   "cell_type": "markdown",
   "metadata": {
    "collapsed": true
   },
   "source": [
    "<a id=\"eval\"></a>\n",
    "## Evaluate performance\n",
    "\n",
    "Feel free to restart the kernel here for evaluation, since the core results should all be saved to disk at this point."
   ]
  },
  {
   "cell_type": "code",
   "execution_count": 6,
   "metadata": {},
   "outputs": [
    {
     "data": {
      "image/png": "[encoded data removed]",
      "text/plain": [
       "<matplotlib.figure.Figure at 0x7fb1193be898>"
      ]
     },
     "metadata": {},
     "output_type": "display_data"
    }
   ],
   "source": [
    "import pickle\n",
    "import matplotlib\n",
    "import matplotlib.pyplot as plt\n",
    "\n",
    "with open(\"raw/encoder/lasso01_lam.raw\", mode=\"br\") as fbin:\n",
    "    todo_lambda = pickle.load(fbin)\n",
    "\n",
    "with open(\"raw/encoder/lasso01_err.raw\", mode=\"br\") as fbin:\n",
    "    err_overlam = pickle.load(fbin)\n",
    "    \n",
    "with open(\"raw/encoder/lasso01_corr.raw\", mode=\"br\") as fbin:\n",
    "    corr_overlam = pickle.load(fbin)\n",
    "    \n",
    "with open(\"raw/encoder/lasso01_spar.raw\", mode=\"br\") as fbin:\n",
    "    spar_overlam = pickle.load(fbin)\n",
    "\n",
    "myfig = plt.figure(figsize=(18,4))\n",
    "ax_err = myfig.add_subplot(1, 3, 1)\n",
    "plt.ylabel(\"Root mean squared error (RMSE)\")\n",
    "plt.xlabel(\"Lambda values\")\n",
    "ax_err.set_yscale('log')\n",
    "ax_err.set_xscale('log')\n",
    "ax_err.plot(todo_lambda, err_overlam)\n",
    "\n",
    "ax_corr = myfig.add_subplot(1, 3, 2)\n",
    "plt.ylabel(\"Correlation coefficient\")\n",
    "plt.xlabel(\"Lambda values\")\n",
    "ax_corr.set_xscale('log')\n",
    "ax_corr.plot(todo_lambda, corr_overlam)\n",
    "\n",
    "ax_spar = myfig.add_subplot(1, 3, 3)\n",
    "plt.ylabel(\"Number of non-zero weights\")\n",
    "plt.xlabel(\"Lambda values\")\n",
    "ax_spar.set_xscale('log')\n",
    "ax_spar.plot(todo_lambda, spar_overlam)\n",
    "\n",
    "plt.show()"
   ]
  },
  {
   "cell_type": "markdown",
   "metadata": {},
   "source": [
    "This toy example, while fast, clearly is not nearly sufficient. Consider modifying the following factors below, and keep them in mind when reading the major tasks below.\n",
    "\n",
    "- Setting of `w_init`.\n",
    "- The size and range of the $\\lambda$ grid.\n",
    "- Number of iterations `t_max`.\n",
    "- All of the filter bank parameters (in `myparas`), especially `freqs`, `dir`, `sdev`.\n",
    "- The quantity and variety of filters used to generate features; both fine and coarse grids, and a wide variety of frequencies and orientations is likely necessary (see the \"major tasks\" below for more ideas)."
   ]
  },
  {
   "cell_type": "markdown",
   "metadata": {},
   "source": [
    "<a id=\"tasks\"></a>\n",
    "## List of major tasks\n",
    "\n",
    "1. Focus on \"the early visual areas\" looked at by Nishimoto et al. (V1, V2, V3, V3A, and V3B) in both hemispheres. Train a model for each voxel in these regions, and compute the performance (on test data) for the best lambda value (on the *training* set). Average the error/correlation over all the voxels in these regions.\n",
    "\n",
    "1. By concatenating feature arrays, we can assemble features from a wide variety of filters. Indeed, this is almost certainly necessary for reasonable prediction quality. A wide variety of orientations and spatial frequencies was used in the cited neuroscience paper. Train several models (working as a team, perhaps) that use qualitatively *distinct* filter banks. Compare their respective performance, averaged across each of the early visual ROIs. Do you see any interesting trends? If so, what might these suggest about \n",
    "\n",
    "1. Complete the above exercise for each subject. Is there much difference in performance between subjects? How does your best model perform against the cited work?\n",
    "\n",
    "1. Another approach is to capture temporal delays in the feature vectors. For example, if our original feature vectors are $x_{i}$ for $i=1,\\ldots,n$, then re-christen the feature vectors as $\\widetilde{x}_{i} = (x_{i},x_{i-1})$ for a delay of *one* step (here, one second) for all $i>1$ (we lose one data point, now $n-1$ total). The dimension grows from $d$ to $2d$. Analogously, for a delay of $k$ steps, this would be $\\widetilde{x}_{i} = (x_{i},x_{i-1},\\ldots,x_{i-k})$ for all $i>k$, and lose $k$ data points for a total of $n-k$ now. Try several temporal delays; which seem to work best?\n",
    "\n",
    "1. How does performance depend on ROI looked at? Which ROI saw comparatively good/bad performance? Provide visuals to highlight performance in each region.\n",
    "\n",
    "1. Be sure to experiment with the learning algorithm parameters (number of iterations, size and range of $\\lambda$ grid, etc.). What strategies did you find particularly effective? If you made any modifications to the algorithm, describe them.\n",
    "\n",
    "1. (Bonus) Make a large data set of stimulus from any two subjects, and use the third subject's data as a evaluation of *inter-subject generalization* ability. How does performance compare with the more standard by-subject approach? Are there subjects that are particularly difficult to predict for? In contrast to this, considering the by-subject training approach we have considered thus far, how does our interpretation of *generalization* change?"
   ]
  },
  {
   "cell_type": "markdown",
   "metadata": {
    "collapsed": true
   },
   "source": [
    "## References:\n",
    "\n",
    " - Nishimoto, Shinji, et al. \"Reconstructing visual experiences from brain activity evoked by natural movies.\" Current Biology 21.19 (2011): 1641-1646.\n",
    " - Description of dataset vim-2 (visual imaging 2), at CRCNS - Collaborative Research in Computational Neuroscience. https://crcns.org/data-sets/vc/vim-2/about-vim-2"
   ]
  }
 ],
 "metadata": {
  "kernelspec": {
   "display_name": "Python 3",
   "language": "python",
   "name": "python3"
  },
  "language_info": {
   "codemirror_mode": {
    "name": "ipython",
    "version": 3
   },
   "file_extension": ".py",
   "mimetype": "text/x-python",
   "name": "python",
   "nbconvert_exporter": "python",
   "pygments_lexer": "ipython3",
   "version": "3.6.3"
  }
 },
 "nbformat": 4,
 "nbformat_minor": 2
}
