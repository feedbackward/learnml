{
 "cells": [
  {
   "cell_type": "markdown",
   "metadata": {},
   "source": [
    "# Table of Contents\n",
    "\n",
    "- <a href=\"DataSources.ipynb\">Description of data sources</a>\n",
    "- <a href=\"DataMNIST.ipynb\">Preparation of raw (binary) data</a>\n",
    "- <a href=\"Datavim-2.ipynb\">Preparation of raw data for encoding task</a>\n",
    "- <a href=\"FilterBank.ipynb\">Building features using a Gabor filter bank</a>\n",
    "- <a href=\"AlgoIntro.ipynb\">Basic format for learning algorithm design</a>\n",
    "- <a href=\"AlgoSparseReg.ipynb\">Algorithms for training sparse regression models</a>\n",
    "- <a href=\"FinishEncoder.ipynb\">Finishing the encoder</a>\n",
    "\n",
    "\n",
    "All the main contents of this tutorial make use of data; some of it is simulated, and some of it is real. The real-world data must be acquired from the original sources. These are described and linked to in the \"<a href=\"DataSources.ipynb\">Description of data sources</a>\" part of the tutorial, so please read this before starting.\n"
   ]
  },
  {
   "cell_type": "code",
   "execution_count": null,
   "metadata": {
    "collapsed": true
   },
   "outputs": [],
   "source": []
  }
 ],
 "metadata": {
  "kernelspec": {
   "display_name": "Python 3",
   "language": "python",
   "name": "python3"
  },
  "language_info": {
   "codemirror_mode": {
    "name": "ipython",
    "version": 3
   },
   "file_extension": ".py",
   "mimetype": "text/x-python",
   "name": "python",
   "nbconvert_exporter": "python",
   "pygments_lexer": "ipython3",
   "version": "3.6.3"
  }
 },
 "nbformat": 4,
 "nbformat_minor": 2
}
