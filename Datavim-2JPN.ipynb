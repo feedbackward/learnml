{
 "cells": [
  {
   "cell_type": "markdown",
   "metadata": {},
   "source": [
    "# エンコーダ用の階層型データを整える\n",
    "\n",
    "__目次：__\n",
    "- <a href=\"#overview\">データセットの概要</a>\n",
    "- <a href=\"#stim_check\">入力パターン（視覚刺激）を調べる</a>\n",
    "- <a href=\"#stim_ds\">動画の空間的なダウンサンプリング</a>\n",
    "- <a href=\"#resp_check\">応答（BOLD信号）を調べる</a>\n",
    "- <a href=\"#cleanidx_tr\">応答信号の前処理について</a>\n",
    "\n",
    "___\n",
    "\n",
    "ここでは2種類のデータを扱うことになる。視覚刺激としての自然動画像と、fMRIで測定したBOLD信号（血中酸素濃度に依存する信号）の2種類である。前者はいわば「入力」で、後者は脳活動の指標で、「応答」である。\n",
    "\n",
    "<img src=\"img/stimuli_ex.png\" alt=\"Stimuli Image\" width=\"240\" height=\"180\" />\n",
    "\n",
    "<img src=\"img/fMRI_example.png\" alt=\"fMRI Image\" width=\"240\" height=\"180\" />\n",
    "\n",
    "主要の目的として、入力画像から脳活動を正確に予測することを掲げる。イメージとして、画像を応答信号へと「符号化」していることから、このシステムを「エンコーダ」と呼ぶことが多い。"
   ]
  },
  {
   "cell_type": "markdown",
   "metadata": {},
   "source": [
    "<a id=\"overview\"></a>\n",
    "## データセットの概要\n",
    "\n",
    "今回使うデータの名称は「Gallant Lab Natural Movie 4T fMRI Data set」で、通称は*vim-2*である。その中身を眺めてみると：\n",
    "\n",
    "__視覚刺激__\n",
    "```\n",
    "Stimuli.tar.gz 4089110463 (3.8 GB)\n",
    "```\n",
    "\n",
    "__BOLD信号__\n",
    "```\n",
    "VoxelResponses_subject1.tar.gz 3178624411 (2.9 GB)\n",
    "VoxelResponses_subject2.tar.gz 3121761551 (2.9 GB)\n",
    "VoxelResponses_subject3.tar.gz 3216874972 (2.9 GB)\n",
    "```\n",
    "\n",
    "視覚刺激はすべて`Stimuli.mat`というファイルに格納されている（形式：Matlab v.7.3）。その中身は訓練・検証データから構成される。\n",
    "\n",
    " - `st`: training stimuli. 128x128x3x108000 matrix (108000 128x128 rgb frames). \n",
    " - `sv`: validation stimuli. 128x128x3x8100 matrix (8100 128x128 rgb frames).\n",
    "\n",
    "訓練データに関しては、視覚刺激は15fpsで120分間提示されたため、7200の時点で合計108000枚のフレームから成る。検証データについては、同様に15fpsで9分間提示されたため、540の時点で合計8100枚のフレームから成る。検証用の視覚刺激は10回被験者に提示されたが、今回使う応答信号は、その10回の試行から算出した平均値である。平均を取る前の「生」データは公開されているが、ここでは使わない。\n",
    "\n",
    "あと、データを並べ替える必要は特にない。作者の説明：\n",
    "\n",
    "> *\"The order of the stimuli in the \"st\" and \"sv\" variables matches the order of the stimuli in the \"rt\" and \"rv\" variables in the response files.\"*"
   ]
  },
  {
   "cell_type": "markdown",
   "metadata": {},
   "source": [
    "前へ進むには、これらのファイルを解凍しておく必要がある。\n",
    "\n",
    "```\n",
    "$ tar -xzf Stimuli.tar.gz\n",
    "$ tar -xzf VoxelResponses_subject1.tar.gz\n",
    "$ tar -xzf VoxelResponses_subject2.tar.gz\n",
    "$ tar -xzf VoxelResponses_subject3.tar.gz\n",
    "```\n",
    "\n",
    "すると`Stimuli.mat`および`VoxelResponses_subject{1,2,3}.mat`が得られる。階層的な構造を持つデータなので、開閉、読み書き、編集等を楽にしてくれる__PyTables__( http://www.pytables.org/usersguide/index.html )というライブラリを使う。シェルからファイルの中身とドキュメンテーションを照らし合わせてみると、下記のような結果が出てくる。\n",
    "\n",
    "```\n",
    "$ ptdump Stimuli.mat\n",
    "/ (RootGroup) ''\n",
    "/st (EArray(108000, 3, 128, 128), zlib(3)) ''\n",
    "/sv (EArray(8100, 3, 128, 128), zlib(3)) ''\n",
    "```\n",
    "かなり単純な「階層」ではあるが、RootGroupにはフォルダー（`st`と`sv`）が2つある。それぞれの座標軸の意味を確認すると、1つ目は時点、2つ目は色チャネル（RGB）、3つ目と4つ目のペアは2次元配列における位置を示す。\n",
    "\n",
    "次に応答信号のデータに注視すると、もう少し豊かな階層構造が窺える。\n",
    "\n",
    "```\n",
    "$ ptdump VoxelResponses_subject1.mat \n",
    "/ (RootGroup) ''\n",
    "/rt (EArray(73728, 7200), zlib(3)) ''\n",
    "/rv (EArray(73728, 540), zlib(3)) ''\n",
    "/rva (EArray(73728, 10, 540), zlib(3)) ''\n",
    "(...Warnings...)\n",
    "/ei (Group) ''\n",
    "/ei/TRsec (Array(1, 1)) ''\n",
    "/ei/datasize (Array(3, 1)) ''\n",
    "/ei/imhz (Array(1, 1)) ''\n",
    "/ei/valrepnum (Array(1, 1)) ''\n",
    "/roi (Group) ''\n",
    "/roi/FFAlh (EArray(18, 64, 64), zlib(3)) ''\n",
    "/roi/FFArh (EArray(18, 64, 64), zlib(3)) ''\n",
    "/roi/IPlh (EArray(18, 64, 64), zlib(3)) ''\n",
    "/roi/IPrh (EArray(18, 64, 64), zlib(3)) ''\n",
    "/roi/MTlh (EArray(18, 64, 64), zlib(3)) ''\n",
    "/roi/MTplh (EArray(18, 64, 64), zlib(3)) ''\n",
    "/roi/MTprh (EArray(18, 64, 64), zlib(3)) ''\n",
    "/roi/MTrh (EArray(18, 64, 64), zlib(3)) ''\n",
    "/roi/OBJlh (EArray(18, 64, 64), zlib(3)) ''\n",
    "/roi/OBJrh (EArray(18, 64, 64), zlib(3)) ''\n",
    "/roi/PPAlh (EArray(18, 64, 64), zlib(3)) ''\n",
    "/roi/PPArh (EArray(18, 64, 64), zlib(3)) ''\n",
    "/roi/RSCrh (EArray(18, 64, 64), zlib(3)) ''\n",
    "/roi/STSrh (EArray(18, 64, 64), zlib(3)) ''\n",
    "/roi/VOlh (EArray(18, 64, 64), zlib(3)) ''\n",
    "/roi/VOrh (EArray(18, 64, 64), zlib(3)) ''\n",
    "/roi/latocclh (EArray(18, 64, 64), zlib(3)) ''\n",
    "/roi/latoccrh (EArray(18, 64, 64), zlib(3)) ''\n",
    "/roi/v1lh (EArray(18, 64, 64), zlib(3)) ''\n",
    "/roi/v1rh (EArray(18, 64, 64), zlib(3)) ''\n",
    "/roi/v2lh (EArray(18, 64, 64), zlib(3)) ''\n",
    "/roi/v2rh (EArray(18, 64, 64), zlib(3)) ''\n",
    "/roi/v3alh (EArray(18, 64, 64), zlib(3)) ''\n",
    "/roi/v3arh (EArray(18, 64, 64), zlib(3)) ''\n",
    "/roi/v3blh (EArray(18, 64, 64), zlib(3)) ''\n",
    "/roi/v3brh (EArray(18, 64, 64), zlib(3)) ''\n",
    "/roi/v3lh (EArray(18, 64, 64), zlib(3)) ''\n",
    "/roi/v3rh (EArray(18, 64, 64), zlib(3)) ''\n",
    "/roi/v4lh (EArray(18, 64, 64), zlib(3)) ''\n",
    "/roi/v4rh (EArray(18, 64, 64), zlib(3)) ''\n",
    "\n",
    "```\n",
    "\n",
    "応答のデータでは、RootGroupのなかには、まず`rt`、`rv`、`rva`という3つの配列がある。これらはBOLD信号の測定値を格納している。また、`roi`と`ei`と名付けられたgroupがある。前者は応答信号の時系列とボクセルを結びつけるためのインデックスである。後者は実験の条件等を示す数値が格納されている。ここで`roi`のほうに注目すると、計測された脳の領域全体を分割して（構成要素：ボクセル）、それを生理的・解剖学的に関心を持つべき「関心領域」（ROI）に振り分けていくのだが、この`roi`なるグループは、各ROIの名が付いた配列を含む。たとえば、`v4rh`とは__V4__という領域で、左半球（__l__eft __h__emisphere）に限定したROIのことである。明らかなように、ROIの数はボクセル数（$18 \\times 64 \\times 64 = 73728$）よりも遥かに少ないので、各ROIが多数のボクセルを含むことがわかる。"
   ]
  },
  {
   "cell_type": "markdown",
   "metadata": {},
   "source": [
    "<a id=\"stim_check\"></a>\n",
    "## 入力パターン（視覚刺激）を調べる\n",
    "\n",
    "それでは、蓋を開けて画像データを見てみよう。"
   ]
  },
  {
   "cell_type": "code",
   "execution_count": null,
   "metadata": {
    "scrolled": false
   },
   "outputs": [],
   "source": [
    "\n",
    "import numpy as np\n",
    "import tables\n",
    "import matplotlib\n",
    "from matplotlib import pyplot as plt\n",
    "import pprint as pp\n",
    "\n",
    "# Open file connection.\n",
    "f = tables.open_file(\"data/vim-2/Stimuli.mat\", mode=\"r\")\n",
    "\n",
    "# Get object and array.\n",
    "stimulus_object = f.get_node(where=\"/\", name=\"sv\")\n",
    "print(\"stimulus_object:\")\n",
    "print(stimulus_object)\n",
    "print(type(stimulus_object))\n",
    "print(\"----\")\n",
    "\n",
    "stimulus_array = stimulus_object.read()\n",
    "print(\"stimulus_array:\")\n",
    "#print(stimulus_array)\n",
    "print(type(stimulus_array))\n",
    "print(\"----\")\n",
    "\n",
    "# Close the connection.\n",
    "f.close()\n",
    "\n",
    "# Check that it is closed.\n",
    "if not f.isopen:\n",
    "    print(\"Successfully closed.\")\n",
    "else:\n",
    "    print(\"File connection is still open.\")\n"
   ]
  },
  {
   "cell_type": "markdown",
   "metadata": {},
   "source": [
    "指定した配列の中身が予想通りのものを格納していること、正しく読み込めていることなどを確かめる必要がある。"
   ]
  },
  {
   "cell_type": "code",
   "execution_count": null,
   "metadata": {},
   "outputs": [],
   "source": [
    "# Open file connection.\n",
    "f = tables.open_file(\"data/vim-2/Stimuli.mat\", mode=\"r\")\n",
    "\n",
    "# Get object and array.\n",
    "stimulus_object = f.get_node(where=\"/\", name=\"sv\")\n",
    "print(\"stimulus_object:\")\n",
    "print(stimulus_object)\n",
    "print(type(stimulus_object))\n",
    "print(\"----\")\n",
    "\n",
    "stimulus_array = stimulus_object.read()\n",
    "print(\"stimulus_array:\")\n",
    "#print(stimulus_array)\n",
    "print(\"(type)\")\n",
    "print(type(stimulus_array))\n",
    "print(\"(dtype)\")\n",
    "print(stimulus_array.dtype)\n",
    "print(\"----\")\n",
    "\n",
    "num_frames = stimulus_array.shape[0]\n",
    "num_channels = stimulus_array.shape[1]\n",
    "frame_w = stimulus_array.shape[2]\n",
    "frame_h = stimulus_array.shape[3]\n",
    "\n",
    "frames_to_play = 5\n",
    "\n",
    "oneframe = np.zeros(num_channels*frame_h*frame_w, dtype=np.uint8).reshape((frame_h, frame_w, num_channels))\n",
    "im = plt.imshow(oneframe)\n",
    "\n",
    "for t in range(frames_to_play):\n",
    "    oneframe[:,:,0] = stimulus_array[t,0,:,:] # red\n",
    "    oneframe[:,:,1] = stimulus_array[t,1,:,:] # green\n",
    "    oneframe[:,:,2] = stimulus_array[t,2,:,:] # blue\n",
    "    plt.imshow(oneframe)\n",
    "    plt.show()\n",
    "\n",
    "f.close()\n"
   ]
  },
  {
   "cell_type": "markdown",
   "metadata": {},
   "source": [
    "動画としての中身を視認するために、このJupyterノートブックよりも、シェルからPythonスクリプトを実行したほうが楽である：\n",
    "\n",
    "```\n",
    "python ./support/vidcheck1.py\n",
    "```\n",
    "\n",
    "十分なフレーム数を重ねてみると、読み込んだデータが確かに動画像であることが確認できた。但し、向きがおかしいことと、フレームレートがかなり高いこと、この2点は後ほど対応する。\n",
    "\n",
    "\n",
    "### 練習問題 (A):\n",
    "\n",
    "0. 座標軸を適当に入れ替えて(`help(np.swapaxes)`を参照)、動画の向きを修正してみてください。\n",
    "\n",
    "0. 上では最初の数枚のフレームを取り出して確認したのだが、次は最後の数枚のフレームを確認しておくこと。\n",
    "\n",
    "0. 上記は検証データであったが、同様な操作（取り出して可視化すること）を訓練データ`st`に対しても行うこと。\n",
    "\n",
    "0. 上記の操作で、最初の100枚のフレームを取り出してください。フレームレートが15fpsなので、7秒弱の提示時間に相当する。上記のコードの`for`ループに着目し、`range`に代わって適当に`np.arange`を使うことで、時間的なダウンサンプリングが容易にできる。15枚につき1枚だけ取り出して、1fpsに変えてから、最初の100枚を見て、変更前との違いを確認してください。\n",
    "___"
   ]
  },
  {
   "cell_type": "markdown",
   "metadata": {},
   "source": [
    "<a id=\"stim_ds\"></a>\n",
    "## 動画の空間的なダウンサンプリング\n",
    "\n",
    "画素数が多すぎると、後の計算が大変になるので、空間的なダウンサンプリング、つまり画像を縮小することが多い。色々なやり方はあるが、ここでは__scikit-image__というライブラリの`transform`モジュールから、`resize`という関数を使う。まずは動作確認。"
   ]
  },
  {
   "cell_type": "code",
   "execution_count": null,
   "metadata": {
    "scrolled": true
   },
   "outputs": [],
   "source": [
    "from skimage import transform as trans\n",
    "import imageio\n",
    "\n",
    "im = imageio.imread(\"img/bishop.png\") # a 128px x 128px image\n",
    "\n",
    "med_h = 96 # desired height in pixels\n",
    "med_w = 96 # desired width in pixels\n",
    "im_med = trans.resize(image=im, output_shape=(med_h,med_w), mode=\"reflect\")\n",
    "\n",
    "small_h = 32 # desired height in pixels\n",
    "small_w = 32 # desired width in pixels\n",
    "im_small = trans.resize(image=im, output_shape=(small_h,small_w), mode=\"reflect\")\n",
    "\n",
    "tiny_h = 16 # desired height in pixels\n",
    "tiny_w = 16 # desired width in pixels\n",
    "im_tiny = trans.resize(image=im, output_shape=(tiny_h,tiny_w), mode=\"reflect\")\n",
    "\n",
    "myfig = plt.figure(figsize=(18,4))\n",
    "\n",
    "ax_im = myfig.add_subplot(1,4,1)\n",
    "plt.imshow(im)\n",
    "plt.title(\"Original image\")\n",
    "ax_med = myfig.add_subplot(1,4,2)\n",
    "plt.imshow(im_med)\n",
    "plt.title(\"Resized image (Medium)\")\n",
    "ax_small = myfig.add_subplot(1,4,3)\n",
    "plt.imshow(im_small)\n",
    "plt.title(\"Resized image (Small)\")\n",
    "ax_small = myfig.add_subplot(1,4,4)\n",
    "plt.imshow(im_tiny)\n",
    "plt.title(\"Resized image (Tiny)\")\n",
    "\n",
    "plt.show()\n"
   ]
  },
  {
   "cell_type": "markdown",
   "metadata": {},
   "source": [
    "どうも予想するように動いているようなので、視覚刺激の全フレームに対して同様な操作を行う。"
   ]
  },
  {
   "cell_type": "code",
   "execution_count": null,
   "metadata": {
    "scrolled": false
   },
   "outputs": [],
   "source": [
    "# Open file connection.\n",
    "f = tables.open_file(\"data/vim-2/Stimuli.mat\", mode=\"r\")\n",
    "\n",
    "# Get object and array.\n",
    "stimulus_object = f.get_node(where=\"/\", name=\"sv\")\n",
    "stimulus_array = stimulus_object.read()\n",
    "num_frames = stimulus_array.shape[0]\n",
    "num_channels = stimulus_array.shape[1]\n",
    "\n",
    "# Swap the axes.\n",
    "print(\"stimulus array (before):\", stimulus_array.shape)\n",
    "stimulus_array = np.swapaxes(a=stimulus_array, axis1=0, axis2=3)\n",
    "stimulus_array = np.swapaxes(a=stimulus_array, axis1=1, axis2=2)\n",
    "print(\"stimulus array (after):\", stimulus_array.shape)\n",
    "\n",
    "# Downsampled height and width.\n",
    "ds_h = 96\n",
    "ds_w = 96\n",
    "\n",
    "stimulus_array_ds = np.zeros(num_frames*num_channels*ds_h*ds_w,\\\n",
    "                             dtype=np.float32).reshape((ds_h, ds_w, num_channels, num_frames))\n",
    "\n",
    "for t in range(num_frames):\n",
    "    stimulus_array_ds[:,:,:,t] = trans.resize(image=stimulus_array[:,:,:,t],\n",
    "                                              output_shape=(ds_h,ds_w),\n",
    "                                              mode=\"reflect\")\n",
    "    if t % 500 == 0:\n",
    "        print(\"Update: t =\", t)\n",
    "        \n",
    "f.close()"
   ]
  },
  {
   "cell_type": "markdown",
   "metadata": {},
   "source": [
    "ここで一つ注意すべきことは、縮小したあとの画像は、$\\{0,1,\\ldots,255\\}$ではなく、$[0,1]$の実数値を取ることである。そのため、`dtype`を`np.float32`に変えている。"
   ]
  },
  {
   "cell_type": "code",
   "execution_count": null,
   "metadata": {},
   "outputs": [],
   "source": [
    "print(\"(Pre-downsize) max:\", np.max(stimulus_array),\n",
    "      \"min:\", np.min(stimulus_array),\n",
    "      \"ave:\", np.mean(stimulus_array))\n",
    "print(\"(Post-downsize) max:\", np.max(stimulus_array_ds),\n",
    "      \"min:\", np.min(stimulus_array_ds),\n",
    "      \"ave:\", np.mean(stimulus_array_ds))"
   ]
  },
  {
   "cell_type": "markdown",
   "metadata": {},
   "source": [
    "バイナリ形式にして、ディスクに保存しておくことにする（PyTablesと比べて、速いかどうかは各自で試すと良い）。"
   ]
  },
  {
   "cell_type": "code",
   "execution_count": null,
   "metadata": {},
   "outputs": [],
   "source": [
    "fname = \"data/vim-2/X_te.dat\"\n",
    "dtype = stimulus_array_ds.dtype\n",
    "shape = stimulus_array_ds.shape\n",
    "with open(fname, mode=\"bw\") as fbin:\n",
    "    stimulus_array_ds.tofile(fbin)\n",
    "    print(\"Saved to file.\")"
   ]
  },
  {
   "cell_type": "markdown",
   "metadata": {
    "collapsed": true
   },
   "source": [
    "読み書きが正しくできていることを確認すべく、最初の数枚をディスクから読み込んで、表示する。"
   ]
  },
  {
   "cell_type": "code",
   "execution_count": null,
   "metadata": {
    "scrolled": false
   },
   "outputs": [],
   "source": [
    "\n",
    "# Wipe the downsampled array.\n",
    "stimulus_array_ds = np.zeros(num_frames*num_channels*ds_h*ds_w,\\\n",
    "                             dtype=np.float32).reshape((ds_h, ds_w, num_channels, num_frames))\n",
    "\n",
    "# Load up the stored array.\n",
    "with open(fname, mode=\"br\") as fbin:\n",
    "    print(\"Reading...\", end=\" \")\n",
    "    stimulus_array_ds = np.fromfile(file=fbin, dtype=dtype).reshape(shape)\n",
    "    print(\"OK.\")\n",
    "\n",
    "# Check a few frames.\n",
    "num_frames = stimulus_array_ds.shape[3]\n",
    "\n",
    "frames_to_play = 5\n",
    "\n",
    "for t in range(frames_to_play):\n",
    "    plt.imshow(stimulus_array_ds[:,:,:,t])\n",
    "    plt.show()"
   ]
  },
  {
   "cell_type": "markdown",
   "metadata": {},
   "source": [
    "\n",
    "### 練習問題 (B):\n",
    "\n",
    "0. 上記の空間的ダウンサンプリングを訓練データ(`st`）に対しても行ない、`X_tr`として保存すること（先ほどの`X_te`と対をなす）。\n",
    "\n",
    "0. 後の解析のために、思い切って縮小した視覚刺激を用意すること。たとえば、$32 \\times 32$ピクセルという程度である。名称として、`X_tr_32px` と`X_tr_32px`を使う。より少ない画素数からできている入力を使うことの利点は何か。その反面、どのようなデメリットがあるか。\n",
    "\n",
    "___\n"
   ]
  },
  {
   "cell_type": "markdown",
   "metadata": {},
   "source": [
    "<a id=\"resp_check\"></a>\n",
    "## 応答（BOLD信号）を調べる\n",
    "\n",
    "（カーネルをリセットした上で）次は応答のほうに主眼を置いて、調べていく。"
   ]
  },
  {
   "cell_type": "code",
   "execution_count": null,
   "metadata": {
    "scrolled": true
   },
   "outputs": [],
   "source": [
    "import numpy as np\n",
    "import tables\n",
    "import matplotlib\n",
    "from matplotlib import pyplot as plt\n",
    "import pprint as pp\n",
    "\n",
    "# Open file connection.\n",
    "f = tables.open_file(\"data/vim-2/VoxelResponses_subject1.mat\", mode=\"r\")\n",
    "\n",
    "# Get objects and arrays.\n",
    "\n",
    "response_object = f.get_node(where=\"/\", name=\"rv\")\n",
    "idx_object = f.get_node(where=\"/roi/\", name=\"v4lh\")\n",
    "\n",
    "print(\"response_object:\")\n",
    "print(response_object)\n",
    "print(type(response_object))\n",
    "print(\"----\")\n",
    "print(\"idx_object:\")\n",
    "print(idx_object)\n",
    "print(type(idx_object))\n",
    "print(\"----\")\n",
    "\n",
    "response_array = response_object.read()\n",
    "idx_array = idx_object.read()\n",
    "\n",
    "print(\"response_array:\")\n",
    "#print(response_array)\n",
    "print(type(response_array))\n",
    "print(\"----\")\n",
    "print(\"idx_array:\")\n",
    "#print(idx_array)\n",
    "print(type(idx_array))\n",
    "print(\"----\")\n",
    "\n",
    "# Close the connection.\n",
    "f.close()\n",
    "\n",
    "# Check that it is closed.\n",
    "if not f.isopen:\n",
    "    print(\"Successfully closed.\")\n",
    "else:\n",
    "    print(\"File connection is still open.\")\n"
   ]
  },
  {
   "cell_type": "markdown",
   "metadata": {},
   "source": [
    "信号自体を見る前に、ボクセルとの対応関係を示すインデックスを開いてみる。"
   ]
  },
  {
   "cell_type": "code",
   "execution_count": null,
   "metadata": {
    "scrolled": true
   },
   "outputs": [],
   "source": [
    "\n",
    "pp.pprint(idx_array[0:2, 0:5,0:5])\n",
    "print(\"dtype:\", idx_array.dtype)\n",
    "print(\"unique:\", np.unique(idx_array))\n",
    "print(\"sum =\", np.sum(idx_array))\n"
   ]
  },
  {
   "cell_type": "markdown",
   "metadata": {},
   "source": [
    "上記で明らかなように、これらの要素を全部足すことで、各ROIに含まれるボクセルの数がわかる。\n",
    "\n",
    "### 練習問題 (C):\n",
    "\n",
    "0. `np.nonzero`を使って、「活き」のインデックス（添字そのもの）を出すこと。\n",
    "\n",
    "0. V4というROIで、左半球においてボクセルが何個あるか。\n",
    "\n",
    "0. 左右合わせて、V4にボクセルが何個あるか。\n",
    "\n",
    "0. この数は、どの被験者でも共通しているか。\n",
    "\n",
    "0. 事前情報としてボクセルの総数が73728であることがわかっている。すべてのインデックス配列の要素の和を求めてみると、この和がボクセル数を下回るなら、どのROIにも属さないボクセルが必ず存在することになる。逆にこの和がボクセル数を上回るなら、複数のROIに属するボクセルが必ず存在することになる。ROIとボクセルの関係を調べるべく、インデックスの和を求めること。\n",
    "\n",
    "0. 各ROIのボクセル数を棒グラフにして、表示すること(`help(plt.bar)`を参照)。ROIによって違うのであれば、どの領域がもっとも大きいか。もっとも小さいのはどれか。左右でボクセル数が違う領域はあるか。\n",
    "___"
   ]
  },
  {
   "cell_type": "markdown",
   "metadata": {},
   "source": [
    "インデックスの働きと有用性は概ねわかってきたので、応答信号を見てみることにする。"
   ]
  },
  {
   "cell_type": "code",
   "execution_count": null,
   "metadata": {},
   "outputs": [],
   "source": [
    "# Open file connection.\n",
    "with tables.open_file(\"data/vim-2/VoxelResponses_subject1.mat\", mode=\"r\") as f:\n",
    "    \n",
    "    idx_object_myroi = f.get_node(where=\"/roi/\", name=\"v4lh\")\n",
    "    idx_array_myroi = idx_object_myroi.read()\n",
    "    \n",
    "    indices = np.nonzero(idx_array_myroi.flatten())[0] # returns a tuple; extract the array.\n",
    "    response_myroi = np.take(a=response_array, axis=0, indices=indices)\n",
    "    print(\"shape:\", response_myroi.shape)\n",
    "    print(\"sum of index:\", np.sum(idx_array_myroi))\n",
    "    \n",
    "num_secs = 120\n",
    "time_idx = np.arange(0, num_secs, 1)\n",
    "\n",
    "myfig = plt.figure(figsize=(10,8))\n",
    "\n",
    "myfig.add_subplot(4,1,1)\n",
    "plt.title(\"BOLD signal response from a handful of voxels\")\n",
    "val = response_myroi[0,time_idx]\n",
    "plt.plot(time_idx, val)\n",
    "print(\"dtype:\", val.dtype)\n",
    "print(\"num of nans:\", np.sum(np.isnan(val)))\n",
    "\n",
    "myfig.add_subplot(4,1,2)\n",
    "val = response_myroi[1,time_idx]\n",
    "plt.plot(time_idx, val)\n",
    "print(\"dtype:\", val.dtype)\n",
    "print(\"num of nans:\", np.sum(np.isnan(val)))\n",
    "\n",
    "myfig.add_subplot(4,1,3)\n",
    "val = response_myroi[2,time_idx]\n",
    "plt.plot(time_idx, val)\n",
    "print(\"dtype:\", val.dtype)\n",
    "print(\"num of nans:\", np.sum(np.isnan(val)))\n",
    "\n",
    "myfig.add_subplot(4,1,4)\n",
    "val = response_myroi[3,time_idx]\n",
    "plt.plot(time_idx, val)\n",
    "print(\"dtype:\", val.dtype)\n",
    "print(\"num of nans:\", np.sum(np.isnan(val)))\n",
    "\n",
    "plt.xlabel(\"Elapsed time (s)\")\n",
    "plt.show()\n"
   ]
  },
  {
   "cell_type": "markdown",
   "metadata": {},
   "source": [
    "動きは激しいが、一定の相関も見受けられるし、正しく読み込めているようには見える。正確に読めているならば、あとは欠落データに対応するだけだ。\n",
    "\n",
    "下記のように、欠損値のあるボクセルはすぐに見つかる。"
   ]
  },
  {
   "cell_type": "code",
   "execution_count": null,
   "metadata": {},
   "outputs": [],
   "source": [
    "\n",
    "num_voxels = response_array.shape[0]\n",
    "cleanidx = np.zeros((num_voxels,), dtype=np.uint32)\n",
    "\n",
    "# Loop over the response array.\n",
    "for v in range(num_voxels):\n",
    "    \n",
    "    if np.sum(np.isnan(response_array[v,:])) == 0:\n",
    "        cleanidx[v] = 1 # on if the voxel is clean, otherwise off.\n",
    "\n",
    "num_good = np.sum(cleanidx)\n",
    "num_bad = np.int(num_voxels-num_good)\n",
    "print(\"total good =\", num_good, \";\", format(100*num_good/num_voxels, \".2f\"), \"percent.\")\n",
    "print(\"total bad =\", num_bad, \";\", format(100*num_bad/num_voxels, \".2f\"), \"percent.\")\n",
    "\n",
    "# Print a simple bar graph.\n",
    "plt.bar(np.arange(2), [num_good, num_bad])\n",
    "plt.xticks(np.arange(2), ('Clean voxels', 'Bad voxels'))\n",
    "plt.show()\n",
    "\n",
    "with open(\"data/vim-2/cleanidx_te.dat\", mode=\"bw\") as fbin:\n",
    "    cleanidx.tofile(fbin)\n",
    "    print(\"Saved to file.\")\n",
    "    "
   ]
  },
  {
   "cell_type": "markdown",
   "metadata": {},
   "source": [
    "一定の割合でデータが欠落しているのだが、幸いにもほとんどのボクセルは綺麗に取れている。\n",
    "\n",
    "### 練習問題 (D):\n",
    "\n",
    "0. `v1lh`と`v4lh`、それぞれの最初の4個のボクセルを取り出して、最初の120秒間の数値を上記のようにプロットすること。欠落データは見つかったか（欠損値として`nan`が使われている）。\n",
    "\n",
    "0. 訓練データにおいて、欠落データを含むボクセルが何個あるか。ROIごとに、欠落ボクセルの数を調べて、棒グラフで表示すること。欠落データが比較的に多い・少ない領域があるか。また、欠損値について、左右半球の違いは見られるか。\n",
    "\n",
    "0. 先ほどの`clean_te`と同様に、訓練データに対して、綺麗なボクセルのインデックスを調べ、`cleanidx_tr`として保存すること。また、最終的には訓練・検証ともにクリーンなボクセルだけを見ることになるであろうから、この2つの配列の共通部分を出して、`cleanidx`として保存すること。\n",
    "\n",
    "___\n",
    "\n",
    "「入力」としての視覚刺激と同様に、「出力」としてのBOLD信号もPythonのバイナリ形式でディスクに書き込むことにする。"
   ]
  },
  {
   "cell_type": "code",
   "execution_count": null,
   "metadata": {},
   "outputs": [],
   "source": [
    "\n",
    "fname = \"data/vim-2/y_te.dat\"\n",
    "dtype = response_array.dtype\n",
    "shape = response_array.shape\n",
    "with open(fname, mode=\"bw\") as fbin:\n",
    "    response_array.tofile(fbin)\n",
    "    print(\"Saved to file.\")\n",
    "    "
   ]
  },
  {
   "cell_type": "markdown",
   "metadata": {},
   "source": [
    "例のごとく、再構成を試みて、読み書きが正常にできているかどうかチェックする。"
   ]
  },
  {
   "cell_type": "code",
   "execution_count": null,
   "metadata": {},
   "outputs": [],
   "source": [
    "# Wipe the response array.\n",
    "response_array = np.zeros(response_array.size, dtype=response_array.dtype).reshape(response_array.shape)\n",
    "\n",
    "# Load up the stored array.\n",
    "with open(fname, mode=\"br\") as fbin:\n",
    "    print(\"Reading...\", end=\" \")\n",
    "    response_array = np.fromfile(file=fbin, dtype=dtype).reshape(shape)\n",
    "    print(\"OK.\")\n",
    "\n",
    "# Do the exact same visualization, and see if things change.    \n",
    "num_secs = 120\n",
    "time_idx = np.arange(0, num_secs, 1)\n",
    "\n",
    "myfig = plt.figure(figsize=(10,8))\n",
    "\n",
    "myfig.add_subplot(4,1,1)\n",
    "plt.title(\"BOLD signal response from a handful of voxels\")\n",
    "val = response_myroi[0,time_idx]\n",
    "plt.plot(time_idx, val)\n",
    "print(\"dtype:\", val.dtype)\n",
    "print(\"num of nans:\", np.sum(np.isnan(val)))\n",
    "\n",
    "myfig.add_subplot(4,1,2)\n",
    "val = response_myroi[1,time_idx]\n",
    "plt.plot(time_idx, val)\n",
    "print(\"dtype:\", val.dtype)\n",
    "print(\"num of nans:\", np.sum(np.isnan(val)))\n",
    "\n",
    "myfig.add_subplot(4,1,3)\n",
    "val = response_myroi[2,time_idx]\n",
    "plt.plot(time_idx, val)\n",
    "print(\"dtype:\", val.dtype)\n",
    "print(\"num of nans:\", np.sum(np.isnan(val)))\n",
    "\n",
    "myfig.add_subplot(4,1,4)\n",
    "val = response_myroi[3,time_idx]\n",
    "plt.plot(time_idx, val)\n",
    "print(\"dtype:\", val.dtype)\n",
    "print(\"num of nans:\", np.sum(np.isnan(val)))\n",
    "\n",
    "plt.xlabel(\"Elapsed time (s)\")\n",
    "plt.show()"
   ]
  },
  {
   "cell_type": "markdown",
   "metadata": {
    "collapsed": true
   },
   "source": [
    "もとの階層型データから読み込んだものとまったく同じように見える（はずである）。\n",
    "\n",
    "### 練習問題 (E):\n",
    "\n",
    "0. 先ほど`rv`を使って`y_te`を作ったのと同様に、`rt`を使って`y_tr`を用意すること。\n",
    "\n",
    "0. もう少しだけ可視化のウォーミングアップをするため、8個のプロットから成るフィギュアを、次の仕様にしたがって、作成すること。並べ方としては、4x2（縦4個、横2）とする。左の列には、左半球からのデータを使い、右の列には右半球のデータを使う。プロットするデータの中身だが、欠損値の無いボクセルをV1から、4個選び、最初の60秒間の計測値を表示すること。各行はボクセルと対応付ける（4行、4個のボクセル）。\n",
    "\n",
    "0. 最後に、これまでは一人の被験者の分しか見てこなかったが、上記の一連の作業（Pythonバイナリ形式としての書き込み、綺麗なインデックスの作成など）を全被験者分、行うこと。名づけ方を少し変える必要があるため、たとえば、`sub1`、`sub2`、`sub3`などを最後につけることで明示できる。`y_tr_sub1.dat`、`y_tr_sub2.dat`、`y_tr_sub3.dat`といった具合である。`X`も`cleanidx`も同様に用意すること。\n",
    "\n",
    "___"
   ]
  },
  {
   "cell_type": "markdown",
   "metadata": {},
   "source": [
    "<a id=\"resp_pproc\"></a>\n",
    "## 応答信号の前処理について\n",
    "\n",
    "末筆ながら、BOLD信号には一定の前処理が必要である。非専門家にはとてもできない作業なので、ありがたいことにデータの作者は前処理されたデータを提供してくれている。これを確かめるために、ドキュメンテーションを読むことにする。*vim-2*の「dataset description」ファイルから：\n",
    "\n",
    "> *\"The functional data were collected for three subjects, in three sessions over three separate days for each subject (please see the Nishimoto et al. 2011 for scanning and preprocessing parameters). Peak BOLD responses to each timepoint in the stimuli were estimated from the preprocessed data.\"*\n",
    "\n",
    "つまり、応答信号をいじる必要は特にないのである。実際にどのような前処理が行われてきたか知るためには、引用している論文(Nishimoto et al., 2011）の付録（*Supplemental Experimental Procedures -- Data Preprocessing*）では、「Peak BOLD responses」を算出するための手法がある程度は説明されている：\n",
    "\n",
    "> *\"BOLD signals were preprocessed as described in earlier publications. Briefly, motion compensation was performed using SPM '99, and supplemented by additional custom algorithms. For each 10 minute run and each individual voxel, drift in BOLD signals was first removed by fitting a third-degree polynomial, and signals were then normalized to mean 0.0 and standard deviation 1.0.\"*\n",
    "\n",
    "繰り返しにはなるが、この「Peak BOLD responses」の推定は、上記の前処理を経て、出されたものである。実際に提供されているデータの10分ブロックが正規化されているというわけではない。この点だけは注意すべきである。この事実は下記のようにすぐに確認できるが、「ほぼ」正規化されていることもわかる。"
   ]
  },
  {
   "cell_type": "code",
   "execution_count": null,
   "metadata": {
    "scrolled": true
   },
   "outputs": [],
   "source": [
    "\n",
    "# Load up the training data.\n",
    "fname = \"data/vim-2/y_tr.dat\"\n",
    "with open(fname, mode=\"br\") as fbin:\n",
    "    print(\"Reading...\", end=\" \")\n",
    "    response_array = np.fromfile(file=fbin, dtype=np.float32).reshape((73728, 7200))\n",
    "    print(\"OK.\")\n",
    "    \n",
    "fname = \"data/vim-2/cleanidx_tr.dat\"\n",
    "with open(fname, mode=\"br\") as fbin:\n",
    "    print(\"Reading...\", end=\" \")\n",
    "    cleanidx_tr = np.fromfile(file=fbin, dtype=np.uint32)\n",
    "    print(\"OK.\")\n",
    "    \n",
    "response_array_clean = np.take(a=response_array, axis=0, indices=np.nonzero(cleanidx_tr)[0])\n",
    "\n",
    "voxel_idx = 0 # the (clean) voxel idx to check\n",
    "tmpspan = 600 # 10 minute \"blocks\"; units are seconds.\n",
    "for i in range(response_array_clean.shape[1]//tmpspan):\n",
    "    tmpi = i\n",
    "    tmpidx = np.arange((tmpi*tmpspan), (tmpi+1)*tmpspan)\n",
    "    response_tocheck = response_array_clean[voxel_idx,tmpidx]\n",
    "    print(\"Block num =\", i, \", mean =\", np.mean(response_tocheck), \", std =\", np.std(response_tocheck))\n"
   ]
  },
  {
   "cell_type": "markdown",
   "metadata": {},
   "source": [
    "### 終わり： 後に使う関数などを`scripts/vim-2.py`に貼り付けること。"
   ]
  },
  {
   "cell_type": "markdown",
   "metadata": {
    "collapsed": true
   },
   "source": [
    "## 参考文献：\n",
    "\n",
    " - Nishimoto, Shinji, et al. \"Reconstructing visual experiences from brain activity evoked by natural movies.\" Current Biology 21.19 (2011): 1641-1646.\n",
    " - Description of dataset vim-2 (visual imaging 2), at CRCNS - Collaborative Research in Computational Neuroscience. https://crcns.org/data-sets/vc/vim-2/about-vim-2"
   ]
  }
 ],
 "metadata": {
  "kernelspec": {
   "display_name": "Python 3",
   "language": "python",
   "name": "python3"
  },
  "language_info": {
   "codemirror_mode": {
    "name": "ipython",
    "version": 3
   },
   "file_extension": ".py",
   "mimetype": "text/x-python",
   "name": "python",
   "nbconvert_exporter": "python",
   "pygments_lexer": "ipython3",
   "version": "3.6.4"
  }
 },
 "nbformat": 4,
 "nbformat_minor": 2
}
