{
 "cells": [
  {
   "cell_type": "markdown",
   "metadata": {},
   "source": [
    "# 機械学習を学習する\n",
    "\n",
    "__チュートリアルの作成者・管理者:__<br>\n",
    "<a href=\"http://feedbackward.com/\">Matthew J. Holland</a> (Osaka University, Institute for Datability Science)\n",
    "\n",
    "\n",
    "## チュートリアルの内容\n",
    "\n",
    "#### 事前準備、ハードとソフト\n",
    "- <a href=\"SetupYours.ipynb\">Working on your own machine</a>\n",
    "- <a href=\"https://feedbackward.github.io/learnml/cloud_use.html\">Using cloud-based solutions</a>\n",
    "\n",
    "#### データを整える\n",
    "- <a href=\"DataSourcesJPN.ipynb\">データ源の説明</a>\n",
    "- <a href=\"Data_MNIST_JPN.ipynb\">MNIST手書き文字</a>\n",
    "- <a href=\"Data_CIFAR10_JPN.ipynb\">10種類の小さい画像（CIFAR-10）</a>\n",
    "- <a href=\"Data_Misc_JPN.ipynb\">種々のベンチマークデータ</a>\n",
    "- <a href=\"Data_vim-2_JPN.ipynb\">エンコーダ用の階層型データ（vim-2）</a>\n",
    "\n",
    "#### 学習アルゴリズムの基礎\n",
    "- <a href=\"FrameworkIntro_JPN.ipynb\">機械学習のプロトタイプづくり</a>\n",
    "- <a href=\"Classifiers_JPN.ipynb\">分類のためのモデル</a>\n",
    "- <a href=\"Algo_FirstOrder_JPN.ipynb\">種々の一次アルゴリズムを試す</a>\n",
    "- <a href=\"Algo_SparseReg_JPN.ipynb\">スパース回帰のための学習アルゴリズム</a>\n",
    "\n",
    "#### より発展的な課題\n",
    "- エンコーダの学習\n",
    "  - <a href=\"FilterBankJPN.ipynb\">ガボールフィルタバンクで特徴量を造る</a>\n",
    "  - <a href=\"FinishEncoderJPN.ipynb\">エンコーダを学習する</a>\n",
    "- Johnson and Zhangの実験の再現\n",
    "  - <a href=\"ChainerWorkshop_JPN.ipynb\">深層学習APIで学習機の実装を加速させる</a>\n",
    "  - <a href=\"Learn_JZ_JPN.ipynb\">SVRGと数値実験</a>\n",
    "\n",
    "\n",
    "\n",
    "\n"
   ]
  },
  {
   "cell_type": "markdown",
   "metadata": {},
   "source": [
    "___"
   ]
  }
 ],
 "metadata": {
  "kernelspec": {
   "display_name": "Python 3",
   "language": "python",
   "name": "python3"
  },
  "language_info": {
   "codemirror_mode": {
    "name": "ipython",
    "version": 3
   },
   "file_extension": ".py",
   "mimetype": "text/x-python",
   "name": "python",
   "nbconvert_exporter": "python",
   "pygments_lexer": "ipython3",
   "version": "3.6.5"
  }
 },
 "nbformat": 4,
 "nbformat_minor": 2
}
