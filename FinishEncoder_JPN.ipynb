{
 "cells": [
  {
   "cell_type": "markdown",
   "metadata": {},
   "source": [
    "# エンコーダを学習する\n",
    "\n",
    "__Contents:__\n",
    "\n",
    "- <a href=\"#raw2feat\">視覚刺激から特徴量を造る</a>\n",
    "- <a href=\"#algorun\">モデルを初期化してアルゴリズムを走らせる</a>\n",
    "- <a href=\"#eval\">学習機の出来を評価する</a>\n",
    "\n",
    "___\n",
    "\n",
    "ここでの目的は、これまでに習得してきた技法や知見を融合させ、正常に機能する学習機を造ることである。その応用先は視覚刺激から脳活動へのエンコーディングである。"
   ]
  },
  {
   "cell_type": "markdown",
   "metadata": {},
   "source": [
    "作業の流れは下記の通りになる：\n",
    "\n",
    "    視覚刺激の読み込み --> ガボールフィルタで特徴量を作って保存 --> スパースな線形回帰\n",
    "\n",
    "これらのタスクを一つずつこなしていく。やり方を明確に伝えるべく、非常に単純なプロトタイプを作っておく。その後の課題では、このプロトタイプをベースにして、エンコーダとしてちゃんと機能するように改善してもらうことになる。"
   ]
  },
  {
   "cell_type": "markdown",
   "metadata": {},
   "source": [
    "<a id=\"raw2feat\"></a>\n",
    "## 視覚刺激から特徴量を造る"
   ]
  },
  {
   "cell_type": "code",
   "execution_count": 1,
   "metadata": {},
   "outputs": [],
   "source": [
    "import numpy as np\n",
    "import math\n",
    "import tables\n",
    "\n",
    "import gaborfil\n",
    "import models\n",
    "import dataclass\n",
    "import algorithms"
   ]
  },
  {
   "cell_type": "code",
   "execution_count": 2,
   "metadata": {},
   "outputs": [
    {
     "name": "stdout",
     "output_type": "stream",
     "text": [
      "data/vim-2/stimulus_ds.h5 (File) 'vim-2: stimulus'\n",
      "Last modif.: 'Tue Mar 27 21:14:47 2018'\n",
      "Object Tree: \n",
      "/ (RootGroup) 'vim-2: stimulus'\n",
      "/test (Array(64, 64, 3, 8100)) 'Testing data'\n",
      "/train (Array(64, 64, 3, 108000)) 'Training data'\n",
      "\n"
     ]
    }
   ],
   "source": [
    "# Establish connection with the file objects.\n",
    "h5_X = tables.open_file(\"data/vim-2/stimulus_ds.h5\", mode=\"r\")\n",
    "print(h5_X)"
   ]
  },
  {
   "cell_type": "code",
   "execution_count": 3,
   "metadata": {},
   "outputs": [],
   "source": [
    "# Set up the parameters that specify the first filter bank.\n",
    "PIX_W = 64\n",
    "PIX_H = 64\n",
    "max_cycles = 32 # the maximum cycles per image.\n",
    "myparas = {\"freqs\": max_cycles/max(PIX_W,PIX_H),\n",
    "           \"dir\": 0,\n",
    "           \"amp\": 0.1,\n",
    "           \"sdev\": max(PIX_W,PIX_H)/20,\n",
    "           \"phase\": 0}\n",
    "mygrid_h = 4\n",
    "mygrid_w = 4"
   ]
  },
  {
   "cell_type": "code",
   "execution_count": 4,
   "metadata": {
    "scrolled": true
   },
   "outputs": [
    {
     "name": "stdout",
     "output_type": "stream",
     "text": [
      "Images processed so far: 0\n",
      "Images processed so far: 2160\n",
      "Images processed so far: 4320\n",
      "Images processed so far: 6480\n",
      "Images processed so far: 8640\n",
      "Images processed so far: 10800\n",
      "Images processed so far: 12960\n",
      "Images processed so far: 15120\n",
      "Images processed so far: 17280\n",
      "Images processed so far: 19440\n",
      "Images processed so far: 21600\n",
      "Images processed so far: 23760\n",
      "Images processed so far: 25920\n",
      "Images processed so far: 28080\n",
      "Images processed so far: 30240\n",
      "Images processed so far: 32400\n",
      "Images processed so far: 34560\n",
      "Images processed so far: 36720\n",
      "Images processed so far: 38880\n",
      "Images processed so far: 41040\n",
      "Images processed so far: 43200\n",
      "Images processed so far: 45360\n",
      "Images processed so far: 47520\n",
      "Images processed so far: 49680\n",
      "Images processed so far: 51840\n",
      "Images processed so far: 54000\n",
      "Images processed so far: 56160\n",
      "Images processed so far: 58320\n",
      "Images processed so far: 60480\n",
      "Images processed so far: 62640\n",
      "Images processed so far: 64800\n",
      "Images processed so far: 66960\n",
      "Images processed so far: 69120\n",
      "Images processed so far: 71280\n",
      "Images processed so far: 73440\n",
      "Images processed so far: 75600\n",
      "Images processed so far: 77760\n",
      "Images processed so far: 79920\n",
      "Images processed so far: 82080\n",
      "Images processed so far: 84240\n",
      "Images processed so far: 86400\n",
      "Images processed so far: 88560\n",
      "Images processed so far: 90720\n",
      "Images processed so far: 92880\n",
      "Images processed so far: 95040\n",
      "Images processed so far: 97200\n",
      "Images processed so far: 99360\n",
      "Images processed so far: 101520\n",
      "Images processed so far: 103680\n",
      "Images processed so far: 105840\n",
      "(108000, 16)\n"
     ]
    }
   ],
   "source": [
    "# Construct features using the specified filter bank (TRAINING).\n",
    "X_tr = gaborfil.G2_getfeatures(ims=h5_X.root.train.read(),\n",
    "                          fil_paras=myparas,\n",
    "                          gridshape=(mygrid_h, mygrid_w),\n",
    "                          mode=\"reflect\", cval=0, verbose=True)\n",
    "print(X_tr.shape)"
   ]
  },
  {
   "cell_type": "code",
   "execution_count": 5,
   "metadata": {
    "scrolled": true
   },
   "outputs": [
    {
     "name": "stdout",
     "output_type": "stream",
     "text": [
      "Images processed so far: 0\n",
      "Images processed so far: 162\n",
      "Images processed so far: 324\n",
      "Images processed so far: 486\n",
      "Images processed so far: 648\n",
      "Images processed so far: 810\n",
      "Images processed so far: 972\n",
      "Images processed so far: 1134\n",
      "Images processed so far: 1296\n",
      "Images processed so far: 1458\n",
      "Images processed so far: 1620\n",
      "Images processed so far: 1782\n",
      "Images processed so far: 1944\n",
      "Images processed so far: 2106\n",
      "Images processed so far: 2268\n",
      "Images processed so far: 2430\n",
      "Images processed so far: 2592\n",
      "Images processed so far: 2754\n",
      "Images processed so far: 2916\n",
      "Images processed so far: 3078\n",
      "Images processed so far: 3240\n",
      "Images processed so far: 3402\n",
      "Images processed so far: 3564\n",
      "Images processed so far: 3726\n",
      "Images processed so far: 3888\n",
      "Images processed so far: 4050\n",
      "Images processed so far: 4212\n",
      "Images processed so far: 4374\n",
      "Images processed so far: 4536\n",
      "Images processed so far: 4698\n",
      "Images processed so far: 4860\n",
      "Images processed so far: 5022\n",
      "Images processed so far: 5184\n",
      "Images processed so far: 5346\n",
      "Images processed so far: 5508\n",
      "Images processed so far: 5670\n",
      "Images processed so far: 5832\n",
      "Images processed so far: 5994\n",
      "Images processed so far: 6156\n",
      "Images processed so far: 6318\n",
      "Images processed so far: 6480\n",
      "Images processed so far: 6642\n",
      "Images processed so far: 6804\n",
      "Images processed so far: 6966\n",
      "Images processed so far: 7128\n",
      "Images processed so far: 7290\n",
      "Images processed so far: 7452\n",
      "Images processed so far: 7614\n",
      "Images processed so far: 7776\n",
      "Images processed so far: 7938\n",
      "(8100, 16)\n"
     ]
    }
   ],
   "source": [
    "# Construct features using the specified filter bank (TESTING).\n",
    "X_te = gaborfil.G2_getfeatures(ims=h5_X.root.test.read(),\n",
    "                          fil_paras=myparas,\n",
    "                          gridshape=(mygrid_h, mygrid_w),\n",
    "                          mode=\"reflect\", cval=0, verbose=True)\n",
    "print(X_te.shape)"
   ]
  },
  {
   "cell_type": "markdown",
   "metadata": {},
   "source": [
    "これで出来上がった特徴量は、ある一つだけのガボールフィルタの下でできたものである。空間周波数に着目すると、上記ではその値をゼロとしているが、ほかの値もまんべんなく反映すべきであろう。実際、Nishimoto *et al.* (2011)で試される手法のうち、\"static model\"が我々が実装しているものにきわめて近い。ただし、彼らのモデルでは、フィルタの向きが\"0, 45, 90 and 135 degrees\"（appendixより引用）とある。0度の場合は済んでいるので、残りを用意しておこう。"
   ]
  },
  {
   "cell_type": "code",
   "execution_count": 6,
   "metadata": {},
   "outputs": [
    {
     "name": "stdout",
     "output_type": "stream",
     "text": [
      "Adding features using dir = 45.0 degrees\n",
      "Adding features using dir = 90.0 degrees\n",
      "Adding features using dir = 135.0 degrees\n"
     ]
    }
   ],
   "source": [
    "todo_dir = math.pi * np.array([1,2,3]) / 4\n",
    "\n",
    "for mydir in todo_dir:\n",
    "    print(\"Adding features using dir =\", mydir*(360/(2*math.pi)), \"degrees\")\n",
    "    myparas[\"dir\"] = mydir\n",
    "    \n",
    "    tmp_X = gaborfil.G2_getfeatures(ims=h5_X.root.train.read(),\n",
    "                               fil_paras=myparas,\n",
    "                               gridshape=(mygrid_h, mygrid_w),\n",
    "                               mode=\"reflect\", cval=0, verbose=False)\n",
    "    X_tr = np.concatenate((X_tr, tmp_X), axis=1)\n",
    "    \n",
    "    tmp_X = gaborfil.G2_getfeatures(ims=h5_X.root.test.read(),\n",
    "                               fil_paras=myparas,\n",
    "                               gridshape=(mygrid_h, mygrid_w),\n",
    "                               mode=\"reflect\", cval=0, verbose=False)\n",
    "    X_te = np.concatenate((X_te, tmp_X), axis=1)\n",
    "    "
   ]
  },
  {
   "cell_type": "code",
   "execution_count": 7,
   "metadata": {},
   "outputs": [
    {
     "name": "stdout",
     "output_type": "stream",
     "text": [
      "<closed File>\n"
     ]
    }
   ],
   "source": [
    "# All finished with this file, so close it.\n",
    "h5_X.close()\n",
    "print(h5_X)"
   ]
  },
  {
   "cell_type": "markdown",
   "metadata": {},
   "source": [
    "次に時間軸におけるダウンサンプリングが必要である。応答信号は一秒に一度のペースで観測しているのに対して、視覚刺激の入力は一秒に15枚もある。15フレームおきにこの時系列を分割して、平均を取るという形で望ましいデータ数に縮約する。"
   ]
  },
  {
   "cell_type": "code",
   "execution_count": 8,
   "metadata": {},
   "outputs": [
    {
     "name": "stdout",
     "output_type": "stream",
     "text": [
      "7200\n",
      "540\n"
     ]
    }
   ],
   "source": [
    "framerate = 15\n",
    "n_tr = X_tr.shape[0]//framerate\n",
    "n_te = X_te.shape[0]//framerate\n",
    "print(n_tr)\n",
    "print(n_te)"
   ]
  },
  {
   "cell_type": "code",
   "execution_count": 9,
   "metadata": {},
   "outputs": [
    {
     "name": "stdout",
     "output_type": "stream",
     "text": [
      "X_tr shape after down-sampling: (7200, 64)\n",
      "X_te shape after down-sampling: (540, 64)\n"
     ]
    }
   ],
   "source": [
    "# Training data.\n",
    "tmp_X = np.zeros((n_tr,X_tr.shape[1]), dtype=X_tr.dtype)\n",
    "idx = np.arange(framerate)\n",
    "for i in range(n_tr):\n",
    "    tmp_X[i,:] = np.mean(X_tr[idx,:], axis=0)\n",
    "    idx += framerate\n",
    "X_tr = tmp_X\n",
    "print(\"X_tr shape after down-sampling:\", X_tr.shape)\n",
    "\n",
    "# Testing data.\n",
    "tmp_X = np.zeros((n_te,X_te.shape[1]), dtype=X_te.dtype)\n",
    "idx = np.arange(framerate)\n",
    "for i in range(n_te):\n",
    "    tmp_X[i,:] = np.mean(X_te[idx,:], axis=0)\n",
    "    idx += framerate\n",
    "X_te = tmp_X\n",
    "print(\"X_te shape after down-sampling:\", X_te.shape)"
   ]
  },
  {
   "cell_type": "markdown",
   "metadata": {},
   "source": [
    "また、Nishimoto et al. (2011)にしたがって、特徴量のZスコアを用いることにする。記号で表わすと：\n",
    "\n",
    "\\begin{align}\n",
    "z = \\frac{x - \\bar{x} }{\\sqrt{\\widehat{v}}}\n",
    "\\end{align}\n",
    "\n",
    "ここで$\\bar{x}$が経験平均、$\\widehat{v}$が経験分散である。"
   ]
  },
  {
   "cell_type": "code",
   "execution_count": 13,
   "metadata": {},
   "outputs": [],
   "source": [
    "# Z-scores\n",
    "Z_tr = X_tr - np.mean(X_tr, axis=0)\n",
    "Z_tr = Z_tr / np.std(Z_tr, axis=0)\n",
    "#print(\"Mean =\", np.mean(Z_tr, axis=0), \"StdDev =\", np.std(Z_tr, axis=0))\n",
    "Z_te = X_te - np.mean(X_te, axis=0)\n",
    "Z_te = Z_te / np.std(Z_te, axis=0)\n",
    "#print(\"Mean =\", np.mean(Z_te, axis=0), \"StdDev =\", np.std(Z_te, axis=0))"
   ]
  },
  {
   "cell_type": "markdown",
   "metadata": {},
   "source": [
    "さらに、標準偏差の3倍を超えた値を外れ値と見なして、切断する。学習課題の公平性を保つため、訓練データと検証データを別々に扱う。"
   ]
  },
  {
   "cell_type": "code",
   "execution_count": 14,
   "metadata": {
    "scrolled": true
   },
   "outputs": [],
   "source": [
    "# Truncation of outliers.\n",
    "thres = 3\n",
    "for j in range(X_tr.shape[1]):\n",
    "    stdval = np.std(Z_tr[:,j])\n",
    "    Z_tr[:,j] = np.clip(Z_tr[:,j], a_min=(-thres*stdval), a_max=thres*stdval)\n",
    "    stdval = np.std(Z_te[:,j])\n",
    "    Z_te[:,j] = np.clip(Z_te[:,j], a_min=(-thres*stdval), a_max=thres*stdval)"
   ]
  },
  {
   "cell_type": "markdown",
   "metadata": {},
   "source": [
    "新しい階層型データファイル`features.h5`を作って、学習と検証用の特徴量を格納しておく。"
   ]
  },
  {
   "cell_type": "code",
   "execution_count": 15,
   "metadata": {},
   "outputs": [
    {
     "name": "stdout",
     "output_type": "stream",
     "text": [
      "data/vim-2/features.h5 (File) 'Features from vim-2 stimulus, via 2D Gabor filter bank'\n",
      "Last modif.: 'Sat Apr  7 17:14:23 2018'\n",
      "Object Tree: \n",
      "/ (RootGroup) 'Features from vim-2 stimulus, via 2D Gabor filter bank'\n",
      "\n"
     ]
    }
   ],
   "source": [
    "# Open file connection, writing new file to disk.\n",
    "myh5 = tables.open_file(\"data/vim-2/features.h5\",\n",
    "                        mode=\"w\",\n",
    "                        title=\"Features from vim-2 stimulus, via 2D Gabor filter bank\")\n",
    "print(myh5)"
   ]
  },
  {
   "cell_type": "code",
   "execution_count": 16,
   "metadata": {},
   "outputs": [
    {
     "name": "stdout",
     "output_type": "stream",
     "text": [
      "data/vim-2/features.h5 (File) 'Features from vim-2 stimulus, via 2D Gabor filter bank'\n",
      "Last modif.: 'Sat Apr  7 17:14:34 2018'\n",
      "Object Tree: \n",
      "/ (RootGroup) 'Features from vim-2 stimulus, via 2D Gabor filter bank'\n",
      "/train (Array(7200, 64)) 'Training data'\n",
      "\n",
      "data/vim-2/features.h5 (File) 'Features from vim-2 stimulus, via 2D Gabor filter bank'\n",
      "Last modif.: 'Sat Apr  7 17:14:34 2018'\n",
      "Object Tree: \n",
      "/ (RootGroup) 'Features from vim-2 stimulus, via 2D Gabor filter bank'\n",
      "/test (Array(540, 64)) 'Testing data'\n",
      "/train (Array(7200, 64)) 'Training data'\n",
      "\n"
     ]
    }
   ],
   "source": [
    "# Add arrays.\n",
    "myh5.create_array(where=myh5.root, name=\"train\", obj=Z_tr, title=\"Training data\")\n",
    "print(myh5)\n",
    "myh5.create_array(where=myh5.root, name=\"test\", obj=Z_te, title=\"Testing data\")\n",
    "print(myh5)"
   ]
  },
  {
   "cell_type": "code",
   "execution_count": 17,
   "metadata": {},
   "outputs": [
    {
     "name": "stdout",
     "output_type": "stream",
     "text": [
      "<closed File>\n"
     ]
    }
   ],
   "source": [
    "# Close the file connection.\n",
    "myh5.close()\n",
    "print(myh5)"
   ]
  },
  {
   "cell_type": "markdown",
   "metadata": {},
   "source": [
    "___"
   ]
  },
  {
   "cell_type": "markdown",
   "metadata": {},
   "source": [
    "<a id=\"algorun\"></a>\n",
    "## モデルを初期化してアルゴリズムを走らせる"
   ]
  },
  {
   "cell_type": "markdown",
   "metadata": {},
   "source": [
    "特徴量の準備が整っているなら、Jupyterのカーネルをリセットし、ここから新たな作業を始める。"
   ]
  },
  {
   "cell_type": "markdown",
   "metadata": {},
   "source": [
    "前回で作った`Algo_LASSO_CD`をここで本領発揮してもらう。前回のテストとまったく同様に、多数の$\\lambda$候補を用意し、warm startを生かしながら学習させていく。パフォーマンス評価指標として、Nishimoto et al. (2011)より："
   ]
  },
  {
   "cell_type": "markdown",
   "metadata": {},
   "source": [
    "> *\"Prediction accuracy was defined as the correlation between predicted and observed BOLD signals. The averaged accuracy across subjects and voxels in early visual areas (V1, V2, V3, V3A, and V3B) was 0.24, 0.39, and 0.40 for the static, nondirectional, and directional encoding models, respectively.\"*"
   ]
  },
  {
   "cell_type": "markdown",
   "metadata": {},
   "source": [
    "教育目的なので我々の学習機があらゆる意味で彼らのものに劣っているのだが、めざす基準としてはこの数値には意義がある。特に相関係数0.24は、2次元のガボールフィルタを使ったときに出た数字なので、より現実的な基準と見てもよかろう。"
   ]
  },
  {
   "cell_type": "markdown",
   "metadata": {},
   "source": [
    "算出方法は次の通りである。訓練データを使って、学習アルゴリズムを一通り走らせると、$\\widehat{w}$に対応する`w_est`が定まる。線形モデルを使っているので、新しい入力$X$から$\\widehat{y} = X\\widehat{w}$を出して、$\\widehat{y} \\approx y$で近似してみる。この$X$と$y$が`X_te`と`y_te`に対応する。予測信号と本当の信号の相関が強いほどよいということなので、下記の通りに相関係数を出す："
   ]
  },
  {
   "cell_type": "markdown",
   "metadata": {},
   "source": [
    "\\begin{align}\n",
    "\\text{corr}\\,(\\widehat{y},y) = \\frac{\\text{cov}\\,(\\widehat{y},y)}{\\sqrt{\\text{var}\\,(\\widehat{y})\\text{var}\\,(y)}},\n",
    "\\end{align}"
   ]
  },
  {
   "cell_type": "markdown",
   "metadata": {},
   "source": [
    "これは`scipy.stats.pearsonr`で計算できる。また、予測・真の平均的な2乗誤差（root mean squared error; RMSE）を求めることもできる："
   ]
  },
  {
   "cell_type": "markdown",
   "metadata": {},
   "source": [
    "\\begin{align}\n",
    "\\text{RMSE}\\,(\\widehat{y},y) = \\left( \\frac{1}{m} \\sum_{i=1}^{m} (\\widehat{y}_{i}-y_{i})^2 \\right)^{1/2},\n",
    "\\end{align}"
   ]
  },
  {
   "cell_type": "markdown",
   "metadata": {},
   "source": [
    "これはモデルオブジェクトの`mod.eval`というメソッドで実装している。$m$は検証データのサンプル数（ここでは$m=540$）。"
   ]
  },
  {
   "cell_type": "code",
   "execution_count": 1,
   "metadata": {},
   "outputs": [],
   "source": [
    "import numpy as np\n",
    "import math\n",
    "import tables\n",
    "\n",
    "import gaborfil\n",
    "import dataclass"
   ]
  },
  {
   "cell_type": "code",
   "execution_count": 2,
   "metadata": {
    "scrolled": true
   },
   "outputs": [
    {
     "name": "stdout",
     "output_type": "stream",
     "text": [
      "data/vim-2/features.h5 (File) 'Features from vim-2 stimulus, via 2D Gabor filter bank'\n",
      "Last modif.: 'Sat Apr  7 17:14:42 2018'\n",
      "Object Tree: \n",
      "/ (RootGroup) 'Features from vim-2 stimulus, via 2D Gabor filter bank'\n",
      "/test (Array(540, 64)) 'Testing data'\n",
      "/train (Array(7200, 64)) 'Training data'\n",
      "\n",
      "data/vim-2/response.h5 (File) 'vim-2: BOLD responses'\n",
      "Last modif.: 'Mon Apr  9 09:14:08 2018'\n",
      "Object Tree: \n",
      "/ (RootGroup) 'vim-2: BOLD responses'\n",
      "/sub1 (Group) 'Data for subject 1'\n",
      "/sub2 (Group) 'Data for subject 2'\n",
      "/sub3 (Group) 'Data for subject 3'\n",
      "/sub3/idx (Group) 'ROI-specific voxel indices'\n",
      "/sub3/idx/v1lh (Array(653,)) ''\n",
      "/sub3/idx/v1rh (Array(713,)) ''\n",
      "/sub3/idx/v2lh (Array(735,)) ''\n",
      "/sub3/idx/v2rh (Array(642,)) ''\n",
      "/sub3/idx/v3alh (Array(164,)) ''\n",
      "/sub3/idx/v3arh (Array(118,)) ''\n",
      "/sub3/idx/v3blh (Array(88,)) ''\n",
      "/sub3/idx/v3brh (Array(138,)) ''\n",
      "/sub3/idx/v3lh (Array(504,)) ''\n",
      "/sub3/idx/v3rh (Array(627,)) ''\n",
      "/sub3/resp (Group) 'Response arrays'\n",
      "/sub3/resp/test (Array(4381, 540)) 'Testing data'\n",
      "/sub3/resp/train (Array(4381, 7200)) 'Training data'\n",
      "/sub2/idx (Group) 'ROI-specific voxel indices'\n",
      "/sub2/idx/v1lh (Array(470,)) ''\n",
      "/sub2/idx/v1rh (Array(573,)) ''\n",
      "/sub2/idx/v2lh (Array(733,)) ''\n",
      "/sub2/idx/v2rh (Array(926,)) ''\n",
      "/sub2/idx/v3alh (Array(135,)) ''\n",
      "/sub2/idx/v3arh (Array(202,)) ''\n",
      "/sub2/idx/v3blh (Array(83,)) ''\n",
      "/sub2/idx/v3brh (Array(140,)) ''\n",
      "/sub2/idx/v3lh (Array(714,)) ''\n",
      "/sub2/idx/v3rh (Array(646,)) ''\n",
      "/sub2/resp (Group) 'Response arrays'\n",
      "/sub2/resp/test (Array(4622, 540)) 'Testing data'\n",
      "/sub2/resp/train (Array(4622, 7200)) 'Training data'\n",
      "/sub1/idx (Group) 'ROI-specific voxel indices'\n",
      "/sub1/idx/v1lh (Array(490,)) ''\n",
      "/sub1/idx/v1rh (Array(504,)) ''\n",
      "/sub1/idx/v2lh (Array(715,)) ''\n",
      "/sub1/idx/v2rh (Array(762,)) ''\n",
      "/sub1/idx/v3alh (Array(92,)) ''\n",
      "/sub1/idx/v3arh (Array(160,)) ''\n",
      "/sub1/idx/v3blh (Array(104,)) ''\n",
      "/sub1/idx/v3brh (Array(152,)) ''\n",
      "/sub1/idx/v3lh (Array(581,)) ''\n",
      "/sub1/idx/v3rh (Array(560,)) ''\n",
      "/sub1/resp (Group) 'Response arrays'\n",
      "/sub1/resp/test (Array(4120, 540)) 'Testing data'\n",
      "/sub1/resp/train (Array(4120, 7200)) 'Training data'\n",
      "\n"
     ]
    }
   ],
   "source": [
    "# Open file connections with data to be used in learning and evaluation.\n",
    "h5_X = tables.open_file(\"data/vim-2/features.h5\", mode=\"r\")\n",
    "print(h5_X)\n",
    "h5_y = tables.open_file(\"data/vim-2/response.h5\", mode=\"r\")\n",
    "print(h5_y)"
   ]
  },
  {
   "cell_type": "code",
   "execution_count": 3,
   "metadata": {
    "scrolled": true
   },
   "outputs": [],
   "source": [
    "# Subject ID.\n",
    "subid = 1\n",
    "y_node = h5_y.get_node(h5_y.root, \"sub\"+str(subid))\n",
    "\n",
    "# Number of voxels.\n",
    "num_voxels = y_node.resp.train.nrows\n",
    "\n",
    "# Set up the model and data objects.\n",
    "mod = models.LinearL1()\n",
    "data = dataclass.DataSet()\n",
    "data.X_tr = h5_X.root.train.read()\n",
    "data.X_te = h5_X.root.test.read()\n",
    "\n",
    "# Basic info.\n",
    "n = data.X_tr.shape[0]\n",
    "d = data.X_tr.shape[1]\n",
    "\n",
    "# Dictionaries of performance over all voxels.\n",
    "dict_corr_tr = {}\n",
    "dict_corr_te = {}\n",
    "dict_l0norm = {}"
   ]
  },
  {
   "cell_type": "markdown",
   "metadata": {},
   "source": [
    "いよいよ主要の計算だけが待っている。相当な時間はかかるが、全ボクセル分の学習を下記の通りに行なうことができる。"
   ]
  },
  {
   "cell_type": "code",
   "execution_count": 4,
   "metadata": {
    "scrolled": false
   },
   "outputs": [
    {
     "name": "stdout",
     "output_type": "stream",
     "text": [
      "Voxel: 1 of 4120\n",
      "Voxel: 101 of 4120\n",
      "Voxel: 201 of 4120\n",
      "Voxel: 301 of 4120\n",
      "Voxel: 401 of 4120\n",
      "Voxel: 501 of 4120\n",
      "Voxel: 601 of 4120\n",
      "Voxel: 701 of 4120\n",
      "Voxel: 801 of 4120\n",
      "Voxel: 901 of 4120\n",
      "Voxel: 1001 of 4120\n",
      "Voxel: 1101 of 4120\n",
      "Voxel: 1201 of 4120\n",
      "Voxel: 1301 of 4120\n",
      "Voxel: 1401 of 4120\n",
      "Voxel: 1501 of 4120\n",
      "Voxel: 1601 of 4120\n",
      "Voxel: 1701 of 4120\n",
      "Voxel: 1801 of 4120\n",
      "Voxel: 1901 of 4120\n",
      "Voxel: 2001 of 4120\n",
      "Voxel: 2101 of 4120\n",
      "Voxel: 2201 of 4120\n",
      "Voxel: 2301 of 4120\n",
      "Voxel: 2401 of 4120\n",
      "Voxel: 2501 of 4120\n",
      "Voxel: 2601 of 4120\n",
      "Voxel: 2701 of 4120\n",
      "Voxel: 2801 of 4120\n",
      "Voxel: 2901 of 4120\n",
      "Voxel: 3001 of 4120\n",
      "Voxel: 3101 of 4120\n",
      "Voxel: 3201 of 4120\n",
      "Voxel: 3301 of 4120\n",
      "Voxel: 3401 of 4120\n",
      "Voxel: 3501 of 4120\n",
      "Voxel: 3601 of 4120\n",
      "Voxel: 3701 of 4120\n",
      "Voxel: 3801 of 4120\n",
      "Voxel: 3901 of 4120\n",
      "Voxel: 4001 of 4120\n",
      "Voxel: 4101 of 4120\n"
     ]
    }
   ],
   "source": [
    "for voxidx in range(num_voxels):\n",
    "    \n",
    "    # Set up the responses.\n",
    "    data.y_tr = np.transpose(np.take(a=y_node.resp.train.read(),\n",
    "                                     indices=[voxidx],\n",
    "                                     axis=0))\n",
    "    data.y_te = np.transpose(np.take(a=y_node.resp.test.read(),\n",
    "                                     indices=[voxidx],\n",
    "                                     axis=0))\n",
    "\n",
    "    # Set up for a loop over trials and lambda values.\n",
    "    todo_lambda = np.logspace(start=math.log10(1/n), stop=math.log10(2.5), num=50)\n",
    "    num_loops = 15\n",
    "    t_max = num_loops * d\n",
    "    \n",
    "    # Storage for performance metrics.\n",
    "    corr_tr = np.zeros(todo_lambda.size, dtype=np.float32)\n",
    "    corr_te = np.zeros(todo_lambda.size, dtype=np.float32)\n",
    "    l0norm = np.zeros(todo_lambda.size, dtype=np.uint32)\n",
    "    \n",
    "    # Initialize and run learning algorithm.\n",
    "    w_init = 1*np.random.uniform(size=(d,1))\n",
    "\n",
    "    for l in range(todo_lambda.size):\n",
    "\n",
    "        lamval = todo_lambda[l]\n",
    "        \n",
    "        if (voxidx % 100 == 0) and (l == 0):\n",
    "            print(\"Voxel:\", voxidx+1, \"of\", num_voxels)\n",
    "            #print(\"Lambda value =\", lamval, \"(\", l, \"of\", todo_lambda.size, \")\")\n",
    "\n",
    "        # Use warm starts when available.\n",
    "        if l > 0:\n",
    "            w_init = al.w\n",
    "        \n",
    "        al = algorithms.Algo_CDL1(w_init=w_init, t_max=t_max, lamreg=lamval)\n",
    "\n",
    "        # Iterate the learning algorithm.\n",
    "        for onestep in al:\n",
    "            al.update(model=mod, data=data)\n",
    "\n",
    "        # Record performance based on final output.\n",
    "        corr_tr[l] = gaborfil.corr(w=al.w, X=data.X_tr, y=data.y_tr)\n",
    "        corr_te[l] = gaborfil.corr(w=al.w, X=data.X_te, y=data.y_te)\n",
    "        l0norm[l] = np.nonzero(al.w)[0].size\n",
    "    \n",
    "    # Save the performance for this voxel.\n",
    "    dict_corr_tr[voxidx] = corr_tr\n",
    "    dict_corr_te[voxidx] = corr_te\n",
    "    dict_l0norm[voxidx] = l0norm"
   ]
  },
  {
   "cell_type": "markdown",
   "metadata": {},
   "source": [
    "実績をディスクに書き込んで保存する。"
   ]
  },
  {
   "cell_type": "code",
   "execution_count": 8,
   "metadata": {},
   "outputs": [],
   "source": [
    "import pickle\n",
    "\n",
    "# Method name\n",
    "mthname = \"DefaultMth\"\n",
    "\n",
    "# Lambda values used.\n",
    "fname = \"results/\"+mthname+\"sub\"+str(subid)+\".lam\"\n",
    "with open(fname, mode=\"bw\") as fbin:\n",
    "    pickle.dump(todo_lambda, fbin)\n",
    "\n",
    "# Correlation over lambda values.\n",
    "fname = \"results/\"+mthname+\"sub\"+str(subid)+\".corrtr\"\n",
    "with open(fname, mode=\"bw\") as fbin:\n",
    "    pickle.dump(dict_corr_tr, fbin)\n",
    "fname = \"results/\"+mthname+\"sub\"+str(subid)+\".corrte\"\n",
    "with open(fname, mode=\"bw\") as fbin:\n",
    "    pickle.dump(dict_corr_te, fbin)\n",
    "\n",
    "# Sparsity over lambda values.\n",
    "fname = \"results/\"+mthname+\"sub\"+str(subid)+\".l0norm\"\n",
    "with open(fname, mode=\"bw\") as fbin:\n",
    "    pickle.dump(dict_l0norm, fbin)"
   ]
  },
  {
   "cell_type": "markdown",
   "metadata": {
    "collapsed": true
   },
   "source": [
    "<a id=\"eval\"></a>\n",
    "## 学習機の出来を評価する\n",
    "\n",
    "学習が終わって、あとは成績を集計したり、可視化したりするだけである。\n",
    "Jupyterのカーネルをリセットし、ここから新たな作業を始める。"
   ]
  },
  {
   "cell_type": "code",
   "execution_count": 1,
   "metadata": {},
   "outputs": [],
   "source": [
    "# Preparation.\n",
    "import math\n",
    "import numpy as np\n",
    "import pickle\n",
    "import matplotlib\n",
    "import matplotlib.pyplot as plt\n",
    "import tables"
   ]
  },
  {
   "cell_type": "code",
   "execution_count": 2,
   "metadata": {},
   "outputs": [],
   "source": [
    "# Method name\n",
    "mthname = \"DefaultMth\"\n",
    "\n",
    "# Subject ID.\n",
    "subid = 1\n",
    "\n",
    "# Lambda values used.\n",
    "fname = \"results/\"+mthname+\"sub\"+str(subid)+\".lam\"\n",
    "with open(fname, mode=\"br\") as fbin:\n",
    "    todo_lambda = pickle.load(fbin)\n",
    "\n",
    "# Correlation over lambda values, on the training and test data.\n",
    "fname = \"results/\"+mthname+\"sub\"+str(subid)+\".corrtr\"\n",
    "with open(fname, mode=\"br\") as fbin:\n",
    "    dict_corr_tr = pickle.load(fbin)\n",
    "fname = \"results/\"+mthname+\"sub\"+str(subid)+\".corrte\"\n",
    "with open(fname, mode=\"br\") as fbin:\n",
    "    dict_corr_te = pickle.load(fbin)\n",
    "\n",
    "# Sparsity over lambda values.\n",
    "fname = \"results/\"+mthname+\"sub\"+str(subid)+\".l0norm\"\n",
    "with open(fname, mode=\"br\") as fbin:\n",
    "    dict_l0norm = pickle.load(fbin)\n"
   ]
  },
  {
   "cell_type": "markdown",
   "metadata": {},
   "source": [
    "まず、パフォーマンス指標をボクセルごとに見てみよう。"
   ]
  },
  {
   "cell_type": "code",
   "execution_count": 3,
   "metadata": {
    "scrolled": false
   },
   "outputs": [
    {
     "name": "stdout",
     "output_type": "stream",
     "text": [
      "Results: subject 1 , voxel id 3\n"
     ]
    },
    {
     "data": {
      "image/png": "[encoded data removed]",
      "text/plain": [
       "<matplotlib.figure.Figure at 0x7f7d56f0c978>"
      ]
     },
     "metadata": {},
     "output_type": "display_data"
    }
   ],
   "source": [
    "# Single-voxel performance evaluation.\n",
    "voxidx = 3\n",
    "\n",
    "print(\"Results: subject\", subid, \", voxel id\", voxidx)\n",
    "\n",
    "myfig = plt.figure(figsize=(14,7))\n",
    "ax_corr = myfig.add_subplot(1, 2, 1)\n",
    "plt.title(\"Correlation coefficient\")\n",
    "plt.xlabel(\"Lambda values\")\n",
    "ax_corr.set_xscale('log')\n",
    "ax_corr.plot(todo_lambda, dict_corr_tr[voxidx], label=\"train\", color=\"red\")\n",
    "ax_corr.plot(todo_lambda, dict_corr_te[voxidx], label=\"test\", color=\"pink\")\n",
    "ax_corr.legend(loc=1,ncol=1)\n",
    "\n",
    "ax_spar = myfig.add_subplot(1, 2, 2)\n",
    "plt.title(\"Sparsity via l0-norm\")\n",
    "plt.xlabel(\"Lambda values\")\n",
    "ax_spar.set_xscale('log')\n",
    "ax_spar.plot(todo_lambda, dict_l0norm[voxidx], color=\"blue\")\n",
    "\n",
    "plt.show()"
   ]
  },
  {
   "cell_type": "markdown",
   "metadata": {},
   "source": [
    "続いて、全ボクセルまで対象範囲を拡げ、ROIごとの平均的な成績を見ていく。まずは、$\\lambda$の候補として多数の値を試しているので、代表的な成績を選ぶ必要がある。訓練、検証、それぞれにおいて相関係数の絶対値がもっとも高かったものを選出する。"
   ]
  },
  {
   "cell_type": "code",
   "execution_count": 4,
   "metadata": {},
   "outputs": [],
   "source": [
    "num_voxels = len(dict_corr_tr)\n",
    "\n",
    "best_corr_tr = np.zeros(num_voxels, dtype=np.float32)\n",
    "best_corr_te = np.zeros(num_voxels, dtype=np.float32)\n",
    "\n",
    "for v in range(num_voxels):\n",
    "    \n",
    "    # Best absolute correlation value.\n",
    "    best_corr_tr[v] = np.max(np.abs(dict_corr_tr[v]))\n",
    "    best_corr_te[v] = np.max(np.abs(dict_corr_te[v]))"
   ]
  },
  {
   "cell_type": "markdown",
   "metadata": {},
   "source": [
    "次はROIの上でのループである。あらかじめ用意した階層型データはここで役に立つ。"
   ]
  },
  {
   "cell_type": "code",
   "execution_count": 5,
   "metadata": {},
   "outputs": [],
   "source": [
    "dict_roi_corr_tr = {}\n",
    "dict_roi_corr_te = {}"
   ]
  },
  {
   "cell_type": "code",
   "execution_count": 6,
   "metadata": {},
   "outputs": [],
   "source": [
    "f = tables.open_file(\"data/vim-2/response.h5\", mode=\"r\")\n",
    "tocheck = f.get_node((\"/sub\"+str(subid)), \"idx\")\n",
    "for idxnode in tocheck._f_iter_nodes():\n",
    "    idx = idxnode.read()\n",
    "    roi_name = idxnode._v_name\n",
    "    dict_roi_corr_tr[roi_name] = np.mean(best_corr_tr[idx])\n",
    "    dict_roi_corr_te[roi_name] = np.mean(best_corr_te[idx])\n",
    "\n",
    "f.close()"
   ]
  },
  {
   "cell_type": "code",
   "execution_count": 7,
   "metadata": {},
   "outputs": [
    {
     "data": {
      "image/png": "[encoded data removed]",
      "text/plain": [
       "<matplotlib.figure.Figure at 0x7f7d56f31cf8>"
      ]
     },
     "metadata": {},
     "output_type": "display_data"
    }
   ],
   "source": [
    "# Training\n",
    "xvals = list(dict_roi_corr_tr.keys())\n",
    "yvals = list(dict_roi_corr_tr.values())\n",
    "myfig = plt.figure(figsize=(14,7))\n",
    "plt.barh(range(len(dict_roi_corr_tr)), yvals)\n",
    "plt.yticks(range(len(dict_roi_corr_tr)), xvals)\n",
    "plt.title(\"Best correlation, within-ROI average; subject \"+ str(subid)+\" (training)\" )\n",
    "plt.axvline(x=np.mean(np.array(yvals)), color=\"gray\")\n",
    "plt.show()"
   ]
  },
  {
   "cell_type": "code",
   "execution_count": 8,
   "metadata": {},
   "outputs": [
    {
     "data": {
      "image/png": "[encoded data removed]",
      "text/plain": [
       "<matplotlib.figure.Figure at 0x7f7d5363b160>"
      ]
     },
     "metadata": {},
     "output_type": "display_data"
    }
   ],
   "source": [
    "# Testing\n",
    "xvals = list(dict_roi_corr_te.keys())\n",
    "yvals = list(dict_roi_corr_te.values())\n",
    "myfig = plt.figure(figsize=(14,7))\n",
    "plt.barh(range(len(dict_roi_corr_te)), yvals, color=\"pink\")\n",
    "plt.yticks(range(len(dict_roi_corr_te)), xvals)\n",
    "plt.title(\"Best correlation, within-ROI average (testing)\")\n",
    "plt.axvline(x=np.mean(np.array(yvals)), color=\"gray\")\n",
    "plt.show()"
   ]
  },
  {
   "cell_type": "markdown",
   "metadata": {},
   "source": [
    "上記で作ったエンコーダには、改善する余地が山ほどある。というのも、特徴量が非常に少ないこと、学習アルゴリズムの設定が恣意的だったことなどを踏まえると、パラメータの設定をしっかりと詰めていくと大幅に改善できるはずである。注目すべき点としては、以下のものは用意に考えられる：\n",
    "\n",
    "- 初期値`w_init`の決め方。\n",
    "\n",
    "- $\\lambda$の候補の範囲と密度。\n",
    "\n",
    "- 学習機の反復回数の制限`t_max`。\n",
    "\n",
    "- フィルタバンクを定めるあらゆるパラメータ(`myparas`の中身)が大事だが、特に重要なのは`freqs`、`dir`、`sdev`であろう。\n",
    "\n",
    "- フィルタバンクの豊富さ。グリッドの解像度の高低、多様な空間周波数、向きなどをまんべんなく含むことが必須。"
   ]
  },
  {
   "cell_type": "markdown",
   "metadata": {},
   "source": [
    "__種々の練習課題:__\n",
    "\n",
    "0. ここでは、全ボクセルではなく、Nishimoto et al.のいう「early visual areas」に焦点を当てている（両半球においてV1、V2、V3、V3A、V3Bのこと）。訓練データを使い、これらの全ボクセル用のエンコーダを学習させ、検証データにおいて、訓練データでもっとも良かった$\\lambda$のときの学習結果の成績を算出すること。ROIごとに、これらの成績（相関係数等）のボクセルの上での平均と分散を求めること（上ではすでにほぼ出来ている）。\n",
    "\n",
    "0. 先の課題を、全被験者分のデータを使って行なうこと。被験者の間、同じモデルとアルゴリズムを使って、パフォーマンスに差異があるか。被験者の上でも平均的な成績を求めて、引用している論文の成績と勝負できるか。\n",
    "\n",
    "0. 手法の更なる強化を測るため、時間の遅延を利用して特徴量を作ることができる。つまり、前の時点の特徴量ベクトルを、現時点の特徴量ベクトルに連結させるという方法。現時点の特徴量を$x_{i}$とすると、$x_{i-1}$が前の時点に相当するので、連結した結果が$\\widetilde{x}_{i} = (x_{i},x_{i-1})$になって、この$\\widetilde{x}_{i}$を学習に使うことになる。遅延が$k$時点なら、$\\widetilde{x}_{i} = (x_{i},x_{i-1},\\ldots,x_{i-k})$となる。数ステップを試して、パフォーマンスがもっとも良い遅延はいくらか。\n",
    "\n",
    "0. 学習結果の良し悪しがROIによってどの程度変わるか。特段良い・悪い成績が見られたROIがあれば、それはどれか。\n",
    "\n",
    "0. モデルは大事だが、学習アルゴリズムもきわめて大きな役割を果たす。ベストな設定を探るべく、反復回数などの終了条件や$\\lambda$の候補範囲、その他のアルゴリズムの工夫を調べること。どのようなアルゴリズム設定がもっとも良い成績につながったか。独自の改造を行った場合、それも併せて説明すること。\n",
    "\n",
    "0. これまでは同一被験者を前提として、「汎化能力」を評価してきた。当然ながら、被験者間の汎化能力も注目に値する。つまり、2名の被験者のデータを足し合わせて、大きなデータセットにまとめ、訓練データとして使って学習してから、残り1名の被験者のデータを検証データとする。同じモデルとアルゴリズムでも十分なのか。それとも、新たな工夫が必要だったか。また、このときの汎化能力の解釈が、被験者ごとに学習する場合と比べて、どう違うか。"
   ]
  },
  {
   "cell_type": "markdown",
   "metadata": {
    "collapsed": true
   },
   "source": [
    "## 参考文献：\n",
    "\n",
    " - Nishimoto, Shinji, et al. \"Reconstructing visual experiences from brain activity evoked by natural movies.\" Current Biology 21.19 (2011): 1641-1646.\n",
    " - Description of dataset vim-2 (visual imaging 2), at CRCNS - Collaborative Research in Computational Neuroscience. https://crcns.org/data-sets/vc/vim-2/about-vim-2"
   ]
  }
 ],
 "metadata": {
  "kernelspec": {
   "display_name": "Python 3",
   "language": "python",
   "name": "python3"
  },
  "language_info": {
   "codemirror_mode": {
    "name": "ipython",
    "version": 3
   },
   "file_extension": ".py",
   "mimetype": "text/x-python",
   "name": "python",
   "nbconvert_exporter": "python",
   "pygments_lexer": "ipython3",
   "version": "3.6.5"
  }
 },
 "nbformat": 4,
 "nbformat_minor": 2
}
