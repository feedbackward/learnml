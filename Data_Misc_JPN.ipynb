{
 "cells": [
  {
   "cell_type": "markdown",
   "metadata": {},
   "source": [
    "# 種々のベンチマークデータ\n",
    "\n",
    "個別のノートブックを用意していないデータセットを整える段取りを記録している。"
   ]
  },
  {
   "cell_type": "markdown",
   "metadata": {},
   "source": [
    "__目次__\n",
    "\n",
    "- <a href=\"#iris\">Irisデータ</a>\n",
    "\n",
    "___"
   ]
  },
  {
   "cell_type": "markdown",
   "metadata": {},
   "source": [
    "<a id=\"iris\"></a>\n",
    "## Irisデータ\n",
    "\n",
    "20世紀前半からある古くて小さなデータセットであるが、線形モデルでは完全に識別できないことはわかっているので、多種の学習機のプロトタイプを手軽に試すデータセットとして重宝されてきた。学習課題はアヤメの花の品種を、花びらの長さなどの指標で識別することである。"
   ]
  },
  {
   "cell_type": "code",
   "execution_count": 4,
   "metadata": {},
   "outputs": [],
   "source": [
    "import os\n",
    "import csv\n",
    "import numpy as np"
   ]
  },
  {
   "cell_type": "code",
   "execution_count": 5,
   "metadata": {},
   "outputs": [
    {
     "name": "stdout",
     "output_type": "stream",
     "text": [
      "120,4,setosa,versicolor,virginica\n",
      "6.4,2.8,5.6,2.2,2\n",
      "5.0,2.3,3.3,1.0,1\n",
      "4.9,2.5,4.5,1.7,2\n",
      "4.9,3.1,1.5,0.1,0\n",
      "30,4,setosa,versicolor,virginica\n",
      "5.9,3.0,4.2,1.5,1\n",
      "6.9,3.1,5.4,2.1,2\n",
      "5.1,3.3,1.7,0.5,0\n",
      "6.0,3.4,4.5,1.6,1\n"
     ]
    }
   ],
   "source": [
    "! cat data/iris/iris_training.csv | head -n 5\n",
    "! cat data/iris/iris_test.csv | head -n 5"
   ]
  },
  {
   "cell_type": "code",
   "execution_count": 6,
   "metadata": {},
   "outputs": [],
   "source": [
    "NUM_CLASSES = 3\n",
    "NUM_LABELS = 1"
   ]
  },
  {
   "cell_type": "markdown",
   "metadata": {},
   "source": [
    "これでサンプル数、特徴量の数、各ラベルの名称がわかった。CSVファイルを開いてみよう。"
   ]
  },
  {
   "cell_type": "code",
   "execution_count": 7,
   "metadata": {},
   "outputs": [],
   "source": [
    "toread = os.path.join(\"data\", \"iris\", \"iris_training.csv\")\n",
    "\n",
    "with open(toread, newline=\"\") as f_table:\n",
    "    \n",
    "    f_reader = csv.reader(f_table, delimiter=\",\")\n",
    "    \n",
    "    cnt = 0\n",
    "    i = 0\n",
    "    for line in f_reader:\n",
    "        \n",
    "        # Get info from first row.\n",
    "        if cnt == 0:\n",
    "            NUM_TRAIN = int(line[0])\n",
    "            d = int(line[1])\n",
    "            LABEL_DICT = { i: str(line[2+i]) for i in range(NUM_CLASSES)}\n",
    "            data_X = np.zeros((NUM_TRAIN,d), dtype=np.float32)\n",
    "            data_y = np.zeros((NUM_TRAIN,1), dtype=np.uint8)\n",
    "            \n",
    "        # From all other rows, populate the data set.\n",
    "        else:\n",
    "            data_X[i,:] = np.array(line[0:-1], dtype=data_X.dtype)\n",
    "            data_y[i,:] = np.array(line[-1], dtype=data_y.dtype)\n",
    "            i += 1\n",
    "        \n",
    "        cnt += 1"
   ]
  },
  {
   "cell_type": "markdown",
   "metadata": {},
   "source": [
    "訓練データを読み込んだのだが、検証データとともに一つの階層型ファイルにまとめるために、__PyTables__というパッケージを利用する。"
   ]
  },
  {
   "cell_type": "code",
   "execution_count": 8,
   "metadata": {},
   "outputs": [],
   "source": [
    "import tables"
   ]
  },
  {
   "cell_type": "code",
   "execution_count": 9,
   "metadata": {},
   "outputs": [
    {
     "name": "stdout",
     "output_type": "stream",
     "text": [
      "data/iris/data.h5 (File) 'Iris data'\n",
      "Last modif.: 'Fri Jul 27 11:06:54 2018'\n",
      "Object Tree: \n",
      "/ (RootGroup) 'Iris data'\n",
      "\n"
     ]
    }
   ],
   "source": [
    "# Open file connection, writing new file to disk.\n",
    "myh5 = tables.open_file(\"data/iris/data.h5\",\n",
    "                        mode=\"w\",\n",
    "                        title=\"Iris data\")\n",
    "print(myh5) # currently empty."
   ]
  },
  {
   "cell_type": "code",
   "execution_count": 10,
   "metadata": {},
   "outputs": [
    {
     "name": "stdout",
     "output_type": "stream",
     "text": [
      "data/iris/data.h5 (File) 'Iris data'\n",
      "Last modif.: 'Fri Jul 27 11:06:54 2018'\n",
      "Object Tree: \n",
      "/ (RootGroup) 'Iris data'\n",
      "/test (Group) 'Testing data'\n",
      "/train (Group) 'Training data'\n",
      "\n"
     ]
    }
   ],
   "source": [
    "myh5.create_group(myh5.root, \"train\", \"Training data\")\n",
    "myh5.create_group(myh5.root, \"test\", \"Testing data\")\n",
    "print(myh5)"
   ]
  },
  {
   "cell_type": "code",
   "execution_count": 11,
   "metadata": {},
   "outputs": [
    {
     "name": "stdout",
     "output_type": "stream",
     "text": [
      "data/iris/data.h5 (File) 'Iris data'\n",
      "Last modif.: 'Fri Jul 27 11:06:54 2018'\n",
      "Object Tree: \n",
      "/ (RootGroup) 'Iris data'\n",
      "/test (Group) 'Testing data'\n",
      "/test/inputs (EArray(0, 4)) 'Input images'\n",
      "/test/labels (EArray(0, 1)) 'Label values'\n",
      "/train (Group) 'Training data'\n",
      "/train/inputs (EArray(0, 4)) 'Input images'\n",
      "/train/labels (EArray(0, 1)) 'Label values'\n",
      "\n"
     ]
    }
   ],
   "source": [
    "# Training data arrays.\n",
    "a = tables.UInt8Atom()\n",
    "myh5.create_earray(myh5.root.train,\n",
    "                   name=\"labels\",\n",
    "                   atom=a,\n",
    "                   shape=(0,NUM_LABELS),\n",
    "                   title=\"Label values\")\n",
    "a = tables.Float32Atom()\n",
    "myh5.create_earray(myh5.root.train,\n",
    "                   name=\"inputs\",\n",
    "                   atom=a,\n",
    "                   shape=(0,d),\n",
    "                   title=\"Input images\")\n",
    "\n",
    "# Testing data arrays.\n",
    "a = tables.UInt8Atom()\n",
    "myh5.create_earray(myh5.root.test,\n",
    "                   name=\"labels\",\n",
    "                   atom=a,\n",
    "                   shape=(0,NUM_LABELS),\n",
    "                   title=\"Label values\")\n",
    "a = tables.Float32Atom()\n",
    "myh5.create_earray(myh5.root.test,\n",
    "                   name=\"inputs\",\n",
    "                   atom=a,\n",
    "                   shape=(0,d),\n",
    "                   title=\"Input images\")\n",
    "\n",
    "print(myh5)"
   ]
  },
  {
   "cell_type": "code",
   "execution_count": 12,
   "metadata": {},
   "outputs": [
    {
     "name": "stdout",
     "output_type": "stream",
     "text": [
      "data/iris/data.h5 (File) 'Iris data'\n",
      "Last modif.: 'Fri Jul 27 11:06:54 2018'\n",
      "Object Tree: \n",
      "/ (RootGroup) 'Iris data'\n",
      "/test (Group) 'Testing data'\n",
      "/test/inputs (EArray(0, 4)) 'Input images'\n",
      "/test/labels (EArray(0, 1)) 'Label values'\n",
      "/train (Group) 'Training data'\n",
      "/train/inputs (EArray(120, 4)) 'Input images'\n",
      "/train/labels (EArray(120, 1)) 'Label values'\n",
      "\n"
     ]
    }
   ],
   "source": [
    "for i in range(NUM_TRAIN):\n",
    "    myh5.root.train.inputs.append([data_X[i,:]])\n",
    "    myh5.root.train.labels.append([data_y[i,:]])\n",
    "    \n",
    "print(myh5)"
   ]
  },
  {
   "cell_type": "markdown",
   "metadata": {},
   "source": [
    "検証データに対して、同じ一連の操作を行う。"
   ]
  },
  {
   "cell_type": "code",
   "execution_count": 13,
   "metadata": {},
   "outputs": [],
   "source": [
    "toread = os.path.join(\"data\", \"iris\", \"iris_test.csv\")\n",
    "\n",
    "with open(toread, newline=\"\") as f_table:\n",
    "    \n",
    "    f_reader = csv.reader(f_table, delimiter=\",\")\n",
    "    \n",
    "    cnt = 0\n",
    "    i = 0\n",
    "    for line in f_reader:\n",
    "        \n",
    "        # Get info from first row.\n",
    "        if cnt == 0:\n",
    "            NUM_TEST = int(line[0])\n",
    "            d = int(line[1])\n",
    "            LABEL_DICT = { i: str(line[2+i]) for i in range(NUM_CLASSES)}\n",
    "            data_X = np.zeros((NUM_TEST,d), dtype=np.float32)\n",
    "            data_y = np.zeros((NUM_TEST,1), dtype=np.uint8)\n",
    "            \n",
    "        # From all other rows, populate the data set.\n",
    "        else:\n",
    "            data_X[i,:] = np.array(line[0:-1], dtype=data_X.dtype)\n",
    "            data_y[i,:] = np.array(line[-1], dtype=data_y.dtype)\n",
    "            i += 1\n",
    "        \n",
    "        cnt += 1"
   ]
  },
  {
   "cell_type": "code",
   "execution_count": 14,
   "metadata": {},
   "outputs": [
    {
     "name": "stdout",
     "output_type": "stream",
     "text": [
      "data/iris/data.h5 (File) 'Iris data'\n",
      "Last modif.: 'Fri Jul 27 11:06:54 2018'\n",
      "Object Tree: \n",
      "/ (RootGroup) 'Iris data'\n",
      "/test (Group) 'Testing data'\n",
      "/test/inputs (EArray(30, 4)) 'Input images'\n",
      "/test/labels (EArray(30, 1)) 'Label values'\n",
      "/train (Group) 'Training data'\n",
      "/train/inputs (EArray(120, 4)) 'Input images'\n",
      "/train/labels (EArray(120, 1)) 'Label values'\n",
      "\n"
     ]
    }
   ],
   "source": [
    "for i in range(NUM_TEST):\n",
    "    myh5.root.test.inputs.append([data_X[i,:]])\n",
    "    myh5.root.test.labels.append([data_y[i,:]])\n",
    "    \n",
    "print(myh5)"
   ]
  },
  {
   "cell_type": "code",
   "execution_count": 15,
   "metadata": {},
   "outputs": [],
   "source": [
    "myh5.close()"
   ]
  },
  {
   "cell_type": "markdown",
   "metadata": {},
   "source": [
    "___"
   ]
  }
 ],
 "metadata": {
  "kernelspec": {
   "display_name": "Python 3",
   "language": "python",
   "name": "python3"
  },
  "language_info": {
   "codemirror_mode": {
    "name": "ipython",
    "version": 3
   },
   "file_extension": ".py",
   "mimetype": "text/x-python",
   "name": "python",
   "nbconvert_exporter": "python",
   "pygments_lexer": "ipython3",
   "version": "3.6.5"
  }
 },
 "nbformat": 4,
 "nbformat_minor": 2
}
