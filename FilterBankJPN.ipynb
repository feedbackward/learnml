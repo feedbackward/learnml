{
 "cells": [
  {
   "cell_type": "markdown",
   "metadata": {},
   "source": [
    "# ガボールフィルタバンクで特徴量を造る\n",
    "\n",
    "\n",
    "__目次：__\n",
    "- <a href=\"#background\">ガボールフィルタの概要</a>\n",
    "- <a href=\"#1Dbg\">1次元のガボールフィルタ</a>\n",
    "- <a href=\"#1Dapp\">1Dフィルタの応用</a>\n",
    "- <a href=\"#2Dbg\">2次元のガボールフィルタ</a>\n",
    "- <a href=\"#2Dapp\">2Dフィルタの応用</a>\n",
    "\n",
    "___"
   ]
  },
  {
   "cell_type": "markdown",
   "metadata": {},
   "source": [
    "<a id=\"background\"></a>\n",
    "## ガボールフィルタの概要\n",
    "\n",
    "信号処理の技法には、多数のフィルタが存在するが、ここで科学的な応用のきわめて多いガボールフィルタ（Gabor filter）に着目する。我々の目的は、画像から、多種多様な情報を「特徴量」として取り出し、最終的に控えている予測課題の「入力」として使うことである。詳しい紹介は専門書に委ねるとして、ここでは要点のみ述べることにする。\n",
    "\n",
    "一言でいえば、ガボールフィルタとは、__ガウス関数で変調される正弦波__である。英語の呼称を使って定式化すると、\n",
    "\n",
    "\\begin{align}\n",
    "(\\text{Filter output}) = (\\text{Sinusoid carrier}) \\times (\\text{Gaussian envelope})\n",
    "\\end{align}\n",
    "\n",
    "という形式になる。その「次元数」によって1D、2D、3Dと様々なバージョンが文献の上では存在する。その「カタチ」をイメージする上で、たとえばJones et al. (1987)では明快な図が多数ある。応用事例をいくつかピックアップしてみると、たとえば、動物の受容野のモデリング（DeAngelis et al., 1993）、テキスチャー・質感の判定（scikit-image, \"Gabor filter banks for texture classification\"）、顔認識（九工大のBIS研より）、など、実に多様な応用例がある。我々の実務として重要になってくるのは、下記の事項である：\n",
    "\n",
    " - 周波数のパラメータを調整することで、フィルタが「効く」解像度が変わる。\n",
    " \n",
    " - ガウス関数の半径を大きく・小さくすることで、画像内で効く範囲が拡大・縮小される。\n",
    " \n",
    " - もっとも単純なガボールフィルタは1Dで、時間の関数として信号を捉えていることから「temporal」と呼ぶ。2次元以上だと、空間「spatial」や時空「spatio-temporal」のバリエーションがある。\n",
    "\n",
    "フィルタを信号に適用する方法はいくつもあるが、もっとも標準的なのは、畳み込み（convolution）という操作である。対象信号とフィルタ（これもまた信号である）の定義域が共通しているので、畳み込んで新しい信号を造ることができる。表記についてだが、任意の信号$f$と$g$をとって、これらの畳み込みを$f \\ast g$と記す。1次元の場合は下記のように定義される。\n",
    "\n",
    "\\begin{align}\n",
    "(f \\ast g)(t) = \\int_{\\mathbb{R}} f(t)g(t-\\tau) \\, d\\tau\n",
    "\\end{align}\n",
    "\n",
    "2次元もまったく同様に定義される。\n",
    "\n",
    "\\begin{align}\n",
    "(f \\ast g)(x,y) = \\int_{\\mathbb{R}^{2}} f(x,y)g(x-\\alpha,y-\\beta) \\, d\\alpha\\,d\\beta.\n",
    "\\end{align}\n",
    "\n",
    "呼称はいくらでもあり得るが、もし$f$が関心のある入力（ここでは画像内の画素値を返す）で、$g$が我々が設計したフィルタであるとすると、フィルタを応用した結果として得られる応答が$f \\ast g$である。"
   ]
  },
  {
   "cell_type": "markdown",
   "metadata": {},
   "source": [
    "<a id=\"1Dbg\"></a>\n",
    "## 1次元のガボールフィルタ\n",
    "\n",
    "概要と良いとして、これから自分でフィルタを設計・実装しようと思えば、もう少し具体的な情報が必要だ。まず、基本的な表記とフィルタの働きを確認するために、1Dの「temporal」ガボールフィルタを作ってみよう。書き方として、\n",
    "\n",
    "\\begin{align}\n",
    "G(t) = f(t) \\, s(t)\n",
    "\\end{align}\n",
    "\n",
    "とするが、これらのパーツは下記のように定義される。\n",
    "\n",
    "\\begin{align}\n",
    "s(t) & = \\exp \\left(i (2\\pi ut + \\phi) \\right)\\\\\n",
    " & = \\cos(2\\pi ut + \\phi) + i\\sin(2\\pi ut + \\phi)\\\\\n",
    "f(t) & = A \\exp\\left( -\\frac{t^2}{\\sigma^2} \\right).\n",
    "\\end{align}\n",
    "\n",
    "正弦波とガウス関数の効き目をつかさどるパラメータについて：\n",
    "\n",
    " - $u$: 周波数。つまり、正弦波が時間1単位あたり、何周するか示す値。例として、$u=1$なら、周期が1（時間、分、秒など）である。周波数を$u=2$と倍にすると、周期が半減して1/2になる（時間1単位あたり、2周もするから）。反対に$u=1/2$ならば、一周するには時間が2単位必要になる。以下同様。\n",
    " - $A$: 振幅。フィルタの取る最大値を定める。\n",
    " - $\\phi$: 位相。定義域において、どこで（時間ならば、いつ）大きく・小さくなるか決める。\n",
    " - $\\sigma$: ガウス関数の範囲を定める。 $\\sigma > 0$が小さいほど、効き目を持つ時間が短くなる。\n",
    "\n",
    "数式はもう良いとして、そろそろ自分で実装して、ガボールフィルタを動かしてみよう。"
   ]
  },
  {
   "cell_type": "code",
   "execution_count": null,
   "metadata": {
    "collapsed": true
   },
   "outputs": [],
   "source": [
    "import math\n",
    "import numpy as np\n",
    "\n",
    "\n",
    "def G_carrier_real(t, freq, phase):\n",
    "    '''\n",
    "    Real part of the carrier.\n",
    "    '''\n",
    "    topass = 2 * math.pi * freq * t + phase\n",
    "    out = np.cos(topass)\n",
    "    return out\n",
    "\n",
    "def G_carrier_imag(t, freq, phase):\n",
    "    '''\n",
    "    Imaginary part of the carrier.\n",
    "    '''\n",
    "    topass = 2 * math.pi * freq * t + phase\n",
    "    out = np.sin(topass)\n",
    "    return out\n",
    "\n",
    "\n",
    "def G_envelope(t, amp, sdev):\n",
    "    '''\n",
    "    The impact of the filter is controlled by a Gaussian function.\n",
    "    '''\n",
    "    out = amp * np.exp( (-(t/sdev)**2) )\n",
    "    return out\n"
   ]
  },
  {
   "cell_type": "markdown",
   "metadata": {},
   "source": [
    "フィルタ自体は、複数のパラメータによって決められる。下記のdictでそれらの値を格納する。"
   ]
  },
  {
   "cell_type": "code",
   "execution_count": null,
   "metadata": {
    "collapsed": true
   },
   "outputs": [],
   "source": [
    "\n",
    "myparas = {\"amp\": 1/(2*math.pi),\n",
    "           \"sdev\": 1,\n",
    "           \"freq\": 1,\n",
    "           \"phase\": 0}\n"
   ]
  },
  {
   "cell_type": "markdown",
   "metadata": {},
   "source": [
    "パラメータを引数として、カスタマイズされたフィルタを下記のように造る。"
   ]
  },
  {
   "cell_type": "code",
   "execution_count": null,
   "metadata": {
    "collapsed": true
   },
   "outputs": [],
   "source": [
    "\n",
    "def G_fil_real(t, paras):\n",
    "    '''\n",
    "    Custom-built filter response (real part).\n",
    "    Assumes that t is an array of temporal inputs.\n",
    "    '''\n",
    "    carrier = G_carrier_real(t=t, freq=paras[\"freq\"], phase=paras[\"phase\"])\n",
    "    envelope = G_envelope(t=t, amp=paras[\"amp\"], sdev=paras[\"sdev\"])\n",
    "    out = carrier * envelope\n",
    "    return out\n",
    "\n",
    "def G_fil_imag(t, paras):\n",
    "    '''\n",
    "    Custom-built filter response (imaginary part).\n",
    "    Assumes that t is an array of temporal inputs.\n",
    "    '''\n",
    "    carrier = G_carrier_imag(t=t, freq=paras[\"freq\"], phase=paras[\"phase\"])\n",
    "    envelope = G_envelope(t=t, amp=paras[\"amp\"], sdev=paras[\"sdev\"])\n",
    "    out = carrier * envelope\n",
    "    return out\n"
   ]
  },
  {
   "cell_type": "markdown",
   "metadata": {},
   "source": [
    "上記から明らかなように、「正弦波×ガウス関数」という形式が守られている。各要素を可視化してみる。"
   ]
  },
  {
   "cell_type": "code",
   "execution_count": null,
   "metadata": {
    "collapsed": true
   },
   "outputs": [],
   "source": [
    "import matplotlib.pyplot as plt\n",
    "\n",
    "myfig = plt.figure(figsize=(18,4))\n",
    "t_inputs = np.linspace(-3,3,500)\n",
    "\n",
    "ax_carrier = myfig.add_subplot(1,3,1)\n",
    "plt.title(\"Sinusoidal carrier\")\n",
    "plt.xlabel(\"Time (s)\")\n",
    "ax_envelope = myfig.add_subplot(1,3,2)\n",
    "plt.title(\"Gaussian envelope\")\n",
    "plt.xlabel(\"Time (s)\")\n",
    "ax_filter = myfig.add_subplot(1,3,3)\n",
    "plt.title(\"Gabor filter (1D)\")\n",
    "plt.xlabel(\"Time (s)\")\n",
    "\n",
    "ax_carrier.plot(t_inputs, G_carrier_real(t=t_inputs, freq=myparas[\"freq\"], phase=myparas[\"phase\"]))\n",
    "ax_carrier.plot(t_inputs, G_carrier_imag(t=t_inputs, freq=myparas[\"freq\"], phase=myparas[\"phase\"]))\n",
    "\n",
    "ax_envelope.plot(t_inputs, G_envelope(t=t_inputs, amp=myparas[\"amp\"], sdev=myparas[\"sdev\"]))\n",
    "\n",
    "ax_filter.plot(t_inputs, G_fil_real(t=t_inputs, paras=myparas))\n",
    "ax_filter.plot(t_inputs, G_fil_imag(t=t_inputs, paras=myparas))\n",
    "\n",
    "plt.show()"
   ]
  },
  {
   "cell_type": "markdown",
   "metadata": {},
   "source": [
    "### 練習問題 (A):\n",
    "\n",
    "0. `freq`という周波数パラメータに着目する。上左図で正弦波が実際に何周をしているか目視で確かめること。時間1単位あたりの回数が期待通りか。この`freq`を色々な値（例：1、4、0.5、0.25など）に変えて、どう変わるか確認すること。\n",
    "\n",
    "0. 「標準偏差」の`sdev`パラメータをたとえば0.25や2に変えてみてください。どのようにフィルタの出力が変わるか。もしそのままでは見づらいのであれば、適宜に`t_inputs`の範囲を拡縮してみること。\n",
    "\n",
    "0. 位相の`phase`に着目し、実部と虚部が一致するように、虚部のほうだけパラメータの値を変えてみてください（$\\pi/2$のズレがある）。\n",
    "\n",
    "___"
   ]
  },
  {
   "cell_type": "markdown",
   "metadata": {},
   "source": [
    "<a id=\"1Dapp\"></a>\n",
    "## 1Dフィルタの応用\n",
    "\n",
    "フィルタ自体は見てきたが、それを応用することとはどういうことか、実践的に調べてみる。まず、わかりやすい例として擬似的な信号を造る。"
   ]
  },
  {
   "cell_type": "code",
   "execution_count": null,
   "metadata": {
    "collapsed": true
   },
   "outputs": [],
   "source": [
    "\n",
    "para_HIGHFREQ = 5\n",
    "para_LOWFREQ = 0.25\n",
    "\n",
    "def my_signal(t):\n",
    "    \n",
    "    highfreq = 0.25 * np.sin((2*math.pi*para_HIGHFREQ*t))\n",
    "    lowfreq = 2 * np.sin((2*math.pi*para_LOWFREQ*t))\n",
    "    \n",
    "    cond = (np.abs(t) <= 5)\n",
    "    signal = highfreq + lowfreq\n",
    "    out = np.select([cond], [signal])\n",
    "    \n",
    "    return out\n",
    "\n",
    "\n",
    "myfig = plt.figure(figsize=(10,10))\n",
    "t_inputs = np.linspace(-10, 10, 500)\n",
    "\n",
    "plt.plot(t_inputs, my_signal(t=t_inputs))\n",
    "plt.title(\"Some artificial signal\")\n",
    "plt.xlabel(\"Time (s)\")\n",
    "plt.show()"
   ]
  },
  {
   "cell_type": "markdown",
   "metadata": {},
   "source": [
    "先述のとおり、フィルタを応用する場合は、対象信号との畳み込みを求めることが多い。`scipi`の`signal`モジュールから、`convolve`という関数がここで最初の出番を迎える。"
   ]
  },
  {
   "cell_type": "code",
   "execution_count": null,
   "metadata": {
    "collapsed": true,
    "scrolled": false
   },
   "outputs": [],
   "source": [
    "from scipy import signal\n",
    "\n",
    "t_inputs = np.linspace(-10, 10, 1000)\n",
    "sig_values = my_signal(t=t_inputs)\n",
    "\n",
    "myparas = {\"amp\": 1/(2*math.pi),\n",
    "           \"sdev\": 1,\n",
    "           \"freq\": 0.25,\n",
    "           \"phase\": 0}\n",
    "fil_values_real = G_fil_real(t=t_inputs, paras=myparas)\n",
    "fil_values_imag = G_fil_imag(t=t_inputs, paras=myparas)\n",
    "fil_response_real = signal.convolve(sig_values, fil_values_real, mode=\"same\")\n",
    "fil_response_imag = signal.convolve(sig_values, fil_values_imag, mode=\"same\")\n",
    "\n",
    "myfig = plt.figure(figsize=(18,4))\n",
    "\n",
    "ax_signal = myfig.add_subplot(1,3,1)\n",
    "plt.title(\"Artificial signal\")\n",
    "plt.xlabel(\"Time (s)\")\n",
    "ax_filter = myfig.add_subplot(1,3,2)\n",
    "plt.title(\"Gabor filter\")\n",
    "plt.xlabel(\"Time (s)\")\n",
    "ax_response = myfig.add_subplot(1,3,3)\n",
    "plt.title(\"Filter response\")\n",
    "plt.xlabel(\"Time (s)\")\n",
    "\n",
    "ax_signal.plot(t_inputs, sig_values)\n",
    "\n",
    "ax_filter.plot(t_inputs, fil_values_real)\n",
    "ax_filter.plot(t_inputs, fil_values_imag)\n",
    "\n",
    "ax_response.plot(t_inputs, fil_response_real)\n",
    "ax_response.plot(t_inputs, fil_response_imag)\n",
    "\n",
    "plt.show()\n"
   ]
  },
  {
   "cell_type": "markdown",
   "metadata": {},
   "source": [
    "### 練習問題 (B):\n",
    "\n",
    "0. 上のコードを使って、`myparas`に入る`freq`パラメータとして、複数の値を試してみてください。特に、`para_LOWFREQ`〜`para_HIGHFREQ`の範囲内。値が小さいときに低周波数の成分が取り出せること、値が大きいときに高周波数の成分が取り出せることなど、実証的に確かめること。これを示すグラフをいくつか用意して保存すること。\n",
    "\n",
    "0. 位相と標準偏差のパラメータも、色々といじってみてください。それぞれの大小と、フィルタ出力の変化との関係について説明すること。\n",
    "\n",
    "0. 擬似信号である`my_signal`を、「低・高」から「低・中・高」に改造すること（つまり、2つではなく、3つの正弦波の線形和にする）。改めてフィルタをかけて、`freq`を適当に設定することで、それぞれの成分が抽出できるか。できるならば、その結果を図示すること。\n",
    "\n",
    "以上、1次元のガボールフィルタをやや丁寧に見てきた。最終的に使うのは2次元のほうだが、基本的な働きはまったく同じであることから、1次元を先に見て、可視化しておくと2Dバージョンが非常に理解しやすくなるといえる。最大のポイントは、信号の「特徴」を、フィルタの設計の如何によって、好きなように取り出せることである。\n",
    "___"
   ]
  },
  {
   "cell_type": "markdown",
   "metadata": {},
   "source": [
    "<a id=\"2Dbg\"></a>\n",
    "## 2次元のガボールフィルタ\n",
    "\n",
    "ガボールフィルタの基本的な発想、定式化、そして実務上の働きもある程度は見てきた。これを土台にして、より一般生の高いバージョンを見ていく。基本的な形式は1次元のときとまったく同様で、\n",
    "\n",
    "\\begin{align}\n",
    "(\\text{Filter output}) = (\\text{Sinusoid carrier}) \\times (\\text{Gaussian envelope})\n",
    "\\end{align}\n",
    "\n",
    "となっている。ただし、「2次元」と呼ぶのは、定義域が「線」から「面」へと拡がるからである。実数値$t \\in \\mathbb{R}$ではなく、 実数ベクトル$(x,y) \\in \\mathbb{R}^{2}$をフィルタの引数とする。もう少し改まった形にすると、\n",
    "\n",
    "\\begin{align}\n",
    "G(x,y) = f(x,y) \\, s(x,y)\n",
    "\\end{align}\n",
    "\n",
    "と書く。正弦波とガウス関数は至って自然な形で拡張される：\n",
    "\n",
    "\\begin{align}\n",
    "s(x,y) & = \\exp \\left(i (2\\pi (ux + vy) + \\phi) \\right)\\\\\n",
    " & = \\cos(2\\pi (ux + vy) + \\phi) + i\\sin(2\\pi (ux + vy) + \\phi)\\\\\n",
    "f(x,y) & = A \\exp\\left( -\\frac{x^2 + y^2}{\\sigma^2} \\right).\n",
    "\\end{align}\n",
    "\n",
    "今回は周波数パラメータ（角周波数）が$u$と$v$と2つあるが、それを極座標に置き換えて調整することが多い。変換は下記のとおりである。\n",
    "\n",
    "\\begin{align}\n",
    "u & = \\omega \\cos(\\theta) \\\\\n",
    "v & = \\omega \\sin(\\theta)\n",
    "\\end{align}\n",
    "\n",
    "新しく出てきたパラメータが$\\omega$（空間周波数）と$\\theta$（フィルタの向き）である。以下に補足説明を記す。\n",
    "\n",
    "- $u$と$v$: 周波数。捉え方としては、画像における「ヨコ」と「タテ」方向にそれぞれは対応する。離散的なデジタル画像だと、空間単位（ピクセル）あたり請願はが何周するか示す数値である。\n",
    "- $A$: 振幅。1Dと同じ。\n",
    "- $\\phi$: 位相。1Dと同じ。\n",
    "- $\\sigma$: 標準偏差で、1Dと同様。ただし、この定式化だとガウス関数が円形になる。さらに一般的なやり方として、座標軸ごとに（たとえば$\\sigma_{X}$と$\\sigma_{Y}$を使って）範囲を定め、ガウス関数を楕円形にすることもできる。\n",
    "\n",
    "数式はもう十分見てきたので、いよいよ2次元のガボールフィルタを作ってみることにしよう。"
   ]
  },
  {
   "cell_type": "code",
   "execution_count": null,
   "metadata": {
    "collapsed": true
   },
   "outputs": [],
   "source": [
    "import numpy as np\n",
    "import math\n",
    "import matplotlib.pyplot as plt\n",
    "\n",
    "\n",
    "def G2_carrier_real(x, y, freqx, freqy, phase):\n",
    "    '''\n",
    "    Real part of the 2-D Gabor carrier.\n",
    "    '''\n",
    "    topass = 2 * math.pi * (freqx*x + freqy*y) + phase\n",
    "    out = np.cos(topass)\n",
    "    return out\n",
    "\n",
    "\n",
    "def G2_carrier_imag(x, y, freqx, freqy, phase):\n",
    "    '''\n",
    "    Imaginary part of the 2-D Gabor carrier.\n",
    "    '''\n",
    "    topass = 2 * math.pi * (freqx*x + freqy*y) + phase\n",
    "    out = np.sin(topass)\n",
    "    return out\n",
    "\n",
    "\n",
    "def G2_envelope(x, y, amp, sdev):\n",
    "    '''\n",
    "    Gaussian envelope for a 2-D Gabor filter.\n",
    "    We assume that it is circular (same rate of decrease in x/y directions).\n",
    "    '''\n",
    "    out = amp * np.exp(-(x**2+y**2)/(sdev**2))\n",
    "    return out\n"
   ]
  },
  {
   "cell_type": "markdown",
   "metadata": {},
   "source": [
    "1Dの場合と同様、いくつかのパラメータをdictにまとめ、フィルタの働きを制御する。"
   ]
  },
  {
   "cell_type": "code",
   "execution_count": null,
   "metadata": {
    "collapsed": true
   },
   "outputs": [],
   "source": [
    "\n",
    "PIX_W = 128 # image width, in pixels\n",
    "PIX_H = 128 # image height, in pixels\n",
    "myparas = {\"freqs\": 4/max(PIX_W,PIX_H), # cycles per pixel\n",
    "           \"dir\": math.pi/2, # orientation\n",
    "           \"amp\": 1,\n",
    "           \"sdev\": max(PIX_W,PIX_H)/5,\n",
    "           \"phase\": 0}\n"
   ]
  },
  {
   "cell_type": "markdown",
   "metadata": {},
   "source": [
    "ここで新たに見える`freqs`とは空間周波数（__s__patial __freq__uency）で、$\\omega$に対応する。パラメータをまとめて、カスタマイズされたフィルタをここでも作ってみよう。"
   ]
  },
  {
   "cell_type": "code",
   "execution_count": null,
   "metadata": {
    "collapsed": true
   },
   "outputs": [],
   "source": [
    "\n",
    "def G2_fil_real(x, y, paras):\n",
    "    '''\n",
    "    Custom-built filter response (real part).\n",
    "    '''\n",
    "    # Spatial frequency in polar coordinates.\n",
    "    u = paras[\"freqs\"] * math.cos(paras[\"dir\"])\n",
    "    v = paras[\"freqs\"] * math.sin(paras[\"dir\"])\n",
    "    # Computations.\n",
    "    carrier = G2_carrier_real(x=x, y=y, freqx=u, freqy=v, phase=paras[\"phase\"])\n",
    "    envelope = G2_envelope(x=x, y=y, amp=paras[\"amp\"], sdev=paras[\"sdev\"])\n",
    "    out = carrier * envelope\n",
    "    return out\n",
    "\n",
    "def G2_fil_imag(x, y, paras):\n",
    "    '''\n",
    "    Custom-built filter response (imaginary part).\n",
    "    '''\n",
    "    # Spatial frequency in polar coordinates.\n",
    "    u = paras[\"freqs\"] * math.cos(paras[\"dir\"])\n",
    "    v = paras[\"freqs\"] * math.sin(paras[\"dir\"])\n",
    "    # Computations.\n",
    "    carrier = G2_carrier_imag(x=x, y=y, freqx=u, freqy=v, phase=paras[\"phase\"])\n",
    "    envelope = G2_envelope(x=x, y=y, amp=paras[\"amp\"], sdev=paras[\"sdev\"])\n",
    "    out = carrier * envelope\n",
    "    return out\n"
   ]
  },
  {
   "cell_type": "markdown",
   "metadata": {},
   "source": [
    "定義域が2次元なので、これらの関数のグラフも（色の濃淡などを使って）表すことができる。"
   ]
  },
  {
   "cell_type": "code",
   "execution_count": null,
   "metadata": {
    "collapsed": true
   },
   "outputs": [],
   "source": [
    "\n",
    "myfig = plt.figure(figsize=(18,4))\n",
    "\n",
    "y0 = math.floor(PIX_H/2)\n",
    "x0 = math.floor(PIX_W/2)\n",
    "y_inputs, x_inputs = np.mgrid[-y0:(y0+1), -x0:(x0+1)]\n",
    "\n",
    "# Store pixel values (of envelope, carrier, filter) for plotting via imshow.\n",
    "out_envelope = G2_envelope(x=x_inputs, y=y_inputs,\n",
    "                             amp=myparas[\"amp\"],\n",
    "                             sdev=myparas[\"sdev\"])\n",
    "out_carrier = G2_carrier_real(x=x_inputs,\n",
    "                              y=y_inputs,\n",
    "                              freqx=myparas[\"freqs\"]*math.cos(myparas[\"dir\"]),\n",
    "                              freqy=myparas[\"freqs\"]*math.sin(myparas[\"dir\"]),\n",
    "                              phase=myparas[\"phase\"])\n",
    "out_filter = G2_fil_real(x=x_inputs, y=y_inputs, paras=myparas)\n",
    "\n",
    "\n",
    "ax_carrier = myfig.add_subplot(1,3,1)\n",
    "plt.title(\"Sinusoidal carrier\")\n",
    "topass = ax_carrier.imshow(out_carrier, cmap=plt.cm.BuPu_r)\n",
    "plt.colorbar(topass)\n",
    "\n",
    "ax_envelope = myfig.add_subplot(1,3,2)\n",
    "plt.title(\"Gaussian envelope\")\n",
    "topass = ax_envelope.imshow(out_envelope, cmap=plt.cm.BuPu_r)\n",
    "plt.colorbar(topass)\n",
    "\n",
    "ax_filter = myfig.add_subplot(1,3,3)\n",
    "plt.title(\"Gabor filter (2D)\")\n",
    "topass = ax_filter.imshow(out_filter, cmap=plt.cm.BuPu_r)\n",
    "plt.colorbar(topass)\n",
    "\n",
    "plt.show()\n"
   ]
  },
  {
   "cell_type": "markdown",
   "metadata": {},
   "source": [
    "\n",
    "### 練習問題 (C):\n",
    "\n",
    "0. フィルタの「向き」を制御するパラメータ`dir`（$\\theta$に対応）をゼロ、$\\pi/4$、$\\pi/2$など色々な値にしてみてください。数値を変えることで、フィルタの効能がどう変わると思われるか。\n",
    "\n",
    "0. 空間周波数パラメータ`freqs`を変えたときに、まず画像全体にわたって何周するか確認してみてください。踏まえて、「ヨコ」方向のみに効くように`dir`を変え、ちょうど5周するように`freqs`も変えること。同様に、10周、25周するように。\n",
    "\n",
    "0. 直前のコードでは実部（`carrier_real`と`G2_fil_real`）しか使っていない。これらを虚部に変えることで、フィルタの出力がどのように変わるか。\n",
    "\n",
    "0. 標準偏差のパラメータを調整し、フィルタの有効な半径が（視認できる範囲で）画像幅の半分になるようにすること。同様に、画像幅の1/4、1/8。\n",
    "___"
   ]
  },
  {
   "cell_type": "markdown",
   "metadata": {},
   "source": [
    "<a id=\"2Dapp\"></a>\n",
    "## 2Dフィルタの応用\n",
    "\n",
    "基礎をおさえた上で、2次元版のガボールフィルタ（空間フィルタ）を応用していこう。画素値そのものが、2次元平面を定義域とする信号の値に相当する。\n",
    "\n",
    "まずは簡単な応用例から入る。デジタル画像の読み書きを楽にしてくれるライブラリとして、__imageio__ ( http://imageio.github.io/ )が著名である。画像をすでにローカルに保存してることを前提に、次の事例に使う画像を容易に読み込めることを確認しておく。"
   ]
  },
  {
   "cell_type": "code",
   "execution_count": null,
   "metadata": {
    "collapsed": true,
    "scrolled": false
   },
   "outputs": [],
   "source": [
    "import imageio\n",
    "\n",
    "# Read images from file.\n",
    "im_cat = imageio.imread(\"img/chelsea.png\")\n",
    "im_boy = imageio.imread(\"img/bishop.png\")\n",
    "im_parrots = imageio.imread(\"img/parrots.png\")\n",
    "\n",
    "# Inspect (and plot) the images to ensure they have been read as we expect.\n",
    "print(\"Shape:\", im_cat.shape, \"Type:\", type(im_cat), \"First value (r,g,b):\", im_cat[0,0,:])\n",
    "print(\"Shape:\", im_boy.shape, \"Type:\", type(im_boy), \"First value (r,g,b):\", im_boy[0,0,:])\n",
    "print(\"Shape:\", im_parrots.shape, \"Type:\", type(im_parrots), \"First value (r,g,b):\", im_parrots[0,0,:])\n",
    "\n",
    "myfig = plt.figure(figsize=(18,4))\n",
    "ax_cat = myfig.add_subplot(1,3,1)\n",
    "ax_boy = myfig.add_subplot(1,3,2)\n",
    "ax_parrots = myfig.add_subplot(1,3,3)\n",
    "ax_cat.imshow(im_cat)\n",
    "ax_boy.imshow(im_boy)\n",
    "ax_parrots.imshow(im_parrots)\n",
    "\n",
    "plt.show()\n"
   ]
  },
  {
   "cell_type": "markdown",
   "metadata": {},
   "source": [
    "注目すべきは、imageioが自前の画像オブジェクトを使っていること（`ndarray`型ではない）。その利点は、RGBチャネルがきちんと認識され、カラー画像として表示されることである。\n",
    "\n",
    "「色」を計算機で表現することは決して自明ではないが、出発点として普通のPNG形式画像のRGBチャネルを取り出していく。"
   ]
  },
  {
   "cell_type": "code",
   "execution_count": null,
   "metadata": {
    "collapsed": true,
    "scrolled": true
   },
   "outputs": [],
   "source": [
    "\n",
    "im = imageio.imread(\"img/chelsea.png\")\n",
    "\n",
    "myfig = plt.figure(figsize=(18,4))\n",
    "ax_R = myfig.add_subplot(1,3,1)\n",
    "plt.title(\"Red channel\")\n",
    "ax_G = myfig.add_subplot(1,3,2)\n",
    "plt.title(\"Green channel\")\n",
    "ax_B = myfig.add_subplot(1,3,3)\n",
    "plt.title(\"Blue channel\")\n",
    "\n",
    "ax_R.imshow(im[:,:,0], plt.get_cmap('gray'))\n",
    "ax_G.imshow(im[:,:,1], cmap=plt.get_cmap('gray'))\n",
    "ax_B.imshow(im[:,:,2], cmap=plt.get_cmap('gray'))\n",
    "plt.show()\n"
   ]
  },
  {
   "cell_type": "markdown",
   "metadata": {},
   "source": [
    "各チャネルの度合い（白いほど高い）はこれで十分わかるが、やや強引にそれらが相当する色に結びつけようと思うと、カラーマップは自由に帰ることができる。"
   ]
  },
  {
   "cell_type": "code",
   "execution_count": null,
   "metadata": {
    "collapsed": true,
    "scrolled": true
   },
   "outputs": [],
   "source": [
    "\n",
    "myfig = plt.figure(figsize=(18,4))\n",
    "ax_R = myfig.add_subplot(1,3,1)\n",
    "plt.title(\"Red channel\")\n",
    "ax_G = myfig.add_subplot(1,3,2)\n",
    "plt.title(\"Green channel\")\n",
    "ax_B = myfig.add_subplot(1,3,3)\n",
    "plt.title(\"Blue channel\")\n",
    "\n",
    "ax_R.imshow(im[:,:,0], cmap=plt.cm.Reds)\n",
    "ax_G.imshow(im[:,:,1], cmap=plt.cm.Greens)\n",
    "ax_B.imshow(im[:,:,2], cmap=plt.cm.Blues)\n",
    "plt.show()\n"
   ]
  },
  {
   "cell_type": "markdown",
   "metadata": {
    "collapsed": true
   },
   "source": [
    "Nishimoto et al. (2011)にしたがって、RGBという色空間から、CIE L\\*a\\*b\\*という別の色空間へと変換し、最終的に使うのはその3チャネルのうち、「L」チャネル、つまり「輝度（luminance）」だけである。\n",
    "\n",
    "この変換の手助けをしてくれるのが、__scikit-image__ ( http://scikit-image.org/ )である。特に、`color`というモジュールをここで駆使する。"
   ]
  },
  {
   "cell_type": "code",
   "execution_count": null,
   "metadata": {
    "collapsed": true,
    "scrolled": false
   },
   "outputs": [],
   "source": [
    "from skimage import color as col\n",
    "\n",
    "# Re-read the original image from file.\n",
    "im = imageio.imread(\"img/chelsea.png\")\n",
    "im_xyz = col.rgb2xyz(im) # convert from RGB to XYZ colour space\n",
    "im_cielab = col.xyz2lab(im_xyz) # convert from XYZ to CIE L*a*b* colour space.\n",
    "\n",
    "print(\"RGB:\")\n",
    "print(\"Shape:\", im.shape, \"Type:\", type(im), \"First value (L*,a*,b*):\", im[0,0,:])\n",
    "print(\"XYZ:\")\n",
    "print(\"Shape:\", im_xyz.shape, \"Type:\", type(im_xyz), \"First value (X,Y,Z):\", im_xyz[0,0,:])\n",
    "print(\"L*a*b*:\")\n",
    "print(\"Shape:\", im_cielab.shape, \"Type:\", type(im_cielab), \"First value (L*,a*,b*):\", im_cielab[0,0,:])\n"
   ]
  },
  {
   "cell_type": "markdown",
   "metadata": {},
   "source": [
    "色表現の変換をすると、データ型が`ndarray`になっているということに注意しながら、「輝度」だけ取り出すことにする。別の言い方をすると、CIE-L\\*a\\*b\\*表現の色情報をすべて捨てることになる。参考として、通常のグレースケール変換（RGBの非一様な平均）と比較する。"
   ]
  },
  {
   "cell_type": "code",
   "execution_count": null,
   "metadata": {
    "collapsed": true
   },
   "outputs": [],
   "source": [
    "\n",
    "im_L = im_cielab[:,:,0] # the luminance channel of CIE-Lab.\n",
    "im_gs = col.rgb2gray(im) # the \"luminance\" by a non-uniform weighted ave of RGB.\n",
    "\n",
    "myfig = plt.figure(figsize=(18,9))\n",
    "ax_L = myfig.add_subplot(1,2,1)\n",
    "plt.title(\"Luminance channel (via CIE L*a*b* transform)\")\n",
    "plt.axis(\"off\")\n",
    "ax_gs = myfig.add_subplot(1,2,2)\n",
    "plt.title(\"Grayscale via non-uniform average of RGB channels\")\n",
    "plt.axis(\"off\")\n",
    "ax_L.imshow(im_L, cmap=plt.get_cmap('gray'))\n",
    "ax_gs.imshow(im_gs, cmap=plt.get_cmap('gray'))\n",
    "\n",
    "plt.show()\n"
   ]
  },
  {
   "cell_type": "markdown",
   "metadata": {},
   "source": [
    "かなり微妙な違いではあるが、上の2枚の画像が互いに異なり、それぞれ特徴を持つことは確かである。また、チャネルが一つしかないので、画像を2次元`ndarray`配列として表現している（これまでは3次元だった）。よって、画像を2次元平面上の信号として見なすことができて、まさしくガボールフィルタを適用する対象物である。\n",
    "\n",
    "### 練習問題 (D):\n",
    "\n",
    "0. `img`ディレクトリには、猫の画像（`chelsea.png`）のほかに、男の子（`bishop.png`）やオウム（`parrots.png`）の画像も用意してある。上の一連の操作（チャネルごとに見ること、色空間の変換など）を、猫以外の画像に対しても行うこと。これらの画像をディスクに保存するとき、`imwrite`を使うこと（`imread`の仲間）。\n",
    "\n",
    "0. 先の問題を踏まえて、3枚のサンプル画像を基に、CIE-Labの輝度チャネルと通常のグレースケール画像を出しているはずである。この2種類の画像それぞれの映りを、異種のハードウエア（別のモニターや隣人のノートPCなど）で確認すること。それぞれの「ハードウエア依存性」らしきものが見られるか。傾向が見られるならば、自分の言葉で説明すること。\n",
    "___"
   ]
  },
  {
   "cell_type": "markdown",
   "metadata": {},
   "source": [
    "準備がほぼ整ってきたところである。あとは2次元フィルタを適用するだけである。1次元のケースとまったく同様に、対象信号とフィルタの畳み込みを求めることで「フィルタをかける」ことになる。1次元と違うのは、定義域が2次元平面であることのみ。原理としては1Dでも2Dでも特に変わらないが、計算的にはかなり大変な作業である。自分で実装することは立派だが、今回はそれを敬遠し、__scipy__の__ndimage__モジュールの力を借りることにする。使うのは`convolve`という関数である( https://docs.scipy.org/doc/scipy/reference/ndimage.html )。重要な引数が2つある：\n",
    "\n",
    " - `input`： `ndarray`型のオブジェクトで、入力信号に相当する。普通はデジタル画像や動画のフレームなど。\n",
    " - `weights`： `ndarray`型のオブジェクトで、フィルタ信号の値である。ここでは2次元ガボールフィルタの値から構成される。画像処理の世界ではよく「カーネル」と呼ばれる。\n",
    "\n",
    "我々の自作ガボールフィルタが見やすくなるように、これまではその大きさを特に気にせずやってきた。しかし、実務にあたっては、限りなく拡がるガウス関数の範囲を小さくしたほうが圧倒的に効率的である。つまり、掛け合わせる重みがほぼゼロならば、無視して計算時間を省いたほうが賢明、ということである。下記ではこのようなカーネルを造る。"
   ]
  },
  {
   "cell_type": "code",
   "execution_count": null,
   "metadata": {
    "collapsed": true
   },
   "outputs": [],
   "source": [
    "\n",
    "def fil_kernel(paras, n_stds=3):\n",
    "    '''\n",
    "    Complex values of 2D Gabor filter, for use in convolution.\n",
    "    When applied to images, this is typically called\n",
    "    The linear size of the filter is determined as a multiple\n",
    "    of the standard deviation of the Gaussian envelope, and the\n",
    "    values passed to the filter are symmetric about zero.\n",
    "    \n",
    "    USAGE: pass the parameters only; the size of the grid of\n",
    "    response values generated depends on these.\n",
    "    '''\n",
    "    \n",
    "    pixnum = 2*math.ceil(n_stds*paras[\"sdev\"])\n",
    "    \n",
    "    y0 = pixnum/2\n",
    "    x0 = pixnum/2\n",
    "    y, x = np.mgrid[-y0:(y0+1), -x0:(x0+1)]\n",
    "    \n",
    "    # Spatial frequency in polar coordinates.\n",
    "    u = paras[\"freqs\"] * math.cos(paras[\"dir\"])\n",
    "    v = paras[\"freqs\"] * math.sin(paras[\"dir\"])\n",
    "    # Computations.\n",
    "    envelope = G2_envelope(x=x, y=y,\n",
    "                           amp=paras[\"amp\"]/(2*math.pi*paras[\"sdev\"]**2),\n",
    "                           sdev=paras[\"sdev\"])\n",
    "    out = {\"real\": None, \"imag\": None}\n",
    "    out[\"real\"] = envelope * G2_carrier_real(x=x, y=y, freqx=u, freqy=v, phase=paras[\"phase\"])\n",
    "    out[\"imag\"] = envelope * G2_carrier_imag(x=x, y=y, freqx=u, freqy=v, phase=paras[\"phase\"])\n",
    "    \n",
    "    return out\n"
   ]
  },
  {
   "cell_type": "markdown",
   "metadata": {},
   "source": [
    "パラメータはたくさんあり、また文献上ではやり方が実に多様であるから、標準的なカーネルのアウトプットと我々のカーネル（2次元ガボールフィルタそのもの）の出力を比較し、概ね期待するような働きをしているかどうか確認しよう。標準として、scikit-imageの`filters`モジュール（ http://scikit-image.org/docs/dev/api/skimage.filters.html ）の力を拝借し、パラメータを決めて可視化する。"
   ]
  },
  {
   "cell_type": "code",
   "execution_count": null,
   "metadata": {
    "collapsed": true
   },
   "outputs": [],
   "source": [
    "from skimage import filters as skfil\n",
    "\n",
    "myparas = {\"freqs\": 8/max(PIX_W,PIX_H),\n",
    "           \"dir\": math.pi/2,\n",
    "           \"amp\": 1,\n",
    "           \"sdev\": max(PIX_W,PIX_H)/5,\n",
    "           \"phase\": 0}\n",
    "\n",
    "ours = fil_kernel(paras=myparas, n_stds=3)\n",
    "\n",
    "theirs = skfil.gabor_kernel(frequency=myparas[\"freqs\"],\n",
    "                            theta=myparas[\"dir\"],\n",
    "                            bandwidth=1,\n",
    "                            sigma_x=myparas[\"sdev\"],\n",
    "                            sigma_y=myparas[\"sdev\"],\n",
    "                            n_stds=3,\n",
    "                            offset=0)\n",
    "\n",
    "myfig = plt.figure(figsize=(12,6))\n",
    "\n",
    "ax_ours = myfig.add_subplot(1,2,1)\n",
    "plt.title(\"Our Gabor filter\")\n",
    "topass = ax_ours.imshow(ours[\"real\"], cmap=plt.cm.BuPu_r)\n",
    "plt.colorbar(topass)\n",
    "\n",
    "ax_theirs = myfig.add_subplot(1,2,2)\n",
    "plt.title(\"Reference Gabor filter (scikit-image)\")\n",
    "topass = ax_theirs.imshow(theirs.real, cmap=plt.cm.BuPu_r)\n",
    "plt.colorbar(topass)\n",
    "\n",
    "plt.show()\n"
   ]
  },
  {
   "cell_type": "markdown",
   "metadata": {},
   "source": [
    "明らかなように、細部が異なるといえども、粗方合っている。我流の実装が間違っていないと一安心し、作業を続ける。\n",
    "\n",
    "一定の時間はかかるが、畳み込みをここで実行する。なお、実部と虚部で2つのフィルタがあるため、同じ画像と2回畳み込むことになる。"
   ]
  },
  {
   "cell_type": "code",
   "execution_count": null,
   "metadata": {
    "collapsed": true
   },
   "outputs": [],
   "source": [
    "from scipy import ndimage as ndi\n",
    "\n",
    "im = imageio.imread(\"img/chelsea.png\")\n",
    "im_L = col.xyz2lab(col.rgb2xyz(im))[:,:,0]\n",
    "PIX_H = im_L.shape[0]\n",
    "PIX_W = im_L.shape[1]\n",
    "\n",
    "myparas = {\"freqs\": 32/max(PIX_W,PIX_H),\n",
    "           \"dir\": math.pi/2,\n",
    "           \"amp\": 0.1,\n",
    "           \"sdev\": max(PIX_W,PIX_H)/20,\n",
    "           \"phase\": 0}\n",
    "mymode = \"reflect\"\n",
    "mycval = 0\n",
    "\n",
    "fil_values = fil_kernel(paras=myparas, n_stds=3)\n",
    "\n",
    "print(\"Convolving w/ real part (takes time)...\", end=\" \")\n",
    "fil_response_real = ndi.convolve(input=im_L, weights=fil_values[\"real\"], mode=mymode, cval=mycval)\n",
    "print(\"OK.\")\n",
    "print(\"Convolving w/ imaginary part (takes time)...\", end=\" \")\n",
    "fil_response_imag = ndi.convolve(input=im_L, weights=fil_values[\"imag\"], mode=mymode, cval=mycval)\n",
    "print(\"OK.\")\n",
    "\n"
   ]
  },
  {
   "cell_type": "code",
   "execution_count": null,
   "metadata": {
    "collapsed": true,
    "scrolled": false
   },
   "outputs": [],
   "source": [
    "\n",
    "myfig = plt.figure(figsize=(18,12))\n",
    "\n",
    "ax_signal = myfig.add_subplot(2,3,1)\n",
    "plt.title(\"Input signal\")\n",
    "ax_signal.imshow(im_L, cmap=plt.get_cmap('gray'))\n",
    "\n",
    "ax_filter = myfig.add_subplot(2,3,2)\n",
    "plt.title(\"2D Gabor filter (real part)\")\n",
    "topass = ax_filter.imshow(fil_values[\"real\"], cmap=plt.cm.BuPu_r)\n",
    "plt.colorbar(topass)\n",
    "\n",
    "ax_response = myfig.add_subplot(2,3,3)\n",
    "plt.title(\"Filter response\")\n",
    "topass = ax_response.imshow(fil_response_real, cmap=plt.cm.BuPu_r)\n",
    "plt.colorbar(topass)\n",
    "\n",
    "ax_signal = myfig.add_subplot(2,3,4)\n",
    "plt.title(\"Input signal\")\n",
    "ax_signal.imshow(im_L, cmap=plt.get_cmap('gray'))\n",
    "\n",
    "ax_filter = myfig.add_subplot(2,3,5)\n",
    "plt.title(\"2D Gabor filter (imaginary part)\")\n",
    "topass = ax_filter.imshow(fil_values[\"imag\"], cmap=plt.cm.BuPu_r)\n",
    "plt.colorbar(topass)\n",
    "\n",
    "ax_response = myfig.add_subplot(2,3,6)\n",
    "plt.title(\"Filter response\")\n",
    "topass = ax_response.imshow(fil_response_imag, cmap=plt.cm.BuPu_r)\n",
    "plt.colorbar(topass)\n",
    "\n",
    "plt.show()\n"
   ]
  },
  {
   "cell_type": "markdown",
   "metadata": {},
   "source": [
    "畳み込む作業が完了すれば、特徴量を造る準備が整った。フィルタをかけた結果の全画素を使うことは原理的には可能だが、冗長性が高く、計算的な制約もあるため、一部の情報を捨てて、コンパクトな特徴量を求める。やり方としては、$I$（平面上から画素値への写像$(x,y) \\mapsto I(x,y) \\in \\mathbb{R}$）を所与として、我々のガボールフィルタ（同様な写像$(x,y) \\mapsto F(x,y) \\in \\mathbb{C}$）をかけて、\n",
    "\n",
    "\\begin{align}\n",
    "\\widetilde{I}(x,y) = (I \\ast F)(x,y) \\in \\mathbb{C}, \\quad (x,y) \\in \\mathbb{R}^{2}\n",
    "\\end{align}\n",
    "\n",
    "という新しい信号が求まった（先ほどの右図）。まずは実部と虚部のを融合させて、フィルタ全体として強く応答している領域を明らかにしよう。これは複素数のノルム$|\\widetilde{I}(x,y)|$（ここで$|z| = \\sqrt{\\text{Re}(z)^{2} + \\text{Im}(z)^{2}}$と定義）で測定することができる。解釈としては、この量が大きい領域こそが「特徴的」であるという。計算し、可視化していくと、下記のとおりになる。"
   ]
  },
  {
   "cell_type": "code",
   "execution_count": null,
   "metadata": {
    "collapsed": true
   },
   "outputs": [],
   "source": [
    "\n",
    "# Magnitude of the complex filter response.\n",
    "fil_response_magnitude = np.sqrt((fil_response_real**2+fil_response_imag**2))\n",
    "\n",
    "myfig = plt.figure(figsize=(18,12))\n",
    "\n",
    "ax_signal = myfig.add_subplot(1,2,1)\n",
    "plt.title(\"Input signal\")\n",
    "ax_signal.imshow(im_L, cmap=plt.get_cmap('gray'))\n",
    "\n",
    "ax_filter = myfig.add_subplot(1,2,2)\n",
    "plt.title(\"Filter response magnitude\")\n",
    "ax_filter.imshow(fil_response_magnitude, cmap=plt.cm.Blues)\n",
    "\n",
    "plt.show()\n"
   ]
  },
  {
   "cell_type": "markdown",
   "metadata": {},
   "source": [
    "### 練習問題 (E):\n",
    "\n",
    "0. 何よりも把握したいのは、フィルタのパラメータが畳み込みの結果に対してどのような影響を及ぼすかということである。特に重要なのは、`dir`、`freqs`、`stdev`、`n_stds`と4つである。いずれも極端な値に設定してフィルタをかけてみること。結果がどのように変わるか。その変化は、パラメータの「及ぼすであろう」という予想と、ほぼ合っているか。直感に反するようなことがあれば、それも併せて説明すること。\n",
    "\n",
    "0. 先の練習問題に続き、このパラメータ微調整を、猫の画像のみならず、`chelsea.png`、`bishop.png`、`parrots.png`の3つに対して行うこと。画像の中身によっては、特徴たるものが異なることは当然だが、やはりそれをきちんと「拾う」ためには、それぞれ異なるパラメータ設定が必要になるか。\n",
    "___"
   ]
  },
  {
   "cell_type": "markdown",
   "metadata": {},
   "source": [
    "個々の画素をすべて見るのではなく、特徴的な「領域」さえ把握できれば十分であるから、画素の部分集合（パッチ）ごとにいくつかの統計量を計算し、各領域の代表値を叩き出す。もう少し厳密にいえば、画像$I$を互いに素（mutally disjoint）なパッチに分割し、$\\{I_{1},\\ldots,I_{k}\\}$と書く。すると、$i$番目のパッチの応答$\\widetilde{r}_{i}$として、たとえば\n",
    "\n",
    "\\begin{align}\n",
    "\\widetilde{r}_{i} = \\frac{1}{|\\text{dom}(I_{i})|} \\sum_{(a,b) \\in \\text{dom}(I_{i})} |I_{i}(a,b)|,\n",
    "\\end{align}\n",
    "\n",
    "を使うことが自然である（$i=1,\\ldots,k$）。算術平均のみならず、中央値、最大値、最小値など、いろいろな統計量を考えることができる。応答$\\widetilde{r}_{i}$を求めた後、非線形な関数に渡して、その値を圧縮してから最終的な特徴量を打ち出す。式で表すと、\n",
    "\n",
    "\\begin{align}\n",
    "r_{i} = \\log(1+\\widetilde{r}_{i}).\n",
    "\\end{align}\n",
    "\n",
    "で定義される$r_{i}$が特定のフィルタと特定のパッチに対応する特徴量である。\n",
    "\n",
    "パッチごとの統計量を求める作業と非線形圧縮の作業は下記のように実装する。"
   ]
  },
  {
   "cell_type": "code",
   "execution_count": null,
   "metadata": {
    "collapsed": true
   },
   "outputs": [],
   "source": [
    "\n",
    "def patch_stats(image, grid_w, grid_h):\n",
    "    '''\n",
    "    A simple function which takes an image, divides it\n",
    "    into a (grid_y x grid_x) grid of patches, and iterates\n",
    "    over the patches, computing per-patch statistics.\n",
    "    \n",
    "    In the special case of grid_x=grid_y=1, stats are for the whole image.\n",
    "    '''\n",
    "    \n",
    "    pix_h = image.shape[0] # number of pixels\n",
    "    pix_w = image.shape[1]\n",
    "    \n",
    "    gridsize = grid_w*grid_h\n",
    "    \n",
    "    dh = math.floor(pix_h/grid_h) # typical (non-edge) patch sizes\n",
    "    dw = math.floor(pix_w/grid_w)\n",
    "    \n",
    "    meanvec = np.zeros(gridsize, dtype=np.float32) # initialize vectors to hold the stats\n",
    "    medvec = np.zeros(gridsize, dtype=np.float32)\n",
    "    maxvec = np.zeros(gridsize, dtype=np.float32)\n",
    "    minvec = np.zeros(gridsize, dtype=np.float32)\n",
    "    \n",
    "    # Loop over the patches, starting at the top-left, and doing one grid row at a time.\n",
    "    idx = 0\n",
    "    for i in range(grid_h):\n",
    "        \n",
    "        start_h = i * dh\n",
    "        if (i+1 == grid_h):\n",
    "            stop_h = pix_h\n",
    "        else:\n",
    "            stop_h = start_h + dh\n",
    "        \n",
    "        for j in range(grid_w):\n",
    "            \n",
    "            start_w = j * dw\n",
    "            if (j+1 == grid_w):\n",
    "                stop_w = pix_w\n",
    "            else:\n",
    "                stop_w = start_w + dw\n",
    "            \n",
    "            patch = image[start_h:stop_h, start_w:stop_w]\n",
    "            meanvec[idx] = np.mean(patch) # patch mean\n",
    "            medvec[idx] = np.median(patch) # patch median\n",
    "            maxvec[idx] = np.max(patch) # patch maximum\n",
    "            minvec[idx] = np.min(patch) # patch minimum\n",
    "            idx += 1\n",
    "    \n",
    "    return {\"mean\": meanvec, \"med\": medvec, \"max\": maxvec, \"min\": minvec}\n",
    "\n",
    "\n",
    "def nonlin(u):\n",
    "    '''\n",
    "    A non-linear function to pass per-patch magnitude statistics through.\n",
    "    '''\n",
    "    \n",
    "    return np.log(1+u)\n"
   ]
  },
  {
   "cell_type": "markdown",
   "metadata": {},
   "source": [
    "中身を軽く解説すると：\n",
    "\n",
    " - `patch_stats`： 画像を分割したグリッドの寸法（ヨコ、タテ）を与えられたとき、逐次的にパッチを追って、統計量を計算してまとめる関数。\n",
    " \n",
    " - `nonlin`： 特徴の度合いを表す生の数値を圧縮するための非線形関数。\n",
    "\n",
    "パッチごとの統計量が予想どおりであるかどうか確認してみよう。"
   ]
  },
  {
   "cell_type": "code",
   "execution_count": null,
   "metadata": {
    "collapsed": true,
    "scrolled": false
   },
   "outputs": [],
   "source": [
    "mygrid_h = 5\n",
    "mygrid_w = 6\n",
    "\n",
    "# Compute per-patch statistics.\n",
    "mystats = patch_stats(image=fil_response_magnitude,\n",
    "                      grid_h=mygrid_h, grid_w=mygrid_w)\n",
    "\n",
    "# Pass the per-patch magnitude statistics through a non-linear function,\n",
    "# and arrange into a matrix such that correspondence between feature\n",
    "# values and sub-regions of the image is clear.\n",
    "features = nonlin(mystats[\"mean\"]).reshape((mygrid_h,mygrid_w))\n",
    "\n",
    "myfig = plt.figure(figsize=(18,6))\n",
    "\n",
    "ax_signal = myfig.add_subplot(1,3,1)\n",
    "plt.title(\"Input signal\")\n",
    "ax_signal.set_xticks(np.arange(0, PIX_W, math.ceil(PIX_W/mygrid_w)))\n",
    "ax_signal.set_yticks(np.arange(0, PIX_H, math.ceil(PIX_H/mygrid_h)))\n",
    "ax_signal.grid(linestyle=\"-\", color='black')\n",
    "ax_signal.set_yticklabels([])\n",
    "ax_signal.set_xticklabels([])\n",
    "ax_signal.imshow(im_L, cmap=plt.get_cmap('gray'))\n",
    "\n",
    "ax_filter = myfig.add_subplot(1,3,2)\n",
    "plt.title(\"Magnitude of filter response\")\n",
    "ax_filter.set_xticks(np.arange(0, PIX_W, math.ceil(PIX_W/mygrid_w)))\n",
    "ax_filter.set_yticks(np.arange(0, PIX_H, math.ceil(PIX_H/mygrid_h)))\n",
    "ax_filter.grid(linestyle=\"-\", color='black')\n",
    "ax_filter.set_yticklabels([])\n",
    "ax_filter.set_xticklabels([])\n",
    "ax_filter.imshow(fil_response_magnitude, cmap=plt.cm.Blues)\n",
    "\n",
    "ax_features = myfig.add_subplot(1,3,3)\n",
    "plt.title(\"Feature values computed via patches\")\n",
    "topass = ax_features.imshow(features, cmap=plt.cm.Blues)\n",
    "ax_features.axis(\"off\")\n",
    "myfig.colorbar(topass)\n",
    "plt.show()\n",
    "\n"
   ]
  },
  {
   "cell_type": "markdown",
   "metadata": {},
   "source": [
    "ここで念のために強調しておきたい点がある。機械学習の「学習課題」を見据えて、学習機が正確にどのような事例を与えられるかは、どうしても知ることができない（できるのであれば、学習の必要性はほぼない）。当たり前のことではあるが、含意として、特徴量を拾うためのフィルタの「ちょうど良い設定」を事前に済ませることなど考えられない。このことから、たくさんのフィルタを事前に用意し、多種多様な特徴量を取るための準備を全うするしかない。これが従来の特徴量づくりである。\n",
    "\n",
    "### 練習問題 (F):\n",
    "\n",
    "0. 標準偏差パラメータ`sdev`を大きく・小さくすることで、フィルタをかけた結果が変わりうることはすでに確認しているはずである。この事実を踏まえて、`sdev`の大小を考慮し、どのようにパッチの大きさ（つまりグリッドのサイズ）を設定すべきと考えるか。解像度の高い・低いグリッドをそれぞれ作り、その有用性について説明すること（端的にいえば、反応してほしいところが反応しているのかどうか）。\n",
    "\n",
    "0. 先の練習問題で行った作業を、`chelsea.png`、`bishop.png`、`parrots.png`の3つの画像に対して行うこと。元の画像の特性によって「良い設定」がそれぞれ異なると思われるが、実験してみてどのように考えるか説明すること。\n"
   ]
  },
  {
   "cell_type": "markdown",
   "metadata": {},
   "source": [
    "結びとして、デジタル画像が多い場合や、多数のフレームから成る動画像を扱っている場合、上の作業を繰り返して行なう関数はいうまでもなく作っておくべきである。下記の通りに、その「全工程」を担う関数を設計する。"
   ]
  },
  {
   "cell_type": "code",
   "execution_count": null,
   "metadata": {
    "collapsed": true
   },
   "outputs": [],
   "source": [
    "\n",
    "def G2_getfeatures(ims, fil_paras, gridshape, mode=\"reflect\", cval=0):\n",
    "    '''\n",
    "    A routine which takes an array of images with 4 coords.\n",
    "    Dim 1 and 2: pixel position.\n",
    "    Dim 3: RGB channel index.\n",
    "    Dim 4: Time index.\n",
    "    '''\n",
    "    \n",
    "    num_ims = ims.shape[3]\n",
    "    num_feats = gridshape[0] * gridshape[1]\n",
    "    \n",
    "    out = np.zeros(num_ims*num_feats, dtype=np.float32).reshape((num_ims,num_feats))\n",
    "    \n",
    "    # Generate the kernel prior to loop over images.\n",
    "    fil_values = fil_kernel(paras=fil_paras, n_stds=2)\n",
    "    \n",
    "    # Iterate over images.\n",
    "    for i in range(num_ims):\n",
    "        \n",
    "        featvec = np.arange(0, dtype=np.float32)\n",
    "        \n",
    "        # Slice -> XYZ -> CIE Lab -> Take only Luminance channel.\n",
    "        im = col.xyz2lab(col.rgb2xyz(ims[:,:,:,i]))[:,:,0]\n",
    "        \n",
    "        # Convolution.\n",
    "        fil_response_real = ndi.convolve(input=im,\n",
    "                                         weights=fil_values[\"real\"],\n",
    "                                         mode=mode, cval=cval)\n",
    "        fil_response_imag = ndi.convolve(input=im,\n",
    "                                         weights=fil_values[\"imag\"],\n",
    "                                         mode=mode, cval=cval)\n",
    "        fil_response_magnitude = np.sqrt((fil_response_real**2 + fil_response_imag**2))\n",
    "        \n",
    "        # Per-patch statistics.\n",
    "        imstats = patch_stats(image=fil_response_magnitude, grid_h=gridshape[0], grid_w=gridshape[1])\n",
    "            \n",
    "        # Pass per-patch statistics through non-linearity to compute final feature vector.\n",
    "        imfeats = nonlin(imstats[\"mean\"])\n",
    "        \n",
    "        # Store the feature vector for this image.\n",
    "        out[i,:] = imfeats\n",
    "    \n",
    "    # Output is the array of feature vectors, one feature vector for each image.\n",
    "    return out\n"
   ]
  },
  {
   "cell_type": "markdown",
   "metadata": {
    "collapsed": true
   },
   "source": [
    "### 練習問題 (G):\n",
    "\n",
    "0. 先ほど用意した関数`G2_getfeatures`を何度か使い、正真正銘のフィルタ「バンク」を造ること。やり方は単純で、複数のdict（`fil_paras`として渡すもの）を予め作り、個別に`G2_getfeatures`に渡すことである。同じ画像に対してdictの個数だけのベクトルを得ることになるが、それらを連結して（concatenate）、特徴量ベクトルとして一本の長いベクトルを求める。\n",
    "\n",
    "0. フィルタのパラメータはもちろんだが、そのほかに各パッチの数値を基に計算される統計量の選択も重要である。平均以外の統計量を使うと、結果がどのように変わるか。また、予測課題を見据えて、どれが有用だと思われるか。あまり有用でないのはどれか。その理由も合わせて説明すること。\n"
   ]
  },
  {
   "cell_type": "markdown",
   "metadata": {
    "collapsed": true
   },
   "source": [
    "### 終わり： 後に使う関数などを`scripts/FilterBank.py`に貼り付けること。"
   ]
  },
  {
   "cell_type": "markdown",
   "metadata": {
    "collapsed": true
   },
   "source": [
    "## 参考文献：\n",
    "\n",
    " - Adelson, Edward H., and James R. Bergen. \"Spatiotemporal energy models for the perception of motion.\" JOSA A 2.2 (1985): 284-299.\n",
    " - DeAngelis, Gregory C., Izumi Ohzawa, and R. D. Freeman. \"Spatiotemporal organization of simple-cell receptive fields in the cat's striate cortex. I. General characteristics and postnatal development.\" Journal of neurophysiology 69.4 (1993): 1091-1117.\n",
    " - Heeger, David J. \"Optical flow using spatiotemporal filters.\" International journal of computer vision 1.4 (1988): 279-302.\n",
    " - Jones, Judson P., and Larry A. Palmer. \"An evaluation of the two-dimensional Gabor filter model of simple receptive fields in cat striate cortex.\" Journal of neurophysiology 58.6 (1987): 1233-1258.\n",
    " - Watson, Andrew B., and Albert J. Ahumada. \"Model of human visual-motion sensing.\" JOSA A 2.2 (1985): 322-342.\n",
    " - Nishimoto, Shinji, et al. \"Reconstructing visual experiences from brain activity evoked by natural movies.\" Current Biology 21.19 (2011): 1641-1646.\n",
    " - Texture classification reference: http://scikit-image.org/docs/dev/auto_examples/features_detection/plot_gabor.html\n",
    " - Facial recognition reference: Brain-like Integrated Systems Lab, Department of Human Intelligence Systems, Graduate School of Life Science and Systems Engineering, Kyushu Institute of Technology. URL: http://www.brain.kyutech.ac.jp/~morie/topics/gabor_en.shtml"
   ]
  },
  {
   "cell_type": "markdown",
   "metadata": {
    "collapsed": true
   },
   "source": [
    "## その他："
   ]
  },
  {
   "cell_type": "code",
   "execution_count": null,
   "metadata": {
    "collapsed": true
   },
   "outputs": [],
   "source": [
    "\n",
    "## Frequency response of the Gabor filter is obtained analytically as the (complex) Fourier transform.\n",
    "def G_ft_real(f, amp, sdev, freq, phase):\n",
    "    '''\n",
    "    Real part of the complex Gabor filter's frequency response.\n",
    "    '''\n",
    "    topass = (f - freq) * sdev\n",
    "    env = G_envelope(t=topass, amp=1, sdev=1)\n",
    "    out = math.cos(phase) * amp * sdev * env\n",
    "    return out\n",
    "\n",
    "def G_ft_imag(f, amp, sdev, freq, phase):\n",
    "    '''\n",
    "    Imaginary part of the complex Gabor filter's frequency response.\n",
    "    '''\n",
    "    topass = (f - freq) * sdev\n",
    "    env = G_envelope(t=topass, amp=1, sdev=1)\n",
    "    out = math.sin(phase) * amp * sdev * env\n",
    "    return out\n",
    "\n",
    "\n",
    "def G_fr_real(f, paras):\n",
    "    '''\n",
    "    Frequency response for our custom-built filter (real part).\n",
    "    Assumes that f is an array of frequency settings.\n",
    "    '''\n",
    "    out = G_ft_real(f=f, amp=paras[\"amp\"], sdev=paras[\"sdev\"], freq=paras[\"freq\"], phase=paras[\"phase\"])\n",
    "    return out\n",
    "\n",
    "def G_fr_imag(f, paras):\n",
    "    '''\n",
    "    Frequency response for our custom-built filter (real part).\n",
    "    Assumes that f is an array of frequency settings.\n",
    "    '''\n",
    "    out = G_ft_imag(f=f, amp=paras[\"amp\"], sdev=paras[\"sdev\"], freq=paras[\"freq\"], phase=paras[\"phase\"])\n",
    "    return out\n"
   ]
  },
  {
   "cell_type": "code",
   "execution_count": null,
   "metadata": {
    "collapsed": true,
    "scrolled": false
   },
   "outputs": [],
   "source": [
    "\n",
    "myparas = {\"amp\": 1/(2*math.pi),\n",
    "           \"sdev\": 1,\n",
    "           \"freq\": 0.25,\n",
    "           \"phase\": 0}\n",
    "\n",
    "f_inputs = np.linspace(0,10,500)\n",
    "\n",
    "myfig = plt.figure(figsize=(10,10))\n",
    "plt.plot(f_inputs, G_fr_real(f=f_inputs, paras=myparas))\n",
    "plt.plot(f_inputs, G_fr_imag(f=f_inputs, paras=myparas))\n",
    "plt.title(\"Frequency response of 1D Gabor filter\")\n",
    "plt.xlabel(\"Frequency (Hz)\")\n",
    "plt.show()\n"
   ]
  }
 ],
 "metadata": {
  "kernelspec": {
   "display_name": "Python 3",
   "language": "python",
   "name": "python3"
  },
  "language_info": {
   "codemirror_mode": {
    "name": "ipython",
    "version": 3
   },
   "file_extension": ".py",
   "mimetype": "text/x-python",
   "name": "python",
   "nbconvert_exporter": "python",
   "pygments_lexer": "ipython3",
   "version": "3.6.3"
  }
 },
 "nbformat": 4,
 "nbformat_minor": 2
}
