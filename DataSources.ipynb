{
 "cells": [
  {
   "cell_type": "markdown",
   "metadata": {},
   "source": [
    "# Description of data sources\n",
    "\n",
    "Here we give a brief description of *where* to find the main data sets used in this tutorial. Detailed descriptions of how to work with this data once it has been downloaded are given within the main tutorial content (links given below).\n",
    "\n",
    "___"
   ]
  },
  {
   "cell_type": "markdown",
   "metadata": {},
   "source": [
    "__MNIST handwritten digits__\n",
    "\n",
    "This is arguably the most well-known benchmark data set for the pattern recognition task. The data is available at\n",
    "\n",
    "    http://yann.lecun.com/exdb/mnist/\n",
    " \n",
    "for anyone with an internet connection. No registration is required.\n",
    "\n",
    "Once the raw data has been acquired, we assume that it is stored in the `data/MNIST` directory in whatever  your working directory is.\n",
    "\n",
    "*Tutorial link:* <a href=\"DataMNIST.ipynb\">Preparation of raw (binary) data</a>\n",
    "\n",
    "___\n",
    "\n",
    "__Visual image data__\n",
    "\n",
    "The *vim-2* data set, also known as the \"Gallant Lab Natural Movie 4T fMRI Data set\", is available from the website of Collaborative Research in Computational Neuroscience (CRCNS), at the following URL:\n",
    "\n",
    "    https://crcns.org/data-sets/vc/vim-2\n",
    "\n",
    "This requires free registration to CRCNS.org, which can be done quickly using their \"Request Account\" page:\n",
    "\n",
    "    https://crcns.org/request-account\n",
    "  \n",
    "The application is screened, and so it may take a day or two before it is (hopefully) accepted.\n",
    "\n",
    "Once the raw data has been acquired, we assume that it is stored in the `data/vim-2` directory in whatever  your working directory is.\n",
    "\n",
    "*Tutorial link:* <a href=\"Datavim-2.ipynb\">Preparation of raw data for encoding task</a>\n"
   ]
  },
  {
   "cell_type": "code",
   "execution_count": null,
   "metadata": {
    "collapsed": true
   },
   "outputs": [],
   "source": []
  }
 ],
 "metadata": {
  "kernelspec": {
   "display_name": "Python 3",
   "language": "python",
   "name": "python3"
  },
  "language_info": {
   "codemirror_mode": {
    "name": "ipython",
    "version": 3
   },
   "file_extension": ".py",
   "mimetype": "text/x-python",
   "name": "python",
   "nbconvert_exporter": "python",
   "pygments_lexer": "ipython3",
   "version": "3.6.3"
  }
 },
 "nbformat": 4,
 "nbformat_minor": 2
}
