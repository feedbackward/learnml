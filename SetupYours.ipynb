{
 "cells": [
  {
   "cell_type": "markdown",
   "metadata": {},
   "source": [
    "# Working on your own machine\n",
    "\n",
    "Here we describe the software distribution assumed as a bare minimum for running the code included in these tutorials. Hardware requirements differ greatly between tasks and data sets, so please refer to the respective tutorials for more insight into what sort of \"equipment\" is required to carry out the routines.\n",
    "\n",
    "___\n"
   ]
  },
  {
   "cell_type": "markdown",
   "metadata": {},
   "source": [
    "As a safe bet for ensuring a fairly consistent environment across systems, we use the full Anaconda distribution of Python (version 3.6). Installation instructions are available at\n",
    "\n",
    "    https://conda.io/docs/user-guide/install/index.html\n",
    "    https://conda.io/docs/user-guide/install/download.html\n",
    "\n",
    "and are extremely easy. We elect to use the \"full\" Anaconda, rather than the so-called miniconda distribution, a shrunk-down version of the former. For a UNIX-like system, visiting\n",
    "\n",
    "    https://www.anaconda.com/download/#linux\n",
    "\n",
    "and picking up the right installer, all that remains is to execute the setup shell script. For our machine, we ran\n",
    "\n",
    "```\n",
    " $ bash Anaconda3-5.0.1-Linux-x86_64.sh\n",
    "```\n",
    "\n",
    "and following the instructions installed into `anaconda3` in our home directory. After exiting all running shell terminals and initializing a new one, run\n",
    "\n",
    "```\n",
    " $ conda list\n",
    "```\n",
    "\n",
    "to check the installation. If a list of packages is displayed, it likely that everything installed correctly. Checking python, we should have\n",
    "\n",
    "```\n",
    " $ python\n",
    "\n",
    "  Python 3.6.3 |Anaconda, Inc.| (default, Oct 13 2017, 12:02:49) \n",
    "  [GCC 7.2.0] on linux\n",
    "  Type \"help\", \"copyright\", \"credits\" or \"license\" for more information.\n",
    "  >>>\n",
    "```\n",
    "\n",
    "or something similiar, depending on the system and date, of course. The key Python library that we utilize is `numpy`, so do ensure that\n",
    "\n",
    "```\n",
    "  >>> import numpy\n",
    "```\n",
    "\n",
    "does not lead to an `ImportError` exception.\n"
   ]
  }
 ],
 "metadata": {
  "kernelspec": {
   "display_name": "Python 3",
   "language": "python",
   "name": "python3"
  },
  "language_info": {
   "codemirror_mode": {
    "name": "ipython",
    "version": 3
   },
   "file_extension": ".py",
   "mimetype": "text/x-python",
   "name": "python",
   "nbconvert_exporter": "python",
   "pygments_lexer": "ipython3",
   "version": "3.6.3"
  }
 },
 "nbformat": 4,
 "nbformat_minor": 2
}
