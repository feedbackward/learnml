{
 "cells": [
  {
   "cell_type": "markdown",
   "metadata": {},
   "source": [
    "# Building features using a Gabor filter bank\n",
    "\n",
    "\n",
    "__Contents:__\n",
    "- <a href=\"#background\">Basic background</a>\n",
    "- <a href=\"#1Dbg\">One-dimensional Gabor filters</a>\n",
    "- <a href=\"#1Dapp\">Application of 1D filter</a>\n",
    "- <a href=\"#2Dbg\">Two-dimensional Gabor filters</a>\n",
    "- <a href=\"#2Dapp\">Application of 2D filter</a>\n",
    "\n",
    "___"
   ]
  },
  {
   "cell_type": "markdown",
   "metadata": {},
   "source": [
    "<a id=\"background\"></a>\n",
    "## Basic background\n",
    "\n",
    "Here we provide some basic background information on the use of so-called *Gabor filters* to extract a rich collection of pertinent visual features from images. While a detailed introduction is out of the scope of this lesson, here we shall try to communicate just the core ideas. Some important points:\n",
    "\n",
    "In words, a Gabor filter is a __sinusoid modulated by a Gaussian function__. The basic formulation is\n",
    "\n",
    "\\begin{align}\n",
    "(\\text{Filter output}) = (\\text{Sinusoid carrier}) \\times (\\text{Gaussian envelope}).\n",
    "\\end{align}\n",
    "\n",
    "There are 1D, 2D, and 3D versions common in the literature. Below is a visualization of a 2D Gabor filter and related quantities (Jones et al., 1987):\n",
    "\n",
    "<img src=\"img/ex_gabor_form.png\" alt=\"Image source: Jones et al., 1987\" />"
   ]
  },
  {
   "cell_type": "markdown",
   "metadata": {},
   "source": [
    "\n",
    "Gabor filters have been applied in tasks such as modeling the receptive field (DeAngelis et al., 1993),\n",
    "\n",
    "<img src=\"img/ex_receptive_field.png\" alt=\"Image source: DeAngelis et al., 1993\" />\n",
    "\n",
    "the identification of textures (via scikit-image documentation),\n",
    "\n",
    "<img src=\"img/ex_texture_recognition.png\" alt=\"Image source: scikit-image documentation\" />\n",
    "\n",
    "facial recognition (via Kyutech BIS Lab),\n",
    "\n",
    "<img src=\"img/ex_facial_features.jpg\" alt=\"Image source: Kyushu Institute of Technology\" />\n",
    "\n",
    "and much more. Note that the following points are of critical importance in practice:\n",
    "\n",
    " - Modifying the frequency parameter of the sinusoid affects the *resolution* of the filter.\n",
    " - Modifying the radius of the Gaussian impacts how *locally concentrated* (in space or time) the filter's impact is.\n",
    " - The simplest filter is *temporal*, more elaborate filters are *spatial* or *spatio-temporal*.\n",
    "\n",
    "\n",
    "There is more than one way to \"apply\" a filter to a signal, but it is likely that the most common approach is to take the *convolution* of the two signals (since both the input and the filter are functions of the same domain). Recall that the convolution of two arbitrary signals $f$ and $g$, denoted $f \\ast g$, is defined in the 1D case by\n",
    "\n",
    "\\begin{align}\n",
    "(f \\ast g)(t) = \\int_{\\mathbb{R}} f(t)g(t-\\tau) \\, d\\tau\n",
    "\\end{align}\n",
    "\n",
    "and analogously in the 2D case by\n",
    "\n",
    "\\begin{align}\n",
    "(f \\ast g)(x,y) = \\int_{\\mathbb{R}^{2}} f(x,y)g(x-\\alpha,y-\\beta) \\, d\\alpha\\,d\\beta.\n",
    "\\end{align}\n",
    "\n",
    "Since the convolution is itself a function of the same domain as the signals from which it is comprised, it too is a signal. When $f$ is the input signal, and $g$ is our filter, then $f \\ast g$ shall be the final filter response."
   ]
  },
  {
   "cell_type": "markdown",
   "metadata": {},
   "source": [
    "<a id=\"1Dbg\"></a>\n",
    "## One-dimensional Gabor filters\n",
    "\n",
    "In order to implement this *ourselves*, however, these illustrations are not enough. A slightly more formal representation is required. Let's start with the one-dimensional case, a *temporal Gabor filter*, written\n",
    "\n",
    "\\begin{align}\n",
    "G(t) = f(t) \\, s(t)\n",
    "\\end{align}\n",
    "\n",
    "where\n",
    "\n",
    "\\begin{align}\n",
    "s(t) & = \\exp \\left(i (2\\pi ut + \\phi) \\right)\\\\\n",
    " & = \\cos(2\\pi ut + \\phi) + i\\sin(2\\pi ut + \\phi)\\\\\n",
    "f(t) & = A \\exp\\left( -\\frac{t^2}{\\sigma^2} \\right).\n",
    "\\end{align}\n",
    "\n",
    "The parameters are as follows:\n",
    "\n",
    " - $u$: frequency, how many cycles the sinusoid makes per unit of time. For example, if $u=1$, the period is one unit of time (seconds, minutes, days, etc.). If $u=2$, then the period is 1/2 a unit of time, and since it makes two cycles per unit of time. If $u=1/2$, conversely, then it takes two units of time to complete a single cycle, and so on.\n",
    " - $A$: amplitude, the maximum magnitude of the filter.\n",
    " - $\\phi$: phase, shifts where (on time domain) the functions is takes large +/- values.\n",
    " - $\\sigma$: controls the breadth of the Gaussian function. Smaller $\\sigma > 0$ implies that the function rapidly decreases as $t$ increases (in either +/- direction).\n",
    " \n",
    "Enough equations. Let's define our own functions and visualize them to get a better grasp on things."
   ]
  },
  {
   "cell_type": "code",
   "execution_count": null,
   "metadata": {
    "collapsed": true
   },
   "outputs": [],
   "source": [
    "import math\n",
    "import numpy as np\n",
    "\n",
    "\n",
    "def G_carrier_real(t, freq, phase):\n",
    "    '''\n",
    "    Real part of the carrier.\n",
    "    '''\n",
    "    topass = 2 * math.pi * freq * t + phase\n",
    "    out = np.cos(topass)\n",
    "    return out\n",
    "\n",
    "def G_carrier_imag(t, freq, phase):\n",
    "    '''\n",
    "    Imaginary part of the carrier.\n",
    "    '''\n",
    "    topass = 2 * math.pi * freq * t + phase\n",
    "    out = np.sin(topass)\n",
    "    return out\n",
    "\n",
    "\n",
    "def G_envelope(t, amp, sdev):\n",
    "    '''\n",
    "    The impact of the filter is controlled by a Gaussian function.\n",
    "    '''\n",
    "    out = amp * np.exp( (-(t/sdev)**2) )\n",
    "    return out\n"
   ]
  },
  {
   "cell_type": "markdown",
   "metadata": {},
   "source": [
    "The filter itself is specified by a handful of parameters, as below."
   ]
  },
  {
   "cell_type": "code",
   "execution_count": null,
   "metadata": {
    "collapsed": true
   },
   "outputs": [],
   "source": [
    "\n",
    "myparas = {\"amp\": 1/(2*math.pi),\n",
    "           \"sdev\": 1,\n",
    "           \"freq\": 1,\n",
    "           \"phase\": 0}\n"
   ]
  },
  {
   "cell_type": "markdown",
   "metadata": {},
   "source": [
    "These parameters are then used to specify a customized filter."
   ]
  },
  {
   "cell_type": "code",
   "execution_count": null,
   "metadata": {
    "collapsed": true
   },
   "outputs": [],
   "source": [
    "\n",
    "def G_fil_real(t, paras):\n",
    "    '''\n",
    "    Custom-built filter response (real part).\n",
    "    Assumes that t is an array of temporal inputs.\n",
    "    '''\n",
    "    carrier = G_carrier_real(t=t, freq=paras[\"freq\"], phase=paras[\"phase\"])\n",
    "    envelope = G_envelope(t=t, amp=paras[\"amp\"], sdev=paras[\"sdev\"])\n",
    "    out = carrier * envelope\n",
    "    return out\n",
    "\n",
    "def G_fil_imag(t, paras):\n",
    "    '''\n",
    "    Custom-built filter response (imaginary part).\n",
    "    Assumes that t is an array of temporal inputs.\n",
    "    '''\n",
    "    carrier = G_carrier_imag(t=t, freq=paras[\"freq\"], phase=paras[\"phase\"])\n",
    "    envelope = G_envelope(t=t, amp=paras[\"amp\"], sdev=paras[\"sdev\"])\n",
    "    out = carrier * envelope\n",
    "    return out\n"
   ]
  },
  {
   "cell_type": "markdown",
   "metadata": {},
   "source": [
    "Note that the $(\\text{carrier}) \\times (\\text{envelope})$ form is clear in the above definitions. Let's visualize each part of this."
   ]
  },
  {
   "cell_type": "code",
   "execution_count": null,
   "metadata": {},
   "outputs": [],
   "source": [
    "import matplotlib.pyplot as plt\n",
    "\n",
    "myfig = plt.figure(figsize=(18,4))\n",
    "t_inputs = np.linspace(-3,3,500)\n",
    "\n",
    "ax_carrier = myfig.add_subplot(1,3,1)\n",
    "plt.title(\"Sinusoidal carrier\")\n",
    "plt.xlabel(\"Time (s)\")\n",
    "ax_envelope = myfig.add_subplot(1,3,2)\n",
    "plt.title(\"Gaussian envelope\")\n",
    "plt.xlabel(\"Time (s)\")\n",
    "ax_filter = myfig.add_subplot(1,3,3)\n",
    "plt.title(\"Gabor filter (1D)\")\n",
    "plt.xlabel(\"Time (s)\")\n",
    "\n",
    "ax_carrier.plot(t_inputs, G_carrier_real(t=t_inputs, freq=myparas[\"freq\"], phase=myparas[\"phase\"]))\n",
    "ax_carrier.plot(t_inputs, G_carrier_imag(t=t_inputs, freq=myparas[\"freq\"], phase=myparas[\"phase\"]))\n",
    "\n",
    "ax_envelope.plot(t_inputs, G_envelope(t=t_inputs, amp=myparas[\"amp\"], sdev=myparas[\"sdev\"]))\n",
    "\n",
    "ax_filter.plot(t_inputs, G_fil_real(t=t_inputs, paras=myparas))\n",
    "ax_filter.plot(t_inputs, G_fil_imag(t=t_inputs, paras=myparas))\n",
    "\n",
    "plt.show()"
   ]
  },
  {
   "cell_type": "markdown",
   "metadata": {},
   "source": [
    "### Exercises (A):\n",
    "\n",
    "0. Look at the `freq` parameter and the left-most plot above. Are the number of cycles per unit of time what you expect? Modify `freq` to values such as 1, 4, 0.5, and 0.25, observing what happens each time.\n",
    "\n",
    "0. Change `sdev` to values such as 0.25 and 2, observing the impact. If necessary, adjust the range of `t_inputs` to get a better view.\n",
    "\n",
    "0. Modify the `phase` parameter of just the imaginary part, such that it coincides with the real parse (they are out of phase by $90^{\\circ}$, or $\\pi/2$ radians).\n",
    "\n",
    "___"
   ]
  },
  {
   "cell_type": "markdown",
   "metadata": {},
   "source": [
    "<a id=\"1Dapp\"></a>\n",
    "## Application of 1D filter\n",
    "\n",
    "Now that we've looked at this filter, let's consider what it means to *apply* this filter. Let's construct an artificial signal to explore this.\n"
   ]
  },
  {
   "cell_type": "code",
   "execution_count": null,
   "metadata": {},
   "outputs": [],
   "source": [
    "\n",
    "para_HIGHFREQ = 5\n",
    "para_LOWFREQ = 0.25\n",
    "\n",
    "def my_signal(t):\n",
    "    \n",
    "    highfreq = 0.25 * np.sin((2*math.pi*para_HIGHFREQ*t))\n",
    "    lowfreq = 2 * np.sin((2*math.pi*para_LOWFREQ*t))\n",
    "    \n",
    "    cond = (np.abs(t) <= 5)\n",
    "    signal = highfreq + lowfreq\n",
    "    out = np.select([cond], [signal])\n",
    "    \n",
    "    return out\n",
    "\n",
    "\n",
    "myfig = plt.figure(figsize=(10,10))\n",
    "t_inputs = np.linspace(-10, 10, 500)\n",
    "\n",
    "plt.plot(t_inputs, my_signal(t=t_inputs))\n",
    "plt.title(\"Some artificial signal\")\n",
    "plt.xlabel(\"Time (s)\")\n",
    "plt.show()"
   ]
  },
  {
   "cell_type": "markdown",
   "metadata": {},
   "source": [
    "Now, to \"apply\" a filter typically means to take the *convolution* of a filter and some input signal. This can be interpreted as a new signal (a function of time), and the most natural filter response."
   ]
  },
  {
   "cell_type": "code",
   "execution_count": null,
   "metadata": {
    "scrolled": false
   },
   "outputs": [],
   "source": [
    "from scipy import signal\n",
    "\n",
    "t_inputs = np.linspace(-10, 10, 1000)\n",
    "sig_values = my_signal(t=t_inputs)\n",
    "\n",
    "myparas = {\"amp\": 1/(2*math.pi),\n",
    "           \"sdev\": 1,\n",
    "           \"freq\": 0.25,\n",
    "           \"phase\": 0}\n",
    "fil_values_real = G_fil_real(t=t_inputs, paras=myparas)\n",
    "fil_values_imag = G_fil_imag(t=t_inputs, paras=myparas)\n",
    "fil_response_real = signal.convolve(sig_values, fil_values_real, mode=\"same\")\n",
    "fil_response_imag = signal.convolve(sig_values, fil_values_imag, mode=\"same\")\n",
    "\n",
    "myfig = plt.figure(figsize=(18,4))\n",
    "\n",
    "ax_signal = myfig.add_subplot(1,3,1)\n",
    "plt.title(\"Artificial signal\")\n",
    "plt.xlabel(\"Time (s)\")\n",
    "ax_filter = myfig.add_subplot(1,3,2)\n",
    "plt.title(\"Gabor filter\")\n",
    "plt.xlabel(\"Time (s)\")\n",
    "ax_response = myfig.add_subplot(1,3,3)\n",
    "plt.title(\"Filter response\")\n",
    "plt.xlabel(\"Time (s)\")\n",
    "\n",
    "ax_signal.plot(t_inputs, sig_values)\n",
    "\n",
    "ax_filter.plot(t_inputs, fil_values_real)\n",
    "ax_filter.plot(t_inputs, fil_values_imag)\n",
    "\n",
    "ax_response.plot(t_inputs, fil_response_real)\n",
    "ax_response.plot(t_inputs, fil_response_imag)\n",
    "\n",
    "plt.show()\n"
   ]
  },
  {
   "cell_type": "markdown",
   "metadata": {},
   "source": [
    "\n",
    "### Exercises (B):\n",
    "\n",
    "0. Using the above code, try numerous different values for the `freq` parameter stored in `myparas`, ranging between `para_LOWFREQ` and `para_HIGHFREQ`. Note how the filter better \"picks up\" the low-frequency and high-frequency components of our artificial signal as its `freq` parameter moves closer to `para_LOWFREQ` and `para_HIGHFREQ` respectively. Prepare and save some labeled plots that illustrate this.\n",
    "\n",
    "0. Play with the phase and standard deviation parameters as well, and describe how their modification impacts the effect of the filter.\n",
    "\n",
    "0. Modify the `my_signal` function such that it has low/med/high frequency components (linear combination of three periodic functions with distinct angular frequencies), and confirm that constructing a Gabor filter with the appropriate `freq` parameter for each can indeed extract each of the desired underlying component functions.\n",
    "\n",
    "The key take-away from this simple one-dimensional exercise is that by preparing different filters specified by different parameters, we can extract different __features__ of the underlying signal. This basic principles extends directly to the multidimensional setting we will consider next.\n",
    "\n",
    "___"
   ]
  },
  {
   "cell_type": "markdown",
   "metadata": {},
   "source": [
    "<a id=\"2Dbg\"></a>\n",
    "## Two-dimensional Gabor filters\n",
    "\n",
    "Now that we have grasped the basic idea of what a Gabor filter (and many other filters, in fact) can do, let us consider a more general version of the filter. The basic form, we repeat from above, is\n",
    "\n",
    "\\begin{align}\n",
    "(\\text{Filter output}) = (\\text{Sinusoid carrier}) \\times (\\text{Gaussian envelope})\n",
    "\\end{align}\n",
    "\n",
    "just as seen in our concrete look at the one-dimensional version. For 2D however, the domain extends from \"the line\" to \"the plane\", and instead of passing $t \\in \\mathbb{R}$ to the filter, we pass $(x,y) \\in \\mathbb{R}^{2}$, namely __spatial__ coordinates. Formally, we update our notation as\n",
    "\n",
    "\\begin{align}\n",
    "G(x,y) = f(x,y) \\, s(x,y)\n",
    "\\end{align}\n",
    "\n",
    "where\n",
    "\n",
    "\\begin{align}\n",
    "s(x,y) & = \\exp \\left(i (2\\pi (ux + vy) + \\phi) \\right)\\\\\n",
    " & = \\cos(2\\pi (ux + vy) + \\phi) + i\\sin(2\\pi (ux + vy) + \\phi)\\\\\n",
    "f(x,y) & = A \\exp\\left( -\\frac{x^2 + y^2}{\\sigma^2} \\right).\n",
    "\\end{align}\n",
    "\n",
    "As a convention we follow, let the angular frequencies $u$ and $v$ be specified in polar coordinates, as\n",
    "\n",
    "\\begin{align}\n",
    "u & = \\omega \\cos(\\theta) \\\\\n",
    "v & = \\omega \\sin(\\theta)\n",
    "\\end{align}\n",
    "\n",
    "where $\\omega$ (spatial frequency) and $\\theta$ (filter orientation) are new parameters here. An explanation of the parameters in the filter definition is as follows:\n",
    "\n",
    "- $u$ and $v$: frequency, typically in the \"horizontal\" and \"vertical\" directions of an *image*, namely an array of pixels identified with discrete positions, in which case the frequency parameter specifies the number of cycles the sinusoid makes per pixel.\n",
    "- $A$: amplitude, as above.\n",
    "- $\\phi$: phase, as above.\n",
    "- $\\sigma$: as above; note that our formulation implies a *circular* Gaussian. An *elliptical* form can be constructed by replacing the summands $(x/\\sigma)^2$ and $(y/\\sigma)^2$ by say $(x/\\sigma_{X})^2$ and $(y/\\sigma_{Y})^2$ where $\\sigma_{X}$ and $\\sigma_{Y}$ determine the size of the major/minor axes.\n",
    "\n",
    "That's enough for the equations here as well. Let's define our own functions and visualize them to get a better grasp on things here."
   ]
  },
  {
   "cell_type": "code",
   "execution_count": null,
   "metadata": {
    "collapsed": true
   },
   "outputs": [],
   "source": [
    "import numpy as np\n",
    "import math\n",
    "import matplotlib.pyplot as plt\n",
    "\n",
    "\n",
    "def G2_carrier_real(x, y, freqx, freqy, phase):\n",
    "    '''\n",
    "    Real part of the 2-D Gabor carrier.\n",
    "    '''\n",
    "    topass = 2 * math.pi * (freqx*x + freqy*y) + phase\n",
    "    out = np.cos(topass)\n",
    "    return out\n",
    "\n",
    "\n",
    "def G2_carrier_imag(x, y, freqx, freqy, phase):\n",
    "    '''\n",
    "    Imaginary part of the 2-D Gabor carrier.\n",
    "    '''\n",
    "    topass = 2 * math.pi * (freqx*x + freqy*y) + phase\n",
    "    out = np.sin(topass)\n",
    "    return out\n",
    "\n",
    "\n",
    "def G2_envelope(x, y, amp, sdev):\n",
    "    '''\n",
    "    Gaussian envelope for a 2-D Gabor filter.\n",
    "    We assume that it is circular (same rate of decrease in x/y directions).\n",
    "    '''\n",
    "    out = amp * np.exp(-(x**2+y**2)/(sdev**2))\n",
    "    return out\n"
   ]
  },
  {
   "cell_type": "markdown",
   "metadata": {},
   "source": [
    "As with the one-dimensional case, the filter can be specified by a small handful of parameters."
   ]
  },
  {
   "cell_type": "code",
   "execution_count": null,
   "metadata": {
    "collapsed": true
   },
   "outputs": [],
   "source": [
    "\n",
    "PIX_W = 128 # image width, in pixels\n",
    "PIX_H = 128 # image height, in pixels\n",
    "myparas = {\"freqs\": 4/max(PIX_W,PIX_H), # cycles per pixel\n",
    "           \"dir\": math.pi/2, # orientation\n",
    "           \"amp\": 1,\n",
    "           \"sdev\": max(PIX_W,PIX_H)/5,\n",
    "           \"phase\": 0}\n"
   ]
  },
  {
   "cell_type": "markdown",
   "metadata": {},
   "source": [
    "Note here *freqs* refers to __s__patial __freq__uency $\\omega$ as introduced above. These parameters are then used to build a customized filter."
   ]
  },
  {
   "cell_type": "code",
   "execution_count": null,
   "metadata": {
    "collapsed": true
   },
   "outputs": [],
   "source": [
    "\n",
    "def G2_fil_real(x, y, paras):\n",
    "    '''\n",
    "    Custom-built filter response (real part).\n",
    "    '''\n",
    "    # Spatial frequency in polar coordinates.\n",
    "    u = paras[\"freqs\"] * math.cos(paras[\"dir\"])\n",
    "    v = paras[\"freqs\"] * math.sin(paras[\"dir\"])\n",
    "    # Computations.\n",
    "    carrier = G2_carrier_real(x=x, y=y, freqx=u, freqy=v, phase=paras[\"phase\"])\n",
    "    envelope = G2_envelope(x=x, y=y, amp=paras[\"amp\"], sdev=paras[\"sdev\"])\n",
    "    out = carrier * envelope\n",
    "    return out\n",
    "\n",
    "def G2_fil_imag(x, y, paras):\n",
    "    '''\n",
    "    Custom-built filter response (imaginary part).\n",
    "    '''\n",
    "    # Spatial frequency in polar coordinates.\n",
    "    u = paras[\"freqs\"] * math.cos(paras[\"dir\"])\n",
    "    v = paras[\"freqs\"] * math.sin(paras[\"dir\"])\n",
    "    # Computations.\n",
    "    carrier = G2_carrier_imag(x=x, y=y, freqx=u, freqy=v, phase=paras[\"phase\"])\n",
    "    envelope = G2_envelope(x=x, y=y, amp=paras[\"amp\"], sdev=paras[\"sdev\"])\n",
    "    out = carrier * envelope\n",
    "    return out\n"
   ]
  },
  {
   "cell_type": "markdown",
   "metadata": {},
   "source": [
    "Moving ahead, let's look at the graphs of these functions as a simple example to start with."
   ]
  },
  {
   "cell_type": "code",
   "execution_count": null,
   "metadata": {},
   "outputs": [],
   "source": [
    "\n",
    "myfig = plt.figure(figsize=(18,4))\n",
    "\n",
    "y0 = math.floor(PIX_H/2)\n",
    "x0 = math.floor(PIX_W/2)\n",
    "y_inputs, x_inputs = np.mgrid[-y0:(y0+1), -x0:(x0+1)]\n",
    "\n",
    "# Store pixel values (of envelope, carrier, filter) for plotting via imshow.\n",
    "out_envelope = G2_envelope(x=x_inputs, y=y_inputs,\n",
    "                             amp=myparas[\"amp\"],\n",
    "                             sdev=myparas[\"sdev\"])\n",
    "out_carrier = G2_carrier_real(x=x_inputs,\n",
    "                              y=y_inputs,\n",
    "                              freqx=myparas[\"freqs\"]*math.cos(myparas[\"dir\"]),\n",
    "                              freqy=myparas[\"freqs\"]*math.sin(myparas[\"dir\"]),\n",
    "                              phase=myparas[\"phase\"])\n",
    "out_filter = G2_fil_real(x=x_inputs, y=y_inputs, paras=myparas)\n",
    "\n",
    "\n",
    "ax_carrier = myfig.add_subplot(1,3,1)\n",
    "plt.title(\"Sinusoidal carrier\")\n",
    "topass = ax_carrier.imshow(out_carrier, cmap=plt.cm.BuPu_r)\n",
    "plt.colorbar(topass)\n",
    "\n",
    "ax_envelope = myfig.add_subplot(1,3,2)\n",
    "plt.title(\"Gaussian envelope\")\n",
    "topass = ax_envelope.imshow(out_envelope, cmap=plt.cm.BuPu_r)\n",
    "plt.colorbar(topass)\n",
    "\n",
    "ax_filter = myfig.add_subplot(1,3,3)\n",
    "plt.title(\"Gabor filter (2D)\")\n",
    "topass = ax_filter.imshow(out_filter, cmap=plt.cm.BuPu_r)\n",
    "plt.colorbar(topass)\n",
    "\n",
    "plt.show()\n"
   ]
  },
  {
   "cell_type": "markdown",
   "metadata": {},
   "source": [
    "The 2D spatial filter implemented above is a direct extension of the 1D temporal filter implemented previously, and has completely analogous parameters, as one can confirm in the exercises below.\n",
    "\n",
    "### Exercises (C):\n",
    "\n",
    "0. Modify the `dir` parameter (corresponding to orientation parameter $\\theta$), setting it to zero, $\\pi/4$, $\\pi/2$, and so on. Describe the qualitative changes in the filter output.\n",
    "\n",
    "0. Modify the `freqs` parameter and note the number of cycles over the full image. Set `dir` and `freqs` such that the sinusoid only depends on the horizontal position (i.e., the leftmost plot looks like alternating vertical bars), and the number of cycles in the horizontal direction over the full image is five. Repeat, but with 10 cycles. Repeat once again for 25 cycles.\n",
    "\n",
    "0. Replace the real part (`carrier_real` and `G2_fil_real`) with the imaginary part in the above code. Qualitatively, what change has taken place with respect to the effect of the filter?\n",
    "\n",
    "0. Modify the standard deviation parameter such that its visible radius is approximately *half* the width/height of the domain pictured. Repeat, making it approximately a quarter. Again, one eighth.\n",
    "\n",
    "___"
   ]
  },
  {
   "cell_type": "markdown",
   "metadata": {},
   "source": [
    "<a id=\"2Dapp\"></a>\n",
    "## Application of 2D filter\n",
    "\n",
    "Now it comes time to *apply* the filters to signals, now defined on the plane rather than the line. In this sense, the pixel values of an image are considered to be the values taken by a signal defined on the plane (thus we call them \"2D\").\n",
    "\n",
    "We begin with reading and writing images from file. A standard library for doing this is __imageio__ (http://imageio.github.io/). Assuming all the image files have been saved locally in advance, the following example shows how easy it is to visualize the content of image files using objects from this library."
   ]
  },
  {
   "cell_type": "code",
   "execution_count": null,
   "metadata": {
    "scrolled": false
   },
   "outputs": [],
   "source": [
    "import imageio\n",
    "\n",
    "# Read images from file.\n",
    "im_cat = imageio.imread(\"img/chelsea.png\")\n",
    "im_boy = imageio.imread(\"img/bishop.png\")\n",
    "im_parrots = imageio.imread(\"img/parrots.png\")\n",
    "\n",
    "# Inspect (and plot) the images to ensure they have been read as we expect.\n",
    "print(\"Shape:\", im_cat.shape, \"Type:\", type(im_cat), \"First value (r,g,b):\", im_cat[0,0,:])\n",
    "print(\"Shape:\", im_boy.shape, \"Type:\", type(im_boy), \"First value (r,g,b):\", im_boy[0,0,:])\n",
    "print(\"Shape:\", im_parrots.shape, \"Type:\", type(im_parrots), \"First value (r,g,b):\", im_parrots[0,0,:])\n",
    "\n",
    "myfig = plt.figure(figsize=(18,4))\n",
    "ax_cat = myfig.add_subplot(1,3,1)\n",
    "ax_boy = myfig.add_subplot(1,3,2)\n",
    "ax_parrots = myfig.add_subplot(1,3,3)\n",
    "ax_cat.imshow(im_cat)\n",
    "ax_boy.imshow(im_boy)\n",
    "ax_parrots.imshow(im_parrots)\n",
    "\n",
    "plt.show()\n"
   ]
  },
  {
   "cell_type": "markdown",
   "metadata": {},
   "source": [
    "Note that the imageio library provides its own image objects (not typical `ndarray` objects), which are plotted as we would hope (all three channels are used).\n",
    "\n",
    "Let's take a look at individual channels from a single image."
   ]
  },
  {
   "cell_type": "code",
   "execution_count": null,
   "metadata": {
    "scrolled": true
   },
   "outputs": [],
   "source": [
    "\n",
    "im = imageio.imread(\"img/chelsea.png\")\n",
    "\n",
    "myfig = plt.figure(figsize=(18,4))\n",
    "ax_R = myfig.add_subplot(1,3,1)\n",
    "plt.title(\"Red channel\")\n",
    "ax_G = myfig.add_subplot(1,3,2)\n",
    "plt.title(\"Green channel\")\n",
    "ax_B = myfig.add_subplot(1,3,3)\n",
    "plt.title(\"Blue channel\")\n",
    "\n",
    "ax_R.imshow(im[:,:,0], plt.get_cmap('gray'))\n",
    "ax_G.imshow(im[:,:,1], cmap=plt.get_cmap('gray'))\n",
    "ax_B.imshow(im[:,:,2], cmap=plt.get_cmap('gray'))\n",
    "plt.show()\n"
   ]
  },
  {
   "cell_type": "markdown",
   "metadata": {},
   "source": [
    "Or to emphasize the colours a bit more, we can change the colour maps."
   ]
  },
  {
   "cell_type": "code",
   "execution_count": null,
   "metadata": {
    "scrolled": true
   },
   "outputs": [],
   "source": [
    "\n",
    "myfig = plt.figure(figsize=(18,4))\n",
    "ax_R = myfig.add_subplot(1,3,1)\n",
    "plt.title(\"Red channel\")\n",
    "ax_G = myfig.add_subplot(1,3,2)\n",
    "plt.title(\"Green channel\")\n",
    "ax_B = myfig.add_subplot(1,3,3)\n",
    "plt.title(\"Blue channel\")\n",
    "\n",
    "ax_R.imshow(im[:,:,0], cmap=plt.cm.Reds)\n",
    "ax_G.imshow(im[:,:,1], cmap=plt.cm.Greens)\n",
    "ax_B.imshow(im[:,:,2], cmap=plt.cm.Blues)\n",
    "plt.show()\n"
   ]
  },
  {
   "cell_type": "markdown",
   "metadata": {
    "collapsed": true
   },
   "source": [
    "\n",
    "Following Nishimoto et al. (2011), we convert the RGB colour image into the CIE L\\*a\\*b\\* colour space, and then keep only the \"L\" values, namely *luminance*. To do this, the __scikit-image__ (http://scikit-image.org/) library provides useful functions; in particular, we shall use the *color* module, as below.\n"
   ]
  },
  {
   "cell_type": "code",
   "execution_count": null,
   "metadata": {
    "scrolled": false
   },
   "outputs": [],
   "source": [
    "from skimage import color as col\n",
    "\n",
    "# Re-read the original image from file.\n",
    "im = imageio.imread(\"img/chelsea.png\")\n",
    "im_xyz = col.rgb2xyz(im) # convert from RGB to XYZ colour space\n",
    "im_cielab = col.xyz2lab(im_xyz) # convert from XYZ to CIE L*a*b* colour space.\n",
    "\n",
    "print(\"RGB:\")\n",
    "print(\"Shape:\", im.shape, \"Type:\", type(im), \"First value (L*,a*,b*):\", im[0,0,:])\n",
    "print(\"XYZ:\")\n",
    "print(\"Shape:\", im_xyz.shape, \"Type:\", type(im_xyz), \"First value (X,Y,Z):\", im_xyz[0,0,:])\n",
    "print(\"L*a*b*:\")\n",
    "print(\"Shape:\", im_cielab.shape, \"Type:\", type(im_cielab), \"First value (L*,a*,b*):\", im_cielab[0,0,:])\n"
   ]
  },
  {
   "cell_type": "markdown",
   "metadata": {},
   "source": [
    "Note that the output of these colour space conversions takes the form of the familiar *ndarray* of numpy. Let us now extract the \"lightness\" or \"luminance\" information and discard the colour information from the CIE-L\\*a\\*b\\* representation, and compare it with a typical \"grayscale\" image made of non-uniform linear combination of pixel values from RGB channels."
   ]
  },
  {
   "cell_type": "code",
   "execution_count": null,
   "metadata": {},
   "outputs": [],
   "source": [
    "\n",
    "im_L = im_cielab[:,:,0] # the luminance channel of CIE-Lab.\n",
    "im_gs = col.rgb2gray(im) # the \"luminance\" by a non-uniform weighted ave of RGB.\n",
    "\n",
    "myfig = plt.figure(figsize=(18,9))\n",
    "ax_L = myfig.add_subplot(1,2,1)\n",
    "plt.title(\"Luminance channel (via CIE L*a*b* transform)\")\n",
    "plt.axis(\"off\")\n",
    "ax_gs = myfig.add_subplot(1,2,2)\n",
    "plt.title(\"Grayscale via non-uniform average of RGB channels\")\n",
    "plt.axis(\"off\")\n",
    "ax_L.imshow(im_L, cmap=plt.get_cmap('gray'))\n",
    "ax_gs.imshow(im_gs, cmap=plt.get_cmap('gray'))\n",
    "\n",
    "plt.show()\n"
   ]
  },
  {
   "cell_type": "markdown",
   "metadata": {},
   "source": [
    "While subtle, note that the two images are indeed distinct, and that by carrying out this transformation, instead of a three-dimensional image object, we end up with a 2D array (of *ndarray* type) that will be the signal to which we apply our 2D Gabor filters.\n",
    "\n",
    "### Exercises (D):\n",
    "\n",
    "0. Re-run the above steps for the other \"stock\" images we have prepared in the `img` directory. In addition to the cat (`chelsea.png`), there is also the boy (`bishop.png`) and the parrots (`parrots.png`). Just as above, separate and visualize the three colour channels of the RGB image, then make the conversion to CIE-L\\*a\\*b\\* space, and compare the luminosity channel with the off-the-shelf grayscale output. Save these images to file using `imwrite` (the counterpart to `imread`).\n",
    "\n",
    "0. Compare the luminosity and grayscale forms of the three original images with others using different hardware; do the images (both luminance and grayscale) appear largely the same across hardware (different monitor types, etc.)? If there are differences for either or both of these, attempt to describe them.\n",
    "\n",
    "___"
   ]
  },
  {
   "cell_type": "markdown",
   "metadata": {},
   "source": [
    "Just as in the one-dimensional case, we shall use the convolution operation on two signals (the input signal and our filter) to produce a new signal, which shall form the Gabor filter response. The only difference here is that the domain is the real plane rather than the real line. Convolution is an extremely computationally intensive procedure, and making use of standard libraries is recommended. We use the __ndimage__ module from __scipy__, in particular the `convolve` function (see https://docs.scipy.org/doc/scipy/reference/ndimage.html). This function has two main arguments:\n",
    "\n",
    " - `input`: an `ndarray` object that will be our input signal, usually a particular digital image or individual frames of a movie.\n",
    " - `weights`: an `ndarray` object that contains the values of our 2D Gabor filter.\n",
    "\n",
    "Let's write up a function to generate a \"kernel\" of weights for use in convolutions. Typically the kernel array will be much smaller than the images we convolve them with."
   ]
  },
  {
   "cell_type": "code",
   "execution_count": null,
   "metadata": {
    "collapsed": true
   },
   "outputs": [],
   "source": [
    "\n",
    "def fil_kernel(paras, n_stds=3):\n",
    "    '''\n",
    "    Complex values of 2D Gabor filter, for use in convolution.\n",
    "    When applied to images, this is typically called\n",
    "    The linear size of the filter is determined as a multiple\n",
    "    of the standard deviation of the Gaussian envelope, and the\n",
    "    values passed to the filter are symmetric about zero.\n",
    "    \n",
    "    USAGE: pass the parameters only; the size of the grid of\n",
    "    response values generated depends on these.\n",
    "    '''\n",
    "    \n",
    "    pixnum = 2*math.ceil(n_stds*paras[\"sdev\"])\n",
    "    \n",
    "    y0 = pixnum/2\n",
    "    x0 = pixnum/2\n",
    "    y, x = np.mgrid[-y0:(y0+1), -x0:(x0+1)]\n",
    "    \n",
    "    # Spatial frequency in polar coordinates.\n",
    "    u = paras[\"freqs\"] * math.cos(paras[\"dir\"])\n",
    "    v = paras[\"freqs\"] * math.sin(paras[\"dir\"])\n",
    "    # Computations.\n",
    "    envelope = G2_envelope(x=x, y=y,\n",
    "                           amp=paras[\"amp\"]/(2*math.pi*paras[\"sdev\"]**2),\n",
    "                           sdev=paras[\"sdev\"])\n",
    "    out = {\"real\": None, \"imag\": None}\n",
    "    out[\"real\"] = envelope * G2_carrier_real(x=x, y=y, freqx=u, freqy=v, phase=paras[\"phase\"])\n",
    "    out[\"imag\"] = envelope * G2_carrier_imag(x=x, y=y, freqx=u, freqy=v, phase=paras[\"phase\"])\n",
    "    \n",
    "    return out\n"
   ]
  },
  {
   "cell_type": "markdown",
   "metadata": {},
   "source": [
    "Let's compare the output of our kernel (namely, our 2D Gabor filter) and that of the Gabor filter implemented in the scikit-image *filters* module (http://scikit-image.org/docs/dev/api/skimage.filters.html). "
   ]
  },
  {
   "cell_type": "code",
   "execution_count": null,
   "metadata": {},
   "outputs": [],
   "source": [
    "from skimage import filters as skfil\n",
    "\n",
    "myparas = {\"freqs\": 8/max(PIX_W,PIX_H),\n",
    "           \"dir\": math.pi/2,\n",
    "           \"amp\": 1,\n",
    "           \"sdev\": max(PIX_W,PIX_H)/5,\n",
    "           \"phase\": 0}\n",
    "\n",
    "ours = fil_kernel(paras=myparas, n_stds=3)\n",
    "\n",
    "theirs = skfil.gabor_kernel(frequency=myparas[\"freqs\"],\n",
    "                            theta=myparas[\"dir\"],\n",
    "                            bandwidth=1,\n",
    "                            sigma_x=myparas[\"sdev\"],\n",
    "                            sigma_y=myparas[\"sdev\"],\n",
    "                            n_stds=3,\n",
    "                            offset=0)\n",
    "\n",
    "myfig = plt.figure(figsize=(12,6))\n",
    "\n",
    "ax_ours = myfig.add_subplot(1,2,1)\n",
    "plt.title(\"Our Gabor filter\")\n",
    "topass = ax_ours.imshow(ours[\"real\"], cmap=plt.cm.BuPu_r)\n",
    "plt.colorbar(topass)\n",
    "\n",
    "ax_theirs = myfig.add_subplot(1,2,2)\n",
    "plt.title(\"Reference Gabor filter (scikit-image)\")\n",
    "topass = ax_theirs.imshow(theirs.real, cmap=plt.cm.BuPu_r)\n",
    "plt.colorbar(topass)\n",
    "\n",
    "plt.show()\n"
   ]
  },
  {
   "cell_type": "markdown",
   "metadata": {},
   "source": [
    "While there is no need to match up our filter with this standard one (the filter implementation is quite arbitrary), clearly they are similar, and with appropriate parameter tuning they can be closely aligned. In any case, we shall be using ours.\n",
    "\n",
    "With a kernel of weights to pass to the convolution routine, we are ready to execute this routine."
   ]
  },
  {
   "cell_type": "code",
   "execution_count": null,
   "metadata": {},
   "outputs": [],
   "source": [
    "from scipy import ndimage as ndi\n",
    "\n",
    "im = imageio.imread(\"img/chelsea.png\")\n",
    "im_L = col.xyz2lab(col.rgb2xyz(im))[:,:,0]\n",
    "PIX_H = im_L.shape[0]\n",
    "PIX_W = im_L.shape[1]\n",
    "\n",
    "myparas = {\"freqs\": 32/max(PIX_W,PIX_H),\n",
    "           \"dir\": math.pi/2,\n",
    "           \"amp\": 0.1,\n",
    "           \"sdev\": max(PIX_W,PIX_H)/20,\n",
    "           \"phase\": 0}\n",
    "mymode = \"reflect\"\n",
    "mycval = 0\n",
    "\n",
    "fil_values = fil_kernel(paras=myparas, n_stds=3)\n",
    "\n",
    "print(\"Convolving w/ real part (takes time)...\", end=\" \")\n",
    "fil_response_real = ndi.convolve(input=im_L, weights=fil_values[\"real\"], mode=mymode, cval=mycval)\n",
    "print(\"OK.\")\n",
    "print(\"Convolving w/ imaginary part (takes time)...\", end=\" \")\n",
    "fil_response_imag = ndi.convolve(input=im_L, weights=fil_values[\"imag\"], mode=mymode, cval=mycval)\n",
    "print(\"OK.\")\n",
    "\n"
   ]
  },
  {
   "cell_type": "code",
   "execution_count": null,
   "metadata": {
    "scrolled": false
   },
   "outputs": [],
   "source": [
    "\n",
    "myfig = plt.figure(figsize=(18,12))\n",
    "\n",
    "ax_signal = myfig.add_subplot(2,3,1)\n",
    "plt.title(\"Input signal\")\n",
    "ax_signal.imshow(im_L, cmap=plt.get_cmap('gray'))\n",
    "\n",
    "ax_filter = myfig.add_subplot(2,3,2)\n",
    "plt.title(\"2D Gabor filter (real part)\")\n",
    "topass = ax_filter.imshow(fil_values[\"real\"], cmap=plt.cm.BuPu_r)\n",
    "plt.colorbar(topass)\n",
    "\n",
    "ax_response = myfig.add_subplot(2,3,3)\n",
    "plt.title(\"Filter response\")\n",
    "topass = ax_response.imshow(fil_response_real, cmap=plt.cm.BuPu_r)\n",
    "plt.colorbar(topass)\n",
    "\n",
    "ax_signal = myfig.add_subplot(2,3,4)\n",
    "plt.title(\"Input signal\")\n",
    "ax_signal.imshow(im_L, cmap=plt.get_cmap('gray'))\n",
    "\n",
    "ax_filter = myfig.add_subplot(2,3,5)\n",
    "plt.title(\"2D Gabor filter (imaginary part)\")\n",
    "topass = ax_filter.imshow(fil_values[\"imag\"], cmap=plt.cm.BuPu_r)\n",
    "plt.colorbar(topass)\n",
    "\n",
    "ax_response = myfig.add_subplot(2,3,6)\n",
    "plt.title(\"Filter response\")\n",
    "topass = ax_response.imshow(fil_response_imag, cmap=plt.cm.BuPu_r)\n",
    "plt.colorbar(topass)\n",
    "\n",
    "plt.show()\n"
   ]
  },
  {
   "cell_type": "markdown",
   "metadata": {},
   "source": [
    "Based on the convolution above, we shall construct features as follows. Using every pixel of both the real and imaginary parts is neither necessary nor practical. Given an image $I$ (mapping $(x,y) \\mapsto I(x,y) \\in \\mathbb{R}$ pixel values) and our Gabor filter (mapping $(x,y) \\mapsto F(x,y) \\in \\mathbb{C}$ filter values), in our computations thus far we have acquired the raw filter response $\\widetilde{I}$, defined on the plane as\n",
    "\n",
    "\\begin{align}\n",
    "\\widetilde{I}(x,y) = (I \\ast F)(x,y) \\in \\mathbb{C}, \\quad (x,y) \\in \\mathbb{R}^{2}\n",
    "\\end{align}\n",
    "\n",
    "Our features will be derived from the *magnitude* of the complex filter response, namely $|\\widetilde{I}(x,y)|$, where $|z| = \\sqrt{\\text{Re}(z)^{2} + \\text{Im}(z)^{2}}$. This is computed and visualized below."
   ]
  },
  {
   "cell_type": "code",
   "execution_count": null,
   "metadata": {},
   "outputs": [],
   "source": [
    "\n",
    "# Magnitude of the complex filter response.\n",
    "fil_response_magnitude = np.sqrt((fil_response_real**2+fil_response_imag**2))\n",
    "\n",
    "myfig = plt.figure(figsize=(18,12))\n",
    "\n",
    "ax_signal = myfig.add_subplot(1,2,1)\n",
    "plt.title(\"Input signal\")\n",
    "ax_signal.imshow(im_L, cmap=plt.get_cmap('gray'))\n",
    "\n",
    "ax_filter = myfig.add_subplot(1,2,2)\n",
    "plt.title(\"Filter response magnitude\")\n",
    "ax_filter.imshow(fil_response_magnitude, cmap=plt.cm.Blues)\n",
    "\n",
    "plt.show()\n"
   ]
  },
  {
   "cell_type": "markdown",
   "metadata": {},
   "source": [
    "### Exercises (E):\n",
    "\n",
    "0. Explore how filter parameters impact the result of the response after convolution. In particular, what kind of role does each of `dir`, `freqs`, `stdev`, and `n_stds` play? Try extreme values of each, and describe the consequences.\n",
    "\n",
    "0. As a follow-up to the previous exercise, repeat your investigation of the role of each parameter for each of the stock images (`chelsea.png`, `bishop.png`, `parrots.png`). In order to \"pick up\" relevant features, do you need to have rather different filter settings from image to image?\n",
    "\n",
    "An important point should be reinforced here: in general, the learning machine will not (and indeed cannot) know the precise content of the images it will be presented with ahead of time. You have observed that different filter settings lead to high/low sensitivity, depending on the image contents. This implies that in order to have a model of this form that can capture a wide variety of image features for arbitrary images, a large variety of hand-built filters will be required.\n",
    "\n",
    "___"
   ]
  },
  {
   "cell_type": "markdown",
   "metadata": {},
   "source": [
    "Using this large array of pixels can be unwieldy, so we shall take sub-patches of the image, and compute statistics of the magnitude values computed within each distinct patch. A bit more formally, if we partition the image $I$ into disjoint patches, say $\\{I_{1},\\ldots,I_{k}\\}$ (all functions), then a natural response for the $i$th patch will be $\\widetilde{r}_{i}$ defined as\n",
    "\n",
    "\\begin{align}\n",
    "\\widetilde{r}_{i} = \\frac{1}{|\\text{dom}(I_{i})|} \\sum_{(a,b) \\in \\text{dom}(I_{i})} |I_{i}(a,b)|,\n",
    "\\end{align}\n",
    "\n",
    "and so on for all $i=1,\\ldots,k$. Note that in addition to the sample mean of each patch, the median, max, min, and other statistics can also be considered. With this initial response $\\widetilde{r}_{i}$ in hand, we pass it through a non-linear compression function to get the final response, defined\n",
    "\n",
    "\\begin{align}\n",
    "r_{i} = \\log(1+\\widetilde{r}_{i}).\n",
    "\\end{align}\n",
    "\n",
    "These two final steps are implemented as follows."
   ]
  },
  {
   "cell_type": "code",
   "execution_count": null,
   "metadata": {
    "collapsed": true
   },
   "outputs": [],
   "source": [
    "\n",
    "def patch_stats(image, grid_w, grid_h):\n",
    "    '''\n",
    "    A simple function which takes an image, divides it\n",
    "    into a (grid_y x grid_x) grid of patches, and iterates\n",
    "    over the patches, computing per-patch statistics.\n",
    "    \n",
    "    In the special case of grid_x=grid_y=1, stats are for the whole image.\n",
    "    '''\n",
    "    \n",
    "    pix_h = image.shape[0] # number of pixels\n",
    "    pix_w = image.shape[1]\n",
    "    \n",
    "    gridsize = grid_w*grid_h\n",
    "    \n",
    "    dh = math.floor(pix_h/grid_h) # typical (non-edge) patch sizes\n",
    "    dw = math.floor(pix_w/grid_w)\n",
    "    \n",
    "    meanvec = np.zeros(gridsize, dtype=np.float32) # initialize vectors to hold the stats\n",
    "    medvec = np.zeros(gridsize, dtype=np.float32)\n",
    "    maxvec = np.zeros(gridsize, dtype=np.float32)\n",
    "    minvec = np.zeros(gridsize, dtype=np.float32)\n",
    "    \n",
    "    # Loop over the patches, starting at the top-left, and doing one grid row at a time.\n",
    "    idx = 0\n",
    "    for i in range(grid_h):\n",
    "        \n",
    "        start_h = i * dh\n",
    "        if (i+1 == grid_h):\n",
    "            stop_h = pix_h\n",
    "        else:\n",
    "            stop_h = start_h + dh\n",
    "        \n",
    "        for j in range(grid_w):\n",
    "            \n",
    "            start_w = j * dw\n",
    "            if (j+1 == grid_w):\n",
    "                stop_w = pix_w\n",
    "            else:\n",
    "                stop_w = start_w + dw\n",
    "            \n",
    "            patch = image[start_h:stop_h, start_w:stop_w]\n",
    "            meanvec[idx] = np.mean(patch) # patch mean\n",
    "            medvec[idx] = np.median(patch) # patch median\n",
    "            maxvec[idx] = np.max(patch) # patch maximum\n",
    "            minvec[idx] = np.min(patch) # patch minimum\n",
    "            idx += 1\n",
    "    \n",
    "    return {\"mean\": meanvec, \"med\": medvec, \"max\": maxvec, \"min\": minvec}\n",
    "\n",
    "\n",
    "def nonlin(u):\n",
    "    '''\n",
    "    A non-linear function to pass per-patch magnitude statistics through.\n",
    "    '''\n",
    "    \n",
    "    return np.log(1+u)\n"
   ]
  },
  {
   "cell_type": "markdown",
   "metadata": {},
   "source": [
    "Here we have:\n",
    "\n",
    " - `patch_stats`: takes the desired grid size, and loops over each patch, computing the desired statistics.\n",
    " \n",
    " - `nonlin`: the final non-linear compressive mapping, whose returned value will be used as a final feature value for our prediction tasks later.\n",
    "\n",
    "Let's test that the per-patch statistics are indeed taking the sorts of values we expect."
   ]
  },
  {
   "cell_type": "code",
   "execution_count": null,
   "metadata": {
    "scrolled": false
   },
   "outputs": [],
   "source": [
    "mygrid_h = 5\n",
    "mygrid_w = 6\n",
    "\n",
    "# Compute per-patch statistics.\n",
    "mystats = patch_stats(image=fil_response_magnitude,\n",
    "                      grid_h=mygrid_h, grid_w=mygrid_w)\n",
    "\n",
    "# Pass the per-patch magnitude statistics through a non-linear function,\n",
    "# and arrange into a matrix such that correspondence between feature\n",
    "# values and sub-regions of the image is clear.\n",
    "features = nonlin(mystats[\"mean\"]).reshape((mygrid_h,mygrid_w))\n",
    "\n",
    "myfig = plt.figure(figsize=(18,6))\n",
    "\n",
    "ax_signal = myfig.add_subplot(1,3,1)\n",
    "plt.title(\"Input signal\")\n",
    "ax_signal.set_xticks(np.arange(0, PIX_W, math.ceil(PIX_W/mygrid_w)))\n",
    "ax_signal.set_yticks(np.arange(0, PIX_H, math.ceil(PIX_H/mygrid_h)))\n",
    "ax_signal.grid(linestyle=\"-\", color='black')\n",
    "ax_signal.set_yticklabels([])\n",
    "ax_signal.set_xticklabels([])\n",
    "ax_signal.imshow(im_L, cmap=plt.get_cmap('gray'))\n",
    "\n",
    "ax_filter = myfig.add_subplot(1,3,2)\n",
    "plt.title(\"Magnitude of filter response\")\n",
    "ax_filter.set_xticks(np.arange(0, PIX_W, math.ceil(PIX_W/mygrid_w)))\n",
    "ax_filter.set_yticks(np.arange(0, PIX_H, math.ceil(PIX_H/mygrid_h)))\n",
    "ax_filter.grid(linestyle=\"-\", color='black')\n",
    "ax_filter.set_yticklabels([])\n",
    "ax_filter.set_xticklabels([])\n",
    "ax_filter.imshow(fil_response_magnitude, cmap=plt.cm.Blues)\n",
    "\n",
    "ax_features = myfig.add_subplot(1,3,3)\n",
    "plt.title(\"Feature values computed via patches\")\n",
    "topass = ax_features.imshow(features, cmap=plt.cm.Blues)\n",
    "ax_features.axis(\"off\")\n",
    "myfig.colorbar(topass)\n",
    "plt.show()\n",
    "\n"
   ]
  },
  {
   "cell_type": "markdown",
   "metadata": {},
   "source": [
    "### Exercises (F):\n",
    "\n",
    "0. Adjust the `sdev` parameter to comparatively large and small values; having done this, how do you think the grid size (via parameters `mygrid_h` and `mygrid_w`) should be adjusted? Try both coarse and fine grids, and comment on how the extracted feature values (right-most plot) change.\n",
    "\n",
    "0. Repeat the above exercise for all three stock images (`chelsea.png`, `bishop.png`, `parrots.png`), making references to the qualitative differences in the original images.\n"
   ]
  },
  {
   "cell_type": "markdown",
   "metadata": {},
   "source": [
    "When we have a large number of digital images or a video with many frames, then it will be worthwhile to define a function that runs through the above feature-selection process in an end to end fashion."
   ]
  },
  {
   "cell_type": "code",
   "execution_count": null,
   "metadata": {
    "collapsed": true
   },
   "outputs": [],
   "source": [
    "\n",
    "def G2_getfeatures(ims, fil_paras, gridshape, mode=\"reflect\", cval=0):\n",
    "    '''\n",
    "    A routine which takes an array of images with 4 coords.\n",
    "    Dim 1 and 2: pixel position.\n",
    "    Dim 3: RGB channel index.\n",
    "    Dim 4: Time index.\n",
    "    '''\n",
    "    \n",
    "    num_ims = ims.shape[3]\n",
    "    num_feats = gridshape[0] * gridshape[1]\n",
    "    \n",
    "    out = np.zeros(num_ims*num_feats, dtype=np.float32).reshape((num_ims,num_feats))\n",
    "    \n",
    "    # Generate the kernel prior to loop over images.\n",
    "    fil_values = fil_kernel(paras=fil_paras, n_stds=2)\n",
    "    \n",
    "    # Iterate over images.\n",
    "    for i in range(num_ims):\n",
    "        \n",
    "        featvec = np.arange(0, dtype=np.float32)\n",
    "        \n",
    "        # Slice -> XYZ -> CIE Lab -> Take only Luminance channel.\n",
    "        im = col.xyz2lab(col.rgb2xyz(ims[:,:,:,i]))[:,:,0]\n",
    "        \n",
    "        # Convolution.\n",
    "        fil_response_real = ndi.convolve(input=im,\n",
    "                                         weights=fil_values[\"real\"],\n",
    "                                         mode=mode, cval=cval)\n",
    "        fil_response_imag = ndi.convolve(input=im,\n",
    "                                         weights=fil_values[\"imag\"],\n",
    "                                         mode=mode, cval=cval)\n",
    "        fil_response_magnitude = np.sqrt((fil_response_real**2 + fil_response_imag**2))\n",
    "        \n",
    "        # Per-patch statistics.\n",
    "        imstats = patch_stats(image=fil_response_magnitude, grid_h=gridshape[0], grid_w=gridshape[1])\n",
    "            \n",
    "        # Pass per-patch statistics through non-linearity to compute final feature vector.\n",
    "        imfeats = nonlin(imstats[\"mean\"])\n",
    "        \n",
    "        # Store the feature vector for this image.\n",
    "        out[i,:] = imfeats\n",
    "    \n",
    "    # Output is the array of feature vectors, one feature vector for each image.\n",
    "    return out\n"
   ]
  },
  {
   "cell_type": "markdown",
   "metadata": {
    "collapsed": true
   },
   "source": [
    "### Exercises (G):\n",
    "\n",
    "0. Using the `G2_getfeatures` function multiple times, create a \"bank\" of filters by creating multiple dictionaries to be passed via the argument `fil_paras`. Feature vectors from each distinct filter (specified by one parameter dict) should be concatenated in order to get one long feature vector for each image as the final output.\n",
    "\n",
    "0. In addition to modifying filter parameters, experiment with other patch statistics besides the mean (median/max/min are already implemented). How does this impact the final feature values? Which of these statistics seems most useful in practice? Why?\n"
   ]
  },
  {
   "cell_type": "markdown",
   "metadata": {
    "collapsed": true
   },
   "source": [
    "### End of lesson: paste any routines to be re-used in the `scripts/FilterBank.py` file."
   ]
  },
  {
   "cell_type": "markdown",
   "metadata": {
    "collapsed": true
   },
   "source": [
    "## References:\n",
    "\n",
    " - Adelson, Edward H., and James R. Bergen. \"Spatiotemporal energy models for the perception of motion.\" JOSA A 2.2 (1985): 284-299.\n",
    " - DeAngelis, Gregory C., Izumi Ohzawa, and R. D. Freeman. \"Spatiotemporal organization of simple-cell receptive fields in the cat's striate cortex. I. General characteristics and postnatal development.\" Journal of neurophysiology 69.4 (1993): 1091-1117.\n",
    " - Heeger, David J. \"Optical flow using spatiotemporal filters.\" International journal of computer vision 1.4 (1988): 279-302.\n",
    " - Jones, Judson P., and Larry A. Palmer. \"An evaluation of the two-dimensional Gabor filter model of simple receptive fields in cat striate cortex.\" Journal of neurophysiology 58.6 (1987): 1233-1258.\n",
    " - Watson, Andrew B., and Albert J. Ahumada. \"Model of human visual-motion sensing.\" JOSA A 2.2 (1985): 322-342.\n",
    " - Nishimoto, Shinji, et al. \"Reconstructing visual experiences from brain activity evoked by natural movies.\" Current Biology 21.19 (2011): 1641-1646.\n",
    " - Texture classification reference: http://scikit-image.org/docs/dev/auto_examples/features_detection/plot_gabor.html\n",
    " - Facial recognition reference: Brain-like Integrated Systems Lab, Department of Human Intelligence Systems, Graduate School of Life Science and Systems Engineering, Kyushu Institute of Technology. URL: http://www.brain.kyutech.ac.jp/~morie/topics/gabor_en.shtml"
   ]
  },
  {
   "cell_type": "markdown",
   "metadata": {
    "collapsed": true
   },
   "source": [
    "## Miscellany:"
   ]
  },
  {
   "cell_type": "code",
   "execution_count": null,
   "metadata": {
    "collapsed": true
   },
   "outputs": [],
   "source": [
    "\n",
    "## Frequency response of the Gabor filter is obtained analytically as the (complex) Fourier transform.\n",
    "def G_ft_real(f, amp, sdev, freq, phase):\n",
    "    '''\n",
    "    Real part of the complex Gabor filter's frequency response.\n",
    "    '''\n",
    "    topass = (f - freq) * sdev\n",
    "    env = G_envelope(t=topass, amp=1, sdev=1)\n",
    "    out = math.cos(phase) * amp * sdev * env\n",
    "    return out\n",
    "\n",
    "def G_ft_imag(f, amp, sdev, freq, phase):\n",
    "    '''\n",
    "    Imaginary part of the complex Gabor filter's frequency response.\n",
    "    '''\n",
    "    topass = (f - freq) * sdev\n",
    "    env = G_envelope(t=topass, amp=1, sdev=1)\n",
    "    out = math.sin(phase) * amp * sdev * env\n",
    "    return out\n",
    "\n",
    "\n",
    "def G_fr_real(f, paras):\n",
    "    '''\n",
    "    Frequency response for our custom-built filter (real part).\n",
    "    Assumes that f is an array of frequency settings.\n",
    "    '''\n",
    "    out = G_ft_real(f=f, amp=paras[\"amp\"], sdev=paras[\"sdev\"], freq=paras[\"freq\"], phase=paras[\"phase\"])\n",
    "    return out\n",
    "\n",
    "def G_fr_imag(f, paras):\n",
    "    '''\n",
    "    Frequency response for our custom-built filter (real part).\n",
    "    Assumes that f is an array of frequency settings.\n",
    "    '''\n",
    "    out = G_ft_imag(f=f, amp=paras[\"amp\"], sdev=paras[\"sdev\"], freq=paras[\"freq\"], phase=paras[\"phase\"])\n",
    "    return out\n"
   ]
  },
  {
   "cell_type": "code",
   "execution_count": null,
   "metadata": {
    "scrolled": false
   },
   "outputs": [],
   "source": [
    "\n",
    "myparas = {\"amp\": 1/(2*math.pi),\n",
    "           \"sdev\": 1,\n",
    "           \"freq\": 0.25,\n",
    "           \"phase\": 0}\n",
    "\n",
    "f_inputs = np.linspace(0,10,500)\n",
    "\n",
    "myfig = plt.figure(figsize=(10,10))\n",
    "plt.plot(f_inputs, G_fr_real(f=f_inputs, paras=myparas))\n",
    "plt.plot(f_inputs, G_fr_imag(f=f_inputs, paras=myparas))\n",
    "plt.title(\"Frequency response of 1D Gabor filter\")\n",
    "plt.xlabel(\"Frequency (Hz)\")\n",
    "plt.show()\n"
   ]
  }
 ],
 "metadata": {
  "kernelspec": {
   "display_name": "Python 3",
   "language": "python",
   "name": "python3"
  },
  "language_info": {
   "codemirror_mode": {
    "name": "ipython",
    "version": 3
   },
   "file_extension": ".py",
   "mimetype": "text/x-python",
   "name": "python",
   "nbconvert_exporter": "python",
   "pygments_lexer": "ipython3",
   "version": "3.6.3"
  }
 },
 "nbformat": 4,
 "nbformat_minor": 2
}
