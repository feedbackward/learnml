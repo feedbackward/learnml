{
 "cells": [
  {
   "cell_type": "markdown",
   "metadata": {},
   "source": [
    "# データ源の説明\n",
    "\n",
    "このチュートリアルで使う主要の実データについて概説する。ここでは主にダウンロード方法等について述べる。入手してからの手順はチュートリアルの別のページで詳説する。\n",
    "\n",
    "___"
   ]
  },
  {
   "cell_type": "markdown",
   "metadata": {},
   "source": [
    "__MNIST手書き文字__\n",
    "\n",
    "パターン認識の典型的なベンチマークデータ。下記のリンクにて公開されている：\n",
    "\n",
    "    http://yann.lecun.com/exdb/mnist/\n",
    " \n",
    "インターネットに接続できれば誰でも利用できる。登録等は不要。\n",
    "\n",
    "入手後、`data/MNIST`に保存されていることを前提とする。\n",
    "\n",
    "*チュートリアルのリンク：* <a href=\"DataMNISTJPN.ipynb\">二値データを整える</a>\n",
    "\n",
    "___\n",
    "\n",
    "__視覚刺激と脳活動__\n",
    "\n",
    "被験者に提示した刺激画像とそのときの脳活動を計測した*vim-2*というデータセット。別名「Gallant Lab Natural Movie 4T fMRI Data set」である。CRCNS (Collaborative Research in Computational Neuroscience)のホームページから入手可能である：\n",
    "\n",
    "    https://crcns.org/data-sets/vc/vim-2\n",
    "\n",
    "公開されているデータではあるが、CRCNS.orgへの登録が必要である。費用はないが、下記のリンク\n",
    "\n",
    "    https://crcns.org/request-account\n",
    "  \n",
    "で申請してから処理するのに一定の時間が要される。無条件に公開しているわけではなく、主に研究目的に絞られている模様。\n",
    "\n",
    "入手後、`data/vim-2`に保存されていることを前提とする。\n",
    "\n",
    "*チュートリアルのリンク：* <a href=\"Datavim-2JPN.ipynb\">エンコーダ用の階層型データを整える</a>\n"
   ]
  }
 ],
 "metadata": {
  "kernelspec": {
   "display_name": "Python 3",
   "language": "python",
   "name": "python3"
  },
  "language_info": {
   "codemirror_mode": {
    "name": "ipython",
    "version": 3
   },
   "file_extension": ".py",
   "mimetype": "text/x-python",
   "name": "python",
   "nbconvert_exporter": "python",
   "pygments_lexer": "ipython3",
   "version": "3.6.5"
  }
 },
 "nbformat": 4,
 "nbformat_minor": 2
}
