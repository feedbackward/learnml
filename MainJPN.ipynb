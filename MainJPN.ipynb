{
 "cells": [
  {
   "cell_type": "markdown",
   "metadata": {},
   "source": [
    "# 機械学習を学習する\n",
    "\n",
    "このプロジェクトは、機械学習の本質を「肌で感じる」ことを目的とし、序列化された複数のチュートリアルから構成されている。質の高いライブラリが公開されているため、機械学習の基本的なツールは誰もが入手できる時代である。\n",
    "\n",
    "しかし、そのツールを入手しても、「道具を持つこと」と、「道具を使いこなすこと」とはまったく違う。ましてや「道具を改造すること」が必要になったとき、ライブラリの表面を知るだけでは、到底対応できない。\n",
    "\n",
    "下記のチュートリアルでは、単純な学習課題に焦点を当て、確率統計モデルとソフトウェア工学の狭間にある機械学習の本質を実感していただくことを目的とする。\n",
    "\n",
    "__チュートリアルの作成者・管理者:__<br>\n",
    "<a href=\"http://feedbackward.com/\">Matthew J. Holland</a> (Osaka University, Institute for Datability Science)\n",
    "\n",
    "## チュートリアルの内容\n",
    "\n",
    "\n",
    "#### 事前準備、ハードとソフト\n",
    "- <a href=\"SetupYours.ipynb\">自分の計算機で</a>(en)\n",
    "- <a href=\"https://feedbackward.github.io/learnml/azure_use.html\">クラウド任せ：Azureを使う</a>\n",
    "\n",
    "#### データを整える\n",
    "- <a href=\"DataSourcesJPN.ipynb\">データ源の説明</a>\n",
    "- <a href=\"DataMNISTJPN.ipynb\">二値データを整える</a>\n",
    "- <a href=\"Datavim-2JPN.ipynb\">エンコーダ用の階層型データを整える（vim-2）</a>\n",
    "\n",
    "#### モデルを構築する\n",
    "- <a href=\"FilterBankJPN.ipynb\">ガボールフィルタバンクで特徴量を造る</a>\n",
    "\n",
    "#### 学習アルゴリズムを設計する\n",
    "- <a href=\"AlgoIntroJPN.ipynb\">学習アルゴリズムの基本設計</a>\n",
    "- <a href=\"AlgoSparseRegJPN.ipynb\">スパース回帰のための学習アルゴリズム</a>\n",
    "\n",
    "#### 学習機を造る\n",
    "- <a href=\"FinishEncoderJPN.ipynb\">エンコーダを学習する</a>\n",
    "\n",
    "\n",
    "\n",
    "\n"
   ]
  },
  {
   "cell_type": "code",
   "execution_count": null,
   "metadata": {},
   "outputs": [],
   "source": []
  }
 ],
 "metadata": {
  "kernelspec": {
   "display_name": "Python 3",
   "language": "python",
   "name": "python3"
  },
  "language_info": {
   "codemirror_mode": {
    "name": "ipython",
    "version": 3
   },
   "file_extension": ".py",
   "mimetype": "text/x-python",
   "name": "python",
   "nbconvert_exporter": "python",
   "pygments_lexer": "ipython3",
   "version": "3.6.4"
  }
 },
 "nbformat": 4,
 "nbformat_minor": 2
}
