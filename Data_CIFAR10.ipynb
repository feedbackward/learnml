{
 "cells": [
  {
   "cell_type": "markdown",
   "metadata": {},
   "source": [
    "# CIFAR-10 tiny images\n",
    "\n",
    "The *CIFAR-10* data set is a collection of tiny digital images, with simple text labels assigned to each image, reflecting the content of the image."
   ]
  },
  {
   "cell_type": "markdown",
   "metadata": {},
   "source": [
    "__Contents:__\n",
    "- <a href=\"#overview\">Overview of the data set</a>\n",
    "- <a href=\"#data_check\">Examining the (image, label) pairs</a>\n",
    "- <a href=\"#make_h5\">Prepare for training and evaluation</a>\n",
    "___"
   ]
  },
  {
   "cell_type": "markdown",
   "metadata": {},
   "source": [
    "<a id=\"overview\"></a>\n",
    "## Overview of the data set\n",
    "\n",
    "At present (July 2018), the CIFAR-10 data set is hosted by the University of Toronto, and is easily accessed via the home page of Alex Krizhevsky:\n",
    "\n",
    "```\n",
    "http://www.cs.toronto.edu/~kriz/cifar.html\n",
    "```\n",
    "\n",
    "This dataset is a subset of the *Tiny Images* dataset, a large data set of nearly 80 million images with thousands of distinct labels [<a href=\"http://horatio.cs.nyu.edu/mit/tiny/data/index.html\">link</a>]. For reference, __CIFAR__ is an acronym, and stands for the __C__anadian __I__nstitute __f__or __A__dvanced __R__esearch.\n",
    "\n",
    "The CIFAR-10 dataset is typically used for training image classification systems, and includes just ten distinct labels: *airplane*, *automobile*, *bird*, *cat*, *deer*, *dog*, *frog*, *horse*, *ship*, and *truck*. See an example below:"
   ]
  },
  {
   "cell_type": "markdown",
   "metadata": {},
   "source": [
    "<img src=\"img/cifar-10.png\" alt=\"CIFAR-10 examples\" />"
   ]
  },
  {
   "cell_type": "markdown",
   "metadata": {},
   "source": [
    "Basic facts:\n",
    "\n",
    "- 60,000 images\n",
    "- 32x32 colour images\n",
    "- 10 classes\n",
    "- Balanced classes (6,000 images per class)\n",
    "\n",
    "Let's get started. Let's prepare a sub-directory called `cifar10` to store the data. There are three versions of the data available: a Python version, MATLAB version, and binary version. While the Python version is perfectly acceptable, let's prepare using the binary version.\n",
    "\n",
    "```\n",
    "$ cd data/cifar10\n",
    "$ wget http://www.cs.toronto.edu/~kriz/cifar-10-binary.tar.gz\n",
    "$ tar -xzf cifar-10-binary.tar.gz\n",
    "```\n",
    "\n",
    "A directory `cifar-10-batches-bin` is created, with content as follows:\n",
    "\n",
    "```\n",
    "$ ls cifar-10-batches-bin\n",
    "batches.meta.txt  data_batch_2.bin  data_batch_4.bin  readme.html\n",
    "data_batch_1.bin  data_batch_3.bin  data_batch_5.bin  test_batch.bin\n",
    "```\n",
    "\n",
    "The `batches.meta.txt` file just contains label names, one per line. What remains are six batches in binary format: five training batches (`data_batch_*.bin`) and one test batch (`test_batch.bin`). Each batch has 10,000 images. Regarding the balance of classes:\n",
    "\n",
    "> The test batch contains exactly 1000 randomly-selected images from each class. The training batches contain the remaining images in random order, but some training batches may contain more images from one class than another. Between them, the training batches contain exactly 5000 images from each class. \n",
    "\n",
    "Time to dig in to the binary files.\n",
    "___"
   ]
  },
  {
   "cell_type": "markdown",
   "metadata": {},
   "source": [
    "<a id=\"data_check\"></a>\n",
    "## Examining the (image, label) pairs\n",
    "\n",
    "Let us begin by opening a file connection with the training examples.\n"
   ]
  },
  {
   "cell_type": "code",
   "execution_count": 1,
   "metadata": {},
   "outputs": [
    {
     "name": "stdout",
     "output_type": "stream",
     "text": [
      "<_io.BufferedReader name='data/cifar10/cifar-10-batches-bin/data_batch_1.bin'>\n"
     ]
    }
   ],
   "source": [
    "\n",
    "import numpy as np\n",
    "import matplotlib.pyplot as plt\n",
    "\n",
    "toread = \"data/cifar10/cifar-10-batches-bin/data_batch_1.bin\"\n",
    "\n",
    "f_bin = open(toread, mode=\"rb\")\n",
    "\n",
    "print(f_bin)\n"
   ]
  },
  {
   "cell_type": "markdown",
   "metadata": {},
   "source": [
    "Next we make sure that we know how to read the data correctly. The only way to do this is to confirm by inspection, verifying that the content we read is the content the authors tell us we should be reading. From the documentation, the file format is extremely simple:\n",
    "\n",
    "- The basic format is `<1 x label><3072 x pixel>`, namely one byte containing the label, and 3072 bytes containing pixel information. Thus the first 3073 bytes contain all the information required for the first (image,label) pair. This \"row\" of data occurs 10,000 times per batch.\n",
    "- Labels are integers between 0 and 9.\n",
    "- Images are 32 x 32 = 1024 pixels, one byte per pixel. These pixel values are stored one colour channel at a time: red, green, blue.\n",
    "- Values are stored in *row-major* order, so we populate by rows, rather than by columns.\n",
    "\n",
    "This is enough information to get started."
   ]
  },
  {
   "cell_type": "code",
   "execution_count": 2,
   "metadata": {},
   "outputs": [
    {
     "name": "stdout",
     "output_type": "stream",
     "text": [
      "First byte:\n",
      "bytes:  b'\\x06'\n",
      "int:  6\n"
     ]
    }
   ],
   "source": [
    "print(\"First byte:\") # should be a label.\n",
    "b = f_bin.read(1)\n",
    "print(\"bytes: \", b)\n",
    "print(\"int: \", int.from_bytes(b, byteorder=\"big\", signed=False))"
   ]
  },
  {
   "cell_type": "markdown",
   "metadata": {},
   "source": [
    "Note that the byte data `b'\\x06'` shown here by Python is a hexadecimal representation of the first byte. The ``\\x`` breaks simply show where one byte starts and another ends, recalling that using two hexadecimal digits we can represent the integers from $0, 1, 2, \\ldots$ through to $(15 \\times 16^{1} + 15 \\times 16^{0}) = 255$, just as we can with 8 binary digits, or 1 *byte*.\n",
    "\n",
    "Let's look at the content of the next five pixel values, assuming they are unsigned integers."
   ]
  },
  {
   "cell_type": "code",
   "execution_count": 3,
   "metadata": {},
   "outputs": [
    {
     "name": "stdout",
     "output_type": "stream",
     "text": [
      "bytes:  b';'\n",
      "int:  59\n",
      "bytes:  b'+'\n",
      "int:  43\n",
      "bytes:  b'2'\n",
      "int:  50\n",
      "bytes:  b'D'\n",
      "int:  68\n",
      "bytes:  b'b'\n",
      "int:  98\n"
     ]
    }
   ],
   "source": [
    "for i in range(5):\n",
    "    b = f_bin.read(1)\n",
    "    print(\"bytes: \", b)\n",
    "    print(\"int: \", int.from_bytes(b, byteorder=\"big\", signed=False))"
   ]
  },
  {
   "cell_type": "markdown",
   "metadata": {},
   "source": [
    "Well, the pixel values are similar, but whether or not this is correct remains to be seen. Let's `seek()` back to the first pixel value, and read out the whole image into a numpy array."
   ]
  },
  {
   "cell_type": "code",
   "execution_count": 4,
   "metadata": {},
   "outputs": [],
   "source": [
    "f_bin.seek(1)\n",
    "my_array = np.zeros((32,32,3), dtype=np.uint8)\n",
    "for c in range(3): # colour channel\n",
    "    for i in range(32): # rows\n",
    "        for j in range(32): # columns\n",
    "            b = f_bin.read(1)\n",
    "            my_array[i,j,c] = int.from_bytes(b, byteorder=\"big\", signed=False)"
   ]
  },
  {
   "cell_type": "code",
   "execution_count": 5,
   "metadata": {},
   "outputs": [
    {
     "data": {
      "text/plain": [
       "<matplotlib.image.AxesImage at 0x7fa440087358>"
      ]
     },
     "execution_count": 5,
     "metadata": {},
     "output_type": "execute_result"
    },
    {
     "data": {
      "image/png": "[encoded data removed]",
      "text/plain": [
       "<matplotlib.figure.Figure at 0x7fa4401011d0>"
      ]
     },
     "metadata": {},
     "output_type": "display_data"
    }
   ],
   "source": [
    "plt.imshow(my_array)"
   ]
  },
  {
   "cell_type": "markdown",
   "metadata": {},
   "source": [
    "This looks like an image of a frog. The label is 6, namely the seventh label, and from the file `batches.meta.txt` we have\n",
    "\n",
    "```\n",
    "$ cat batches.meta.txt\n",
    "airplane\n",
    "automobile\n",
    "bird\n",
    "cat\n",
    "deer\n",
    "dog\n",
    "frog\n",
    "horse\n",
    "ship\n",
    "truck\n",
    "```\n",
    "\n",
    "which lets us confirm that the label is as we expect. Let's do one more (image,label) pair."
   ]
  },
  {
   "cell_type": "code",
   "execution_count": 6,
   "metadata": {},
   "outputs": [
    {
     "name": "stdout",
     "output_type": "stream",
     "text": [
      "bytes:  b'\\t'\n",
      "int:  9\n"
     ]
    }
   ],
   "source": [
    "b = f_bin.read(1)\n",
    "print(\"bytes: \", b)\n",
    "print(\"int: \", int.from_bytes(b, byteorder=\"big\", signed=False))\n",
    "my_array = np.zeros((32,32,3), dtype=np.uint8)\n",
    "for c in range(3): # colour channel\n",
    "    for i in range(32): # rows\n",
    "        for j in range(32): # columns\n",
    "            b = f_bin.read(1)\n",
    "            my_array[i,j,c] = int.from_bytes(b, byteorder=\"big\", signed=False)"
   ]
  },
  {
   "cell_type": "code",
   "execution_count": 7,
   "metadata": {},
   "outputs": [
    {
     "data": {
      "text/plain": [
       "<matplotlib.image.AxesImage at 0x7fa4338fbba8>"
      ]
     },
     "execution_count": 7,
     "metadata": {},
     "output_type": "execute_result"
    },
    {
     "data": {
      "image/png": "[encoded data removed]",
      "text/plain": [
       "<matplotlib.figure.Figure at 0x7fa44002e080>"
      ]
     },
     "metadata": {},
     "output_type": "display_data"
    }
   ],
   "source": [
    "plt.imshow(my_array)"
   ]
  },
  {
   "cell_type": "markdown",
   "metadata": {},
   "source": [
    "We have an image of a truck, with label value 9, the tenth label. This is precisely as we would expect. Let's close the file for now, and proceed with processing the entire data set."
   ]
  },
  {
   "cell_type": "markdown",
   "metadata": {},
   "source": [
    "<a id=\"make_h5\"></a>\n",
    "## Prepare for training and evaluation\n",
    "\n",
    "In the previous section, we used 3D arrays for visualizing the image contents. For learning, each image will just be a long vector, contained within a 2D array whose rows correspond to distinct images. This array itself will be contained in a hierarchical data file that is quite convenient for fast reading. To do this, we use __PyTables__, a well-established Python package for managing hierarchical data sets and reading/writing large amounts of data [<a href=\"http://www.pytables.org/\">link</a>].\n",
    "\n",
    "We begin by generating a new file."
   ]
  },
  {
   "cell_type": "code",
   "execution_count": 1,
   "metadata": {},
   "outputs": [],
   "source": [
    "import tables\n",
    "import numpy as np\n",
    "import matplotlib.pyplot as plt\n",
    "import os"
   ]
  },
  {
   "cell_type": "code",
   "execution_count": 2,
   "metadata": {},
   "outputs": [],
   "source": [
    "# Key information.\n",
    "NUM_CLASSES = 10\n",
    "NUM_LABELS = 1\n",
    "NUM_PIXELS = 32*32\n",
    "NUM_CHANNELS = 3\n",
    "NUM_BATCHIM = 10000 # number of images per batch.\n",
    "\n",
    "# A dictionary mapping label values (ints) to strings.\n",
    "toread = \"data/cifar10/cifar-10-batches-bin/batches.meta.txt\"\n",
    "LABEL_DICT = {}\n",
    "with open(toread, mode=\"r\", encoding=\"ascii\") as f:\n",
    "    for cnt, line in enumerate(f):\n",
    "        LABEL_DICT[cnt] = line.split(\"\\n\")[0] # to remove the line-breaks.\n",
    "    LABEL_DICT.pop(10) # to remove the empty line."
   ]
  },
  {
   "cell_type": "code",
   "execution_count": 3,
   "metadata": {},
   "outputs": [
    {
     "name": "stdout",
     "output_type": "stream",
     "text": [
      "data/cifar10/data.h5 (File) 'CIFAR-10 data'\n",
      "Last modif.: 'Tue Jul  3 11:13:20 2018'\n",
      "Object Tree: \n",
      "/ (RootGroup) 'CIFAR-10 data'\n",
      "\n"
     ]
    }
   ],
   "source": [
    "# Open file connection, writing new file to disk.\n",
    "myh5 = tables.open_file(\"data/cifar10/data.h5\",\n",
    "                        mode=\"w\",\n",
    "                        title=\"CIFAR-10 data\")\n",
    "print(myh5) # currently empty."
   ]
  },
  {
   "cell_type": "markdown",
   "metadata": {},
   "source": [
    "Within the `RootGroup`, let us add two new groups for training and testing."
   ]
  },
  {
   "cell_type": "code",
   "execution_count": 4,
   "metadata": {},
   "outputs": [
    {
     "name": "stdout",
     "output_type": "stream",
     "text": [
      "data/cifar10/data.h5 (File) 'CIFAR-10 data'\n",
      "Last modif.: 'Tue Jul  3 11:13:20 2018'\n",
      "Object Tree: \n",
      "/ (RootGroup) 'CIFAR-10 data'\n",
      "/test (Group) 'Testing data'\n",
      "/train (Group) 'Training data'\n",
      "\n"
     ]
    }
   ],
   "source": [
    "myh5.create_group(myh5.root, \"train\", \"Training data\")\n",
    "myh5.create_group(myh5.root, \"test\", \"Testing data\")\n",
    "print(myh5)"
   ]
  },
  {
   "cell_type": "markdown",
   "metadata": {},
   "source": [
    "Within `train` and `test`, prepare *enumerative array* (`EArray` class) objects which will be used for storing data. Enumerative arrays are different from typical `Array` objects in that new data can be added freely at a later date."
   ]
  },
  {
   "cell_type": "code",
   "execution_count": 5,
   "metadata": {},
   "outputs": [
    {
     "name": "stdout",
     "output_type": "stream",
     "text": [
      "data/cifar10/data.h5 (File) 'CIFAR-10 data'\n",
      "Last modif.: 'Tue Jul  3 11:13:20 2018'\n",
      "Object Tree: \n",
      "/ (RootGroup) 'CIFAR-10 data'\n",
      "/test (Group) 'Testing data'\n",
      "/test/inputs (EArray(0, 3072)) 'Input images'\n",
      "/test/labels (EArray(0, 1)) 'Label values'\n",
      "/train (Group) 'Training data'\n",
      "/train/inputs (EArray(0, 3072)) 'Input images'\n",
      "/train/labels (EArray(0, 1)) 'Label values'\n",
      "\n"
     ]
    }
   ],
   "source": [
    "# Training data arrays.\n",
    "a = tables.UInt8Atom()\n",
    "myh5.create_earray(myh5.root.train,\n",
    "                   name=\"labels\",\n",
    "                   atom=a,\n",
    "                   shape=(0,NUM_LABELS),\n",
    "                   title=\"Label values\")\n",
    "a = tables.Float32Atom()\n",
    "myh5.create_earray(myh5.root.train,\n",
    "                   name=\"inputs\",\n",
    "                   atom=a,\n",
    "                   shape=(0,NUM_CHANNELS*NUM_PIXELS),\n",
    "                   title=\"Input images\")\n",
    "\n",
    "# Testing data arrays.\n",
    "a = tables.UInt8Atom()\n",
    "myh5.create_earray(myh5.root.test,\n",
    "                   name=\"labels\",\n",
    "                   atom=a,\n",
    "                   shape=(0,NUM_LABELS),\n",
    "                   title=\"Label values\")\n",
    "a = tables.Float32Atom()\n",
    "myh5.create_earray(myh5.root.test,\n",
    "                   name=\"inputs\",\n",
    "                   atom=a,\n",
    "                   shape=(0,NUM_CHANNELS*NUM_PIXELS),\n",
    "                   title=\"Input images\")\n",
    "\n",
    "print(myh5)"
   ]
  },
  {
   "cell_type": "markdown",
   "metadata": {},
   "source": [
    "The arrays are ready to be populated. Note that the first dimension is the \"enlargeable dimension\". It starts with no entries and is thus zero, but grows as we append data.\n",
    "\n",
    "We shall carry out just one simple bit of pre-processing: normalization of pixel values to the unit interval $[0,1]$. This is accomplished by dividing existing pixels by 255. We handle all training batches at once, as below."
   ]
  },
  {
   "cell_type": "code",
   "execution_count": 7,
   "metadata": {},
   "outputs": [],
   "source": [
    "def process_inputs(x):\n",
    "    '''\n",
    "    Normalization of the inputs.\n",
    "    '''\n",
    "    return np.float32(x/255.0)"
   ]
  },
  {
   "cell_type": "code",
   "execution_count": 10,
   "metadata": {},
   "outputs": [
    {
     "name": "stdout",
     "output_type": "stream",
     "text": [
      "-- BATCH 1 --\n",
      "Working... image 0\n",
      "Working... image 1000\n",
      "Working... image 2000\n",
      "Working... image 3000\n",
      "Working... image 4000\n",
      "Working... image 5000\n",
      "Working... image 6000\n",
      "Working... image 7000\n",
      "Working... image 8000\n",
      "Working... image 9000\n",
      "-- BATCH 2 --\n",
      "Working... image 0\n",
      "Working... image 1000\n",
      "Working... image 2000\n",
      "Working... image 3000\n",
      "Working... image 4000\n",
      "Working... image 5000\n",
      "Working... image 6000\n",
      "Working... image 7000\n",
      "Working... image 8000\n",
      "Working... image 9000\n"
     ]
    }
   ],
   "source": [
    "todo_batches = [1, 2]\n",
    "\n",
    "# Storage preparation.\n",
    "datum_input = np.zeros((NUM_CHANNELS*NUM_PIXELS,), dtype=np.float32)\n",
    "datum_label = np.zeros((1,), dtype=np.uint8)\n",
    "\n",
    "# Loop over the batch itinerary.\n",
    "for b in todo_batches:\n",
    "    \n",
    "    fname = \"data_batch_\" + str(b) + \".bin\"\n",
    "    toread = os.path.join(\"data\", \"cifar10\", \"cifar-10-batches-bin\", fname)\n",
    "    f_bin = open(toread, mode=\"rb\")\n",
    "    \n",
    "    print(\"--\", \"BATCH\", b, \"--\")\n",
    "    \n",
    "    for i in range(NUM_BATCHIM):\n",
    "        if i % 1000 == 0:\n",
    "            print(\"Working... image\", i)\n",
    "            \n",
    "        b = f_bin.read(1)\n",
    "        datum_label[0] = int.from_bytes(b, byteorder=\"big\", signed=False)\n",
    "\n",
    "        for j in range(NUM_CHANNELS*NUM_PIXELS):\n",
    "            # Populate a long vector.\n",
    "            b = f_bin.read(1)\n",
    "            datum_input[j] = int.from_bytes(b, byteorder=\"big\", signed=False)\n",
    "            \n",
    "        # Append.\n",
    "        myh5.root.train.inputs.append([process_inputs(datum_input)]) # inputs\n",
    "        myh5.root.train.labels.append([datum_label]) # labels\n",
    "    \n",
    "    f_bin.close()\n"
   ]
  },
  {
   "cell_type": "markdown",
   "metadata": {},
   "source": [
    "Having run the above code, we can clearly see that the desired number of observations have been added to the arrays under the `train` group. "
   ]
  },
  {
   "cell_type": "code",
   "execution_count": 11,
   "metadata": {},
   "outputs": [
    {
     "name": "stdout",
     "output_type": "stream",
     "text": [
      "data/cifar10/data.h5 (File) 'CIFAR-10 data'\n",
      "Last modif.: 'Tue Jul  3 11:15:37 2018'\n",
      "Object Tree: \n",
      "/ (RootGroup) 'CIFAR-10 data'\n",
      "/test (Group) 'Testing data'\n",
      "/test/inputs (EArray(0, 3072)) 'Input images'\n",
      "/test/labels (EArray(0, 1)) 'Label values'\n",
      "/train (Group) 'Training data'\n",
      "/train/inputs (EArray(20000, 3072)) 'Input images'\n",
      "/train/labels (EArray(20000, 1)) 'Label values'\n",
      "\n"
     ]
    }
   ],
   "source": [
    "print(myh5)"
   ]
  },
  {
   "cell_type": "markdown",
   "metadata": {},
   "source": [
    "Let's do the same thing for the `test` group below."
   ]
  },
  {
   "cell_type": "code",
   "execution_count": 12,
   "metadata": {},
   "outputs": [
    {
     "name": "stdout",
     "output_type": "stream",
     "text": [
      "-- TEST BATCH --\n",
      "Working... image 0\n",
      "Working... image 1000\n",
      "Working... image 2000\n",
      "Working... image 3000\n",
      "Working... image 4000\n",
      "Working... image 5000\n",
      "Working... image 6000\n",
      "Working... image 7000\n",
      "Working... image 8000\n",
      "Working... image 9000\n"
     ]
    }
   ],
   "source": [
    "\n",
    "# Storage preparation.\n",
    "datum_input = np.zeros((NUM_CHANNELS*NUM_PIXELS,), dtype=np.float32)\n",
    "datum_label = np.zeros((1,), dtype=np.uint8)\n",
    "\n",
    "# Loop over the batch itinerary.\n",
    "fname = \"test_batch.bin\"\n",
    "toread = os.path.join(\"data\", \"cifar10\", \"cifar-10-batches-bin\", fname)\n",
    "f_bin = open(toread, mode=\"rb\")\n",
    "    \n",
    "print(\"--\", \"TEST BATCH\", \"--\")\n",
    "    \n",
    "for i in range(NUM_BATCHIM):\n",
    "    if i % 1000 == 0:\n",
    "        print(\"Working... image\", i)\n",
    "            \n",
    "    b = f_bin.read(1)\n",
    "    datum_label[0] = int.from_bytes(b, byteorder=\"big\", signed=False)\n",
    "\n",
    "    for j in range(NUM_CHANNELS*NUM_PIXELS):\n",
    "        # Populate a long vector.\n",
    "        b = f_bin.read(1)\n",
    "        datum_input[j] = int.from_bytes(b, byteorder=\"big\", signed=False)\n",
    "            \n",
    "    # Append.\n",
    "    myh5.root.test.inputs.append([process_inputs(datum_input)]) # inputs\n",
    "    myh5.root.test.labels.append([datum_label]) # labels\n",
    "    \n",
    "f_bin.close()\n"
   ]
  },
  {
   "cell_type": "markdown",
   "metadata": {},
   "source": [
    "Let's do one final check of the content, and close the final connection."
   ]
  },
  {
   "cell_type": "code",
   "execution_count": 13,
   "metadata": {},
   "outputs": [
    {
     "name": "stdout",
     "output_type": "stream",
     "text": [
      "data/cifar10/data.h5 (File) 'CIFAR-10 data'\n",
      "Last modif.: 'Tue Jul  3 11:20:18 2018'\n",
      "Object Tree: \n",
      "/ (RootGroup) 'CIFAR-10 data'\n",
      "/test (Group) 'Testing data'\n",
      "/test/inputs (EArray(10000, 3072)) 'Input images'\n",
      "/test/labels (EArray(10000, 1)) 'Label values'\n",
      "/train (Group) 'Training data'\n",
      "/train/inputs (EArray(20000, 3072)) 'Input images'\n",
      "/train/labels (EArray(20000, 1)) 'Label values'\n",
      "\n"
     ]
    }
   ],
   "source": [
    "print(myh5)\n",
    "myh5.close()"
   ]
  },
  {
   "cell_type": "markdown",
   "metadata": {},
   "source": [
    "Finally, let us ensure that our new file houses data in the form that we expect."
   ]
  },
  {
   "cell_type": "code",
   "execution_count": 21,
   "metadata": {},
   "outputs": [
    {
     "data": {
      "image/png": "[encoded data removed]",
      "text/plain": [
       "<matplotlib.figure.Figure at 0x7fef11247550>"
      ]
     },
     "metadata": {},
     "output_type": "display_data"
    },
    {
     "name": "stdout",
     "output_type": "stream",
     "text": [
      "LABEL: 4 = deer\n"
     ]
    },
    {
     "data": {
      "image/png": "[encoded data removed]",
      "text/plain": [
       "<matplotlib.figure.Figure at 0x7fef110c75f8>"
      ]
     },
     "metadata": {},
     "output_type": "display_data"
    },
    {
     "name": "stdout",
     "output_type": "stream",
     "text": [
      "LABEL: 6 = frog\n"
     ]
    },
    {
     "data": {
      "image/png": "[encoded data removed]",
      "text/plain": [
       "<matplotlib.figure.Figure at 0x7fef111bb860>"
      ]
     },
     "metadata": {},
     "output_type": "display_data"
    },
    {
     "name": "stdout",
     "output_type": "stream",
     "text": [
      "LABEL: 0 = airplane\n"
     ]
    },
    {
     "data": {
      "image/png": "[encoded data removed]",
      "text/plain": [
       "<matplotlib.figure.Figure at 0x7fef3c6a12b0>"
      ]
     },
     "metadata": {},
     "output_type": "display_data"
    },
    {
     "name": "stdout",
     "output_type": "stream",
     "text": [
      "LABEL: 4 = deer\n"
     ]
    }
   ],
   "source": [
    "# Read an arbitrary image.\n",
    "f = tables.open_file(\"data/cifar10/data.h5\", mode=\"r\")\n",
    "todo_vals = [1509, 1959, 1988, 9018]\n",
    "for i in range(len(todo_vals)):\n",
    "    todo = todo_vals[i]\n",
    "    myinput = f.root.train.inputs.read(start=todo, stop=(todo+1), step=1)\n",
    "    mylabel = f.root.train.labels.read(start=todo, stop=(todo+1), step=1)\n",
    "    myim = myinput.flatten().reshape((3,32,32))\n",
    "    myim = np.swapaxes(myim, 0, 1) # note the axis swapping.\n",
    "    myim = np.swapaxes(myim, 1, 2) # note the axis swapping.\n",
    "    plt.imshow(myim)\n",
    "    plt.show()\n",
    "    print(\"LABEL:\", mylabel[0][0], \"=\", LABEL_DICT[mylabel[0][0]])\n",
    "f.close()"
   ]
  },
  {
   "cell_type": "markdown",
   "metadata": {},
   "source": [
    "__TODO: Exercises___\n",
    "\n",
    "- Count the number of each label\n",
    "- Make grayscale images for dim reducation (just luminosity, etc.)\n",
    "\n",
    "Add a few simple exercises to keep 'em busy.\n",
    "\n",
    "___"
   ]
  },
  {
   "cell_type": "code",
   "execution_count": null,
   "metadata": {},
   "outputs": [],
   "source": []
  }
 ],
 "metadata": {
  "kernelspec": {
   "display_name": "Python 3",
   "language": "python",
   "name": "python3"
  },
  "language_info": {
   "codemirror_mode": {
    "name": "ipython",
    "version": 3
   },
   "file_extension": ".py",
   "mimetype": "text/x-python",
   "name": "python",
   "nbconvert_exporter": "python",
   "pygments_lexer": "ipython3",
   "version": "3.6.5"
  }
 },
 "nbformat": 4,
 "nbformat_minor": 2
}
