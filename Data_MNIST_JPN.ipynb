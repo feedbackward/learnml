{
 "cells": [
  {
   "cell_type": "markdown",
   "metadata": {},
   "source": [
    "# MNIST手書き文字\n",
    "\n",
    "生き物の模型として*drosophila*が生物学の各界で重宝されるように、機械学習の世界では、識別能力を試すときに使う実データとして、MNISTの手書き文字データがもっとも有名であろう。また、提供されているデータが二値（バイナリ）データなので、それを扱うことも良い練習である。本当にゼロとイチでの表現なので、読み書きの際は一定の注意が必要であるが、何も難しいことはない。"
   ]
  },
  {
   "cell_type": "markdown",
   "metadata": {},
   "source": [
    "__目次__\n",
    "\n",
    "- <a href=\"#overview\">データセットの概要</a>\n",
    "\n",
    "- <a href=\"#input_check\">入力パターンを調べる</a>\n",
    "\n",
    "- <a href=\"#label_check\">ラベルを調べる</a>\n",
    "\n",
    "- <a href=\"#make_h5\">作業用のデータを整える</a>\n",
    "\n",
    "___"
   ]
  },
  {
   "cell_type": "markdown",
   "metadata": {},
   "source": [
    "<a id=\"overview\"></a>\n",
    "## データセットの概要\n",
    "\n",
    "このデータセットの略称のMNISTは、米国の(N)ational (I)nstitute of (S)tandards and (T)echnologyがもともと管理していた大きな手書き文字データベースから一部を抜粋、調整した(m)odified subsetであることからきている。"
   ]
  },
  {
   "cell_type": "markdown",
   "metadata": {},
   "source": [
    "<img src=\"img/ex_MNIST.png\" alt=\"Stimuli Image\" />"
   ]
  },
  {
   "cell_type": "markdown",
   "metadata": {},
   "source": [
    "ダウンロード方法はいくつもあるが、Y. LeCun氏のサイト( http://yann.lecun.com/exdb/mnist/ )から入手することが多い。彼らの説明には、\n",
    "\n",
    "> *\"The MNIST database of handwritten digits, available from this page, has a training set of 60,000 examples, and a test set of 10,000 examples. It is a subset of a larger set available from NIST. The digits have been size-normalized and centered in a fixed-size image\"*"
   ]
  },
  {
   "cell_type": "markdown",
   "metadata": {},
   "source": [
    "とあり、その中身を収容するファイルが下記の4つである。\n",
    "\n",
    "> train-images-idx3-ubyte.gz:  training set images (9912422 bytes)\n",
    "> train-labels-idx1-ubyte.gz:  training set labels (28881 bytes)\n",
    "> t10k-images-idx3-ubyte.gz:   test set images (1648877 bytes)\n",
    "> t10k-labels-idx1-ubyte.gz:   test set labels (4542 bytes)"
   ]
  },
  {
   "cell_type": "markdown",
   "metadata": {},
   "source": [
    "いずれも__IDX__という二値形式で保存されている。まずは圧縮されたファイルを解凍する。\n",
    "```\n",
    "$ cd data/MNIST\n",
    "$ gunzip train-images-idx3-ubyte.gz\n",
    "$ gunzip train-labels-idx1-ubyte.gz\n",
    "$ gunzip t10k-images-idx3-ubyte.gz\n",
    "$ gunzip t10k-labels-idx1-ubyte.gz\n",
    "```\n",
    "残るのは肝心のバイナリデータだけだ。\n",
    "___"
   ]
  },
  {
   "cell_type": "markdown",
   "metadata": {},
   "source": [
    "<a id=\"input_check\"></a>\n",
    "## 入力パターンを調べる\n",
    "\n",
    "まずは、訓練データのファイルを開くことにしよう。"
   ]
  },
  {
   "cell_type": "code",
   "execution_count": 1,
   "metadata": {},
   "outputs": [
    {
     "name": "stdout",
     "output_type": "stream",
     "text": [
      "<_io.BufferedReader name='data/mnist/train-images-idx3-ubyte'>\n"
     ]
    }
   ],
   "source": [
    "\n",
    "import numpy as np\n",
    "import matplotlib.pyplot as plt\n",
    "\n",
    "toread = \"data/mnist/train-images-idx3-ubyte\"\n",
    "\n",
    "f_bin = open(toread, mode=\"rb\")\n",
    "\n",
    "print(f_bin)\n"
   ]
  },
  {
   "cell_type": "markdown",
   "metadata": {},
   "source": [
    "ここで、正しく読み込めているかどうか確かめる必要が出てくる。その唯一の方法は、データの提供者が「あるはずだ」という内容と照合することである。\n",
    "LeCunらの説明より："
   ]
  },
  {
   "cell_type": "markdown",
   "metadata": {},
   "source": [
    "```\n",
    "TRAINING SET IMAGE FILE (train-images-idx3-ubyte):\n",
    "[offset] [type]          [value]          [description]\n",
    "0000     32 bit integer  0x00000803(2051) magic number\n",
    "0004     32 bit integer  60000            number of images\n",
    "0008     32 bit integer  28               number of rows\n",
    "0012     32 bit integer  28               number of columns\n",
    "0016     unsigned byte   ??               pixel\n",
    "0017     unsigned byte   ??               pixel\n",
    "........\n",
    "xxxx     unsigned byte   ??               pixel\n",
    "```"
   ]
  },
  {
   "cell_type": "markdown",
   "metadata": {},
   "source": [
    "ここでいう「offset」とは、ファイル開始点から何バイト読み進んだか示す数値である。ゼロならば一バイトも読んでおらず、1バイト目を目前にする地点である。offsetが0004であれば5バイト目、0008であれば9バイト目など、以下同様。期待どおりの中身が読み込めているかチェックしてみよう。"
   ]
  },
  {
   "cell_type": "code",
   "execution_count": 2,
   "metadata": {},
   "outputs": [
    {
     "name": "stdout",
     "output_type": "stream",
     "text": [
      "First four bytes:\n",
      "bytes:  b'\\x00\\x00\\x08\\x03'\n",
      " int:  2051\n"
     ]
    }
   ],
   "source": [
    "print(\"First four bytes:\") # should be magic number, 2051.\n",
    "b = f_bin.read(4)\n",
    "print(\"bytes: \", b)\n",
    "print(\" int: \", int.from_bytes(b, byteorder=\"big\", signed=False))"
   ]
  },
  {
   "cell_type": "markdown",
   "metadata": {},
   "source": [
    "ここに出てきたPythonのバイトデータ`b'\\x00\\x00\\x08\\x03'`は、最初の4バイトを十六進法(hexadecimal)の表記で示したものである。上記の表の一行目の「value」、つまり``0x00000803``と一致しているので、一安心。これらの``\\x``はただ単にバイトの区切りを表している。思い出してみると、十六進法の2桁を使うと、$0, 1, 2, \\ldots$から$(15 \\times 16^{1} + 15 \\times 16^{0}) = 255$までの整数を表現することができる。二進法の8桁、つまり8ビット（＝1バイト）と同じである。さて、十進法に変換して$3 \\times 16^{0} + 8 \\times 16^{2} = 2051$が得られるので、期待どおりの「magic number」である。\n",
    "\n",
    "次は、`read`というメソッドを使い、4バイトずつ読み進めるようにして、残りの内容を確認していく。"
   ]
  },
  {
   "cell_type": "code",
   "execution_count": 3,
   "metadata": {},
   "outputs": [
    {
     "name": "stdout",
     "output_type": "stream",
     "text": [
      "Second four bytes:\n",
      "bytes:  b'\\x00\\x00\\xea`'\n",
      " int:  60000\n"
     ]
    }
   ],
   "source": [
    "\n",
    "print(\"Second four bytes:\") # should be number of imgs = 60000\n",
    "b = f_bin.read(4)\n",
    "print(\"bytes: \", b)\n",
    "print(\" int: \", int.from_bytes(b, byteorder=\"big\", signed=False))\n"
   ]
  },
  {
   "cell_type": "code",
   "execution_count": 4,
   "metadata": {},
   "outputs": [
    {
     "name": "stdout",
     "output_type": "stream",
     "text": [
      "Third four bytes:\n",
      "bytes:  b'\\x00\\x00\\x00\\x1c'\n",
      " int:  28\n"
     ]
    }
   ],
   "source": [
    "\n",
    "print(\"Third four bytes:\") # should be number of rows = 28\n",
    "b = f_bin.read(4)\n",
    "print(\"bytes: \", b)\n",
    "print(\" int: \", int.from_bytes(b, byteorder=\"big\", signed=False))\n"
   ]
  },
  {
   "cell_type": "code",
   "execution_count": 5,
   "metadata": {},
   "outputs": [
    {
     "name": "stdout",
     "output_type": "stream",
     "text": [
      "Fourth four bytes:\n",
      "bytes:  b'\\x00\\x00\\x00\\x1c'\n",
      " int:  28\n"
     ]
    }
   ],
   "source": [
    "\n",
    "print(\"Fourth four bytes:\") # should be number of cols = 28\n",
    "b = f_bin.read(4)\n",
    "print(\"bytes: \", b)\n",
    "print(\" int: \", int.from_bytes(b, byteorder=\"big\", signed=False))\n"
   ]
  },
  {
   "cell_type": "markdown",
   "metadata": {},
   "source": [
    "これでもっとも重要なファイル情報を無事に入手できた。これを使って、肝心の入力パターンを取り出していくことにしよう。幸いにも、デジタル画像の画素値なので、中身のもっともらしさは目視でほぼ確認できる。"
   ]
  },
  {
   "cell_type": "code",
   "execution_count": 7,
   "metadata": {},
   "outputs": [],
   "source": [
    "n = 60000 # (anticipated) number of images.\n",
    "d = 28*28 # number of entries (int values) per image.\n",
    "times_todo = 5 # number of images to view.\n",
    "bytes_left = d\n",
    "data_x = np.zeros((d,), dtype=np.uint8) # initialize."
   ]
  },
  {
   "cell_type": "markdown",
   "metadata": {},
   "source": [
    "データの提供者の説明より：\n",
    "\n",
    "> *\"Pixels are organized row-wise. Pixel values are 0 to 255. 0 means background (white), 255 means foreground (black).\"*\n",
    "\n",
    "つまり、画素値が0〜255の整数値を取り、2次元画像の一行ずつ読んでいくことになる。値の範囲がわかっているので、`uint8`(無符号の1バイト整数)のデータ型とする。まだ読んでいない中身として、\n",
    "```\n",
    "0016     unsigned byte   ??               pixel\n",
    "0017     unsigned byte   ??               pixel\n",
    "........\n",
    "xxxx     unsigned byte   ??               pixel\n",
    "```\n",
    "と1バイトずつファイルの最後まで読んでいくと、ちょうど60000枚の画像の全画素を読み込むことになるはずである。1枚につき画素数が$28 \\times 28 = 784$である。"
   ]
  },
  {
   "cell_type": "code",
   "execution_count": 8,
   "metadata": {
    "scrolled": false
   },
   "outputs": [
    {
     "data": {
      "image/png": "[encoded data removed]",
      "text/plain": [
       "<Figure size 432x288 with 1 Axes>"
      ]
     },
     "metadata": {},
     "output_type": "display_data"
    },
    {
     "data": {
      "image/png": "[encoded data removed]",
      "text/plain": [
       "<Figure size 432x288 with 1 Axes>"
      ]
     },
     "metadata": {},
     "output_type": "display_data"
    },
    {
     "data": {
      "image/png": "[encoded data removed]",
      "text/plain": [
       "<Figure size 432x288 with 1 Axes>"
      ]
     },
     "metadata": {},
     "output_type": "display_data"
    },
    {
     "data": {
      "image/png": "[encoded data removed]",
      "text/plain": [
       "<Figure size 432x288 with 1 Axes>"
      ]
     },
     "metadata": {},
     "output_type": "display_data"
    },
    {
     "data": {
      "image/png": "[encoded data removed]",
      "text/plain": [
       "<Figure size 432x288 with 1 Axes>"
      ]
     },
     "metadata": {},
     "output_type": "display_data"
    },
    {
     "name": "stdout",
     "output_type": "stream",
     "text": [
      "Successfully closed.\n"
     ]
    }
   ],
   "source": [
    "for t in range(times_todo):\n",
    "\n",
    "    idx = 0\n",
    "    while idx < bytes_left:\n",
    "        # Iterate one byte at a time.\n",
    "        b = f_bin.read(1)\n",
    "        data_x[idx] = int.from_bytes(b, byteorder=\"big\", signed=False)\n",
    "        idx += 1\n",
    "\n",
    "    img_x = data_x.reshape( (28,28) ) # populate one row at a time.\n",
    "    \n",
    "    # binary colour map highlights foreground (black) against background(white)\n",
    "    plt.imshow(img_x, cmap=plt.cm.binary)\n",
    "    #plt.savefig((\"MNIST_train_\"+str(t)+\".png\"))\n",
    "    plt.show()\n",
    "\n",
    "\n",
    "f_bin.close()\n",
    "if f_bin.closed:\n",
    "    print(\"Successfully closed.\")"
   ]
  },
  {
   "cell_type": "markdown",
   "metadata": {},
   "source": [
    "__練習問題__\n",
    "\n",
    "0. 上記のコードに出没する`int`のメソッド`from_bytes`を使うとき、引数`signed`を`False`から`True`へ変えてみてください。変換の結果が変わるか。変わる場合は、例示しながら説明すること。なぜその変化が起こるかも併せて説明すること。\n",
    "\n",
    "0. 同様に`byteorder`を`\"big\"`から`\"little\"`へ変換し、何がどう変わるか調べてみてください。背景は`help(int.from_bytes)`を参照すること。\n",
    "\n",
    "0. 多数のカラーマップが提供されている( https://matplotlib.org/users/colormaps.html )。上記コード内の`binary`に代わって、たとえば`gray`、`bone`、`pink`などほかの配色方法を試してみてください。\n",
    "\n",
    "0. コメント記号で無効になっている`savefig`を「活き」の状態にし、最初の十枚の画像をディスクに保存すること。また、テスト用のデータについても同様の操作を行うこと（ファイル名は適宜変更すること）。"
   ]
  },
  {
   "cell_type": "markdown",
   "metadata": {},
   "source": [
    "<a id=\"label_check\"></a>\n",
    "## ラベルを調べる\n",
    "\n",
    "「何が書いてあるか」という典型的な識別課題を見据えて、「事例」としての画像が正しく読み込まれている模様である。正解ラベルは`train-labels-idx1-ubyte`という別のファイルに格納されているため、次はラベルに焦点を当てる。最初の`times_todo`枚の画像と対応するはずのラベルを照らし合わせることにしよう。"
   ]
  },
  {
   "cell_type": "code",
   "execution_count": 9,
   "metadata": {},
   "outputs": [
    {
     "name": "stdout",
     "output_type": "stream",
     "text": [
      "<_io.BufferedReader name='data/mnist/train-labels-idx1-ubyte'>\n"
     ]
    }
   ],
   "source": [
    "toread = \"data/mnist/train-labels-idx1-ubyte\"\n",
    "\n",
    "f_bin = open(toread, mode=\"rb\")\n",
    "\n",
    "print(f_bin)"
   ]
  },
  {
   "cell_type": "markdown",
   "metadata": {},
   "source": [
    "正解ラベルのファイルについては、再びLeCun等の説明を参考にする：\n",
    "\n",
    "```\n",
    "TRAINING SET LABEL FILE (train-labels-idx1-ubyte):\n",
    "[offset] [type]          [value]          [description]\n",
    "0000     32 bit integer  0x00000801(2049) magic number (MSB first)\n",
    "0004     32 bit integer  60000            number of items\n",
    "0008     unsigned byte   ??               label\n",
    "0009     unsigned byte   ??               label\n",
    "........\n",
    "xxxx     unsigned byte   ??               label\n",
    "```\n",
    "\n",
    "最初の8バイトを見ていく。"
   ]
  },
  {
   "cell_type": "code",
   "execution_count": 10,
   "metadata": {},
   "outputs": [
    {
     "name": "stdout",
     "output_type": "stream",
     "text": [
      "First four bytes:\n",
      "bytes:  b'\\x00\\x00\\x08\\x01'\n",
      " int:  2049\n"
     ]
    }
   ],
   "source": [
    "print(\"First four bytes:\") # should be magic number, 2049.\n",
    "b = f_bin.read(4)\n",
    "print(\"bytes: \", b)\n",
    "print(\" int: \", int.from_bytes(b, byteorder=\"big\"))"
   ]
  },
  {
   "cell_type": "code",
   "execution_count": 11,
   "metadata": {},
   "outputs": [
    {
     "name": "stdout",
     "output_type": "stream",
     "text": [
      "Second four bytes:\n",
      "bytes:  b'\\x00\\x00\\xea`'\n",
      " int:  60000\n"
     ]
    }
   ],
   "source": [
    "\n",
    "print(\"Second four bytes:\") # should be number of observations, 60000.\n",
    "b = f_bin.read(4)\n",
    "print(\"bytes: \", b)\n",
    "print(\" int: \", int.from_bytes(b, byteorder=\"big\"))\n"
   ]
  },
  {
   "cell_type": "markdown",
   "metadata": {},
   "source": [
    "以降はデータだけである。ラベルの値は0から9までの整数値を取るという。事例とラベルが一致していることを確かめる。"
   ]
  },
  {
   "cell_type": "code",
   "execution_count": 12,
   "metadata": {},
   "outputs": [
    {
     "name": "stdout",
     "output_type": "stream",
     "text": [
      "Label = 5\n",
      "Label = 0\n",
      "Label = 4\n",
      "Label = 1\n",
      "Label = 9\n"
     ]
    }
   ],
   "source": [
    "times_todo = 5 # number of images to view.\n",
    "\n",
    "for t in range(times_todo):\n",
    "\n",
    "    b = f_bin.read(1)\n",
    "    mylabel = int.from_bytes(b, byteorder=\"big\", signed=False)\n",
    "    \n",
    "    print(\"Label =\", mylabel)\n"
   ]
  },
  {
   "cell_type": "markdown",
   "metadata": {},
   "source": [
    "__練習問題__\n",
    "\n",
    "0. 最初の10枚分のラベルを表示し、先ほど調べた画像の中身と合っているかどうか確かめること（訓練データと検証データ、両方とも）。\n",
    "\n",
    "0. （おまけ） 上記のごとく`read`を使うと一方的に前進するだけだが、`seek`というメソッドを使うことで任意のバイトオフセットに飛ぶことができて、便利である。上の例でいうと、`f_bin.seek(0)`でファイル開始点に戻り、`f_bin.seek(8)`で最初のラベルを読み込む直前の地点へ移ることができる（最初の8バイトは補足情報）。この点を念頭において、`seek`を用いて、$k$という整数を与えられたときに$k$番目の画像の正解ラベルを表示するような関数を造りなさい。\n",
    "\n",
    "0. （おまけ） 同様に、`seek`を使って$k$番目の画像を表示するような関数も造りなさい。"
   ]
  },
  {
   "cell_type": "markdown",
   "metadata": {},
   "source": [
    "<a id=\"make_h5\"></a>\n",
    "## 作業用のデータを整える\n",
    "\n",
    "このデータを使おうと思えば、上記のように正しく読み込むことはできるのだが、使うたびにいちいちバイトごとに読むことは煩雑である。なので、事前に一度だけバイナリデータから読み取ったデータを、前処理などを済ませた上で高速にアクセスできる別の形式に変換したほうが合理的であろう。\n",
    "\n",
    "使い勝手の良い形式として、HDF5という階層型データを用いる。階層型デーの管理や高速な読み・書きを可能にした__PyTables__が大変便利である。このPythonのパッケージを駆使して、先ほどの画像（二次元の配列で表示）を単なる長いベクトルとして保存し、新しい二次元配列の「一行」が一つの画像に相当することになる。\n",
    "\n",
    "まず、元のデータの全体を読み込む。"
   ]
  },
  {
   "cell_type": "code",
   "execution_count": 13,
   "metadata": {},
   "outputs": [],
   "source": [
    "import tables\n",
    "import numpy as np\n",
    "import matplotlib.pyplot as plt\n",
    "import os"
   ]
  },
  {
   "cell_type": "code",
   "execution_count": 14,
   "metadata": {},
   "outputs": [],
   "source": [
    "# Key information.\n",
    "NUM_CLASSES = 10\n",
    "NUM_LABELS = 1\n",
    "NUM_PIXELS = 28*28\n",
    "NUM_TRAIN = 60000\n",
    "NUM_TEST = 10000"
   ]
  },
  {
   "cell_type": "code",
   "execution_count": 15,
   "metadata": {},
   "outputs": [
    {
     "name": "stdout",
     "output_type": "stream",
     "text": [
      "data/mnist/data.h5 (File) 'MNIST handwritten digits with labels'\n",
      "Last modif.: 'Fri Jul 27 08:48:13 2018'\n",
      "Object Tree: \n",
      "/ (RootGroup) 'MNIST handwritten digits with labels'\n",
      "\n"
     ]
    }
   ],
   "source": [
    "# Open file connection, writing new file to disk.\n",
    "myh5 = tables.open_file(\"data/mnist/data.h5\",\n",
    "                        mode=\"w\",\n",
    "                        title=\"MNIST handwritten digits with labels\")\n",
    "print(myh5) # currently empty."
   ]
  },
  {
   "cell_type": "markdown",
   "metadata": {},
   "source": [
    "`RootGroup`の下、さらに訓練・検証のためのグループを追加する。"
   ]
  },
  {
   "cell_type": "code",
   "execution_count": 16,
   "metadata": {},
   "outputs": [
    {
     "name": "stdout",
     "output_type": "stream",
     "text": [
      "data/mnist/data.h5 (File) 'MNIST handwritten digits with labels'\n",
      "Last modif.: 'Fri Jul 27 08:48:13 2018'\n",
      "Object Tree: \n",
      "/ (RootGroup) 'MNIST handwritten digits with labels'\n",
      "/test (Group) 'Testing data'\n",
      "/train (Group) 'Training data'\n",
      "\n"
     ]
    }
   ],
   "source": [
    "myh5.create_group(myh5.root, \"train\", \"Training data\")\n",
    "myh5.create_group(myh5.root, \"test\", \"Testing data\")\n",
    "print(myh5)"
   ]
  },
  {
   "cell_type": "markdown",
   "metadata": {},
   "source": [
    "この2つのグループはそれぞれ、*enumerative array* (`EArray`クラス, 数え上げ配列)を持たせて、データを格納するための準備を始める。通常の`Array`オブジェクトと違って、あとでデータを追加することで伸ばし広げられる性質を有する。"
   ]
  },
  {
   "cell_type": "code",
   "execution_count": 17,
   "metadata": {},
   "outputs": [
    {
     "name": "stdout",
     "output_type": "stream",
     "text": [
      "data/mnist/data.h5 (File) 'MNIST handwritten digits with labels'\n",
      "Last modif.: 'Fri Jul 27 08:48:13 2018'\n",
      "Object Tree: \n",
      "/ (RootGroup) 'MNIST handwritten digits with labels'\n",
      "/test (Group) 'Testing data'\n",
      "/test/inputs (EArray(0, 784)) 'Input images'\n",
      "/test/labels (EArray(0, 1)) 'Label values'\n",
      "/train (Group) 'Training data'\n",
      "/train/inputs (EArray(0, 784)) 'Input images'\n",
      "/train/labels (EArray(0, 1)) 'Label values'\n",
      "\n"
     ]
    }
   ],
   "source": [
    "# Training data arrays.\n",
    "a = tables.UInt8Atom()\n",
    "myh5.create_earray(myh5.root.train,\n",
    "                   name=\"labels\",\n",
    "                   atom=a,\n",
    "                   shape=(0,NUM_LABELS),\n",
    "                   title=\"Label values\")\n",
    "a = tables.Float32Atom()\n",
    "myh5.create_earray(myh5.root.train,\n",
    "                   name=\"inputs\",\n",
    "                   atom=a,\n",
    "                   shape=(0,NUM_PIXELS),\n",
    "                   title=\"Input images\")\n",
    "\n",
    "# Testing data arrays.\n",
    "a = tables.UInt8Atom()\n",
    "myh5.create_earray(myh5.root.test,\n",
    "                   name=\"labels\",\n",
    "                   atom=a,\n",
    "                   shape=(0,NUM_LABELS),\n",
    "                   title=\"Label values\")\n",
    "a = tables.Float32Atom()\n",
    "myh5.create_earray(myh5.root.test,\n",
    "                   name=\"inputs\",\n",
    "                   atom=a,\n",
    "                   shape=(0,NUM_PIXELS),\n",
    "                   title=\"Input images\")\n",
    "\n",
    "print(myh5)"
   ]
  },
  {
   "cell_type": "markdown",
   "metadata": {},
   "source": [
    "空っぽの配列ができているので、あとは埋めるだけである。1番目の次元は「伸張できる次元」と決まっており、最初はデータが入っていないのでゼロとなっているが、追加するたびに伸びていく。さて、データを読んでから簡単な前処理をしよう。"
   ]
  },
  {
   "cell_type": "code",
   "execution_count": 18,
   "metadata": {},
   "outputs": [
    {
     "name": "stdout",
     "output_type": "stream",
     "text": [
      "Reading binary file... Done reading... OK, file closed.\n"
     ]
    }
   ],
   "source": [
    "toread = \"data/mnist/train-images-idx3-ubyte\"\n",
    "bytes_left = NUM_TRAIN*NUM_PIXELS\n",
    "data_X = np.empty((NUM_TRAIN*NUM_PIXELS,), dtype=np.uint8)\n",
    "\n",
    "with open(toread, mode=\"rb\") as f_bin:\n",
    "\n",
    "    f_bin.seek(16) # go to start of images.\n",
    "    idx = 0\n",
    "    \n",
    "    print(\"Reading binary file...\", end=\" \")\n",
    "    while bytes_left > 0:\n",
    "        b = f_bin.read(1)\n",
    "        data_X[idx] = int.from_bytes(b, byteorder=\"big\", signed=False)\n",
    "        bytes_left -= 1\n",
    "        idx += 1\n",
    "    print(\"Done reading...\", end=\" \")\n",
    "print(\"OK, file closed.\")\n",
    "\n",
    "data_X = data_X.reshape((NUM_TRAIN,NUM_PIXELS))"
   ]
  },
  {
   "cell_type": "markdown",
   "metadata": {},
   "source": [
    "符号無し整数型`uint8`を使って、全ピクセルの値を一本の長いベクトルに並べた。簡単な統計量を見てみよう。"
   ]
  },
  {
   "cell_type": "code",
   "execution_count": 19,
   "metadata": {},
   "outputs": [
    {
     "name": "stdout",
     "output_type": "stream",
     "text": [
      "Statistics before pre-processing:\n",
      "Min: 0\n",
      "Mean: 33.318421449829934\n",
      "Median: 0.0\n",
      "Max: 255\n",
      "StdDev: 78.56748998339798\n"
     ]
    }
   ],
   "source": [
    "print(\"Statistics before pre-processing:\")\n",
    "print(\"Min:\", np.min(data_X))\n",
    "print(\"Mean:\", np.mean(data_X))\n",
    "print(\"Median:\", np.median(data_X))\n",
    "print(\"Max:\", np.max(data_X))\n",
    "print(\"StdDev:\", np.std(data_X))\n",
    "#print(np.bincount(data_X))"
   ]
  },
  {
   "cell_type": "markdown",
   "metadata": {},
   "source": [
    "このデータを最終的に使うモデルによっては、入力の数値が大きすぎると計算が困難になる場合がある。今の画素値は$\\{0,1,\\ldots,255\\}$から値を取るが、たとえば、ロジスティック回帰のように画素値の線形和を指数関数に渡すと、膨大な数になってしまう。これを回避すべく、単位区間$[0,1]$への正規化が便利である。もともとあるVALUEを(VALUE - MIN) / (MAX - MIN)という新しい値に変換させるだけである。浮動小数点数を使うので、より大きな容量を食うことになるが、その代わりに学習用のデータとしての有用性が高い。"
   ]
  },
  {
   "cell_type": "code",
   "execution_count": 20,
   "metadata": {},
   "outputs": [
    {
     "name": "stdout",
     "output_type": "stream",
     "text": [
      "Statistics after pre-processing:\n",
      "Min: 0.0\n",
      "Mean: 0.13066062\n",
      "Median: 0.0\n",
      "Max: 1.0\n",
      "StdDev: 0.30810776\n"
     ]
    }
   ],
   "source": [
    "data_X = np.float32(data_X)\n",
    "data_X = (data_X - np.min(data_X)) / (np.max(data_X) - np.min(data_X))\n",
    "\n",
    "print(\"Statistics after pre-processing:\")\n",
    "print(\"Min:\", np.min(data_X))\n",
    "print(\"Mean:\", np.mean(data_X))\n",
    "print(\"Median:\", np.median(data_X))\n",
    "print(\"Max:\", np.max(data_X))\n",
    "print(\"StdDev:\", np.std(data_X))"
   ]
  },
  {
   "cell_type": "markdown",
   "metadata": {},
   "source": [
    "次は訓練用のラベルを読み込む。取る値は$0,1,\\ldots,9$なので、前処理なしで、そのまま使える。"
   ]
  },
  {
   "cell_type": "code",
   "execution_count": 21,
   "metadata": {},
   "outputs": [
    {
     "name": "stdout",
     "output_type": "stream",
     "text": [
      "Reading binary file... Done reading... OK, file closed.\n"
     ]
    }
   ],
   "source": [
    "toread = \"data/mnist/train-labels-idx1-ubyte\"\n",
    "bytes_left = NUM_TRAIN\n",
    "data_y = np.zeros((NUM_TRAIN,1), dtype=np.uint8)\n",
    "\n",
    "with open(toread, mode=\"rb\") as f_bin:\n",
    "\n",
    "    f_bin.seek(8) # go to start of the labels.\n",
    "    idx = 0\n",
    "    \n",
    "    print(\"Reading binary file...\", end=\" \")\n",
    "    while bytes_left > 0:\n",
    "        b = f_bin.read(1)\n",
    "        data_y[idx,0] = int.from_bytes(b, byteorder=\"big\", signed=False)\n",
    "        bytes_left -= 1\n",
    "        idx += 1\n",
    "    print(\"Done reading...\", end=\" \")\n",
    "print(\"OK, file closed.\")\n"
   ]
  },
  {
   "cell_type": "code",
   "execution_count": 22,
   "metadata": {},
   "outputs": [
    {
     "name": "stdout",
     "output_type": "stream",
     "text": [
      "Min: 0\n",
      "Mean: 4.4539333333333335\n",
      "Median: 4.0\n",
      "Max: 9\n",
      "StdDev: 2.889246360020012\n",
      "Bin counts:\n",
      "[5923 6742 5958 6131 5842 5421 5918 6265 5851 5949]\n"
     ]
    },
    {
     "data": {
      "image/png": "[encoded data removed]",
      "text/plain": [
       "<Figure size 432x288 with 1 Axes>"
      ]
     },
     "metadata": {},
     "output_type": "display_data"
    }
   ],
   "source": [
    "print(\"Min:\", np.min(data_y))\n",
    "print(\"Mean:\", np.mean(data_y))\n",
    "print(\"Median:\", np.median(data_y))\n",
    "print(\"Max:\", np.max(data_y))\n",
    "print(\"StdDev:\", np.std(data_y))\n",
    "\n",
    "print(\"Bin counts:\")\n",
    "print(np.bincount(data_y[:,0]))\n",
    "\n",
    "plt.hist(np.hstack(data_y), bins='auto')\n",
    "plt.show()"
   ]
  },
  {
   "cell_type": "markdown",
   "metadata": {},
   "source": [
    "いよいよ階層型のデータファイルに追加するときがきた。その作業は簡単で、`append`というメソッドを使うとすぐにできる。"
   ]
  },
  {
   "cell_type": "code",
   "execution_count": 23,
   "metadata": {
    "scrolled": true
   },
   "outputs": [],
   "source": [
    "for i in range(NUM_TRAIN):\n",
    "    myh5.root.train.inputs.append([data_X[i,:]])\n",
    "    myh5.root.train.labels.append([data_y[i,:]])\n",
    "print(myh5)"
   ]
  },
  {
   "cell_type": "markdown",
   "metadata": {},
   "source": [
    "期待通りに、`train`というグループにデータが追加されたことは確認できた。\n",
    "\n",
    "あとは検証用の分に対して、同じ一連の操作をする。"
   ]
  },
  {
   "cell_type": "code",
   "execution_count": 24,
   "metadata": {},
   "outputs": [
    {
     "name": "stdout",
     "output_type": "stream",
     "text": [
      "Reading binary file... Done reading... OK, file closed.\n",
      "Reading binary file... Done reading... OK, file closed.\n"
     ]
    }
   ],
   "source": [
    "toread = \"data/mnist/t10k-images-idx3-ubyte\"\n",
    "bytes_left = NUM_TEST*NUM_PIXELS\n",
    "data_X = np.empty((NUM_TEST*NUM_PIXELS,), dtype=np.uint8)\n",
    "\n",
    "with open(toread, mode=\"rb\") as f_bin:\n",
    "\n",
    "    f_bin.seek(16) # go to start of images.\n",
    "    idx = 0\n",
    "    \n",
    "    print(\"Reading binary file...\", end=\" \")\n",
    "    while bytes_left > 0:\n",
    "        b = f_bin.read(1)\n",
    "        data_X[idx] = int.from_bytes(b, byteorder=\"big\", signed=False)\n",
    "        bytes_left -= 1\n",
    "        idx += 1\n",
    "    print(\"Done reading...\", end=\" \")\n",
    "print(\"OK, file closed.\")\n",
    "\n",
    "data_X = data_X.reshape((NUM_TEST,NUM_PIXELS))\n",
    "data_X = np.float32(data_X)\n",
    "data_X = (data_X - np.min(data_X)) / (np.max(data_X) - np.min(data_X))\n",
    "\n",
    "toread = \"data/mnist/t10k-labels-idx1-ubyte\"\n",
    "bytes_left = NUM_TEST\n",
    "data_y = np.zeros((NUM_TEST,1), dtype=np.uint8)\n",
    "\n",
    "with open(toread, mode=\"rb\") as f_bin:\n",
    "\n",
    "    f_bin.seek(8) # go to start of the labels.\n",
    "    idx = 0\n",
    "    \n",
    "    print(\"Reading binary file...\", end=\" \")\n",
    "    while bytes_left > 0:\n",
    "        b = f_bin.read(1)\n",
    "        data_y[idx,0] = int.from_bytes(b, byteorder=\"big\", signed=False)\n",
    "        bytes_left -= 1\n",
    "        idx += 1\n",
    "    print(\"Done reading...\", end=\" \")\n",
    "print(\"OK, file closed.\")"
   ]
  },
  {
   "cell_type": "code",
   "execution_count": 25,
   "metadata": {},
   "outputs": [],
   "source": [
    "for i in range(NUM_TEST):\n",
    "    myh5.root.test.inputs.append([data_X[i,:]])\n",
    "    myh5.root.test.labels.append([data_y[i,:]])"
   ]
  },
  {
   "cell_type": "code",
   "execution_count": 26,
   "metadata": {},
   "outputs": [
    {
     "name": "stdout",
     "output_type": "stream",
     "text": [
      "data/mnist/data.h5 (File) 'MNIST handwritten digits with labels'\n",
      "Last modif.: 'Fri Jul 27 09:08:48 2018'\n",
      "Object Tree: \n",
      "/ (RootGroup) 'MNIST handwritten digits with labels'\n",
      "/test (Group) 'Testing data'\n",
      "/test/inputs (EArray(10000, 784)) 'Input images'\n",
      "/test/labels (EArray(10000, 1)) 'Label values'\n",
      "/train (Group) 'Training data'\n",
      "/train/inputs (EArray(60000, 784)) 'Input images'\n",
      "/train/labels (EArray(60000, 1)) 'Label values'\n",
      "\n"
     ]
    }
   ],
   "source": [
    "print(myh5)"
   ]
  },
  {
   "cell_type": "markdown",
   "metadata": {},
   "source": [
    "最後に、ファイルとの接続を正常に閉じることが重要である。"
   ]
  },
  {
   "cell_type": "code",
   "execution_count": 27,
   "metadata": {},
   "outputs": [],
   "source": [
    "myh5.close()"
   ]
  },
  {
   "cell_type": "markdown",
   "metadata": {},
   "source": [
    "__練習問題__\n",
    "\n",
    "0. 先ほど作成したファイル（`data.h5`)を再び開く（今度は読み込み、`mode=\"r\"`）。訓練データ、検証データ、それぞれから数点の画像とラベルのペアを取り出して、前の節と同様に画像として表示して、内容が正しく保存されていることを確認すること。"
   ]
  },
  {
   "cell_type": "markdown",
   "metadata": {},
   "source": [
    "___"
   ]
  }
 ],
 "metadata": {
  "kernelspec": {
   "display_name": "Python 3",
   "language": "python",
   "name": "python3"
  },
  "language_info": {
   "codemirror_mode": {
    "name": "ipython",
    "version": 3
   },
   "file_extension": ".py",
   "mimetype": "text/x-python",
   "name": "python",
   "nbconvert_exporter": "python",
   "pygments_lexer": "ipython3",
   "version": "3.6.6"
  }
 },
 "nbformat": 4,
 "nbformat_minor": 2
}
