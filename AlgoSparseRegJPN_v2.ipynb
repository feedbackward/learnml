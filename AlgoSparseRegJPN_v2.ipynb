{
 "cells": [
  {
   "cell_type": "markdown",
   "metadata": {},
   "source": [
    "# スパース回帰のための学習アルゴリズム\n",
    "\n",
    "多くの（機械）学習課題では、多数の特徴量の候補はあっても、実際に予測や識別等に必要なのはごく少数である。しかし、事前にはどの候補が良いかは当然わからない。そのため、学習時には、データに応じて必要最低限の特徴量だけを選択し、残りを切り捨てて、スパースなモデルを定める必要がある（日本語では「疎」、密の対義語）。"
   ]
  },
  {
   "cell_type": "markdown",
   "metadata": {},
   "source": [
    "__目次：__\n",
    "\n",
    "- <a href=\"#background\">スパース推定の背景</a>\n",
    "- <a href=\"#coorddesc\">2乗誤差を使っての座標降下法</a>\n",
    "- <a href=\"#robust\">頑健なスパース推定</a>"
   ]
  },
  {
   "cell_type": "markdown",
   "metadata": {},
   "source": [
    "前の回では学習アルゴリズムを実装するための原型らしきものを学んだので、ここではそれを踏まえて、学習結果が一定のスパース性を有するための工夫を学ぶ。"
   ]
  },
  {
   "cell_type": "markdown",
   "metadata": {},
   "source": [
    "<a id=\"background\"></a>\n",
    "## スパース推定の背景\n",
    "\n",
    "Tibshirani氏の1996年の名著を引用すると、多数のパラメータがあるとき（特に標本数よりも多い場合）、スパースな推定結果を求めるべきだ、という理由が2つある。"
   ]
  },
  {
   "cell_type": "markdown",
   "metadata": {},
   "source": [
    "一つは予測精度：\n",
    "\n",
    "> _\"[Naive estimates] often have low bias but large variance; prediction accuracy can sometimes be improved by shrinking or setting to 0 some coefficients.\"_"
   ]
  },
  {
   "cell_type": "markdown",
   "metadata": {},
   "source": [
    "もう一つは解釈のしやすさ：\n",
    "\n",
    "> _\"With a large number of predictors, we often would like to determine a smaller subset that exhibits the strongest effects.\"_"
   ]
  },
  {
   "cell_type": "markdown",
   "metadata": {},
   "source": [
    "実際、人の脳でも似たような原理が見られる。感覚器を通じて途轍もなく複雑な刺激を常に受けていることは事実だが、その刺激全体を脳全体で処理しているというよりは、刺激の特性によって「分担」している模様である。脳の細部まで調べると、特定の領域が活発に反応するのは、かなり特異的な刺激のみである。普段受けている刺激を多数の特徴量の組み合わせと見なすと、脳がどう反応するか予測するために必要なのはまさしくスパースなモデルである。（画像はHaxby et al., 2001より）"
   ]
  },
  {
   "cell_type": "markdown",
   "metadata": {},
   "source": [
    "<img src=\"img/fmri_response.jpg\" alt=\"Image source: Haxby et al. (2001)\" width=\"480\"/>\n"
   ]
  },
  {
   "cell_type": "markdown",
   "metadata": {},
   "source": [
    "統計的な推論を行なう機械となると、入力が多数あるのだが、設計者が一定の「選択性」を持たせないと結果がスパースにはならない。"
   ]
  },
  {
   "cell_type": "markdown",
   "metadata": {},
   "source": [
    "<img src=\"img/sparse_matrix.png\" alt=\"Image: Sparse matrix image\" width=\"240\"/>"
   ]
  },
  {
   "cell_type": "markdown",
   "metadata": {},
   "source": [
    "モデルによるところもあるのだが、基本的には、一つの特徴量の影響が実数値パラメータによって決まると思ってよく、その値をゼロにすることでその影響が無くなるケースがほとんど。よって、多くの場合は、制御するパラメータ$w \\in \\mathbb{R}^{d}$の要素の大半が零でありながら、それがスパースであるといえる。あとはスパースにさせた結果が高い汎化能力を持つかどうかだ。スパース性をダイレクトに測る場合は、$\\ell_{0}$ノルムを使う："
   ]
  },
  {
   "cell_type": "markdown",
   "metadata": {},
   "source": [
    "\\begin{align}\n",
    "\\|w\\|_{0} = \\left|\\{j \\in [d]: w_{j} \\neq 0\\}\\right|.\n",
    "\\end{align}"
   ]
  },
  {
   "cell_type": "markdown",
   "metadata": {},
   "source": [
    "よって、リスク最小化という文脈でいうと、リスクを$R(w) = \\mathbf{E}_{Z} l(w;z)$としたとき、真の目的関数は下記の通り：\n",
    "\n",
    "\\begin{align}\n",
    "\\min_{w \\in \\mathbb{R}^{d}} R(w), \\quad \\text{s.t. } \\|w\\|_{0} \\leq \\gamma_{0}.\n",
    "\\end{align}"
   ]
  },
  {
   "cell_type": "markdown",
   "metadata": {},
   "source": [
    "期待値は近似できるのだが、この制約を満たしながら最小化することは困難である。幸いにも、$\\ell_{0}$ノルムを小さくすることは、$\\ell_{1}$ノルムを小さくすることで実現できることは、多くの文献からわかってきている。この知見を踏まえて制約を変更すると、\n",
    "\n",
    "\\begin{align}\n",
    "\\min_{w \\in \\mathbb{R}^{d}} R(w), \\quad \\text{s.t. } \\|w\\|_{1} \\leq \\gamma_{1}\n",
    "\\end{align}"
   ]
  },
  {
   "cell_type": "markdown",
   "metadata": {},
   "source": [
    "というもう少し攻めやすい問題設定になる。この制約付き最適化は、次の目的関数を用いることで近似できる。\n",
    "\n",
    "\\begin{align}\n",
    "L_{\\lambda}(w) = \\frac{1}{n}\\sum_{i=1}^{n} l(w;z_{i}) + \\lambda \\sum_{j=1}^{d}|w_{j}|.\n",
    "\\end{align}"
   ]
  },
  {
   "cell_type": "markdown",
   "metadata": {},
   "source": [
    "この式を出発点として、有用な学習則をここから丁寧に見ていくことにする。"
   ]
  },
  {
   "cell_type": "markdown",
   "metadata": {},
   "source": [
    "<a id=\"coorddesc\"></a>\n",
    "## 2乗誤差を使っての座標降下法"
   ]
  },
  {
   "cell_type": "markdown",
   "metadata": {},
   "source": [
    "具体例から始めると説明しやすいので、典型例として、線形モデルの下で2乗誤差をロス関数とする状況を考える：\n",
    "\n",
    "\\begin{align}\n",
    "l(w;z) = (y-w^{T}x)^{2}, \\quad z=(x,y) \\in \\mathbb{R}^{d+1}.\n",
    "\\end{align}"
   ]
  },
  {
   "cell_type": "markdown",
   "metadata": {},
   "source": [
    "このとき、先ほどの目的関数が下記のような形を取る。\n",
    "\n",
    "\\begin{align}\n",
    "L_{\\lambda}(w) = \\frac{1}{n} \\sum_{i=1}^{n} (y_{i}-w^{T}x_{i})^{2} + \\lambda\\|w\\|_{1}.\n",
    "\\end{align}"
   ]
  },
  {
   "cell_type": "markdown",
   "metadata": {},
   "source": [
    "難しいのは、絶対値を取っているので微分できない場合がある（パラメータの要素が一つでもゼロになる場合）。すべてのパラメータを一気に更新することは困難なので、愚直で速い方策として、「座標軸ごとに更新をすれば良い」という座標降下法（coordinate descent）がある。一次元ずつだと、更新が簡単になるというメリットがある。"
   ]
  },
  {
   "cell_type": "markdown",
   "metadata": {},
   "source": [
    "まず、仮に$w$が局所解であるとする。このパラメータベクトルの$j$個目の要素は当然、零か非零のどれかである。事実として、$w_j = 0$であるならば、"
   ]
  },
  {
   "cell_type": "markdown",
   "metadata": {},
   "source": [
    "\\begin{align}\n",
    "\\left| \\left.\\frac{\\partial L_{0}(w)}{\\partial w_j}\\right|_{w_j = 0} \\right| \\leq \\lambda,\n",
    "\\end{align}"
   ]
  },
  {
   "cell_type": "markdown",
   "metadata": {},
   "source": [
    "が成り立つことはわかっている。ここで示している$L_{0}(\\cdot)$とは、$\\ell_{1}$の項がない、制約無しの目的関数である。$w_j = 0$の場合に、もし逆にこの不等式が成り立たないのであれば、$w$が局所解でなくなる。"
   ]
  },
  {
   "cell_type": "markdown",
   "metadata": {},
   "source": [
    "$w_j \\neq 0$ならばどうだろうか。このときは$w_j$について偏微分は求められる："
   ]
  },
  {
   "cell_type": "markdown",
   "metadata": {},
   "source": [
    "\\begin{align}\n",
    "\\left.\\frac{\\partial L_{\\lambda}(w)}{\\partial w_j}\\right|_{w_j \\neq 0} = 0 \\iff \\frac{w_{j}}{n}\\sum_{i=1}^{n}x_{i,j}^{2} + \\lambda \\, \\text{sign}(w_j) = \\frac{1}{n}\\sum_{i=1}^{n}\\left(y_{i}-\\sum_{l \\neq j} w_{l}x_{i,l}\\right)x_{i,j}.\n",
    "\\end{align}"
   ]
  },
  {
   "cell_type": "markdown",
   "metadata": {},
   "source": [
    "式を整理するために、\n",
    "\n",
    "\\begin{align}\n",
    "V_{j} = \\frac{1}{n}\\sum_{i=1}^{n}x_{i,j}^{2}\n",
    "\\end{align}"
   ]
  },
  {
   "cell_type": "markdown",
   "metadata": {},
   "source": [
    "と置くと、偏微分がゼロになるための条件は、\n",
    "\n",
    "\\begin{align}\n",
    "w_{j} = \\frac{1}{n \\, V_{j}}\\sum_{i=1}^{n}\\left(y_{i}-\\sum_{l \\neq j} w_{l}x_{i,l}\\right)x_{i,j} - \\frac{\\lambda \\, \\text{sign}(w_j)}{V_{j}}\n",
    "\\end{align}\n",
    "\n",
    "となる。左辺にも右辺にも$w_{j}$はあるが、明示的に解を求めることはできる:"
   ]
  },
  {
   "cell_type": "markdown",
   "metadata": {},
   "source": [
    "\\begin{align}\n",
    "w_{j} = \\frac{1}{V_{j}} S(\\widetilde{g}_{j};\\lambda)\n",
    "\\end{align}"
   ]
  },
  {
   "cell_type": "markdown",
   "metadata": {},
   "source": [
    "ここで使っている関数は"
   ]
  },
  {
   "cell_type": "markdown",
   "metadata": {},
   "source": [
    "\\begin{align}\n",
    "S(u;\\gamma) = \\text{sign}\\,(u)\\max\\,(|u|-\\gamma, 0)\n",
    "\\end{align}"
   ]
  },
  {
   "cell_type": "markdown",
   "metadata": {},
   "source": [
    "と定義し、またその入力は\n",
    "\n",
    "\\begin{align}\n",
    "\\widetilde{g}_{j} = \\frac{1}{n} \\sum_{i=1}^{n}\\left(y_{i}-\\sum_{l \\neq j} w_{l}x_{i,l}\\right)x_{i,j} = -\\left.\\frac{\\partial L_{0}(w)}{\\partial w_j}\\right|_{w_j = 0}.\n",
    "\\end{align}\n",
    "\n",
    "と表記している。少し噛みしめてもらうと、この更新式では$w_{j}$がゼロになるのは、最初の条件として示した不等式が成り立つ場合のみである。"
   ]
  },
  {
   "cell_type": "markdown",
   "metadata": {},
   "source": [
    "最後に計算する上で重要な点であるが、もし入力データが平均ゼロ、分散1.0と標準化されているのであれば、先ほどの$V_{j}$はすぐに計算できる。まず、$V_{j}$とサンプル分散の関係は\n",
    "\n",
    "\\begin{align}\n",
    "V_{j} = \\frac{n-1}{n} \\text{var}\\,\\left\\{x_{1,j},\\ldots,x_{n,j}\\right\\},\n",
    "\\end{align}\n",
    "\n",
    "となっているので、標準偏差が1.0であれば、各$j = 1,\\ldots,d$に対して、$V_{j}=(n-1)/n$とする。"
   ]
  },
  {
   "cell_type": "markdown",
   "metadata": {},
   "source": [
    "前の回のアルゴリズムクラスを踏まえて、少し改造するだけで上記のアルゴリズムは実装できる。まずはsoft threshold関数を用意する。"
   ]
  },
  {
   "cell_type": "code",
   "execution_count": 2,
   "metadata": {},
   "outputs": [],
   "source": [
    "import math\n",
    "import numpy as np\n",
    "import matplotlib\n",
    "import matplotlib.pyplot as plt"
   ]
  },
  {
   "cell_type": "code",
   "execution_count": 3,
   "metadata": {},
   "outputs": [],
   "source": [
    "def soft_thres(u,mar):\n",
    "    '''\n",
    "    The so-called \"soft threshold\" function, as made\n",
    "    popular by the LASSO model and all related\n",
    "    learning procedures.\n",
    "\n",
    "    Input \"u\" will be an array, and \"mar\" will be the\n",
    "    margin of the soft-threshold, a non-negative real\n",
    "    value.\n",
    "    '''\n",
    "    return np.sign(u) * np.clip(a=(np.abs(u)-mar), a_min=0, a_max=None)"
   ]
  },
  {
   "cell_type": "code",
   "execution_count": 4,
   "metadata": {
    "scrolled": false
   },
   "outputs": [
    {
     "data": {
      "image/png": "[encoded data removed]",
      "text/plain": [
       "<matplotlib.figure.Figure at 0x7f82aa927240>"
      ]
     },
     "metadata": {},
     "output_type": "display_data"
    }
   ],
   "source": [
    "# Quick visualization.\n",
    "\n",
    "xvals = np.linspace(-1, 1, 500)\n",
    "marval = 0.25\n",
    "yvals = soft_thres(u=xvals, mar=marval)\n",
    "\n",
    "myfig = plt.figure(figsize=(7,7))\n",
    "ax = myfig.add_subplot(1,1,1)\n",
    "plt.axvline(x=0.0, color=\"black\")\n",
    "plt.axvline(x=marval, color=\"green\")\n",
    "plt.axvline(x=(-marval), color=\"green\")\n",
    "plt.axhline(y=0.0, color=\"black\")\n",
    "ax.plot(xvals, yvals, color=\"blue\")\n",
    "plt.title((\"Graph of soft threshold, margin = \"+str(marval)))\n",
    "plt.show()"
   ]
  },
  {
   "cell_type": "markdown",
   "metadata": {},
   "source": [
    "この`soft_thres`は先述の$S$に対応する。したがって`soft_thres(u,mar)`は$S$の返す値$S(u;\\gamma)$に対応する。"
   ]
  },
  {
   "cell_type": "markdown",
   "metadata": {},
   "source": [
    "続いては、$\\ell_{1}$正則化項も兼ね備えた線形回帰モデルを用意する（正則化の度合いをつかさどる計数$\\lambda$は`lam_l1`とし表わす）。"
   ]
  },
  {
   "cell_type": "code",
   "execution_count": 5,
   "metadata": {},
   "outputs": [],
   "source": [
    "class Data:\n",
    "    '''\n",
    "    General data class for supervised regression tasks.\n",
    "    '''\n",
    "    \n",
    "    def __init__(self):\n",
    "        self.X_tr = None\n",
    "        self.X_te = None\n",
    "        self.y_tr = None\n",
    "        self.y_te = None\n",
    "    \n",
    "    def init_tr(self, X, y):\n",
    "        self.X_tr = X\n",
    "        self.y_tr = y\n",
    "        \n",
    "    def init_te(self, X, y):\n",
    "        self.X_te = X\n",
    "        self.y_te = y    "
   ]
  },
  {
   "cell_type": "code",
   "execution_count": 6,
   "metadata": {},
   "outputs": [],
   "source": [
    "# Model class with per-coordinate gradient computations.\n",
    "\n",
    "class LeastSqL1:\n",
    "    '''\n",
    "    Model for least-squared linear regression, with l1-norm\n",
    "    regularization option.\n",
    "    Assuming X is (n x d), y is (n x 1), w is (d x 1) numpy array.\n",
    "    '''\n",
    "    \n",
    "    def predict(self, w, X):\n",
    "        return np.dot(X,w)\n",
    "    \n",
    "    # Loss function related.\n",
    "    def l_imp(self, w, X, y, lam_l1=0):\n",
    "        if lam_l1 > 0:\n",
    "            l1reg = lam_l1 * np.sum(np.abs(w))\n",
    "        else:\n",
    "            l1reg = 0\n",
    "        return l1reg + (y - self.predict(w=w, X=X))**2 / 2\n",
    "    \n",
    "    def l_tr(self, w, data, lam_l1=0):\n",
    "        return self.l_imp(w=w, X=data.X_tr, y=data.y_tr, lam_l1=lam_l1)\n",
    "    \n",
    "    def l_te(self, w, data, lam_l1=0):\n",
    "        return self.l_imp(w=w, X=data.X_te, y=data.y_te, lam_l1=lam_l1)\n",
    "    \n",
    "    # Per-coordinate gradient computations.\n",
    "    def g_j_imp(self, j, w, X, y, lam_l1=0):\n",
    "        if lam_l1 > 0:\n",
    "            g_l1reg = lam_l1 * np.sign(w[j,0])\n",
    "        else:\n",
    "            g_l1reg = 0\n",
    "            \n",
    "        return g_l1reg + (y-self.predict(w=w, X=X)) * (-1) * np.take(a=X, indices=[j], axis=1)\n",
    "    \n",
    "    def g_j_tr(self, j, w, data, lam_l1=0):\n",
    "        return self.g_j_imp(j=j, w=w, X=data.X_tr, y=data.y_tr, lam_l1=lam_l1)\n",
    "\n",
    "    def g_j_te(self, j, w, data, lam_l1=0):\n",
    "        return self.g_j_imp(j=j, w=w, X=data.X_te, y=data.y_te, lam_l1=lam_l1)\n",
    "    "
   ]
  },
  {
   "cell_type": "markdown",
   "metadata": {},
   "source": [
    "これで下ごしらえはできたので、あとは先述の座標降下法をアルゴリズムオブジェクトとして実装するだけである。"
   ]
  },
  {
   "cell_type": "code",
   "execution_count": 7,
   "metadata": {},
   "outputs": [],
   "source": [
    "# The algorithm class.\n",
    "\n",
    "class Algo_CDL1:\n",
    "    '''\n",
    "    Coordinate descent (CD) implementation for minimization\n",
    "    of the \"LASSO\" objective, namely the sum of squared errors\n",
    "    regularized by an l1 penalty.\n",
    "    '''\n",
    "    \n",
    "    def __init__(self, w_init, t_max, lam_l1):\n",
    "        self.w = w_init\n",
    "        self.t = None\n",
    "        self.t_max = t_max\n",
    "        self.lam_l1 = lam_l1\n",
    "        \n",
    "    def __iter__(self):\n",
    "        self.t = 0\n",
    "        # Shuffle up the indices before starting.\n",
    "        self.idx = np.random.choice(self.w.size, size=self.w.size, replace=False)\n",
    "        self.idxj = self.idx[0]\n",
    "        return self\n",
    "        \n",
    "    def __next__(self):\n",
    "        if self.t >= self.t_max:\n",
    "            raise StopIteration\n",
    "\n",
    "    def update(self, model, data):\n",
    "        \n",
    "        # Computations related to the update.\n",
    "        n = data.X_tr.shape[0]\n",
    "        modidx = (self.t-1) % self.w.size\n",
    "        self.idxj = self.idx[modidx] # circuits around shuffled coords.\n",
    "        self.w[self.idxj,0] = 0 # current para, but with jth coord set to zero.\n",
    "        g_j = -np.mean(model.g_j_tr(j=self.idxj, w=self.w, data=data, lam_l1=0))\n",
    "        g_j = g_j * n / (n-1) # rescale\n",
    "        \n",
    "        # Compute the solution to the one-dimensional optimization,\n",
    "        # using it to update the parameters.\n",
    "        self.w[self.idxj,0] = soft_thres(u=g_j, mar=self.lam_l1)\n",
    "        \n",
    "        # Monitor update.\n",
    "        self.t += 1\n"
   ]
  },
  {
   "cell_type": "markdown",
   "metadata": {},
   "source": [
    "基本的な構造は、これまでに扱ってきた`Algo_GD`とその仲間と酷似している。新しい部分を明確に表わすために、対応づけを一覧化しよう。"
   ]
  },
  {
   "cell_type": "markdown",
   "metadata": {},
   "source": [
    "| `code` | Formal representation |\n",
    "| ------ | :----------------: |\n",
    "| `lam_l1` | $\\lambda$ |\n",
    "| `idx` | $\\{1,2,\\ldots,d\\}$, shuffled |\n",
    "| `idxj` | $j \\in \\{1,\\ldots,d\\}$ to update |\n",
    "| `g_j` | $\\widetilde{g}_{j}$ |"
   ]
  },
  {
   "cell_type": "markdown",
   "metadata": {},
   "source": [
    "当然ながら、`t_max`は自由に設定できるので、その値がパラメータの数よりもはるかに大きいことはよくある。そのとき、ただ単にインデックスの先頭に戻れば良いのである。これができているのは、`modidx`で剰余演算をしているからである。その振る舞いを列挙しておくと、"
   ]
  },
  {
   "cell_type": "markdown",
   "metadata": {},
   "source": [
    "\\begin{align}\n",
    "0,1,\\ldots,d-1, 0, 1, \\ldots, d-1, 0, 1, \\ldots\n",
    "\\end{align}"
   ]
  },
  {
   "cell_type": "markdown",
   "metadata": {},
   "source": [
    "と`t`が`t_max`になるまで繰り返す。"
   ]
  },
  {
   "cell_type": "markdown",
   "metadata": {},
   "source": [
    "ほかのアルゴリズムを実装したときにも述べたが、`model`は抽象化したままである。その詳細について考える必要は今なく、ただ実行時に偏微分を計算してくれる何らかのモデルが用意されていれば良い。"
   ]
  },
  {
   "cell_type": "markdown",
   "metadata": {},
   "source": [
    "ここからはその挙動を擬似データを通じて、調べていく。例に倣って、データのほうをまず初期化する。"
   ]
  },
  {
   "cell_type": "code",
   "execution_count": 8,
   "metadata": {},
   "outputs": [],
   "source": [
    "# Initialize model.\n",
    "mod = LeastSqL1()"
   ]
  },
  {
   "cell_type": "markdown",
   "metadata": {},
   "source": [
    "ここで作成する人工データについて："
   ]
  },
  {
   "cell_type": "markdown",
   "metadata": {},
   "source": [
    "- この例はElements of Statistical Learning (ESL2、和訳：『統計的学習の基礎』)の英語版から引用している。具体的には、59ページのFigure 3.6（n=300）と78ページのFigure 3.16（n=100）に登場する。\n",
    "\n",
    "- 至って標準的な線形モデルであるが、モデルを定めるパラメータベクトルがスパースであるという特徴を持つ。\n",
    "\n",
    "- 入力データ$x$の経験平均と分散がそれぞれ0.0と1.0になるようにしている。"
   ]
  },
  {
   "cell_type": "code",
   "execution_count": 182,
   "metadata": {},
   "outputs": [],
   "source": [
    "# Data prep, following ESL-II example.\n",
    "n = 100 # training set size\n",
    "d = 31 # number of inputs\n",
    "d0 = 10 # number of *active* inputs\n",
    "sigma_X = 1.0 # unit variance\n",
    "corr = 0.85 # pairwise correlation coefficient\n",
    "sigma_noise = math.sqrt(6.25) # stdev of additive noise\n",
    "sigma_weights = math.sqrt(0.4) # stdev of randomly generated weights\n",
    "cov_X = np.zeros(d*d).reshape((d,d)) + corr # prepare cov mtx\n",
    "np.fill_diagonal(cov_X, sigma_X)\n",
    "\n",
    "# Set up for a loop over trials.\n",
    "num_trials = 100\n",
    "lamval = 1.5\n",
    "num_loops = 15\n",
    "t_max = num_loops * d\n",
    "\n",
    "# Storage for performance metrics.\n",
    "loss_tr = np.zeros((num_trials,t_max+1), dtype=np.float32)\n",
    "l0norm = np.zeros((num_trials,t_max+1), dtype=np.uint32)\n",
    "truedist = np.zeros((num_trials,t_max+1), dtype=np.float32)"
   ]
  },
  {
   "cell_type": "code",
   "execution_count": 183,
   "metadata": {},
   "outputs": [],
   "source": [
    "for tri in range(num_trials):\n",
    "    \n",
    "    #print(\"Running trial number\", tri)\n",
    "    \n",
    "    # Initialize learning algorithm.\n",
    "    w_init = 1*np.random.uniform(size=(d,1))\n",
    "    \n",
    "    al = Algo_CDL1(w_init=w_init,\n",
    "                   t_max=t_max,\n",
    "                   lam_l1=lamval)\n",
    "    \n",
    "    # Generate the actual data, including \"true\" weights.\n",
    "    wstar = np.zeros(d).reshape((d,1))\n",
    "    idx_on = np.random.choice(d, size=d0, replace=False)\n",
    "    wstar[idx_on,:] = np.random.normal(loc=0.0,\n",
    "                                       scale=sigma_weights,\n",
    "                                       size=d0).reshape((d0,1))\n",
    "    X = np.random.multivariate_normal(mean=np.zeros(d), cov=cov_X, size=n)\n",
    "    noise = np.random.normal(loc=0.0, scale=sigma_noise, size=(n,1))\n",
    "    y = np.dot(X,wstar) + noise\n",
    "\n",
    "    # Standardize the inputs to have unit (empirical) variance.\n",
    "    X = (X-np.mean(X,axis=0)) / np.sqrt(np.var(X,axis=0))\n",
    "\n",
    "    # Prepare the data object.\n",
    "    data = Data()\n",
    "    data.init_tr(X=X, y=y)\n",
    "    X = None\n",
    "    y = None\n",
    "    \n",
    "    # Iterate the learning algorithm.\n",
    "    idx = 1\n",
    "    loss_tr[tri,0] = np.mean(mod.l_tr(w=w_init, data=data, lam_l1=lamval))\n",
    "    l0norm[tri,0] = np.nonzero(w_init)[0].size\n",
    "    truedist[tri,0] = np.linalg.norm((w_init-wstar))\n",
    "    for mystep in al:\n",
    "        al.update(model=mod, data=data)\n",
    "        # Record performance\n",
    "        loss_tr[tri,idx] = np.mean(mod.l_tr(w=al.w, data=data, lam_l1=lamval))\n",
    "        l0norm[tri,idx] = np.nonzero(al.w)[0].size\n",
    "        truedist[tri,idx] = np.linalg.norm((al.w-wstar))\n",
    "        idx += 1"
   ]
  },
  {
   "cell_type": "markdown",
   "metadata": {},
   "source": [
    "はじめに、$\\lambda$を固定しておいて、関心のある指標の軌跡を見てみる。"
   ]
  },
  {
   "cell_type": "code",
   "execution_count": 184,
   "metadata": {},
   "outputs": [
    {
     "data": {
      "image/png": "[encoded data removed]",
      "text/plain": [
       "<matplotlib.figure.Figure at 0x7faa570628d0>"
      ]
     },
     "metadata": {},
     "output_type": "display_data"
    }
   ],
   "source": [
    "# Visualize the performance trajectories.\n",
    "\n",
    "tvals = np.arange((t_max+1))\n",
    "\n",
    "# Average over trials.\n",
    "myfig = plt.figure(figsize=(14,7))\n",
    "\n",
    "ax_tr = myfig.add_subplot(1, 3, 1)\n",
    "loss_ave = np.mean(loss_tr, axis=0)\n",
    "loss_sd = np.std(loss_tr, axis=0)\n",
    "plt.fill_between(tvals, loss_ave-loss_sd,\n",
    "                 loss_ave+loss_sd, color=\"pink\")\n",
    "ax_tr.plot(tvals, loss_ave, \"-\", color=\"red\")\n",
    "plt.ylabel(\"Squared error\")\n",
    "plt.xlabel(\"Iteration number\")\n",
    "plt.title(\"Training set performance\")\n",
    "\n",
    "ax_dist = myfig.add_subplot(1, 3, 2)\n",
    "dist_ave = np.mean(truedist, axis=0)\n",
    "dist_sd = np.std(truedist, axis=0)\n",
    "plt.fill_between(tvals, dist_ave-dist_sd,\n",
    "                 dist_ave+dist_sd, color=\"gray\")\n",
    "ax_dist.plot(tvals, dist_ave, \"-\", color=\"black\")\n",
    "plt.ylabel(\"l2 distance\")\n",
    "plt.xlabel(\"Iteration number\")\n",
    "plt.title(\"Distance from true model\")\n",
    "\n",
    "ax_spar = myfig.add_subplot(1, 3, 3)\n",
    "spar_ave = np.mean(l0norm, axis=0)\n",
    "spar_sd = np.std(l0norm, axis=0)\n",
    "plt.fill_between(tvals, spar_ave-dist_sd,\n",
    "                 spar_ave+dist_sd, color=\"turquoise\")\n",
    "ax_spar.plot(tvals, spar_ave, \"-\", color=\"blue\")\n",
    "plt.axhline(y=0, color=\"gray\")\n",
    "plt.ylabel(\"l0 norm\")\n",
    "plt.xlabel(\"Iteration number\")\n",
    "plt.title(\"Sparsity\")\n",
    "\n",
    "plt.show()\n"
   ]
  },
  {
   "cell_type": "markdown",
   "metadata": {},
   "source": [
    "ここで注目すべきは、下記のパラメータである。"
   ]
  },
  {
   "cell_type": "markdown",
   "metadata": {},
   "source": [
    "- `n`: 標本数\n",
    "\n",
    "- `d`: 学習の対象となるパラメータの数\n",
    "\n",
    "- `d0`: 学習しうるパラメータのうち、非零のパラメータの数\n",
    "\n",
    "- `t_max`: 最大の反復回数\n",
    "\n",
    "- `lam_l1`: $\\ell_{1}$正則化項をつかさどる計数$\\lambda$\n",
    "\n",
    "- `sigma_noise`: 加法ノイズの度合い"
   ]
  },
  {
   "cell_type": "markdown",
   "metadata": {},
   "source": [
    "### 練習問題 (A):\n",
    "\n",
    "0. 上記の数値実験では、$\\lambda$の値を色々と変えてみること（`Algo_CDL1`に渡す`lam_l1`である）。小さい値（例：$\\lambda=0.01$）から大きい値（例：$\\lambda=5$）まで調べてみると、学習の結果がどのように変わっていくか。\n",
    "\n",
    "0. $\\lambda$の値と、学習される$w$への$\\ell_{1}$制約とはどういう関係にあるか。\n",
    "\n",
    "___"
   ]
  },
  {
   "cell_type": "markdown",
   "metadata": {},
   "source": [
    "データを持っている時点でも、また$\\ell_{1}$のちょうど良い制約がわかっていても、$\\lambda$をどう設定すれば良いかは自明ではない。そのため、普通のやり方としては、$\\lambda$の候補をたくさん用意し、全部に対して上記のアルゴリズムを実行し、一番良いほうを選ぶ、という流れで学習を進めていく。一つの利点としては、多数の$\\lambda$候補を試すと、学習結果を再利用することができるのである。最初はおそらく恣意的に決める初期値であるが、そのあとは段々ともっともらしい解を初期値として使える、warm startの効果が働く。"
   ]
  },
  {
   "cell_type": "markdown",
   "metadata": {},
   "source": [
    "これを実装することは単純である。`todo_lambda`で$\\lambda$の候補を用意し、アルゴリズムを一通り実行したあと、`w_init`に学習結果`w_est`を代入するだけである："
   ]
  },
  {
   "cell_type": "code",
   "execution_count": 189,
   "metadata": {},
   "outputs": [],
   "source": [
    "# Data prep, following ESL-II example.\n",
    "n = 100 # training set size\n",
    "d = 31 # number of inputs\n",
    "d0 = 10 # number of *active* inputs\n",
    "sigma_X = 1.0 # unit variance\n",
    "corr = 0.85 # pairwise correlation coefficient\n",
    "sigma_noise = math.sqrt(6.25) # stdev of additive noise\n",
    "sigma_weights = math.sqrt(0.4) # stdev of randomly generated weights\n",
    "cov_X = np.zeros(d*d).reshape((d,d)) + corr # prepare cov mtx\n",
    "np.fill_diagonal(cov_X, sigma_X)\n",
    "\n",
    "# Set up for a loop over trials and lambda values.\n",
    "num_trials = 100\n",
    "todo_lambda = np.logspace(start=math.log10(1/100), stop=math.log10(2.5), num=150)\n",
    "num_loops = 15\n",
    "t_max = num_loops * d\n",
    "\n",
    "# Storage for performance metrics.\n",
    "loss_tr = np.zeros((num_trials,todo_lambda.size), dtype=np.float32)\n",
    "l0norm = np.zeros((num_trials,todo_lambda.size), dtype=np.uint32)\n",
    "truedist = np.zeros((num_trials,todo_lambda.size), dtype=np.float32)\n"
   ]
  },
  {
   "cell_type": "code",
   "execution_count": 190,
   "metadata": {},
   "outputs": [],
   "source": [
    "for tri in range(num_trials):\n",
    "    \n",
    "    # Initialize learning algorithm.\n",
    "    w_init = 1*np.random.uniform(size=(d,1))\n",
    "    \n",
    "    for l in range(todo_lambda.size):\n",
    "        \n",
    "        lamval = todo_lambda[l]\n",
    "        \n",
    "        # Use warm starts when available.\n",
    "        if l > 0:\n",
    "            w_init = al.w\n",
    "\n",
    "        al = Algo_CDL1(w_init=w_init,\n",
    "                       t_max=t_max,\n",
    "                       lam_l1=lamval)\n",
    "    \n",
    "        # Generate the actual data, including \"true\" weights.\n",
    "        wstar = np.zeros(d).reshape((d,1))\n",
    "        idx_on = np.random.choice(d, size=d0, replace=False)\n",
    "        wstar[idx_on,:] = np.random.normal(loc=0.0,\n",
    "                                           scale=sigma_weights,\n",
    "                                           size=d0).reshape((d0,1))\n",
    "        X = np.random.multivariate_normal(mean=np.zeros(d), cov=cov_X, size=n)\n",
    "        noise = np.random.normal(loc=0.0, scale=sigma_noise, size=(n,1))\n",
    "        y = np.dot(X,wstar) + noise\n",
    "\n",
    "        # Standardize the inputs to have unit (empirical) variance.\n",
    "        X = (X-np.mean(X,axis=0)) / np.sqrt(np.var(X,axis=0))\n",
    "\n",
    "        # Prepare the data object.\n",
    "        data = Data()\n",
    "        data.init_tr(X=X, y=y)\n",
    "        X = None\n",
    "        y = None\n",
    "    \n",
    "        # Iterate the learning algorithm.\n",
    "        for mystep in al:\n",
    "            al.update(model=mod, data=data)\n",
    "        \n",
    "        # Record performance based on final output.\n",
    "        loss_tr[tri,l] = np.mean(mod.l_tr(w=al.w, data=data, lam_l1=lamval))\n",
    "        l0norm[tri,l] = np.nonzero(al.w)[0].size\n",
    "        truedist[tri,l] = np.linalg.norm((al.w-wstar))\n",
    "        "
   ]
  },
  {
   "cell_type": "code",
   "execution_count": 200,
   "metadata": {},
   "outputs": [
    {
     "data": {
      "image/png": "[encoded data removed]",
      "text/plain": [
       "<matplotlib.figure.Figure at 0x7faa56fc26d8>"
      ]
     },
     "metadata": {},
     "output_type": "display_data"
    }
   ],
   "source": [
    "# Visualize the performance over lambda grid.\n",
    "\n",
    "# Average over trials.\n",
    "myfig = plt.figure(figsize=(14,7))\n",
    "\n",
    "ax_tr = myfig.add_subplot(1, 3, 1)\n",
    "ax_tr.set_xscale('log')\n",
    "loss_ave = np.mean(loss_tr, axis=0)\n",
    "loss_sd = np.std(loss_tr, axis=0)\n",
    "logerr = loss_sd / (math.log(10)*loss_ave) # for error bars when using log scale\n",
    "plt.fill_between(todo_lambda, np.log10(loss_ave)-logerr,\n",
    "                 np.log10(loss_ave)+logerr, color=\"pink\")\n",
    "ax_tr.plot(todo_lambda, np.log10(loss_ave), \"-\", color=\"red\")\n",
    "plt.xlabel(\"Lambda value\")\n",
    "plt.title(\"Squared error on training set (log10)\")\n",
    "\n",
    "ax_dist = myfig.add_subplot(1, 3, 2)\n",
    "ax_dist.set_xscale('log')\n",
    "dist_ave = np.mean(truedist, axis=0)\n",
    "dist_sd = np.std(truedist, axis=0)\n",
    "logerr = loss_sd / (math.log(10)*loss_ave) # for error bars when using log scale\n",
    "plt.fill_between(todo_lambda, np.log10(dist_ave)-logerr,\n",
    "                 np.log10(dist_ave)+logerr, color=\"gray\")\n",
    "ax_dist.plot(todo_lambda, np.log10(dist_ave), \"-\", color=\"black\")\n",
    "plt.xlabel(\"Lambda value\")\n",
    "plt.title(\"l2 distance from true model (log10)\")\n",
    "\n",
    "ax_spar = myfig.add_subplot(1, 3, 3)\n",
    "ax_spar.set_xscale('log')\n",
    "spar_ave = np.mean(l0norm, axis=0)\n",
    "spar_sd = np.std(l0norm, axis=0)\n",
    "plt.fill_between(todo_lambda, spar_ave-dist_sd,\n",
    "                 spar_ave+dist_sd, color=\"turquoise\")\n",
    "ax_spar.plot(todo_lambda, spar_ave, \"-\", color=\"blue\")\n",
    "plt.axhline(y=0, color=\"gray\")\n",
    "plt.xlabel(\"Lambda value\")\n",
    "plt.title(\"Sparsity via l0-norm\")\n",
    "\n",
    "plt.show()\n"
   ]
  },
  {
   "cell_type": "markdown",
   "metadata": {},
   "source": [
    "注目すべき点："
   ]
  },
  {
   "cell_type": "markdown",
   "metadata": {},
   "source": [
    "- より大きな$\\lambda$にすると、よりスパースな推定結果が得られることは明らか。要するに$\\ell_{1}$（および$\\ell_{0}$）の制約が厳しくなってくる。\n",
    "\n",
    "- 明確な__バイアス__と__バリアンス__（分散）のトレードオフが先の例で見られる。制約設定が厳しすぎると、最適解がそれを満たさない可能性があって、最初から的外れになってしまう（バイアスを食らう）。一方、制約が緩すぎるのもだめで、標本が限られているなかで決めないといけないパラメータ数が多くなると解が定まらず、サンプルごとの分散が甚だ大きくなってしまう。\n",
    "\n",
    "- 実験的な知見として、$w^{\\ast}$と同程度のスパース性を持つベクトルのほうが良いパフォーマンスを記録する傾向が見られる。"
   ]
  },
  {
   "cell_type": "markdown",
   "metadata": {},
   "source": [
    "### 練習問題 (B):\n",
    "\n",
    "0. 上の例では、小さい$\\lambda$から始まり、大きい$\\lambda$で終わるようにしている。この大小を逆にしてみてください（大きい値から始まるように）。最高の成績水準が変わるか。それを実現する$\\lambda$の値が、大小・小大の順番によって変わるか。\n",
    "\n",
    "0. 先ほどのwarm startsをやめて、すべての$\\lambda$に対してまったく同じ初期値（固定された`w_init`）を使って実行してみること。最高の成績水準が変わるか。また、それを実現する$\\lambda$の値が変わるか。\n",
    "\n",
    "0. 候補としての$(\\lambda_{0},\\ldots,\\lambda_{k})$を決める著名な方法として、対数スケールで一定の間隔にする。つまり、$\\log\\lambda_{i} - \\log\\lambda_{i-1} = c > 0$で、この定数$c$はすべての$i$に対して共通している。あとは最大値と最小値を決めることだが、標準的な値は次の通りである（Bühlmann, and Van De Geer, 2011）。データの表記方法として、$y=(y_{1},\\ldots,y_{n})$で応答を表わし、$x_{(j)}$で入力行列の$j$番目の列を表わす（$x_{(j)} = (x_{1,j},\\ldots,x_{n,j})$）。この表記を使って、最大値と最小値の設定は\n",
    "<br><br>\n",
    "\\begin{align}\n",
    "\\lambda_{0} = 1/n, \\quad \\lambda_{k} = \\max \\left\\{|\\langle y, x_{(j)}\\rangle|/n:j=1,\\ldots,d \\right\\}.\n",
    "\\end{align}\n",
    "<br>\n",
    "となる。自分で実装し、有効性を検証すること。"
   ]
  },
  {
   "cell_type": "markdown",
   "metadata": {
    "collapsed": true
   },
   "source": [
    "### 練習問題 (C):\n",
    "\n",
    "0. 全パラメータを何周するかによって、学習結果がどの程度変わるか。極端に少ない（各要素を一度だけ更新する）場合と、何度も更新する場合、それぞれを試して比較すること。\n",
    "\n",
    "0. 前の練習問題と同様に、warm startsをやめて、$\\lambda$候補をすべて同一の初期値を使って検証すること。試行を重ねて、パフォーマンスの平均・分散、スパース性の平均・分散を調べて、warm starts有りと無しの場合を比較してみること。\n",
    "\n",
    "0. 試行ごとに、もっとも良い成績を残した$\\lambda$の値を記録するようにコードを改造すること。これらの値の平均と分散はどうか。サンプルのばらつきに対して、もっとも良い$\\lambda$の値が敏感に思われるか。\n",
    "\n",
    "0. 次の属性を`Algo_CDL1`に追加してください：`w_old`、`thres`、`diff`の3つである。`w.size`（つまり$d$）回の更新をするごとに、`diff`に`w`と`w_old`の距離を代入してから、`w_old`に`w`を代入する。新たな終了条件をここで追加：`diff`が閾値`thres`を下回ると、直ちに終了する。\n",
    "\n",
    "0. 先の問題の続きだが、`thres`を使った終了条件では、だいたい何周すれば収束するか。また、この収束速度が$\\lambda$の値にどう依存するか。\n",
    "\n",
    "0. 何周もするなら、多くの$w_{j}$がずっとゼロである。それにもかかわらず、毎回同じ更新式のための計算はするので、無駄な計算として省ける。すべてのパラメータを何度も見るのではなく、パラメータが一旦ゼロになると二度と更新しない（`idx`のなかから削除する）、という方策も有名である。これを実装し、成績を調べること。通常のやり方と比較し、性能がどう変わるか。計算時間はどうか。"
   ]
  },
  {
   "cell_type": "markdown",
   "metadata": {},
   "source": [
    "## References:\n",
    "\n",
    "- Bühlmann, Peter, and Sara Van De Geer. Statistics for high-dimensional data: methods, theory and applications. Springer Science & Business Media, 2011.\n",
    "- Haxby, James V., et al. \"Distributed and overlapping representations of faces and objects in ventral temporal cortex.\" Science 293.5539 (2001): 2425-2430."
   ]
  }
 ],
 "metadata": {
  "kernelspec": {
   "display_name": "Python 3",
   "language": "python",
   "name": "python3"
  },
  "language_info": {
   "codemirror_mode": {
    "name": "ipython",
    "version": 3
   },
   "file_extension": ".py",
   "mimetype": "text/x-python",
   "name": "python",
   "nbconvert_exporter": "python",
   "pygments_lexer": "ipython3",
   "version": "3.6.4"
  }
 },
 "nbformat": 4,
 "nbformat_minor": 2
}
